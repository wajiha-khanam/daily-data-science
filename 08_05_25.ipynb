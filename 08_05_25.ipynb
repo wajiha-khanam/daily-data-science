{
 "cells": [
  {
   "cell_type": "markdown",
   "id": "fae7fcde-554f-4f04-baf8-7eda20728bc1",
   "metadata": {},
   "source": [
    "# 🚀 Day 8 Challenge: Mastering Data Analysis with Global Superstore Insights"
   ]
  },
  {
   "cell_type": "markdown",
   "id": "1f6e0173-1f54-40bc-ba0c-7a235894625b",
   "metadata": {},
   "source": [
    "##### 📂 Dataset: \"https://www.kaggle.com/datasets/rohitsahoo/sales-forecasting\""
   ]
  },
  {
   "cell_type": "code",
   "execution_count": 199,
   "id": "a8baa5af-1d7c-4172-8957-88b122f44fcf",
   "metadata": {},
   "outputs": [],
   "source": [
    "import pandas as pd\n",
    "import numpy as np\n",
    "import matplotlib.pyplot as plt\n",
    "import seaborn as sns\n",
    "from scipy import stats"
   ]
  },
  {
   "cell_type": "code",
   "execution_count": 200,
   "id": "6e475e8d-6b74-4a66-9d8c-6e330babbf1a",
   "metadata": {},
   "outputs": [
    {
     "data": {
      "text/html": [
       "<div>\n",
       "<style scoped>\n",
       "    .dataframe tbody tr th:only-of-type {\n",
       "        vertical-align: middle;\n",
       "    }\n",
       "\n",
       "    .dataframe tbody tr th {\n",
       "        vertical-align: top;\n",
       "    }\n",
       "\n",
       "    .dataframe thead th {\n",
       "        text-align: right;\n",
       "    }\n",
       "</style>\n",
       "<table border=\"1\" class=\"dataframe\">\n",
       "  <thead>\n",
       "    <tr style=\"text-align: right;\">\n",
       "      <th></th>\n",
       "      <th>Row ID</th>\n",
       "      <th>Order ID</th>\n",
       "      <th>Order Date</th>\n",
       "      <th>Ship Date</th>\n",
       "      <th>Ship Mode</th>\n",
       "      <th>Customer ID</th>\n",
       "      <th>Customer Name</th>\n",
       "      <th>Segment</th>\n",
       "      <th>Country</th>\n",
       "      <th>City</th>\n",
       "      <th>State</th>\n",
       "      <th>Postal Code</th>\n",
       "      <th>Region</th>\n",
       "      <th>Product ID</th>\n",
       "      <th>Category</th>\n",
       "      <th>Sub-Category</th>\n",
       "      <th>Product Name</th>\n",
       "      <th>Sales</th>\n",
       "    </tr>\n",
       "  </thead>\n",
       "  <tbody>\n",
       "    <tr>\n",
       "      <th>0</th>\n",
       "      <td>1</td>\n",
       "      <td>CA-2017-152156</td>\n",
       "      <td>08/11/2017</td>\n",
       "      <td>11/11/2017</td>\n",
       "      <td>Second Class</td>\n",
       "      <td>CG-12520</td>\n",
       "      <td>Claire Gute</td>\n",
       "      <td>Consumer</td>\n",
       "      <td>United States</td>\n",
       "      <td>Henderson</td>\n",
       "      <td>Kentucky</td>\n",
       "      <td>42420.0</td>\n",
       "      <td>South</td>\n",
       "      <td>FUR-BO-10001798</td>\n",
       "      <td>Furniture</td>\n",
       "      <td>Bookcases</td>\n",
       "      <td>Bush Somerset Collection Bookcase</td>\n",
       "      <td>261.9600</td>\n",
       "    </tr>\n",
       "    <tr>\n",
       "      <th>1</th>\n",
       "      <td>2</td>\n",
       "      <td>CA-2017-152156</td>\n",
       "      <td>08/11/2017</td>\n",
       "      <td>11/11/2017</td>\n",
       "      <td>Second Class</td>\n",
       "      <td>CG-12520</td>\n",
       "      <td>Claire Gute</td>\n",
       "      <td>Consumer</td>\n",
       "      <td>United States</td>\n",
       "      <td>Henderson</td>\n",
       "      <td>Kentucky</td>\n",
       "      <td>42420.0</td>\n",
       "      <td>South</td>\n",
       "      <td>FUR-CH-10000454</td>\n",
       "      <td>Furniture</td>\n",
       "      <td>Chairs</td>\n",
       "      <td>Hon Deluxe Fabric Upholstered Stacking Chairs,...</td>\n",
       "      <td>731.9400</td>\n",
       "    </tr>\n",
       "    <tr>\n",
       "      <th>2</th>\n",
       "      <td>3</td>\n",
       "      <td>CA-2017-138688</td>\n",
       "      <td>12/06/2017</td>\n",
       "      <td>16/06/2017</td>\n",
       "      <td>Second Class</td>\n",
       "      <td>DV-13045</td>\n",
       "      <td>Darrin Van Huff</td>\n",
       "      <td>Corporate</td>\n",
       "      <td>United States</td>\n",
       "      <td>Los Angeles</td>\n",
       "      <td>California</td>\n",
       "      <td>90036.0</td>\n",
       "      <td>West</td>\n",
       "      <td>OFF-LA-10000240</td>\n",
       "      <td>Office Supplies</td>\n",
       "      <td>Labels</td>\n",
       "      <td>Self-Adhesive Address Labels for Typewriters b...</td>\n",
       "      <td>14.6200</td>\n",
       "    </tr>\n",
       "    <tr>\n",
       "      <th>3</th>\n",
       "      <td>4</td>\n",
       "      <td>US-2016-108966</td>\n",
       "      <td>11/10/2016</td>\n",
       "      <td>18/10/2016</td>\n",
       "      <td>Standard Class</td>\n",
       "      <td>SO-20335</td>\n",
       "      <td>Sean O'Donnell</td>\n",
       "      <td>Consumer</td>\n",
       "      <td>United States</td>\n",
       "      <td>Fort Lauderdale</td>\n",
       "      <td>Florida</td>\n",
       "      <td>33311.0</td>\n",
       "      <td>South</td>\n",
       "      <td>FUR-TA-10000577</td>\n",
       "      <td>Furniture</td>\n",
       "      <td>Tables</td>\n",
       "      <td>Bretford CR4500 Series Slim Rectangular Table</td>\n",
       "      <td>957.5775</td>\n",
       "    </tr>\n",
       "    <tr>\n",
       "      <th>4</th>\n",
       "      <td>5</td>\n",
       "      <td>US-2016-108966</td>\n",
       "      <td>11/10/2016</td>\n",
       "      <td>18/10/2016</td>\n",
       "      <td>Standard Class</td>\n",
       "      <td>SO-20335</td>\n",
       "      <td>Sean O'Donnell</td>\n",
       "      <td>Consumer</td>\n",
       "      <td>United States</td>\n",
       "      <td>Fort Lauderdale</td>\n",
       "      <td>Florida</td>\n",
       "      <td>33311.0</td>\n",
       "      <td>South</td>\n",
       "      <td>OFF-ST-10000760</td>\n",
       "      <td>Office Supplies</td>\n",
       "      <td>Storage</td>\n",
       "      <td>Eldon Fold 'N Roll Cart System</td>\n",
       "      <td>22.3680</td>\n",
       "    </tr>\n",
       "  </tbody>\n",
       "</table>\n",
       "</div>"
      ],
      "text/plain": [
       "   Row ID        Order ID  Order Date   Ship Date       Ship Mode Customer ID  \\\n",
       "0       1  CA-2017-152156  08/11/2017  11/11/2017    Second Class    CG-12520   \n",
       "1       2  CA-2017-152156  08/11/2017  11/11/2017    Second Class    CG-12520   \n",
       "2       3  CA-2017-138688  12/06/2017  16/06/2017    Second Class    DV-13045   \n",
       "3       4  US-2016-108966  11/10/2016  18/10/2016  Standard Class    SO-20335   \n",
       "4       5  US-2016-108966  11/10/2016  18/10/2016  Standard Class    SO-20335   \n",
       "\n",
       "     Customer Name    Segment        Country             City       State  \\\n",
       "0      Claire Gute   Consumer  United States        Henderson    Kentucky   \n",
       "1      Claire Gute   Consumer  United States        Henderson    Kentucky   \n",
       "2  Darrin Van Huff  Corporate  United States      Los Angeles  California   \n",
       "3   Sean O'Donnell   Consumer  United States  Fort Lauderdale     Florida   \n",
       "4   Sean O'Donnell   Consumer  United States  Fort Lauderdale     Florida   \n",
       "\n",
       "   Postal Code Region       Product ID         Category Sub-Category  \\\n",
       "0      42420.0  South  FUR-BO-10001798        Furniture    Bookcases   \n",
       "1      42420.0  South  FUR-CH-10000454        Furniture       Chairs   \n",
       "2      90036.0   West  OFF-LA-10000240  Office Supplies       Labels   \n",
       "3      33311.0  South  FUR-TA-10000577        Furniture       Tables   \n",
       "4      33311.0  South  OFF-ST-10000760  Office Supplies      Storage   \n",
       "\n",
       "                                        Product Name     Sales  \n",
       "0                  Bush Somerset Collection Bookcase  261.9600  \n",
       "1  Hon Deluxe Fabric Upholstered Stacking Chairs,...  731.9400  \n",
       "2  Self-Adhesive Address Labels for Typewriters b...   14.6200  \n",
       "3      Bretford CR4500 Series Slim Rectangular Table  957.5775  \n",
       "4                     Eldon Fold 'N Roll Cart System   22.3680  "
      ]
     },
     "execution_count": 200,
     "metadata": {},
     "output_type": "execute_result"
    }
   ],
   "source": [
    "df = pd.read_csv(\"superstore_sales.csv\")\n",
    "df.head()"
   ]
  },
  {
   "cell_type": "code",
   "execution_count": 201,
   "id": "366cbd98-d203-4bfe-a515-88ef13247ee7",
   "metadata": {},
   "outputs": [
    {
     "data": {
      "text/plain": [
       "Index(['Row ID', 'Order ID', 'Order Date', 'Ship Date', 'Ship Mode',\n",
       "       'Customer ID', 'Customer Name', 'Segment', 'Country', 'City', 'State',\n",
       "       'Postal Code', 'Region', 'Product ID', 'Category', 'Sub-Category',\n",
       "       'Product Name', 'Sales'],\n",
       "      dtype='object')"
      ]
     },
     "execution_count": 201,
     "metadata": {},
     "output_type": "execute_result"
    }
   ],
   "source": [
    "df.columns"
   ]
  },
  {
   "cell_type": "code",
   "execution_count": 202,
   "id": "ca9bc5f2-5642-41ac-a317-f45b469a080c",
   "metadata": {},
   "outputs": [
    {
     "data": {
      "text/plain": [
       "Row ID             int64\n",
       "Order ID          object\n",
       "Order Date        object\n",
       "Ship Date         object\n",
       "Ship Mode         object\n",
       "Customer ID       object\n",
       "Customer Name     object\n",
       "Segment           object\n",
       "Country           object\n",
       "City              object\n",
       "State             object\n",
       "Postal Code      float64\n",
       "Region            object\n",
       "Product ID        object\n",
       "Category          object\n",
       "Sub-Category      object\n",
       "Product Name      object\n",
       "Sales            float64\n",
       "dtype: object"
      ]
     },
     "execution_count": 202,
     "metadata": {},
     "output_type": "execute_result"
    }
   ],
   "source": [
    "df.dtypes"
   ]
  },
  {
   "cell_type": "markdown",
   "id": "86565c14-610c-4e99-b5f0-3c8420ccb56c",
   "metadata": {},
   "source": [
    "# Pandas "
   ]
  },
  {
   "cell_type": "markdown",
   "id": "880ccb96-d953-407e-aa3f-c71ebb28f7ba",
   "metadata": {},
   "source": [
    "# Q1: Time-Series Analysis:\n",
    "Resample the sales data to calculate the monthly total sales and average profit."
   ]
  },
  {
   "cell_type": "code",
   "execution_count": 205,
   "id": "97b46688-60b5-4f10-88b8-1476434f74f3",
   "metadata": {},
   "outputs": [],
   "source": [
    "df['Order Date'] = pd.to_datetime(df['Order Date'], format = 'mixed')"
   ]
  },
  {
   "cell_type": "code",
   "execution_count": 206,
   "id": "31521edc-b292-48a2-84a8-8c184ec3b27d",
   "metadata": {},
   "outputs": [],
   "source": [
    "df['Ship Date'] = pd.to_datetime(df['Ship Date'], format = 'mixed')"
   ]
  },
  {
   "cell_type": "code",
   "execution_count": 207,
   "id": "c1a0a988-7984-4a4c-a3bf-8bca1c925d1f",
   "metadata": {},
   "outputs": [],
   "source": [
    "df['Order_month'] = df['Order Date'].dt.month"
   ]
  },
  {
   "cell_type": "code",
   "execution_count": 208,
   "id": "604e1e79-9144-40d5-9298-e12103d9a520",
   "metadata": {},
   "outputs": [
    {
     "data": {
      "text/html": [
       "<div>\n",
       "<style scoped>\n",
       "    .dataframe tbody tr th:only-of-type {\n",
       "        vertical-align: middle;\n",
       "    }\n",
       "\n",
       "    .dataframe tbody tr th {\n",
       "        vertical-align: top;\n",
       "    }\n",
       "\n",
       "    .dataframe thead th {\n",
       "        text-align: right;\n",
       "    }\n",
       "</style>\n",
       "<table border=\"1\" class=\"dataframe\">\n",
       "  <thead>\n",
       "    <tr style=\"text-align: right;\">\n",
       "      <th></th>\n",
       "      <th>Order_month</th>\n",
       "      <th>total_sales</th>\n",
       "    </tr>\n",
       "  </thead>\n",
       "  <tbody>\n",
       "    <tr>\n",
       "      <th>0</th>\n",
       "      <td>1</td>\n",
       "      <td>155990.9154</td>\n",
       "    </tr>\n",
       "    <tr>\n",
       "      <th>1</th>\n",
       "      <td>2</td>\n",
       "      <td>131153.2594</td>\n",
       "    </tr>\n",
       "    <tr>\n",
       "      <th>2</th>\n",
       "      <td>3</td>\n",
       "      <td>212256.1344</td>\n",
       "    </tr>\n",
       "    <tr>\n",
       "      <th>3</th>\n",
       "      <td>4</td>\n",
       "      <td>142984.2481</td>\n",
       "    </tr>\n",
       "    <tr>\n",
       "      <th>4</th>\n",
       "      <td>5</td>\n",
       "      <td>166000.7467</td>\n",
       "    </tr>\n",
       "    <tr>\n",
       "      <th>5</th>\n",
       "      <td>6</td>\n",
       "      <td>142034.7713</td>\n",
       "    </tr>\n",
       "    <tr>\n",
       "      <th>6</th>\n",
       "      <td>7</td>\n",
       "      <td>159472.5865</td>\n",
       "    </tr>\n",
       "    <tr>\n",
       "      <th>7</th>\n",
       "      <td>8</td>\n",
       "      <td>207601.7939</td>\n",
       "    </tr>\n",
       "    <tr>\n",
       "      <th>8</th>\n",
       "      <td>9</td>\n",
       "      <td>245155.0671</td>\n",
       "    </tr>\n",
       "    <tr>\n",
       "      <th>9</th>\n",
       "      <td>10</td>\n",
       "      <td>183851.9562</td>\n",
       "    </tr>\n",
       "    <tr>\n",
       "      <th>10</th>\n",
       "      <td>11</td>\n",
       "      <td>268768.7885</td>\n",
       "    </tr>\n",
       "    <tr>\n",
       "      <th>11</th>\n",
       "      <td>12</td>\n",
       "      <td>246266.5152</td>\n",
       "    </tr>\n",
       "  </tbody>\n",
       "</table>\n",
       "</div>"
      ],
      "text/plain": [
       "    Order_month  total_sales\n",
       "0             1  155990.9154\n",
       "1             2  131153.2594\n",
       "2             3  212256.1344\n",
       "3             4  142984.2481\n",
       "4             5  166000.7467\n",
       "5             6  142034.7713\n",
       "6             7  159472.5865\n",
       "7             8  207601.7939\n",
       "8             9  245155.0671\n",
       "9            10  183851.9562\n",
       "10           11  268768.7885\n",
       "11           12  246266.5152"
      ]
     },
     "execution_count": 208,
     "metadata": {},
     "output_type": "execute_result"
    }
   ],
   "source": [
    "sales_by_month = df.groupby('Order_month')['Sales'].sum().reset_index(name = 'total_sales')\n",
    "sales_by_month"
   ]
  },
  {
   "cell_type": "markdown",
   "id": "9e97a8d9-d934-408a-be7e-92ca0439cb6b",
   "metadata": {},
   "source": [
    "# Q2: Groupby with Aggregation:\n",
    "Group the data by Category and Region, and calculate the total and average sales for each combination."
   ]
  },
  {
   "cell_type": "code",
   "execution_count": 210,
   "id": "d5debf59-a966-4d8e-8b4f-a356832a398e",
   "metadata": {},
   "outputs": [
    {
     "data": {
      "text/html": [
       "<div>\n",
       "<style scoped>\n",
       "    .dataframe tbody tr th:only-of-type {\n",
       "        vertical-align: middle;\n",
       "    }\n",
       "\n",
       "    .dataframe tbody tr th {\n",
       "        vertical-align: top;\n",
       "    }\n",
       "\n",
       "    .dataframe thead th {\n",
       "        text-align: right;\n",
       "    }\n",
       "</style>\n",
       "<table border=\"1\" class=\"dataframe\">\n",
       "  <thead>\n",
       "    <tr style=\"text-align: right;\">\n",
       "      <th></th>\n",
       "      <th></th>\n",
       "      <th>Total_sales</th>\n",
       "      <th>Avg_sales</th>\n",
       "    </tr>\n",
       "    <tr>\n",
       "      <th>Category</th>\n",
       "      <th>Region</th>\n",
       "      <th></th>\n",
       "      <th></th>\n",
       "    </tr>\n",
       "  </thead>\n",
       "  <tbody>\n",
       "    <tr>\n",
       "      <th rowspan=\"4\" valign=\"top\">Furniture</th>\n",
       "      <th>Central</th>\n",
       "      <td>160317.4622</td>\n",
       "      <td>341.100983</td>\n",
       "    </tr>\n",
       "    <tr>\n",
       "      <th>East</th>\n",
       "      <td>206461.3880</td>\n",
       "      <td>349.342450</td>\n",
       "    </tr>\n",
       "    <tr>\n",
       "      <th>South</th>\n",
       "      <td>116531.4800</td>\n",
       "      <td>357.458528</td>\n",
       "    </tr>\n",
       "    <tr>\n",
       "      <th>West</th>\n",
       "      <td>245348.2455</td>\n",
       "      <td>355.062584</td>\n",
       "    </tr>\n",
       "    <tr>\n",
       "      <th rowspan=\"4\" valign=\"top\">Office Supplies</th>\n",
       "      <th>Central</th>\n",
       "      <td>163590.2430</td>\n",
       "      <td>116.933698</td>\n",
       "    </tr>\n",
       "    <tr>\n",
       "      <th>East</th>\n",
       "      <td>199940.8110</td>\n",
       "      <td>119.940499</td>\n",
       "    </tr>\n",
       "    <tr>\n",
       "      <th>South</th>\n",
       "      <td>124424.7710</td>\n",
       "      <td>126.576573</td>\n",
       "    </tr>\n",
       "    <tr>\n",
       "      <th>West</th>\n",
       "      <td>217466.5090</td>\n",
       "      <td>116.917478</td>\n",
       "    </tr>\n",
       "    <tr>\n",
       "      <th rowspan=\"4\" valign=\"top\">Technology</th>\n",
       "      <th>Central</th>\n",
       "      <td>168739.2080</td>\n",
       "      <td>413.576490</td>\n",
       "    </tr>\n",
       "    <tr>\n",
       "      <th>East</th>\n",
       "      <td>263116.5270</td>\n",
       "      <td>499.272347</td>\n",
       "    </tr>\n",
       "    <tr>\n",
       "      <th>South</th>\n",
       "      <td>148195.2080</td>\n",
       "      <td>512.786187</td>\n",
       "    </tr>\n",
       "    <tr>\n",
       "      <th>West</th>\n",
       "      <td>247404.9300</td>\n",
       "      <td>420.042326</td>\n",
       "    </tr>\n",
       "  </tbody>\n",
       "</table>\n",
       "</div>"
      ],
      "text/plain": [
       "                         Total_sales   Avg_sales\n",
       "Category        Region                          \n",
       "Furniture       Central  160317.4622  341.100983\n",
       "                East     206461.3880  349.342450\n",
       "                South    116531.4800  357.458528\n",
       "                West     245348.2455  355.062584\n",
       "Office Supplies Central  163590.2430  116.933698\n",
       "                East     199940.8110  119.940499\n",
       "                South    124424.7710  126.576573\n",
       "                West     217466.5090  116.917478\n",
       "Technology      Central  168739.2080  413.576490\n",
       "                East     263116.5270  499.272347\n",
       "                South    148195.2080  512.786187\n",
       "                West     247404.9300  420.042326"
      ]
     },
     "execution_count": 210,
     "metadata": {},
     "output_type": "execute_result"
    }
   ],
   "source": [
    "res = df.groupby(['Category', 'Region']).agg({'Sales': ['sum', 'mean']})\n",
    "res.columns = ['Total_sales', 'Avg_sales']\n",
    "res"
   ]
  },
  {
   "cell_type": "markdown",
   "id": "add3ba7f-f980-453b-a0d5-81a35cccfff5",
   "metadata": {},
   "source": [
    "# Q3: Pivot Table Analysis:\n",
    "Create a pivot table showing the average sales per Segment for each Category."
   ]
  },
  {
   "cell_type": "code",
   "execution_count": 212,
   "id": "0ef39300-9bc0-4f27-9e5d-9a8c687121dd",
   "metadata": {},
   "outputs": [
    {
     "data": {
      "text/html": [
       "<div>\n",
       "<style scoped>\n",
       "    .dataframe tbody tr th:only-of-type {\n",
       "        vertical-align: middle;\n",
       "    }\n",
       "\n",
       "    .dataframe tbody tr th {\n",
       "        vertical-align: top;\n",
       "    }\n",
       "\n",
       "    .dataframe thead th {\n",
       "        text-align: right;\n",
       "    }\n",
       "</style>\n",
       "<table border=\"1\" class=\"dataframe\">\n",
       "  <thead>\n",
       "    <tr style=\"text-align: right;\">\n",
       "      <th></th>\n",
       "      <th>Category</th>\n",
       "      <th>Segment</th>\n",
       "      <th>avg_sales</th>\n",
       "    </tr>\n",
       "  </thead>\n",
       "  <tbody>\n",
       "    <tr>\n",
       "      <th>0</th>\n",
       "      <td>Furniture</td>\n",
       "      <td>Consumer</td>\n",
       "      <td>354.708379</td>\n",
       "    </tr>\n",
       "    <tr>\n",
       "      <th>1</th>\n",
       "      <td>Furniture</td>\n",
       "      <td>Corporate</td>\n",
       "      <td>350.830735</td>\n",
       "    </tr>\n",
       "    <tr>\n",
       "      <th>2</th>\n",
       "      <td>Furniture</td>\n",
       "      <td>Home Office</td>\n",
       "      <td>337.928896</td>\n",
       "    </tr>\n",
       "    <tr>\n",
       "      <th>3</th>\n",
       "      <td>Office Supplies</td>\n",
       "      <td>Consumer</td>\n",
       "      <td>116.976760</td>\n",
       "    </tr>\n",
       "    <tr>\n",
       "      <th>4</th>\n",
       "      <td>Office Supplies</td>\n",
       "      <td>Corporate</td>\n",
       "      <td>125.704170</td>\n",
       "    </tr>\n",
       "    <tr>\n",
       "      <th>5</th>\n",
       "      <td>Office Supplies</td>\n",
       "      <td>Home Office</td>\n",
       "      <td>115.691831</td>\n",
       "    </tr>\n",
       "    <tr>\n",
       "      <th>6</th>\n",
       "      <td>Technology</td>\n",
       "      <td>Consumer</td>\n",
       "      <td>428.431266</td>\n",
       "    </tr>\n",
       "    <tr>\n",
       "      <th>7</th>\n",
       "      <td>Technology</td>\n",
       "      <td>Corporate</td>\n",
       "      <td>450.261692</td>\n",
       "    </tr>\n",
       "    <tr>\n",
       "      <th>8</th>\n",
       "      <td>Technology</td>\n",
       "      <td>Home Office</td>\n",
       "      <td>544.484690</td>\n",
       "    </tr>\n",
       "  </tbody>\n",
       "</table>\n",
       "</div>"
      ],
      "text/plain": [
       "          Category      Segment   avg_sales\n",
       "0        Furniture     Consumer  354.708379\n",
       "1        Furniture    Corporate  350.830735\n",
       "2        Furniture  Home Office  337.928896\n",
       "3  Office Supplies     Consumer  116.976760\n",
       "4  Office Supplies    Corporate  125.704170\n",
       "5  Office Supplies  Home Office  115.691831\n",
       "6       Technology     Consumer  428.431266\n",
       "7       Technology    Corporate  450.261692\n",
       "8       Technology  Home Office  544.484690"
      ]
     },
     "execution_count": 212,
     "metadata": {},
     "output_type": "execute_result"
    }
   ],
   "source": [
    "avg_sale_category_segment = df.groupby(['Category', 'Segment'])['Sales'].mean().reset_index(name = 'avg_sales')\n",
    "avg_sale_category_segment"
   ]
  },
  {
   "cell_type": "code",
   "execution_count": 213,
   "id": "20c90c9f-2c60-412b-8045-e76a1d2faa20",
   "metadata": {},
   "outputs": [
    {
     "data": {
      "text/html": [
       "<div>\n",
       "<style scoped>\n",
       "    .dataframe tbody tr th:only-of-type {\n",
       "        vertical-align: middle;\n",
       "    }\n",
       "\n",
       "    .dataframe tbody tr th {\n",
       "        vertical-align: top;\n",
       "    }\n",
       "\n",
       "    .dataframe thead th {\n",
       "        text-align: right;\n",
       "    }\n",
       "</style>\n",
       "<table border=\"1\" class=\"dataframe\">\n",
       "  <thead>\n",
       "    <tr style=\"text-align: right;\">\n",
       "      <th>Segment</th>\n",
       "      <th>Consumer</th>\n",
       "      <th>Corporate</th>\n",
       "      <th>Home Office</th>\n",
       "    </tr>\n",
       "    <tr>\n",
       "      <th>Category</th>\n",
       "      <th></th>\n",
       "      <th></th>\n",
       "      <th></th>\n",
       "    </tr>\n",
       "  </thead>\n",
       "  <tbody>\n",
       "    <tr>\n",
       "      <th>Furniture</th>\n",
       "      <td>354.708379</td>\n",
       "      <td>350.830735</td>\n",
       "      <td>337.928896</td>\n",
       "    </tr>\n",
       "    <tr>\n",
       "      <th>Office Supplies</th>\n",
       "      <td>116.976760</td>\n",
       "      <td>125.704170</td>\n",
       "      <td>115.691831</td>\n",
       "    </tr>\n",
       "    <tr>\n",
       "      <th>Technology</th>\n",
       "      <td>428.431266</td>\n",
       "      <td>450.261692</td>\n",
       "      <td>544.484690</td>\n",
       "    </tr>\n",
       "  </tbody>\n",
       "</table>\n",
       "</div>"
      ],
      "text/plain": [
       "Segment            Consumer   Corporate  Home Office\n",
       "Category                                            \n",
       "Furniture        354.708379  350.830735   337.928896\n",
       "Office Supplies  116.976760  125.704170   115.691831\n",
       "Technology       428.431266  450.261692   544.484690"
      ]
     },
     "execution_count": 213,
     "metadata": {},
     "output_type": "execute_result"
    }
   ],
   "source": [
    "avg_sale_pivot = df.pivot_table(values = 'Sales', index = 'Category', columns = 'Segment', aggfunc = 'mean')\n",
    "avg_sale_pivot"
   ]
  },
  {
   "cell_type": "markdown",
   "id": "7ac1689e-dcbe-469e-81ff-d157417e5718",
   "metadata": {},
   "source": [
    "# Visualization "
   ]
  },
  {
   "cell_type": "markdown",
   "id": "0b80401d-5a57-44dd-a9de-c4e1d4eb2604",
   "metadata": {},
   "source": [
    "# Q1: Sales Trend Plot:\n",
    "Create a line plot showing the trend of monthly sales over the years."
   ]
  },
  {
   "cell_type": "code",
   "execution_count": 216,
   "id": "5f99822d-2e34-4404-908d-0fdffcb28580",
   "metadata": {},
   "outputs": [],
   "source": [
    "df['Year'] = df['Order Date'].dt.year"
   ]
  },
  {
   "cell_type": "code",
   "execution_count": 217,
   "id": "7c69d6ca-7831-4b07-b916-f57073113991",
   "metadata": {},
   "outputs": [
    {
     "data": {
      "image/png": "[encoded data removed]",
      "text/plain": [
       "<Figure size 1000x500 with 1 Axes>"
      ]
     },
     "metadata": {},
     "output_type": "display_data"
    }
   ],
   "source": [
    "monthly_sales = df.groupby(['Year', 'Order_month'])['Sales'].sum().reset_index()\n",
    "\n",
    "plt.figure(figsize = (10,5))\n",
    "sns.lineplot(data = monthly_sales, x = 'Order_month', y = 'Sales', hue = 'Year', marker='o', linewidth=2)\n",
    "plt.title('Monthly Sales Trend Over the Years')\n",
    "plt.xlabel('Month')\n",
    "plt.ylabel('Total Sales')\n",
    "plt.show()\n"
   ]
  },
  {
   "cell_type": "markdown",
   "id": "bc7742a1-f6bf-42ac-be9c-3a2aae8431b6",
   "metadata": {},
   "source": [
    "# Q2: Sales Distribution by Region:\n",
    "Create a bar plot showing the total sales for each region to identify the most profitable regions."
   ]
  },
  {
   "cell_type": "code",
   "execution_count": 219,
   "id": "c45f9556-7c2e-4fef-bd4d-8c043e781e1c",
   "metadata": {},
   "outputs": [
    {
     "data": {
      "image/png": "[encoded data removed]",
      "text/plain": [
       "<Figure size 800x500 with 1 Axes>"
      ]
     },
     "metadata": {},
     "output_type": "display_data"
    }
   ],
   "source": [
    "sales_by_region = df.groupby('Region')['Sales'].sum().sort_values(ascending = True).reset_index(name = 'total_sales')\n",
    "sales_by_region\n",
    "\n",
    "plt.figure(figsize = (8,5))\n",
    "sns.barplot(data = sales_by_region, x = 'Region', y = 'total_sales', color = 'teal')\n",
    "plt.title('Total Sales by Region')\n",
    "plt.xlabel('Region')\n",
    "plt.ylabel('Total Sales')\n",
    "plt.show()"
   ]
  },
  {
   "cell_type": "markdown",
   "id": "06e76d66-e235-4dd5-ba9e-629274ea4e3d",
   "metadata": {},
   "source": [
    "# EDA "
   ]
  },
  {
   "cell_type": "markdown",
   "id": "03c6fdb8-53a3-45bd-9b8e-e9b63cf6d45a",
   "metadata": {},
   "source": [
    "# Q1: Missing Value Analysis:\n",
    "Identify and visualize any missing data patterns in the dataset."
   ]
  },
  {
   "cell_type": "code",
   "execution_count": 222,
   "id": "54310f51-fafe-4527-aed5-ee9e204f5337",
   "metadata": {},
   "outputs": [
    {
     "data": {
      "text/plain": [
       "Row ID            0\n",
       "Order ID          0\n",
       "Order Date        0\n",
       "Ship Date         0\n",
       "Ship Mode         0\n",
       "Customer ID       0\n",
       "Customer Name     0\n",
       "Segment           0\n",
       "Country           0\n",
       "City              0\n",
       "State             0\n",
       "Postal Code      11\n",
       "Region            0\n",
       "Product ID        0\n",
       "Category          0\n",
       "Sub-Category      0\n",
       "Product Name      0\n",
       "Sales             0\n",
       "Order_month       0\n",
       "Year              0\n",
       "dtype: int64"
      ]
     },
     "execution_count": 222,
     "metadata": {},
     "output_type": "execute_result"
    }
   ],
   "source": [
    "missing_data = df.isnull().sum()\n",
    "missing_data"
   ]
  },
  {
   "cell_type": "markdown",
   "id": "c5915f51-e0fe-4a6c-b254-7b790f5a2913",
   "metadata": {},
   "source": [
    "# Q2: Outlier Analysis:\n",
    "Use the IQR method to detect outliers in the Sales column and visualize the results using a box plot."
   ]
  },
  {
   "cell_type": "code",
   "execution_count": 224,
   "id": "6ccdfca8-92a5-490b-ae80-201b9994c1d1",
   "metadata": {},
   "outputs": [
    {
     "name": "stdout",
     "output_type": "stream",
     "text": [
      "There are 1145 outliers present in Sales column.\n"
     ]
    },
    {
     "data": {
      "image/png": "[encoded data removed]",
      "text/plain": [
       "<Figure size 800x500 with 1 Axes>"
      ]
     },
     "metadata": {},
     "output_type": "display_data"
    }
   ],
   "source": [
    "Q1 = df['Sales'].quantile(0.25)\n",
    "Q3 = df['Sales'].quantile(0.75)\n",
    "IQR = Q3 - Q1\n",
    "LW = Q1 - 1.5*IQR\n",
    "UW = Q3 + 1.5*IQR\n",
    "outliers = (df['Sales'] > UW) | (df['Sales'] < LW)\n",
    "print(f\"There are {outliers.sum()} outliers present in Sales column.\")\n",
    "\n",
    "plt.figure(figsize = (8,5))\n",
    "sns.boxplot(data = df['Sales'])\n",
    "plt.title('Sales Distribution with Outliers')\n",
    "plt.xlabel('Sales')\n",
    "plt.show()"
   ]
  },
  {
   "cell_type": "markdown",
   "id": "f790ab8c-d114-4d2b-9df7-11da8fb986cc",
   "metadata": {},
   "source": [
    "# Statistics "
   ]
  },
  {
   "cell_type": "markdown",
   "id": "d558fc9d-a1f9-494c-b156-1e231d46dbce",
   "metadata": {},
   "source": [
    "# Q1: Categorical Analysis:\n",
    "Conduct a chi-square test to determine whether there’s a relationship between Region and Segment."
   ]
  },
  {
   "cell_type": "code",
   "execution_count": 227,
   "id": "e983dfa2-b32b-4161-bf31-e115cad9c3fa",
   "metadata": {},
   "outputs": [
    {
     "name": "stdout",
     "output_type": "stream",
     "text": [
      "Contingency Table:\n",
      "Segment  Consumer  Corporate  Home Office\n",
      "Region                                   \n",
      "Central      1188        661          428\n",
      "East         1444        850          491\n",
      "South         831        500          267\n",
      "West         1638        942          560\n",
      "\n",
      "Chi-Square Statistic: 4.20752335551208\n",
      "p-value: 0.6486157291560657\n",
      "Degrees of Freedom: 6\n",
      "\n",
      "Expected Frequencies:\n",
      "Segment     Consumer   Corporate  Home Office\n",
      "Region                                       \n",
      "Central  1185.201735  686.120510   405.677755\n",
      "East     1449.620918  839.194388   496.184694\n",
      "South     831.775306  481.519796   284.704898\n",
      "West     1634.402041  946.165306   559.432653\n",
      "\n",
      "There is no significant relationship between Region and Segment (fail to reject H0).\n"
     ]
    }
   ],
   "source": [
    "contingency_data = pd.crosstab(df['Region'], df['Segment'])\n",
    "\n",
    "chi2_stat, p_val, dof, expected = stats.chi2_contingency(contingency_data)\n",
    "\n",
    "print(\"Contingency Table:\")\n",
    "print(contingency_data)\n",
    "print(\"\\nChi-Square Statistic:\", chi2_stat)\n",
    "print(\"p-value:\", p_val)\n",
    "print(\"Degrees of Freedom:\", dof)\n",
    "print(\"\\nExpected Frequencies:\")\n",
    "print(pd.DataFrame(expected, index=contingency_data.index, columns=contingency_data.columns))\n",
    "\n",
    "alpha = 0.05\n",
    "if p_val < alpha:\n",
    "    print(\"\\nThere is a significant relationship between Region and Segment (reject H0).\")\n",
    "else:\n",
    "    print(\"\\nThere is no significant relationship between Region and Segment (fail to reject H0).\")"
   ]
  },
  {
   "cell_type": "markdown",
   "id": "0036dde0-c9fd-4816-9645-747d5bc6fcd4",
   "metadata": {},
   "source": [
    "# Q2: Paired T-Test:\n",
    "Test whether there is a significant difference in average sales before and after a specific year (e.g., 2017)."
   ]
  },
  {
   "cell_type": "code",
   "execution_count": 229,
   "id": "822b51a6-2a38-4e3f-a536-d523b132a20a",
   "metadata": {},
   "outputs": [
    {
     "name": "stdout",
     "output_type": "stream",
     "text": [
      "T-Statistic: 1.2407\n",
      "P-Value: 0.2148\n",
      "\n",
      "There is no significant difference in average sales before and after 2017 (fail to reject H0).\n"
     ]
    }
   ],
   "source": [
    "sale_before_2017 = df[df['Year'] < 2017]['Sales']\n",
    "sale_after_2017 = df[df['Year'] > 2017]['Sales']\n",
    "\n",
    "min_len = min(len(sale_before_2017), len(sale_after_2017))\n",
    "sale_before_2017 = sale_before_2017[:min_len]\n",
    "sale_after_2017 = sale_after_2017[:min_len]\n",
    "\n",
    "t_stat, p_value = stats.ttest_rel(sale_before_2017, sale_after_2017)\n",
    "\n",
    "print(f\"T-Statistic: {t_stat:.4f}\")\n",
    "print(f\"P-Value: {p_value:.4f}\")\n",
    "\n",
    "alpha = 0.05\n",
    "if p_value < alpha:\n",
    "    print(\"\\nThere is a significant difference in average sales before and after 2017 (reject H0).\")\n",
    "else:\n",
    "    print(\"\\nThere is no significant difference in average sales before and after 2017 (fail to reject H0).\")"
   ]
  }
 ],
 "metadata": {
  "kernelspec": {
   "display_name": "Python 3 (ipykernel)",
   "language": "python",
   "name": "python3"
  },
  "language_info": {
   "codemirror_mode": {
    "name": "ipython",
    "version": 3
   },
   "file_extension": ".py",
   "mimetype": "text/x-python",
   "name": "python",
   "nbconvert_exporter": "python",
   "pygments_lexer": "ipython3",
   "version": "3.12.7"
  }
 },
 "nbformat": 4,
 "nbformat_minor": 5
}
