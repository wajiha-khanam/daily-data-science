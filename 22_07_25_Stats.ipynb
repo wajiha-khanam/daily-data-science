{
 "cells": [
  {
   "cell_type": "markdown",
   "id": "da5bc026-6af6-4ebb-bdf9-920169a2beaa",
   "metadata": {},
   "source": [
    "## Descriptive Statistics"
   ]
  },
  {
   "cell_type": "code",
   "execution_count": 186,
   "id": "0d8acb9b-55cd-46b1-9882-740122e1eb8b",
   "metadata": {},
   "outputs": [],
   "source": [
    "import pandas as pd\n",
    "import numpy as np\n",
    "import matplotlib.pyplot as plt\n",
    "import seaborn as sns"
   ]
  },
  {
   "cell_type": "code",
   "execution_count": 187,
   "id": "d131b8d4-a888-4e56-b669-baa7276a6889",
   "metadata": {},
   "outputs": [
    {
     "data": {
      "text/html": [
       "<div>\n",
       "<style scoped>\n",
       "    .dataframe tbody tr th:only-of-type {\n",
       "        vertical-align: middle;\n",
       "    }\n",
       "\n",
       "    .dataframe tbody tr th {\n",
       "        vertical-align: top;\n",
       "    }\n",
       "\n",
       "    .dataframe thead th {\n",
       "        text-align: right;\n",
       "    }\n",
       "</style>\n",
       "<table border=\"1\" class=\"dataframe\">\n",
       "  <thead>\n",
       "    <tr style=\"text-align: right;\">\n",
       "      <th></th>\n",
       "      <th>hotel</th>\n",
       "      <th>is_canceled</th>\n",
       "      <th>lead_time</th>\n",
       "      <th>arrival_date_year</th>\n",
       "      <th>arrival_date_month</th>\n",
       "      <th>arrival_date_week_number</th>\n",
       "      <th>arrival_date_day_of_month</th>\n",
       "      <th>stays_in_weekend_nights</th>\n",
       "      <th>stays_in_week_nights</th>\n",
       "      <th>adults</th>\n",
       "      <th>...</th>\n",
       "      <th>deposit_type</th>\n",
       "      <th>agent</th>\n",
       "      <th>company</th>\n",
       "      <th>days_in_waiting_list</th>\n",
       "      <th>customer_type</th>\n",
       "      <th>adr</th>\n",
       "      <th>required_car_parking_spaces</th>\n",
       "      <th>total_of_special_requests</th>\n",
       "      <th>reservation_status</th>\n",
       "      <th>reservation_status_date</th>\n",
       "    </tr>\n",
       "  </thead>\n",
       "  <tbody>\n",
       "    <tr>\n",
       "      <th>0</th>\n",
       "      <td>Resort Hotel</td>\n",
       "      <td>0</td>\n",
       "      <td>342</td>\n",
       "      <td>2015</td>\n",
       "      <td>July</td>\n",
       "      <td>27</td>\n",
       "      <td>1</td>\n",
       "      <td>0</td>\n",
       "      <td>0</td>\n",
       "      <td>2</td>\n",
       "      <td>...</td>\n",
       "      <td>No Deposit</td>\n",
       "      <td>NaN</td>\n",
       "      <td>NaN</td>\n",
       "      <td>0</td>\n",
       "      <td>Transient</td>\n",
       "      <td>0.00</td>\n",
       "      <td>0</td>\n",
       "      <td>0</td>\n",
       "      <td>Check-Out</td>\n",
       "      <td>2015-07-01</td>\n",
       "    </tr>\n",
       "    <tr>\n",
       "      <th>1</th>\n",
       "      <td>Resort Hotel</td>\n",
       "      <td>0</td>\n",
       "      <td>737</td>\n",
       "      <td>2015</td>\n",
       "      <td>July</td>\n",
       "      <td>27</td>\n",
       "      <td>1</td>\n",
       "      <td>0</td>\n",
       "      <td>0</td>\n",
       "      <td>2</td>\n",
       "      <td>...</td>\n",
       "      <td>No Deposit</td>\n",
       "      <td>NaN</td>\n",
       "      <td>NaN</td>\n",
       "      <td>0</td>\n",
       "      <td>Transient</td>\n",
       "      <td>0.00</td>\n",
       "      <td>0</td>\n",
       "      <td>0</td>\n",
       "      <td>Check-Out</td>\n",
       "      <td>2015-07-01</td>\n",
       "    </tr>\n",
       "    <tr>\n",
       "      <th>2</th>\n",
       "      <td>Resort Hotel</td>\n",
       "      <td>0</td>\n",
       "      <td>7</td>\n",
       "      <td>2015</td>\n",
       "      <td>July</td>\n",
       "      <td>27</td>\n",
       "      <td>1</td>\n",
       "      <td>0</td>\n",
       "      <td>1</td>\n",
       "      <td>1</td>\n",
       "      <td>...</td>\n",
       "      <td>No Deposit</td>\n",
       "      <td>NaN</td>\n",
       "      <td>NaN</td>\n",
       "      <td>0</td>\n",
       "      <td>Transient</td>\n",
       "      <td>75.00</td>\n",
       "      <td>0</td>\n",
       "      <td>0</td>\n",
       "      <td>Check-Out</td>\n",
       "      <td>2015-07-02</td>\n",
       "    </tr>\n",
       "    <tr>\n",
       "      <th>3</th>\n",
       "      <td>Resort Hotel</td>\n",
       "      <td>0</td>\n",
       "      <td>13</td>\n",
       "      <td>2015</td>\n",
       "      <td>July</td>\n",
       "      <td>27</td>\n",
       "      <td>1</td>\n",
       "      <td>0</td>\n",
       "      <td>1</td>\n",
       "      <td>1</td>\n",
       "      <td>...</td>\n",
       "      <td>No Deposit</td>\n",
       "      <td>304.0</td>\n",
       "      <td>NaN</td>\n",
       "      <td>0</td>\n",
       "      <td>Transient</td>\n",
       "      <td>75.00</td>\n",
       "      <td>0</td>\n",
       "      <td>0</td>\n",
       "      <td>Check-Out</td>\n",
       "      <td>2015-07-02</td>\n",
       "    </tr>\n",
       "    <tr>\n",
       "      <th>4</th>\n",
       "      <td>Resort Hotel</td>\n",
       "      <td>0</td>\n",
       "      <td>14</td>\n",
       "      <td>2015</td>\n",
       "      <td>July</td>\n",
       "      <td>27</td>\n",
       "      <td>1</td>\n",
       "      <td>0</td>\n",
       "      <td>2</td>\n",
       "      <td>2</td>\n",
       "      <td>...</td>\n",
       "      <td>No Deposit</td>\n",
       "      <td>240.0</td>\n",
       "      <td>NaN</td>\n",
       "      <td>0</td>\n",
       "      <td>Transient</td>\n",
       "      <td>98.00</td>\n",
       "      <td>0</td>\n",
       "      <td>1</td>\n",
       "      <td>Check-Out</td>\n",
       "      <td>2015-07-03</td>\n",
       "    </tr>\n",
       "    <tr>\n",
       "      <th>...</th>\n",
       "      <td>...</td>\n",
       "      <td>...</td>\n",
       "      <td>...</td>\n",
       "      <td>...</td>\n",
       "      <td>...</td>\n",
       "      <td>...</td>\n",
       "      <td>...</td>\n",
       "      <td>...</td>\n",
       "      <td>...</td>\n",
       "      <td>...</td>\n",
       "      <td>...</td>\n",
       "      <td>...</td>\n",
       "      <td>...</td>\n",
       "      <td>...</td>\n",
       "      <td>...</td>\n",
       "      <td>...</td>\n",
       "      <td>...</td>\n",
       "      <td>...</td>\n",
       "      <td>...</td>\n",
       "      <td>...</td>\n",
       "      <td>...</td>\n",
       "    </tr>\n",
       "    <tr>\n",
       "      <th>119385</th>\n",
       "      <td>City Hotel</td>\n",
       "      <td>0</td>\n",
       "      <td>23</td>\n",
       "      <td>2017</td>\n",
       "      <td>August</td>\n",
       "      <td>35</td>\n",
       "      <td>30</td>\n",
       "      <td>2</td>\n",
       "      <td>5</td>\n",
       "      <td>2</td>\n",
       "      <td>...</td>\n",
       "      <td>No Deposit</td>\n",
       "      <td>394.0</td>\n",
       "      <td>NaN</td>\n",
       "      <td>0</td>\n",
       "      <td>Transient</td>\n",
       "      <td>96.14</td>\n",
       "      <td>0</td>\n",
       "      <td>0</td>\n",
       "      <td>Check-Out</td>\n",
       "      <td>2017-09-06</td>\n",
       "    </tr>\n",
       "    <tr>\n",
       "      <th>119386</th>\n",
       "      <td>City Hotel</td>\n",
       "      <td>0</td>\n",
       "      <td>102</td>\n",
       "      <td>2017</td>\n",
       "      <td>August</td>\n",
       "      <td>35</td>\n",
       "      <td>31</td>\n",
       "      <td>2</td>\n",
       "      <td>5</td>\n",
       "      <td>3</td>\n",
       "      <td>...</td>\n",
       "      <td>No Deposit</td>\n",
       "      <td>9.0</td>\n",
       "      <td>NaN</td>\n",
       "      <td>0</td>\n",
       "      <td>Transient</td>\n",
       "      <td>225.43</td>\n",
       "      <td>0</td>\n",
       "      <td>2</td>\n",
       "      <td>Check-Out</td>\n",
       "      <td>2017-09-07</td>\n",
       "    </tr>\n",
       "    <tr>\n",
       "      <th>119387</th>\n",
       "      <td>City Hotel</td>\n",
       "      <td>0</td>\n",
       "      <td>34</td>\n",
       "      <td>2017</td>\n",
       "      <td>August</td>\n",
       "      <td>35</td>\n",
       "      <td>31</td>\n",
       "      <td>2</td>\n",
       "      <td>5</td>\n",
       "      <td>2</td>\n",
       "      <td>...</td>\n",
       "      <td>No Deposit</td>\n",
       "      <td>9.0</td>\n",
       "      <td>NaN</td>\n",
       "      <td>0</td>\n",
       "      <td>Transient</td>\n",
       "      <td>157.71</td>\n",
       "      <td>0</td>\n",
       "      <td>4</td>\n",
       "      <td>Check-Out</td>\n",
       "      <td>2017-09-07</td>\n",
       "    </tr>\n",
       "    <tr>\n",
       "      <th>119388</th>\n",
       "      <td>City Hotel</td>\n",
       "      <td>0</td>\n",
       "      <td>109</td>\n",
       "      <td>2017</td>\n",
       "      <td>August</td>\n",
       "      <td>35</td>\n",
       "      <td>31</td>\n",
       "      <td>2</td>\n",
       "      <td>5</td>\n",
       "      <td>2</td>\n",
       "      <td>...</td>\n",
       "      <td>No Deposit</td>\n",
       "      <td>89.0</td>\n",
       "      <td>NaN</td>\n",
       "      <td>0</td>\n",
       "      <td>Transient</td>\n",
       "      <td>104.40</td>\n",
       "      <td>0</td>\n",
       "      <td>0</td>\n",
       "      <td>Check-Out</td>\n",
       "      <td>2017-09-07</td>\n",
       "    </tr>\n",
       "    <tr>\n",
       "      <th>119389</th>\n",
       "      <td>City Hotel</td>\n",
       "      <td>0</td>\n",
       "      <td>205</td>\n",
       "      <td>2017</td>\n",
       "      <td>August</td>\n",
       "      <td>35</td>\n",
       "      <td>29</td>\n",
       "      <td>2</td>\n",
       "      <td>7</td>\n",
       "      <td>2</td>\n",
       "      <td>...</td>\n",
       "      <td>No Deposit</td>\n",
       "      <td>9.0</td>\n",
       "      <td>NaN</td>\n",
       "      <td>0</td>\n",
       "      <td>Transient</td>\n",
       "      <td>151.20</td>\n",
       "      <td>0</td>\n",
       "      <td>2</td>\n",
       "      <td>Check-Out</td>\n",
       "      <td>2017-09-07</td>\n",
       "    </tr>\n",
       "  </tbody>\n",
       "</table>\n",
       "<p>119390 rows × 32 columns</p>\n",
       "</div>"
      ],
      "text/plain": [
       "               hotel  is_canceled  lead_time  arrival_date_year  \\\n",
       "0       Resort Hotel            0        342               2015   \n",
       "1       Resort Hotel            0        737               2015   \n",
       "2       Resort Hotel            0          7               2015   \n",
       "3       Resort Hotel            0         13               2015   \n",
       "4       Resort Hotel            0         14               2015   \n",
       "...              ...          ...        ...                ...   \n",
       "119385    City Hotel            0         23               2017   \n",
       "119386    City Hotel            0        102               2017   \n",
       "119387    City Hotel            0         34               2017   \n",
       "119388    City Hotel            0        109               2017   \n",
       "119389    City Hotel            0        205               2017   \n",
       "\n",
       "       arrival_date_month  arrival_date_week_number  \\\n",
       "0                    July                        27   \n",
       "1                    July                        27   \n",
       "2                    July                        27   \n",
       "3                    July                        27   \n",
       "4                    July                        27   \n",
       "...                   ...                       ...   \n",
       "119385             August                        35   \n",
       "119386             August                        35   \n",
       "119387             August                        35   \n",
       "119388             August                        35   \n",
       "119389             August                        35   \n",
       "\n",
       "        arrival_date_day_of_month  stays_in_weekend_nights  \\\n",
       "0                               1                        0   \n",
       "1                               1                        0   \n",
       "2                               1                        0   \n",
       "3                               1                        0   \n",
       "4                               1                        0   \n",
       "...                           ...                      ...   \n",
       "119385                         30                        2   \n",
       "119386                         31                        2   \n",
       "119387                         31                        2   \n",
       "119388                         31                        2   \n",
       "119389                         29                        2   \n",
       "\n",
       "        stays_in_week_nights  adults  ...  deposit_type  agent company  \\\n",
       "0                          0       2  ...    No Deposit    NaN     NaN   \n",
       "1                          0       2  ...    No Deposit    NaN     NaN   \n",
       "2                          1       1  ...    No Deposit    NaN     NaN   \n",
       "3                          1       1  ...    No Deposit  304.0     NaN   \n",
       "4                          2       2  ...    No Deposit  240.0     NaN   \n",
       "...                      ...     ...  ...           ...    ...     ...   \n",
       "119385                     5       2  ...    No Deposit  394.0     NaN   \n",
       "119386                     5       3  ...    No Deposit    9.0     NaN   \n",
       "119387                     5       2  ...    No Deposit    9.0     NaN   \n",
       "119388                     5       2  ...    No Deposit   89.0     NaN   \n",
       "119389                     7       2  ...    No Deposit    9.0     NaN   \n",
       "\n",
       "       days_in_waiting_list customer_type     adr  \\\n",
       "0                         0     Transient    0.00   \n",
       "1                         0     Transient    0.00   \n",
       "2                         0     Transient   75.00   \n",
       "3                         0     Transient   75.00   \n",
       "4                         0     Transient   98.00   \n",
       "...                     ...           ...     ...   \n",
       "119385                    0     Transient   96.14   \n",
       "119386                    0     Transient  225.43   \n",
       "119387                    0     Transient  157.71   \n",
       "119388                    0     Transient  104.40   \n",
       "119389                    0     Transient  151.20   \n",
       "\n",
       "        required_car_parking_spaces  total_of_special_requests  \\\n",
       "0                                 0                          0   \n",
       "1                                 0                          0   \n",
       "2                                 0                          0   \n",
       "3                                 0                          0   \n",
       "4                                 0                          1   \n",
       "...                             ...                        ...   \n",
       "119385                            0                          0   \n",
       "119386                            0                          2   \n",
       "119387                            0                          4   \n",
       "119388                            0                          0   \n",
       "119389                            0                          2   \n",
       "\n",
       "        reservation_status reservation_status_date  \n",
       "0                Check-Out              2015-07-01  \n",
       "1                Check-Out              2015-07-01  \n",
       "2                Check-Out              2015-07-02  \n",
       "3                Check-Out              2015-07-02  \n",
       "4                Check-Out              2015-07-03  \n",
       "...                    ...                     ...  \n",
       "119385           Check-Out              2017-09-06  \n",
       "119386           Check-Out              2017-09-07  \n",
       "119387           Check-Out              2017-09-07  \n",
       "119388           Check-Out              2017-09-07  \n",
       "119389           Check-Out              2017-09-07  \n",
       "\n",
       "[119390 rows x 32 columns]"
      ]
     },
     "execution_count": 187,
     "metadata": {},
     "output_type": "execute_result"
    }
   ],
   "source": [
    "df = pd.read_csv(\"hotel_bookings.csv\")\n",
    "df"
   ]
  },
  {
   "cell_type": "code",
   "execution_count": 188,
   "id": "630b96a4-1f5d-4bed-bfc5-142d421917e1",
   "metadata": {},
   "outputs": [
    {
     "name": "stdout",
     "output_type": "stream",
     "text": [
      "<class 'pandas.core.frame.DataFrame'>\n",
      "RangeIndex: 119390 entries, 0 to 119389\n",
      "Data columns (total 32 columns):\n",
      " #   Column                          Non-Null Count   Dtype  \n",
      "---  ------                          --------------   -----  \n",
      " 0   hotel                           119390 non-null  object \n",
      " 1   is_canceled                     119390 non-null  int64  \n",
      " 2   lead_time                       119390 non-null  int64  \n",
      " 3   arrival_date_year               119390 non-null  int64  \n",
      " 4   arrival_date_month              119390 non-null  object \n",
      " 5   arrival_date_week_number        119390 non-null  int64  \n",
      " 6   arrival_date_day_of_month       119390 non-null  int64  \n",
      " 7   stays_in_weekend_nights         119390 non-null  int64  \n",
      " 8   stays_in_week_nights            119390 non-null  int64  \n",
      " 9   adults                          119390 non-null  int64  \n",
      " 10  children                        119386 non-null  float64\n",
      " 11  babies                          119390 non-null  int64  \n",
      " 12  meal                            119390 non-null  object \n",
      " 13  country                         118902 non-null  object \n",
      " 14  market_segment                  119390 non-null  object \n",
      " 15  distribution_channel            119390 non-null  object \n",
      " 16  is_repeated_guest               119390 non-null  int64  \n",
      " 17  previous_cancellations          119390 non-null  int64  \n",
      " 18  previous_bookings_not_canceled  119390 non-null  int64  \n",
      " 19  reserved_room_type              119390 non-null  object \n",
      " 20  assigned_room_type              119390 non-null  object \n",
      " 21  booking_changes                 119390 non-null  int64  \n",
      " 22  deposit_type                    119390 non-null  object \n",
      " 23  agent                           103050 non-null  float64\n",
      " 24  company                         6797 non-null    float64\n",
      " 25  days_in_waiting_list            119390 non-null  int64  \n",
      " 26  customer_type                   119390 non-null  object \n",
      " 27  adr                             119390 non-null  float64\n",
      " 28  required_car_parking_spaces     119390 non-null  int64  \n",
      " 29  total_of_special_requests       119390 non-null  int64  \n",
      " 30  reservation_status              119390 non-null  object \n",
      " 31  reservation_status_date         119390 non-null  object \n",
      "dtypes: float64(4), int64(16), object(12)\n",
      "memory usage: 29.1+ MB\n"
     ]
    }
   ],
   "source": [
    "df.info()"
   ]
  },
  {
   "cell_type": "markdown",
   "id": "485ccc70-3fe5-46fe-b49e-d50239ba5994",
   "metadata": {},
   "source": [
    "### Q1: Mean & Standard Deviation\n",
    "Calculate the mean and standard deviation of adr (Average Daily Rate)."
   ]
  },
  {
   "cell_type": "code",
   "execution_count": 190,
   "id": "be9bb4f3-3a61-4501-bbc4-0631381aa00e",
   "metadata": {},
   "outputs": [
    {
     "data": {
      "text/plain": [
       "101.83112153446686"
      ]
     },
     "execution_count": 190,
     "metadata": {},
     "output_type": "execute_result"
    }
   ],
   "source": [
    "df['adr'].mean()"
   ]
  },
  {
   "cell_type": "code",
   "execution_count": 191,
   "id": "c46a47bd-6c62-462e-b01f-056a8656008d",
   "metadata": {},
   "outputs": [
    {
     "data": {
      "text/plain": [
       "50.5357902855456"
      ]
     },
     "execution_count": 191,
     "metadata": {},
     "output_type": "execute_result"
    }
   ],
   "source": [
    "df['adr'].std()"
   ]
  },
  {
   "cell_type": "markdown",
   "id": "911efca0-45b9-4729-95be-d9b86afe0018",
   "metadata": {},
   "source": [
    "### Q2: Distribution Shape of Lead Time\n",
    "Check skewness and kurtosis of lead_time. Interpret the result."
   ]
  },
  {
   "cell_type": "code",
   "execution_count": 193,
   "id": "fa2120c3-44ae-4e0a-ad65-d91805fd6ac0",
   "metadata": {},
   "outputs": [
    {
     "data": {
      "text/plain": [
       "1.3465498727254268"
      ]
     },
     "execution_count": 193,
     "metadata": {},
     "output_type": "execute_result"
    }
   ],
   "source": [
    "df['lead_time'].skew()"
   ]
  },
  {
   "cell_type": "markdown",
   "id": "a02fe6a9-8d1d-4cdd-aa5c-a7534c9af2bd",
   "metadata": {},
   "source": [
    "##### The distribution of lead_time is moderately to highly right-skewed"
   ]
  },
  {
   "cell_type": "code",
   "execution_count": 195,
   "id": "81fcb336-4d7c-44d8-ab93-3fdc664d7031",
   "metadata": {},
   "outputs": [
    {
     "data": {
      "text/plain": [
       "1.6964488485585467"
      ]
     },
     "execution_count": 195,
     "metadata": {},
     "output_type": "execute_result"
    }
   ],
   "source": [
    "df['lead_time'].kurt()"
   ]
  },
  {
   "cell_type": "markdown",
   "id": "8d70fd88-5aa2-4095-af8a-c1318e9646a5",
   "metadata": {},
   "source": [
    "##### This is less than 3, meaning the distribution is platykurtic; The distribution has lighter tails and a flatter peak than a normal distribution."
   ]
  },
  {
   "cell_type": "markdown",
   "id": "9fea9c9f-fdc6-4cdf-a24e-240a39d43eeb",
   "metadata": {},
   "source": [
    "### Q3: Correlation Check\n",
    "Compute the Pearson correlation between lead_time and adr. Is it significant?"
   ]
  },
  {
   "cell_type": "code",
   "execution_count": 198,
   "id": "db25cf6d-1bbe-4404-b341-a38ba6be2600",
   "metadata": {},
   "outputs": [],
   "source": [
    "from scipy.stats import pearsonr"
   ]
  },
  {
   "cell_type": "code",
   "execution_count": 199,
   "id": "0b03900c-203f-448a-8886-9ab16ae75d6f",
   "metadata": {},
   "outputs": [
    {
     "name": "stdout",
     "output_type": "stream",
     "text": [
      "Pearson coefficient: -0.06307685251681912\n"
     ]
    }
   ],
   "source": [
    "print(f\"Pearson coefficient: {pearsonr(df['lead_time'], df['adr'])[0]}\")"
   ]
  },
  {
   "cell_type": "markdown",
   "id": "a5e00129-18fe-4eaa-830f-e09192903544",
   "metadata": {},
   "source": [
    "##### There is very little to no linear correlation between lead_time (how far in advance a booking is made) and adr (average daily rate). The relationship is very weak and negative, but almost negligible.\n",
    "\n"
   ]
  },
  {
   "cell_type": "markdown",
   "id": "7e07a0f5-5cba-4fd0-8cae-d7f3580f719a",
   "metadata": {},
   "source": [
    "| **Metric**                  | **What it tells you**                                      |\n",
    "| --------------------------- | ---------------------------------------------------------- |\n",
    "| **Correlation coefficient** | Strength and direction of linear relationship              |\n",
    "| **P-value**                 | Whether the correlation is statistically significant (≠ 0) |\n"
   ]
  },
  {
   "cell_type": "markdown",
   "id": "1d3162c0-0f98-44ce-9778-50145c41347f",
   "metadata": {},
   "source": [
    "### Q4: Histogram + Interpretation\n",
    "Plot a histogram of adr. Comment on its distribution (e.g., right-skewed, outliers, etc.)"
   ]
  },
  {
   "cell_type": "code",
   "execution_count": 203,
   "id": "ac1b3830-14ef-4e4d-84c1-b37d0ad92af2",
   "metadata": {},
   "outputs": [
    {
     "data": {
      "image/png": "[encoded data removed]",
      "text/plain": [
       "<Figure size 700x400 with 1 Axes>"
      ]
     },
     "metadata": {},
     "output_type": "display_data"
    }
   ],
   "source": [
    "plt.figure(figsize = (7,4))\n",
    "sns.histplot(df['adr'], bins = 50, kde = True, color='blue')\n",
    "plt.title('Distribution of ADR (Average Daily Rate)')\n",
    "plt.xlabel('ADR')\n",
    "plt.ylabel('Frequency')\n",
    "plt.show()"
   ]
  },
  {
   "cell_type": "markdown",
   "id": "f02ebb31-4ea9-4e2c-a14d-fa18c33c27f7",
   "metadata": {},
   "source": [
    "* Right-Skewed Distribution\n",
    "* Very High Frequency at Low ADR\n",
    "* Presence of Outliers"
   ]
  },
  {
   "cell_type": "markdown",
   "id": "74bdb6f0-9d72-4d83-87cc-ff3af72add94",
   "metadata": {},
   "source": [
    "### Q5: Top 5 Booking Countries — Mean Stay Duration\n",
    "Group by top 5 countries and compare mean stay_length (weekend + week nights). Visualize using a bar chart."
   ]
  },
  {
   "cell_type": "code",
   "execution_count": 206,
   "id": "e1bedab3-203d-4eb6-ae57-b0993a6f7b4c",
   "metadata": {},
   "outputs": [],
   "source": [
    "df['stay_length'] = df['stays_in_weekend_nights'] + df['stays_in_week_nights']"
   ]
  },
  {
   "cell_type": "code",
   "execution_count": 207,
   "id": "a6c291d1-fe5f-43f3-a21a-350e5d08e3af",
   "metadata": {},
   "outputs": [
    {
     "data": {
      "text/plain": [
       "['PRT', 'GBR', 'FRA', 'ESP', 'DEU']"
      ]
     },
     "execution_count": 207,
     "metadata": {},
     "output_type": "execute_result"
    }
   ],
   "source": [
    "top_5_countries = df['country'].value_counts().head(5).index.to_list()\n",
    "top_5_countries"
   ]
  },
  {
   "cell_type": "code",
   "execution_count": 208,
   "id": "adfcb686-7323-495b-a562-b1515b5033c9",
   "metadata": {},
   "outputs": [
    {
     "data": {
      "text/html": [
       "<div>\n",
       "<style scoped>\n",
       "    .dataframe tbody tr th:only-of-type {\n",
       "        vertical-align: middle;\n",
       "    }\n",
       "\n",
       "    .dataframe tbody tr th {\n",
       "        vertical-align: top;\n",
       "    }\n",
       "\n",
       "    .dataframe thead th {\n",
       "        text-align: right;\n",
       "    }\n",
       "</style>\n",
       "<table border=\"1\" class=\"dataframe\">\n",
       "  <thead>\n",
       "    <tr style=\"text-align: right;\">\n",
       "      <th></th>\n",
       "      <th>country</th>\n",
       "      <th>avg_stay</th>\n",
       "    </tr>\n",
       "  </thead>\n",
       "  <tbody>\n",
       "    <tr>\n",
       "      <th>0</th>\n",
       "      <td>DEU</td>\n",
       "      <td>3.538768</td>\n",
       "    </tr>\n",
       "    <tr>\n",
       "      <th>1</th>\n",
       "      <td>ESP</td>\n",
       "      <td>3.076331</td>\n",
       "    </tr>\n",
       "    <tr>\n",
       "      <th>2</th>\n",
       "      <td>FRA</td>\n",
       "      <td>3.509073</td>\n",
       "    </tr>\n",
       "    <tr>\n",
       "      <th>3</th>\n",
       "      <td>GBR</td>\n",
       "      <td>4.789513</td>\n",
       "    </tr>\n",
       "    <tr>\n",
       "      <th>4</th>\n",
       "      <td>PRT</td>\n",
       "      <td>2.915291</td>\n",
       "    </tr>\n",
       "  </tbody>\n",
       "</table>\n",
       "</div>"
      ],
      "text/plain": [
       "  country  avg_stay\n",
       "0     DEU  3.538768\n",
       "1     ESP  3.076331\n",
       "2     FRA  3.509073\n",
       "3     GBR  4.789513\n",
       "4     PRT  2.915291"
      ]
     },
     "execution_count": 208,
     "metadata": {},
     "output_type": "execute_result"
    }
   ],
   "source": [
    "top_5_country = df[df['country'].isin(top_5_countries)]\n",
    "top_5_country = top_5_country.groupby('country')['stay_length'].mean().reset_index(name = 'avg_stay')\n",
    "top_5_country"
   ]
  },
  {
   "cell_type": "code",
   "execution_count": 209,
   "id": "0f0e83ef-6a3e-437e-b695-d15b959a9ada",
   "metadata": {},
   "outputs": [
    {
     "name": "stderr",
     "output_type": "stream",
     "text": [
      "C:\\Users\\Admin\\AppData\\Local\\Temp\\ipykernel_20276\\3774700696.py:2: FutureWarning: \n",
      "\n",
      "Passing `palette` without assigning `hue` is deprecated and will be removed in v0.14.0. Assign the `x` variable to `hue` and set `legend=False` for the same effect.\n",
      "\n",
      "  sns.barplot(data = top_5_country, x = 'country', y = 'avg_stay', palette='pastel')\n"
     ]
    },
    {
     "data": {
      "image/png": "[encoded data removed]",
      "text/plain": [
       "<Figure size 700x400 with 1 Axes>"
      ]
     },
     "metadata": {},
     "output_type": "display_data"
    }
   ],
   "source": [
    "plt.figure(figsize = (7,4))\n",
    "sns.barplot(data = top_5_country, x = 'country', y = 'avg_stay', palette='pastel')\n",
    "plt.title('Top 5 Booking Countries – Average Stay Duration')\n",
    "plt.xlabel('Country')\n",
    "plt.ylabel('Average Stay (Nights)')\n",
    "plt.show()"
   ]
  },
  {
   "cell_type": "markdown",
   "id": "e7fa358d-077d-4ea1-9fb7-edee943dfb9e",
   "metadata": {},
   "source": [
    " # Inferential Statistics"
   ]
  },
  {
   "cell_type": "markdown",
   "id": "ff596f54-7104-434a-abcc-9b3e012440c0",
   "metadata": {},
   "source": [
    "### Q1: T-Test: City vs Resort Hotel ADR\n",
    "Is the average adr significantly different between City Hotel and Resort Hotel?"
   ]
  },
  {
   "cell_type": "markdown",
   "id": "1aa4dc54-446f-4481-92a2-acaea039e7b5",
   "metadata": {},
   "source": [
    "* H₀ (null hypothesis): The mean ADR of City Hotel = mean ADR of Resort Hotel\n",
    "* H₁ (alt hypothesis): The mean ADRs are different"
   ]
  },
  {
   "cell_type": "code",
   "execution_count": 213,
   "id": "8a642077-fad3-45a5-abab-9966ecbb5497",
   "metadata": {},
   "outputs": [],
   "source": [
    "from scipy import stats"
   ]
  },
  {
   "cell_type": "code",
   "execution_count": 214,
   "id": "dbd5b842-6641-47c0-9fa5-20037e0f6901",
   "metadata": {},
   "outputs": [
    {
     "name": "stdout",
     "output_type": "stream",
     "text": [
      "T-statistic: 33.5765, P-value: 0.0000\n",
      "Reject H₀: Statistically significant difference in ADR between the hotels\n"
     ]
    }
   ],
   "source": [
    "city_hotel_adr = df[df['hotel'] == 'City Hotel']['adr'].dropna()\n",
    "resort_hotel_adr = df[df['hotel'] == 'Resort Hotel']['adr'].dropna()\n",
    "\n",
    "t_stat, p_val = stats.ttest_ind(city_hotel_adr, resort_hotel_adr)\n",
    "\n",
    "print(f\"T-statistic: {t_stat:.4f}, P-value: {p_val:.4f}\")\n",
    "\n",
    "if p_val < 0.05:\n",
    "    print(\"Reject H₀: Statistically significant difference in ADR between the hotels\")\n",
    "else:\n",
    "    print(\"Fail to reject H₀: No statistically significant difference in ADR\")"
   ]
  },
  {
   "cell_type": "markdown",
   "id": "f656cc51-c239-493c-b447-d53e280a187f",
   "metadata": {},
   "source": [
    "### Q2: T-Test: Cancelled vs Not Cancelled Lead Time\n",
    "Do cancelled bookings have significantly different lead time than non-cancelled ones?"
   ]
  },
  {
   "cell_type": "code",
   "execution_count": 216,
   "id": "bca0c739-810c-4aba-8c45-7ea9f6934365",
   "metadata": {},
   "outputs": [
    {
     "name": "stdout",
     "output_type": "stream",
     "text": [
      "T-statistic: -105.9349, P-value: 0.0000\n",
      "Reject H₀: Statistically significant difference in lead time.\n"
     ]
    }
   ],
   "source": [
    "not_canceled_lt = df[df['is_canceled'] == 0]['lead_time']\n",
    "canceled_lt = df[df['is_canceled'] == 1]['lead_time']\n",
    "\n",
    "\n",
    "t_stat, p_val = stats.ttest_ind(not_canceled_lt, canceled_lt)\n",
    "\n",
    "print(f\"T-statistic: {t_stat:.4f}, P-value: {p_val:.4f}\")\n",
    "\n",
    "if p_val < 0.05:\n",
    "    print(\"Reject H₀: Statistically significant difference in lead time.\")\n",
    "else:\n",
    "    print(\"Fail to reject H₀: No statistically significant difference in lead time\")"
   ]
  },
  {
   "cell_type": "markdown",
   "id": "865f260a-7a40-4b3d-a5d1-70f04900c523",
   "metadata": {},
   "source": [
    "### Q3: Chi-Square Test: Cancellation vs Deposit Type\n",
    "Test whether cancellation is independent of deposit type."
   ]
  },
  {
   "cell_type": "markdown",
   "id": "abcebd5a-0c28-40a6-b6aa-8255317bce3e",
   "metadata": {},
   "source": [
    "* Null Hypothesis (H₀): Cancellation status is independent of deposit type.\n",
    "* Alternative Hypothesis (H₁): Cancellation status depends on deposit type."
   ]
  },
  {
   "cell_type": "code",
   "execution_count": 219,
   "id": "59c78a37-3f18-41f2-8f26-4e3b83b77459",
   "metadata": {},
   "outputs": [],
   "source": [
    "from scipy.stats import chi2_contingency"
   ]
  },
  {
   "cell_type": "code",
   "execution_count": 220,
   "id": "9d292022-6a4c-4042-9157-38bfc502a369",
   "metadata": {},
   "outputs": [
    {
     "name": "stdout",
     "output_type": "stream",
     "text": [
      "Chi-Square Test Statistic: 27677.3292\n",
      "Degrees of Freedom: 2\n",
      "P-value: 0.0\n",
      "Reject H₀: Cancellation depends on deposit type (statistically significant).\n"
     ]
    }
   ],
   "source": [
    "contingency_table = pd.crosstab(df['deposit_type'], df['is_canceled'])\n",
    "\n",
    "chi2, p, dof, expected = chi2_contingency(contingency_table)\n",
    "\n",
    "print(\"Chi-Square Test Statistic:\", round(chi2, 4))\n",
    "print(\"Degrees of Freedom:\", dof)\n",
    "print(\"P-value:\", round(p, 4))\n",
    "\n",
    "if p < 0.05:\n",
    "    print(\"Reject H₀: Cancellation depends on deposit type (statistically significant).\")\n",
    "else:\n",
    "    print(\"Fail to reject H₀: No significant relationship between cancellation and deposit type.\")"
   ]
  },
  {
   "cell_type": "markdown",
   "id": "36b4a6a9-8e1f-44a0-a455-bd5820f489b1",
   "metadata": {},
   "source": [
    "### Q4: ANOVA: ADR by Meal Type\n",
    "Use ANOVA to test if the average adr differs by different meal types."
   ]
  },
  {
   "cell_type": "markdown",
   "id": "dc585860-f5f1-473b-9afa-cef1c626a37e",
   "metadata": {},
   "source": [
    "* H₀ (Null Hypothesis): Mean ADR is the same across all meal types\n",
    "* H₁ (Alternative Hypothesis): At least one meal type has a different mean ADR"
   ]
  },
  {
   "cell_type": "code",
   "execution_count": 223,
   "id": "b8d7219d-9c64-4543-b179-744891a486d3",
   "metadata": {},
   "outputs": [],
   "source": [
    "from scipy.stats import f_oneway"
   ]
  },
  {
   "cell_type": "code",
   "execution_count": 224,
   "id": "d78c642b-aab1-4b55-96ed-334844ff4d9d",
   "metadata": {},
   "outputs": [],
   "source": [
    "meal_types = df['meal'].unique()\n",
    "\n",
    "groups = []\n",
    "for meal in meal_types:\n",
    "    adr_values = df[df['meal'] == meal]['adr']\n",
    "    groups.append(adr_values)"
   ]
  },
  {
   "cell_type": "code",
   "execution_count": 225,
   "id": "a2c82d5b-f1ab-4902-9ec5-ec5381f3968b",
   "metadata": {},
   "outputs": [
    {
     "name": "stdout",
     "output_type": "stream",
     "text": [
      "F-statistic: 575.5296\n",
      "P-value: 0.0\n",
      "Reject H₀: At least one meal type has a significantly different ADR.\n"
     ]
    }
   ],
   "source": [
    "f_stat, p_val = f_oneway(*groups)\n",
    "\n",
    "print(\"F-statistic:\", round(f_stat, 4))\n",
    "print(\"P-value:\", round(p_val, 4))\n",
    "\n",
    "if p_val < 0.05:\n",
    "    print(\"Reject H₀: At least one meal type has a significantly different ADR.\")\n",
    "else:\n",
    "    print(\"Fail to reject H₀: No significant difference in ADR across meal types.\")"
   ]
  },
  {
   "cell_type": "markdown",
   "id": "15e97f7f-6e17-4dc5-9f3a-1f03bd08ecbb",
   "metadata": {},
   "source": [
    "### Q5: Confidence Interval (95%)\n",
    "Construct a 95% confidence interval for the average stay duration of guests who didn’t cancel."
   ]
  },
  {
   "cell_type": "code",
   "execution_count": 227,
   "id": "f3e9895a-66b9-4f57-a1ab-dede73d4ddeb",
   "metadata": {},
   "outputs": [],
   "source": [
    "df['stay_length'] = df['stays_in_weekend_nights'] + df['stays_in_week_nights']\n"
   ]
  },
  {
   "cell_type": "code",
   "execution_count": 228,
   "id": "ca8870a5-ce17-481f-9271-d1895fe217ce",
   "metadata": {},
   "outputs": [
    {
     "name": "stdout",
     "output_type": "stream",
     "text": [
      "95% Confidence Interval for average stay duration (non-canceled): (3.37, 3.41)\n"
     ]
    }
   ],
   "source": [
    "non_canceled_stay = df[df['is_canceled'] == 0]['stay_length'].dropna()\n",
    "\n",
    "sample_mean = np.mean(non_canceled_stay)\n",
    "sample_std = np.std(non_canceled_stay, ddof=1)\n",
    "n = len(non_canceled_stay)\n",
    "\n",
    "z = 1.96\n",
    "margin_of_error = z * (sample_std / np.sqrt(n))\n",
    "\n",
    "lower_bound = sample_mean - margin_of_error\n",
    "upper_bound = sample_mean + margin_of_error\n",
    "\n",
    "print(f\"95% Confidence Interval for average stay duration (non-canceled): ({lower_bound:.2f}, {upper_bound:.2f})\")"
   ]
  },
  {
   "cell_type": "code",
   "execution_count": null,
   "id": "0114533c-c08c-4c4e-b103-69e259c2c94f",
   "metadata": {},
   "outputs": [],
   "source": []
  }
 ],
 "metadata": {
  "kernelspec": {
   "display_name": "Python 3 (ipykernel)",
   "language": "python",
   "name": "python3"
  },
  "language_info": {
   "codemirror_mode": {
    "name": "ipython",
    "version": 3
   },
   "file_extension": ".py",
   "mimetype": "text/x-python",
   "name": "python",
   "nbconvert_exporter": "python",
   "pygments_lexer": "ipython3",
   "version": "3.12.7"
  }
 },
 "nbformat": 4,
 "nbformat_minor": 5
}
