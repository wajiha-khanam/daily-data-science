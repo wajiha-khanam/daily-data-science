{
 "cells": [
  {
   "cell_type": "code",
   "execution_count": 71,
   "id": "74f0633d-cce5-435c-8da4-e0004565c270",
   "metadata": {},
   "outputs": [],
   "source": [
    "import pandas as pd\n",
    "import matplotlib.pyplot as plt \n",
    "import seaborn as sns"
   ]
  },
  {
   "cell_type": "code",
   "execution_count": 72,
   "id": "d7265a07-650c-4a81-adbd-0b8112324149",
   "metadata": {},
   "outputs": [
    {
     "data": {
      "text/html": [
       "<div>\n",
       "<style scoped>\n",
       "    .dataframe tbody tr th:only-of-type {\n",
       "        vertical-align: middle;\n",
       "    }\n",
       "\n",
       "    .dataframe tbody tr th {\n",
       "        vertical-align: top;\n",
       "    }\n",
       "\n",
       "    .dataframe thead th {\n",
       "        text-align: right;\n",
       "    }\n",
       "</style>\n",
       "<table border=\"1\" class=\"dataframe\">\n",
       "  <thead>\n",
       "    <tr style=\"text-align: right;\">\n",
       "      <th></th>\n",
       "      <th>gender</th>\n",
       "      <th>race/ethnicity</th>\n",
       "      <th>parental level of education</th>\n",
       "      <th>lunch</th>\n",
       "      <th>test preparation course</th>\n",
       "      <th>math score</th>\n",
       "      <th>reading score</th>\n",
       "      <th>writing score</th>\n",
       "    </tr>\n",
       "  </thead>\n",
       "  <tbody>\n",
       "    <tr>\n",
       "      <th>0</th>\n",
       "      <td>female</td>\n",
       "      <td>group B</td>\n",
       "      <td>bachelor's degree</td>\n",
       "      <td>standard</td>\n",
       "      <td>none</td>\n",
       "      <td>72</td>\n",
       "      <td>72</td>\n",
       "      <td>74</td>\n",
       "    </tr>\n",
       "    <tr>\n",
       "      <th>1</th>\n",
       "      <td>female</td>\n",
       "      <td>group C</td>\n",
       "      <td>some college</td>\n",
       "      <td>standard</td>\n",
       "      <td>completed</td>\n",
       "      <td>69</td>\n",
       "      <td>90</td>\n",
       "      <td>88</td>\n",
       "    </tr>\n",
       "    <tr>\n",
       "      <th>2</th>\n",
       "      <td>female</td>\n",
       "      <td>group B</td>\n",
       "      <td>master's degree</td>\n",
       "      <td>standard</td>\n",
       "      <td>none</td>\n",
       "      <td>90</td>\n",
       "      <td>95</td>\n",
       "      <td>93</td>\n",
       "    </tr>\n",
       "    <tr>\n",
       "      <th>3</th>\n",
       "      <td>male</td>\n",
       "      <td>group A</td>\n",
       "      <td>associate's degree</td>\n",
       "      <td>free/reduced</td>\n",
       "      <td>none</td>\n",
       "      <td>47</td>\n",
       "      <td>57</td>\n",
       "      <td>44</td>\n",
       "    </tr>\n",
       "    <tr>\n",
       "      <th>4</th>\n",
       "      <td>male</td>\n",
       "      <td>group C</td>\n",
       "      <td>some college</td>\n",
       "      <td>standard</td>\n",
       "      <td>none</td>\n",
       "      <td>76</td>\n",
       "      <td>78</td>\n",
       "      <td>75</td>\n",
       "    </tr>\n",
       "  </tbody>\n",
       "</table>\n",
       "</div>"
      ],
      "text/plain": [
       "   gender race/ethnicity parental level of education         lunch  \\\n",
       "0  female        group B           bachelor's degree      standard   \n",
       "1  female        group C                some college      standard   \n",
       "2  female        group B             master's degree      standard   \n",
       "3    male        group A          associate's degree  free/reduced   \n",
       "4    male        group C                some college      standard   \n",
       "\n",
       "  test preparation course  math score  reading score  writing score  \n",
       "0                    none          72             72             74  \n",
       "1               completed          69             90             88  \n",
       "2                    none          90             95             93  \n",
       "3                    none          47             57             44  \n",
       "4                    none          76             78             75  "
      ]
     },
     "execution_count": 72,
     "metadata": {},
     "output_type": "execute_result"
    }
   ],
   "source": [
    "df = pd.read_csv(\"StudentsPerformance.csv\")\n",
    "df.head()"
   ]
  },
  {
   "cell_type": "markdown",
   "id": "09f60655-edf0-4510-bc20-e921b1a12ad5",
   "metadata": {},
   "source": [
    "## Q6. Calculate and compare the mean, median, and mode of math score.\n",
    "\n",
    "##### Does the data appear skewed? Why?"
   ]
  },
  {
   "cell_type": "code",
   "execution_count": 74,
   "id": "41df5e61-3485-4029-8213-3f91c84747e1",
   "metadata": {},
   "outputs": [
    {
     "name": "stdout",
     "output_type": "stream",
     "text": [
      "66.089\n",
      "66.0\n",
      "0    65\n",
      "Name: math score, dtype: int64\n"
     ]
    }
   ],
   "source": [
    "math_mean = df['math score'].mean()\n",
    "print(math_mean)\n",
    "math_median = df['math score'].median()\n",
    "print(math_median)\n",
    "math_mode = df['math score'].mode()\n",
    "print(math_mode)"
   ]
  },
  {
   "cell_type": "code",
   "execution_count": 75,
   "id": "70c66d15-82b9-483c-98ab-ce390074241d",
   "metadata": {},
   "outputs": [
    {
     "data": {
      "image/png": "[encoded data removed]",
      "text/plain": [
       "<Figure size 800x400 with 1 Axes>"
      ]
     },
     "metadata": {},
     "output_type": "display_data"
    }
   ],
   "source": [
    "plt.figure(figsize = (8, 4))\n",
    "sns.histplot(df['math score'], bins = 20, kde = True, color = 'skyblue')\n",
    "plt.title('Distribution of math score')\n",
    "plt.xlabel('Value')\n",
    "plt.ylabel('Frequency')\n",
    "plt.show()"
   ]
  },
  {
   "cell_type": "markdown",
   "id": "8ca5f3c0-2500-4e85-a255-27338cdaeffe",
   "metadata": {},
   "source": [
    "* The distribution is approximately normal, centered around 65–70.\n",
    "* There's a slight left skew, caused by a few students scoring very low (including 0)."
   ]
  },
  {
   "cell_type": "markdown",
   "id": "83589667-7ddd-4bec-be1c-b73cfbae6b5a",
   "metadata": {},
   "source": [
    "## Q7. Construct a 95% confidence interval for the mean reading score."
   ]
  },
  {
   "cell_type": "code",
   "execution_count": 78,
   "id": "93415c8d-da12-46a8-a6d8-059cb198bf87",
   "metadata": {},
   "outputs": [],
   "source": [
    "import scipy.stats as stats"
   ]
  },
  {
   "cell_type": "code",
   "execution_count": 79,
   "id": "80de71bd-64db-4180-ac9e-5fc79541b80f",
   "metadata": {},
   "outputs": [],
   "source": [
    "mean_reading = df['reading score'].mean()\n",
    "sem_reading = stats.sem(df['reading score'])"
   ]
  },
  {
   "cell_type": "code",
   "execution_count": 80,
   "id": "1748e9b9-d5c0-4934-ab1d-5b51b6eb21a8",
   "metadata": {},
   "outputs": [
    {
     "name": "stdout",
     "output_type": "stream",
     "text": [
      "Sample Mean: 69.17\n",
      "95% Confidence Interval: (68.26, 70.08)\n"
     ]
    }
   ],
   "source": [
    "confidence_level = 0.95\n",
    "n = len(df['reading score'])\n",
    "dof = n - 1\n",
    "\n",
    "confidence_interval = stats.t.interval(confidence_level, dof, loc = mean_reading, scale = sem_reading)\n",
    "\n",
    "# loc stands for \"location parameter\"\n",
    "# scale is the Standard Error of the Mean (SEM)\n",
    "\n",
    "print(f\"Sample Mean: {mean_reading:.2f}\")\n",
    "print(f\"95% Confidence Interval: ({confidence_interval[0]:.2f}, {confidence_interval[1]:.2f})\")\n"
   ]
  },
  {
   "cell_type": "markdown",
   "id": "e530801c-48f3-434d-96ee-d5ce547654a8",
   "metadata": {},
   "source": [
    "## Q8. Test if students who completed the test preparation course scored significantly higher in writing score using a two-sample t-test."
   ]
  },
  {
   "cell_type": "code",
   "execution_count": 83,
   "id": "5c189b37-28c6-4242-96fe-b0c893fb7ec5",
   "metadata": {},
   "outputs": [
    {
     "name": "stdout",
     "output_type": "stream",
     "text": [
      "(Null Hypothesis): There is no difference in writing scores between students who completed the test preparation course and those who did not.\n",
      "(Alternative Hypothesis): Students who completed the test preparation course scored differently (higher or lower) than those who did not.\n",
      "\n",
      "T-statistic: 10.41\n",
      "P-value: 3.69e-24\n",
      "\n",
      "\n",
      "Conclusion: Reject the null hypothesis. There is a statistically significant difference — students who completed the course scored higher.\n"
     ]
    }
   ],
   "source": [
    "completed = df[df['test preparation course'] == 'completed']['writing score']\n",
    "not_completed = df[df['test preparation course'] == 'none']['writing score']\n",
    "\n",
    "print(\"(Null Hypothesis): There is no difference in writing scores between students who completed the test preparation course and those who did not.\")\n",
    "print(\"(Alternative Hypothesis): Students who completed the test preparation course scored differently (higher or lower) than those who did not.\\n\")\n",
    "\n",
    "\n",
    "t_stat, p_val = stats.ttest_ind(completed, not_completed)\n",
    "\n",
    "print(f\"T-statistic: {t_stat:.2f}\")\n",
    "print(f\"P-value: {p_val:.2e}\")\n",
    "\n",
    "if p_val < 0.05:\n",
    "    print(\"\\n\\nConclusion: Reject the null hypothesis. There is a statistically significant difference — students who completed the course scored higher.\")\n",
    "else:\n",
    "    print(\"\\n\\nConclusion: Fail to reject the null hypothesis. No statistically significant difference found.\")"
   ]
  },
  {
   "cell_type": "markdown",
   "id": "a52ebbb8-18ac-4fc6-bc12-16b2923e9601",
   "metadata": {},
   "source": [
    "## Q9. Use a Chi-Square test to determine if there is a significant relationship between gender and whether a student’s math score is above average (create binary column)."
   ]
  },
  {
   "cell_type": "code",
   "execution_count": 103,
   "id": "b83a0548-f8f8-44e1-ad99-0b1d53f90630",
   "metadata": {},
   "outputs": [],
   "source": [
    "from scipy.stats import chi2_contingency"
   ]
  },
  {
   "cell_type": "code",
   "execution_count": 105,
   "id": "bbd46ca2-3c78-4f75-9216-a2a725f08173",
   "metadata": {},
   "outputs": [
    {
     "name": "stdout",
     "output_type": "stream",
     "text": [
      "(Null Hypothesis): Gender and above-average math score are independent (no relationship).\n",
      "(Alternative Hypothesis): Gender and above-average math score are dependent (significantly related).\n",
      "\n",
      "Contingency Table:\n",
      "above_avg_math_score  False  True \n",
      "gender                            \n",
      "female                  297    221\n",
      "male                    210    272 \n",
      "\n",
      "Chi-square Statistic: 18.39\n",
      "Degrees of Freedom: 1\n",
      "P-value: 0.00002\n",
      "\n",
      "Conclusion: Reject the null hypothesis. There is a significant relationship between gender and above-average math performance.\n"
     ]
    }
   ],
   "source": [
    "avg_math_score = df['math score'].mean()\n",
    "df['above_avg_math_score'] = df['math score'] > avg_math_score\n",
    "\n",
    "contingency_table = pd.crosstab(df['gender'], df['above_avg_math_score'])\n",
    "\n",
    "\n",
    "chi2_stat, p_val, dof, expected =  chi2_contingency(contingency_table)\n",
    "\n",
    "print(\"(Null Hypothesis): Gender and above-average math score are independent (no relationship).\")\n",
    "print(\"(Alternative Hypothesis): Gender and above-average math score are dependent (significantly related).\\n\")\n",
    "\n",
    "print(\"Contingency Table:\")\n",
    "print(contingency_table, \"\\n\")\n",
    "print(f\"Chi-square Statistic: {chi2_stat:.2f}\")\n",
    "print(f\"Degrees of Freedom: {dof}\")\n",
    "print(f\"P-value: {p_val:.5f}\")\n",
    "\n",
    "\n",
    "if p_val < 0.05:\n",
    "    print(\"\\nConclusion: Reject the null hypothesis. There is a significant relationship between gender and above-average math performance.\")\n",
    "else:\n",
    "    print(\"\\nConclusion: Fail to reject the null hypothesis. No significant relationship found.\")"
   ]
  },
  {
   "cell_type": "markdown",
   "id": "38a304f0-e8d9-414a-9b4a-cb467f45d59c",
   "metadata": {},
   "source": [
    "## Q10. Perform a one-way ANOVA to test if math score varies significantly across different parental levels of education."
   ]
  },
  {
   "cell_type": "code",
   "execution_count": 132,
   "id": "3ce7a716-66db-4a1f-a505-0663d841a4de",
   "metadata": {},
   "outputs": [
    {
     "name": "stdout",
     "output_type": "stream",
     "text": [
      "(Null Hypothesis): The mean math scores are the same across all parental education groups.\n",
      "(Alternative Hypothesis): At least one group has a different mean math score.\n",
      "\n",
      "F-statistic: 6.52\n",
      "P-value: 0.000006\n",
      "\n",
      " Conclusion: Reject the null hypothesis. There is a significant difference in math scores based on parental education level.\n"
     ]
    }
   ],
   "source": [
    "math_by_group = df.groupby('parental level of education')['math score'].apply(list)\n",
    "\n",
    "anova_res = stats.f_oneway(*math_by_group)\n",
    "\n",
    "print(\"(Null Hypothesis): The mean math scores are the same across all parental education groups.\")\n",
    "print(\"(Alternative Hypothesis): At least one group has a different mean math score.\\n\")\n",
    "\n",
    "\n",
    "print(f\"F-statistic: {anova_res.statistic:.2f}\")\n",
    "print(f\"P-value: {anova_res.pvalue:.6f}\")\n",
    "\n",
    "if anova_res.pvalue < 0.05:\n",
    "    print(\"\\n Conclusion: Reject the null hypothesis. There is a significant difference in math scores based on parental education level.\")\n",
    "else:\n",
    "    print(\"\\n Conclusion: Fail to reject the null hypothesis. No significant difference found.\")\n"
   ]
  },
  {
   "cell_type": "code",
   "execution_count": null,
   "id": "f84c2b97-dc2a-4582-b367-857561f73761",
   "metadata": {},
   "outputs": [],
   "source": []
  }
 ],
 "metadata": {
  "kernelspec": {
   "display_name": "Python 3 (ipykernel)",
   "language": "python",
   "name": "python3"
  },
  "language_info": {
   "codemirror_mode": {
    "name": "ipython",
    "version": 3
   },
   "file_extension": ".py",
   "mimetype": "text/x-python",
   "name": "python",
   "nbconvert_exporter": "python",
   "pygments_lexer": "ipython3",
   "version": "3.12.7"
  }
 },
 "nbformat": 4,
 "nbformat_minor": 5
}
