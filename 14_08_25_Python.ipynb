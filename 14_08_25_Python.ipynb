{
 "cells": [
  {
   "cell_type": "markdown",
   "id": "f372a348-c2d0-430d-b122-6c04bc08d341",
   "metadata": {},
   "source": [
    "##### Dataset: \"https://www.kaggle.com/datasets/mathurinache/world-happiness-report?select=2022.csv\""
   ]
  },
  {
   "cell_type": "markdown",
   "id": "54cfc363-a763-479f-aa2d-6a2b9fabb70e",
   "metadata": {},
   "source": [
    "## Q1: Preview & Shape – Display the first 10 rows and the total number of rows & columns."
   ]
  },
  {
   "cell_type": "code",
   "execution_count": 232,
   "id": "78959122-4bb6-44dc-8c59-f8f49b81742c",
   "metadata": {},
   "outputs": [],
   "source": [
    "import pandas as pd"
   ]
  },
  {
   "cell_type": "code",
   "execution_count": 233,
   "id": "8fa0e839-8c24-4c1a-8e17-5679de58f4b8",
   "metadata": {},
   "outputs": [
    {
     "data": {
      "text/html": [
       "<div>\n",
       "<style scoped>\n",
       "    .dataframe tbody tr th:only-of-type {\n",
       "        vertical-align: middle;\n",
       "    }\n",
       "\n",
       "    .dataframe tbody tr th {\n",
       "        vertical-align: top;\n",
       "    }\n",
       "\n",
       "    .dataframe thead th {\n",
       "        text-align: right;\n",
       "    }\n",
       "</style>\n",
       "<table border=\"1\" class=\"dataframe\">\n",
       "  <thead>\n",
       "    <tr style=\"text-align: right;\">\n",
       "      <th></th>\n",
       "      <th>RANK</th>\n",
       "      <th>Country</th>\n",
       "      <th>Happiness score</th>\n",
       "      <th>Whisker-high</th>\n",
       "      <th>Whisker-low</th>\n",
       "      <th>Dystopia (1.83) + residual</th>\n",
       "      <th>Explained by: GDP per capita</th>\n",
       "      <th>Explained by: Social support</th>\n",
       "      <th>Explained by: Healthy life expectancy</th>\n",
       "      <th>Explained by: Freedom to make life choices</th>\n",
       "      <th>Explained by: Generosity</th>\n",
       "      <th>Explained by: Perceptions of corruption</th>\n",
       "    </tr>\n",
       "  </thead>\n",
       "  <tbody>\n",
       "    <tr>\n",
       "      <th>0</th>\n",
       "      <td>1</td>\n",
       "      <td>Finland</td>\n",
       "      <td>7,821</td>\n",
       "      <td>7,886</td>\n",
       "      <td>7,756</td>\n",
       "      <td>2,518</td>\n",
       "      <td>1,892</td>\n",
       "      <td>1,258</td>\n",
       "      <td>0,775</td>\n",
       "      <td>0,736</td>\n",
       "      <td>0,109</td>\n",
       "      <td>0,534</td>\n",
       "    </tr>\n",
       "    <tr>\n",
       "      <th>1</th>\n",
       "      <td>2</td>\n",
       "      <td>Denmark</td>\n",
       "      <td>7,636</td>\n",
       "      <td>7,710</td>\n",
       "      <td>7,563</td>\n",
       "      <td>2,226</td>\n",
       "      <td>1,953</td>\n",
       "      <td>1,243</td>\n",
       "      <td>0,777</td>\n",
       "      <td>0,719</td>\n",
       "      <td>0,188</td>\n",
       "      <td>0,532</td>\n",
       "    </tr>\n",
       "    <tr>\n",
       "      <th>2</th>\n",
       "      <td>3</td>\n",
       "      <td>Iceland</td>\n",
       "      <td>7,557</td>\n",
       "      <td>7,651</td>\n",
       "      <td>7,464</td>\n",
       "      <td>2,320</td>\n",
       "      <td>1,936</td>\n",
       "      <td>1,320</td>\n",
       "      <td>0,803</td>\n",
       "      <td>0,718</td>\n",
       "      <td>0,270</td>\n",
       "      <td>0,191</td>\n",
       "    </tr>\n",
       "    <tr>\n",
       "      <th>3</th>\n",
       "      <td>4</td>\n",
       "      <td>Switzerland</td>\n",
       "      <td>7,512</td>\n",
       "      <td>7,586</td>\n",
       "      <td>7,437</td>\n",
       "      <td>2,153</td>\n",
       "      <td>2,026</td>\n",
       "      <td>1,226</td>\n",
       "      <td>0,822</td>\n",
       "      <td>0,677</td>\n",
       "      <td>0,147</td>\n",
       "      <td>0,461</td>\n",
       "    </tr>\n",
       "    <tr>\n",
       "      <th>4</th>\n",
       "      <td>5</td>\n",
       "      <td>Netherlands</td>\n",
       "      <td>7,415</td>\n",
       "      <td>7,471</td>\n",
       "      <td>7,359</td>\n",
       "      <td>2,137</td>\n",
       "      <td>1,945</td>\n",
       "      <td>1,206</td>\n",
       "      <td>0,787</td>\n",
       "      <td>0,651</td>\n",
       "      <td>0,271</td>\n",
       "      <td>0,419</td>\n",
       "    </tr>\n",
       "    <tr>\n",
       "      <th>5</th>\n",
       "      <td>6</td>\n",
       "      <td>Luxembourg*</td>\n",
       "      <td>7,404</td>\n",
       "      <td>7,501</td>\n",
       "      <td>7,307</td>\n",
       "      <td>2,042</td>\n",
       "      <td>2,209</td>\n",
       "      <td>1,155</td>\n",
       "      <td>0,790</td>\n",
       "      <td>0,700</td>\n",
       "      <td>0,120</td>\n",
       "      <td>0,388</td>\n",
       "    </tr>\n",
       "    <tr>\n",
       "      <th>6</th>\n",
       "      <td>7</td>\n",
       "      <td>Sweden</td>\n",
       "      <td>7,384</td>\n",
       "      <td>7,454</td>\n",
       "      <td>7,315</td>\n",
       "      <td>2,003</td>\n",
       "      <td>1,920</td>\n",
       "      <td>1,204</td>\n",
       "      <td>0,803</td>\n",
       "      <td>0,724</td>\n",
       "      <td>0,218</td>\n",
       "      <td>0,512</td>\n",
       "    </tr>\n",
       "    <tr>\n",
       "      <th>7</th>\n",
       "      <td>8</td>\n",
       "      <td>Norway</td>\n",
       "      <td>7,365</td>\n",
       "      <td>7,440</td>\n",
       "      <td>7,290</td>\n",
       "      <td>1,925</td>\n",
       "      <td>1,997</td>\n",
       "      <td>1,239</td>\n",
       "      <td>0,786</td>\n",
       "      <td>0,728</td>\n",
       "      <td>0,217</td>\n",
       "      <td>0,474</td>\n",
       "    </tr>\n",
       "    <tr>\n",
       "      <th>8</th>\n",
       "      <td>9</td>\n",
       "      <td>Israel</td>\n",
       "      <td>7,364</td>\n",
       "      <td>7,426</td>\n",
       "      <td>7,301</td>\n",
       "      <td>2,634</td>\n",
       "      <td>1,826</td>\n",
       "      <td>1,221</td>\n",
       "      <td>0,818</td>\n",
       "      <td>0,568</td>\n",
       "      <td>0,155</td>\n",
       "      <td>0,143</td>\n",
       "    </tr>\n",
       "    <tr>\n",
       "      <th>9</th>\n",
       "      <td>10</td>\n",
       "      <td>New Zealand</td>\n",
       "      <td>7,200</td>\n",
       "      <td>7,279</td>\n",
       "      <td>7,120</td>\n",
       "      <td>1,954</td>\n",
       "      <td>1,852</td>\n",
       "      <td>1,235</td>\n",
       "      <td>0,752</td>\n",
       "      <td>0,680</td>\n",
       "      <td>0,245</td>\n",
       "      <td>0,483</td>\n",
       "    </tr>\n",
       "  </tbody>\n",
       "</table>\n",
       "</div>"
      ],
      "text/plain": [
       "   RANK      Country Happiness score Whisker-high Whisker-low  \\\n",
       "0     1      Finland           7,821        7,886       7,756   \n",
       "1     2      Denmark           7,636        7,710       7,563   \n",
       "2     3      Iceland           7,557        7,651       7,464   \n",
       "3     4  Switzerland           7,512        7,586       7,437   \n",
       "4     5  Netherlands           7,415        7,471       7,359   \n",
       "5     6  Luxembourg*           7,404        7,501       7,307   \n",
       "6     7       Sweden           7,384        7,454       7,315   \n",
       "7     8       Norway           7,365        7,440       7,290   \n",
       "8     9       Israel           7,364        7,426       7,301   \n",
       "9    10  New Zealand           7,200        7,279       7,120   \n",
       "\n",
       "  Dystopia (1.83) + residual Explained by: GDP per capita  \\\n",
       "0                      2,518                        1,892   \n",
       "1                      2,226                        1,953   \n",
       "2                      2,320                        1,936   \n",
       "3                      2,153                        2,026   \n",
       "4                      2,137                        1,945   \n",
       "5                      2,042                        2,209   \n",
       "6                      2,003                        1,920   \n",
       "7                      1,925                        1,997   \n",
       "8                      2,634                        1,826   \n",
       "9                      1,954                        1,852   \n",
       "\n",
       "  Explained by: Social support Explained by: Healthy life expectancy  \\\n",
       "0                        1,258                                 0,775   \n",
       "1                        1,243                                 0,777   \n",
       "2                        1,320                                 0,803   \n",
       "3                        1,226                                 0,822   \n",
       "4                        1,206                                 0,787   \n",
       "5                        1,155                                 0,790   \n",
       "6                        1,204                                 0,803   \n",
       "7                        1,239                                 0,786   \n",
       "8                        1,221                                 0,818   \n",
       "9                        1,235                                 0,752   \n",
       "\n",
       "  Explained by: Freedom to make life choices Explained by: Generosity  \\\n",
       "0                                      0,736                    0,109   \n",
       "1                                      0,719                    0,188   \n",
       "2                                      0,718                    0,270   \n",
       "3                                      0,677                    0,147   \n",
       "4                                      0,651                    0,271   \n",
       "5                                      0,700                    0,120   \n",
       "6                                      0,724                    0,218   \n",
       "7                                      0,728                    0,217   \n",
       "8                                      0,568                    0,155   \n",
       "9                                      0,680                    0,245   \n",
       "\n",
       "  Explained by: Perceptions of corruption  \n",
       "0                                   0,534  \n",
       "1                                   0,532  \n",
       "2                                   0,191  \n",
       "3                                   0,461  \n",
       "4                                   0,419  \n",
       "5                                   0,388  \n",
       "6                                   0,512  \n",
       "7                                   0,474  \n",
       "8                                   0,143  \n",
       "9                                   0,483  "
      ]
     },
     "execution_count": 233,
     "metadata": {},
     "output_type": "execute_result"
    }
   ],
   "source": [
    "df = pd.read_csv(\"2022.csv\")\n",
    "df.head(10)"
   ]
  },
  {
   "cell_type": "code",
   "execution_count": 234,
   "id": "4a3837db-cd8d-44cc-8985-8220387348f2",
   "metadata": {},
   "outputs": [
    {
     "data": {
      "text/plain": [
       "(147, 12)"
      ]
     },
     "execution_count": 234,
     "metadata": {},
     "output_type": "execute_result"
    }
   ],
   "source": [
    "df.shape"
   ]
  },
  {
   "cell_type": "markdown",
   "id": "069688a3-1ecc-4baf-9853-ab17687927fa",
   "metadata": {},
   "source": [
    "## Q2: Column Info – Show all column names, their data types, and count missing values."
   ]
  },
  {
   "cell_type": "code",
   "execution_count": 236,
   "id": "b4633d6f-371f-4293-9d4a-db503b97cbc0",
   "metadata": {},
   "outputs": [
    {
     "name": "stdout",
     "output_type": "stream",
     "text": [
      "<class 'pandas.core.frame.DataFrame'>\n",
      "RangeIndex: 147 entries, 0 to 146\n",
      "Data columns (total 12 columns):\n",
      " #   Column                                      Non-Null Count  Dtype \n",
      "---  ------                                      --------------  ----- \n",
      " 0   RANK                                        147 non-null    int64 \n",
      " 1   Country                                     147 non-null    object\n",
      " 2   Happiness score                             146 non-null    object\n",
      " 3   Whisker-high                                146 non-null    object\n",
      " 4   Whisker-low                                 146 non-null    object\n",
      " 5   Dystopia (1.83) + residual                  146 non-null    object\n",
      " 6   Explained by: GDP per capita                146 non-null    object\n",
      " 7   Explained by: Social support                146 non-null    object\n",
      " 8   Explained by: Healthy life expectancy       146 non-null    object\n",
      " 9   Explained by: Freedom to make life choices  146 non-null    object\n",
      " 10  Explained by: Generosity                    146 non-null    object\n",
      " 11  Explained by: Perceptions of corruption     146 non-null    object\n",
      "dtypes: int64(1), object(11)\n",
      "memory usage: 13.9+ KB\n"
     ]
    }
   ],
   "source": [
    "df.info()"
   ]
  },
  {
   "cell_type": "code",
   "execution_count": 237,
   "id": "ccfb7e9c-b0f9-4f0c-b3ab-e8d5eddfac27",
   "metadata": {},
   "outputs": [
    {
     "data": {
      "text/plain": [
       "RANK                                          0\n",
       "Country                                       0\n",
       "Happiness score                               1\n",
       "Whisker-high                                  1\n",
       "Whisker-low                                   1\n",
       "Dystopia (1.83) + residual                    1\n",
       "Explained by: GDP per capita                  1\n",
       "Explained by: Social support                  1\n",
       "Explained by: Healthy life expectancy         1\n",
       "Explained by: Freedom to make life choices    1\n",
       "Explained by: Generosity                      1\n",
       "Explained by: Perceptions of corruption       1\n",
       "dtype: int64"
      ]
     },
     "execution_count": 237,
     "metadata": {},
     "output_type": "execute_result"
    }
   ],
   "source": [
    "df.isnull().sum() "
   ]
  },
  {
   "cell_type": "code",
   "execution_count": 238,
   "id": "84947925-a536-476a-aeb5-9bbfe01513bb",
   "metadata": {},
   "outputs": [],
   "source": [
    "df = df.dropna()"
   ]
  },
  {
   "cell_type": "markdown",
   "id": "e23442bd-3cf0-4b5a-9063-14fcdaf51063",
   "metadata": {},
   "source": [
    "## Q3: Country Filter – List all details for the country \"India\"."
   ]
  },
  {
   "cell_type": "code",
   "execution_count": 240,
   "id": "9e2cad73-b67b-4713-9f91-5f30bd7e057f",
   "metadata": {},
   "outputs": [
    {
     "data": {
      "text/html": [
       "<div>\n",
       "<style scoped>\n",
       "    .dataframe tbody tr th:only-of-type {\n",
       "        vertical-align: middle;\n",
       "    }\n",
       "\n",
       "    .dataframe tbody tr th {\n",
       "        vertical-align: top;\n",
       "    }\n",
       "\n",
       "    .dataframe thead th {\n",
       "        text-align: right;\n",
       "    }\n",
       "</style>\n",
       "<table border=\"1\" class=\"dataframe\">\n",
       "  <thead>\n",
       "    <tr style=\"text-align: right;\">\n",
       "      <th></th>\n",
       "      <th>RANK</th>\n",
       "      <th>Country</th>\n",
       "      <th>Happiness score</th>\n",
       "      <th>Whisker-high</th>\n",
       "      <th>Whisker-low</th>\n",
       "      <th>Dystopia (1.83) + residual</th>\n",
       "      <th>Explained by: GDP per capita</th>\n",
       "      <th>Explained by: Social support</th>\n",
       "      <th>Explained by: Healthy life expectancy</th>\n",
       "      <th>Explained by: Freedom to make life choices</th>\n",
       "      <th>Explained by: Generosity</th>\n",
       "      <th>Explained by: Perceptions of corruption</th>\n",
       "    </tr>\n",
       "  </thead>\n",
       "  <tbody>\n",
       "    <tr>\n",
       "      <th>135</th>\n",
       "      <td>136</td>\n",
       "      <td>India</td>\n",
       "      <td>3,777</td>\n",
       "      <td>3,828</td>\n",
       "      <td>3,726</td>\n",
       "      <td>0,795</td>\n",
       "      <td>1,167</td>\n",
       "      <td>0,376</td>\n",
       "      <td>0,471</td>\n",
       "      <td>0,647</td>\n",
       "      <td>0,198</td>\n",
       "      <td>0,123</td>\n",
       "    </tr>\n",
       "  </tbody>\n",
       "</table>\n",
       "</div>"
      ],
      "text/plain": [
       "     RANK Country Happiness score Whisker-high Whisker-low  \\\n",
       "135   136   India           3,777        3,828       3,726   \n",
       "\n",
       "    Dystopia (1.83) + residual Explained by: GDP per capita  \\\n",
       "135                      0,795                        1,167   \n",
       "\n",
       "    Explained by: Social support Explained by: Healthy life expectancy  \\\n",
       "135                        0,376                                 0,471   \n",
       "\n",
       "    Explained by: Freedom to make life choices Explained by: Generosity  \\\n",
       "135                                      0,647                    0,198   \n",
       "\n",
       "    Explained by: Perceptions of corruption  \n",
       "135                                   0,123  "
      ]
     },
     "execution_count": 240,
     "metadata": {},
     "output_type": "execute_result"
    }
   ],
   "source": [
    "india_details = df[df['Country'] == 'India']\n",
    "india_details"
   ]
  },
  {
   "cell_type": "markdown",
   "id": "e5e702c1-347d-48cb-8bc7-6be78a40c7a0",
   "metadata": {},
   "source": [
    "## Q4: Sorting – Sort countries by Happiness score in descending order and show the top 5."
   ]
  },
  {
   "cell_type": "code",
   "execution_count": 242,
   "id": "40d56fa8-558d-40df-839f-b6e6106e443b",
   "metadata": {},
   "outputs": [
    {
     "data": {
      "text/html": [
       "<div>\n",
       "<style scoped>\n",
       "    .dataframe tbody tr th:only-of-type {\n",
       "        vertical-align: middle;\n",
       "    }\n",
       "\n",
       "    .dataframe tbody tr th {\n",
       "        vertical-align: top;\n",
       "    }\n",
       "\n",
       "    .dataframe thead th {\n",
       "        text-align: right;\n",
       "    }\n",
       "</style>\n",
       "<table border=\"1\" class=\"dataframe\">\n",
       "  <thead>\n",
       "    <tr style=\"text-align: right;\">\n",
       "      <th></th>\n",
       "      <th>Country</th>\n",
       "      <th>Happiness score</th>\n",
       "    </tr>\n",
       "  </thead>\n",
       "  <tbody>\n",
       "    <tr>\n",
       "      <th>0</th>\n",
       "      <td>Finland</td>\n",
       "      <td>7,821</td>\n",
       "    </tr>\n",
       "    <tr>\n",
       "      <th>1</th>\n",
       "      <td>Denmark</td>\n",
       "      <td>7,636</td>\n",
       "    </tr>\n",
       "    <tr>\n",
       "      <th>2</th>\n",
       "      <td>Iceland</td>\n",
       "      <td>7,557</td>\n",
       "    </tr>\n",
       "    <tr>\n",
       "      <th>3</th>\n",
       "      <td>Switzerland</td>\n",
       "      <td>7,512</td>\n",
       "    </tr>\n",
       "    <tr>\n",
       "      <th>4</th>\n",
       "      <td>Netherlands</td>\n",
       "      <td>7,415</td>\n",
       "    </tr>\n",
       "  </tbody>\n",
       "</table>\n",
       "</div>"
      ],
      "text/plain": [
       "       Country Happiness score\n",
       "0      Finland           7,821\n",
       "1      Denmark           7,636\n",
       "2      Iceland           7,557\n",
       "3  Switzerland           7,512\n",
       "4  Netherlands           7,415"
      ]
     },
     "execution_count": 242,
     "metadata": {},
     "output_type": "execute_result"
    }
   ],
   "source": [
    "sorted_df = df.sort_values(by = 'Happiness score', ascending = False)\n",
    "top_countries = sorted_df[['Country', 'Happiness score']].head()\n",
    "top_countries"
   ]
  },
  {
   "cell_type": "markdown",
   "id": "d062f8f8-7b31-4f0a-8979-7dda2204705e",
   "metadata": {},
   "source": [
    "## Q5: Top by GDP – Find the top 5 countries by GDP per capita."
   ]
  },
  {
   "cell_type": "code",
   "execution_count": 244,
   "id": "e1febb7b-50f7-4f2f-aaa4-48817cc35c6d",
   "metadata": {},
   "outputs": [
    {
     "data": {
      "text/html": [
       "<div>\n",
       "<style scoped>\n",
       "    .dataframe tbody tr th:only-of-type {\n",
       "        vertical-align: middle;\n",
       "    }\n",
       "\n",
       "    .dataframe tbody tr th {\n",
       "        vertical-align: top;\n",
       "    }\n",
       "\n",
       "    .dataframe thead th {\n",
       "        text-align: right;\n",
       "    }\n",
       "</style>\n",
       "<table border=\"1\" class=\"dataframe\">\n",
       "  <thead>\n",
       "    <tr style=\"text-align: right;\">\n",
       "      <th></th>\n",
       "      <th>Country</th>\n",
       "      <th>Explained by: GDP per capita</th>\n",
       "    </tr>\n",
       "  </thead>\n",
       "  <tbody>\n",
       "    <tr>\n",
       "      <th>5</th>\n",
       "      <td>Luxembourg*</td>\n",
       "      <td>2,209</td>\n",
       "    </tr>\n",
       "    <tr>\n",
       "      <th>26</th>\n",
       "      <td>Singapore</td>\n",
       "      <td>2,149</td>\n",
       "    </tr>\n",
       "    <tr>\n",
       "      <th>12</th>\n",
       "      <td>Ireland</td>\n",
       "      <td>2,129</td>\n",
       "    </tr>\n",
       "    <tr>\n",
       "      <th>3</th>\n",
       "      <td>Switzerland</td>\n",
       "      <td>2,026</td>\n",
       "    </tr>\n",
       "    <tr>\n",
       "      <th>23</th>\n",
       "      <td>United Arab Emirates</td>\n",
       "      <td>1,998</td>\n",
       "    </tr>\n",
       "  </tbody>\n",
       "</table>\n",
       "</div>"
      ],
      "text/plain": [
       "                 Country Explained by: GDP per capita\n",
       "5            Luxembourg*                        2,209\n",
       "26             Singapore                        2,149\n",
       "12               Ireland                        2,129\n",
       "3            Switzerland                        2,026\n",
       "23  United Arab Emirates                        1,998"
      ]
     },
     "execution_count": 244,
     "metadata": {},
     "output_type": "execute_result"
    }
   ],
   "source": [
    "sorted_df_gdp = df.sort_values(by = 'Explained by: GDP per capita', ascending = False)\n",
    "top_countries_by_gdp = sorted_df_gdp[['Country', 'Explained by: GDP per capita']].head()\n",
    "top_countries_by_gdp"
   ]
  },
  {
   "cell_type": "markdown",
   "id": "54434da3-bd73-4435-91bb-2082be513d78",
   "metadata": {},
   "source": [
    "## Q6: Average Happiness – Calculate the average Happiness score for all countries."
   ]
  },
  {
   "cell_type": "code",
   "execution_count": 246,
   "id": "a53a18bf-8746-41d5-835f-4361702297f2",
   "metadata": {},
   "outputs": [],
   "source": [
    "non_str_cols = [c for c in df.columns if c != 'Country']\n",
    "\n",
    "for c in non_str_cols:\n",
    "    df[c] = pd.to_numeric(df[c].astype(str).str.replace(',', ''))"
   ]
  },
  {
   "cell_type": "code",
   "execution_count": 247,
   "id": "397cc374-939f-4d0c-b481-f13bd0235f03",
   "metadata": {},
   "outputs": [
    {
     "data": {
      "text/html": [
       "<div>\n",
       "<style scoped>\n",
       "    .dataframe tbody tr th:only-of-type {\n",
       "        vertical-align: middle;\n",
       "    }\n",
       "\n",
       "    .dataframe tbody tr th {\n",
       "        vertical-align: top;\n",
       "    }\n",
       "\n",
       "    .dataframe thead th {\n",
       "        text-align: right;\n",
       "    }\n",
       "</style>\n",
       "<table border=\"1\" class=\"dataframe\">\n",
       "  <thead>\n",
       "    <tr style=\"text-align: right;\">\n",
       "      <th></th>\n",
       "      <th>Country</th>\n",
       "      <th>avg_score</th>\n",
       "    </tr>\n",
       "  </thead>\n",
       "  <tbody>\n",
       "    <tr>\n",
       "      <th>0</th>\n",
       "      <td>Afghanistan</td>\n",
       "      <td>2404.0</td>\n",
       "    </tr>\n",
       "    <tr>\n",
       "      <th>1</th>\n",
       "      <td>Albania</td>\n",
       "      <td>5199.0</td>\n",
       "    </tr>\n",
       "    <tr>\n",
       "      <th>2</th>\n",
       "      <td>Algeria</td>\n",
       "      <td>5122.0</td>\n",
       "    </tr>\n",
       "    <tr>\n",
       "      <th>3</th>\n",
       "      <td>Argentina</td>\n",
       "      <td>5967.0</td>\n",
       "    </tr>\n",
       "    <tr>\n",
       "      <th>4</th>\n",
       "      <td>Armenia</td>\n",
       "      <td>5399.0</td>\n",
       "    </tr>\n",
       "    <tr>\n",
       "      <th>...</th>\n",
       "      <td>...</td>\n",
       "      <td>...</td>\n",
       "    </tr>\n",
       "    <tr>\n",
       "      <th>141</th>\n",
       "      <td>Venezuela</td>\n",
       "      <td>4925.0</td>\n",
       "    </tr>\n",
       "    <tr>\n",
       "      <th>142</th>\n",
       "      <td>Vietnam</td>\n",
       "      <td>5485.0</td>\n",
       "    </tr>\n",
       "    <tr>\n",
       "      <th>143</th>\n",
       "      <td>Yemen*</td>\n",
       "      <td>4197.0</td>\n",
       "    </tr>\n",
       "    <tr>\n",
       "      <th>144</th>\n",
       "      <td>Zambia</td>\n",
       "      <td>3760.0</td>\n",
       "    </tr>\n",
       "    <tr>\n",
       "      <th>145</th>\n",
       "      <td>Zimbabwe</td>\n",
       "      <td>2995.0</td>\n",
       "    </tr>\n",
       "  </tbody>\n",
       "</table>\n",
       "<p>146 rows × 2 columns</p>\n",
       "</div>"
      ],
      "text/plain": [
       "         Country  avg_score\n",
       "0    Afghanistan     2404.0\n",
       "1        Albania     5199.0\n",
       "2        Algeria     5122.0\n",
       "3      Argentina     5967.0\n",
       "4        Armenia     5399.0\n",
       "..           ...        ...\n",
       "141    Venezuela     4925.0\n",
       "142      Vietnam     5485.0\n",
       "143       Yemen*     4197.0\n",
       "144       Zambia     3760.0\n",
       "145     Zimbabwe     2995.0\n",
       "\n",
       "[146 rows x 2 columns]"
      ]
     },
     "execution_count": 247,
     "metadata": {},
     "output_type": "execute_result"
    }
   ],
   "source": [
    "avg_happiness_score = df.groupby('Country')['Happiness score'].mean().reset_index(name = 'avg_score')\n",
    "avg_happiness_score"
   ]
  },
  {
   "cell_type": "markdown",
   "id": "0654e01e-3a9c-4343-895e-e48d54de3d45",
   "metadata": {},
   "source": [
    "## Q7: Top GDP Countries - Group data by the \"Explained by: GDP per capita\" value ranges (e.g., High, Medium, Low) and compute the average \"Happiness score\" for each range."
   ]
  },
  {
   "cell_type": "code",
   "execution_count": 249,
   "id": "25219f0f-8cba-4d7c-be76-020357100b89",
   "metadata": {},
   "outputs": [],
   "source": [
    "df['GDP_tier'] = pd.qcut(df['Explained by: GDP per capita'], q = 3, labels = [\"Low\", \"Medium\", \"High\"])"
   ]
  },
  {
   "cell_type": "code",
   "execution_count": 250,
   "id": "9a004c6c-1f51-46ef-b79c-fc28e4764e71",
   "metadata": {},
   "outputs": [
    {
     "name": "stderr",
     "output_type": "stream",
     "text": [
      "C:\\Users\\Admin\\AppData\\Local\\Temp\\ipykernel_18308\\3315742450.py:1: FutureWarning: The default of observed=False is deprecated and will be changed to True in a future version of pandas. Pass observed=False to retain current behavior or observed=True to adopt the future default and silence this warning.\n",
      "  summary = df.groupby('GDP_tier').agg({'Happiness score': 'mean', 'Country': 'count'})\n"
     ]
    },
    {
     "data": {
      "text/html": [
       "<div>\n",
       "<style scoped>\n",
       "    .dataframe tbody tr th:only-of-type {\n",
       "        vertical-align: middle;\n",
       "    }\n",
       "\n",
       "    .dataframe tbody tr th {\n",
       "        vertical-align: top;\n",
       "    }\n",
       "\n",
       "    .dataframe thead th {\n",
       "        text-align: right;\n",
       "    }\n",
       "</style>\n",
       "<table border=\"1\" class=\"dataframe\">\n",
       "  <thead>\n",
       "    <tr style=\"text-align: right;\">\n",
       "      <th></th>\n",
       "      <th>Happiness score</th>\n",
       "      <th>Country</th>\n",
       "    </tr>\n",
       "    <tr>\n",
       "      <th>GDP_tier</th>\n",
       "      <th></th>\n",
       "      <th></th>\n",
       "    </tr>\n",
       "  </thead>\n",
       "  <tbody>\n",
       "    <tr>\n",
       "      <th>Low</th>\n",
       "      <td>4672.816327</td>\n",
       "      <td>49</td>\n",
       "    </tr>\n",
       "    <tr>\n",
       "      <th>Medium</th>\n",
       "      <td>5398.583333</td>\n",
       "      <td>48</td>\n",
       "    </tr>\n",
       "    <tr>\n",
       "      <th>High</th>\n",
       "      <td>6586.163265</td>\n",
       "      <td>49</td>\n",
       "    </tr>\n",
       "  </tbody>\n",
       "</table>\n",
       "</div>"
      ],
      "text/plain": [
       "          Happiness score  Country\n",
       "GDP_tier                          \n",
       "Low           4672.816327       49\n",
       "Medium        5398.583333       48\n",
       "High          6586.163265       49"
      ]
     },
     "execution_count": 250,
     "metadata": {},
     "output_type": "execute_result"
    }
   ],
   "source": [
    "summary = df.groupby('GDP_tier').agg({'Happiness score': 'mean', 'Country': 'count'})\n",
    "summary"
   ]
  },
  {
   "cell_type": "markdown",
   "id": "24106350-e800-4dd8-8c3b-6ae71bd46d0d",
   "metadata": {},
   "source": [
    "## Q8: Correlation – Find the correlation between GDP per capita and Happiness score."
   ]
  },
  {
   "cell_type": "code",
   "execution_count": 252,
   "id": "c7b219ec-5cdd-4a98-bc39-aea05a2c4090",
   "metadata": {},
   "outputs": [
    {
     "name": "stdout",
     "output_type": "stream",
     "text": [
      "0.76\n"
     ]
    }
   ],
   "source": [
    "correlation = df['Explained by: GDP per capita'].corr(df['Happiness score'])\n",
    "print(round(correlation,2))"
   ]
  },
  {
   "cell_type": "markdown",
   "id": "f407f17f-6aac-4ee4-890d-aa9166acae76",
   "metadata": {},
   "source": [
    "## Q9: Top Country per Metric - For each metric column (e.g., \"Explained by: Social support\", \"Explained by: Generosity\"), find the country with the highest value for that metric."
   ]
  },
  {
   "cell_type": "code",
   "execution_count": 254,
   "id": "406904f0-48ed-41c4-8a5e-bd5aead0f5a0",
   "metadata": {},
   "outputs": [],
   "source": [
    "metric_cols = [\n",
    "    'Explained by: GDP per capita',\n",
    "    'Explained by: Social support',\n",
    "    'Explained by: Healthy life expectancy',\n",
    "    'Explained by: Freedom to make life choices',\n",
    "    'Explained by: Generosity',\n",
    "    'Explained by: Perceptions of corruption'\n",
    "]\n"
   ]
  },
  {
   "cell_type": "code",
   "execution_count": 255,
   "id": "8ec222e5-cbce-4715-8ec4-8cf94489baa1",
   "metadata": {},
   "outputs": [
    {
     "name": "stdout",
     "output_type": "stream",
     "text": [
      "                                                              Country Value\n",
      "Explained by: GDP per capita                              Luxembourg*  2209\n",
      "Explained by: Social support                                  Iceland  1320\n",
      "Explained by: Healthy life expectancy       Hong Kong S.A.R. of China   942\n",
      "Explained by: Freedom to make life choices                   Cambodia   740\n",
      "Explained by: Generosity                                    Indonesia   468\n",
      "Explained by: Perceptions of corruption                     Singapore   587\n"
     ]
    }
   ],
   "source": [
    "top_countries_per_metric = {}\n",
    "\n",
    "for col in metric_cols:\n",
    "    max_idx = df[col].idxmax() \n",
    "    country = df.loc[max_idx, 'Country']\n",
    "    value = df.loc[max_idx, col]\n",
    "    top_countries_per_metric[col] = (country, value)\n",
    "\n",
    "top_df = pd.DataFrame(top_countries_per_metric, index=['Country', 'Value']).T\n",
    "print(top_df)"
   ]
  },
  {
   "cell_type": "markdown",
   "id": "44e70854-ac24-4e6b-9719-bfcbc6790420",
   "metadata": {},
   "source": [
    "## Q10: Happiness Rank Check - Verify if the \"RANK\" column is consistent with the ordering of \"Happiness score\" in descending order. If not, identify mismatches."
   ]
  },
  {
   "cell_type": "code",
   "execution_count": 257,
   "id": "acd0a325-3c05-46e2-a078-dc4a1a139681",
   "metadata": {},
   "outputs": [
    {
     "data": {
      "text/plain": [
       "0"
      ]
     },
     "execution_count": 257,
     "metadata": {},
     "output_type": "execute_result"
    }
   ],
   "source": [
    "df['Computed_Rank'] = df['Happiness score'].rank(ascending=False, method='first').astype(int)\n",
    "\n",
    "mismatches = len(df[df['RANK'] != df['Computed_Rank']])\n",
    "\n",
    "mismatches"
   ]
  },
  {
   "cell_type": "code",
   "execution_count": null,
   "id": "73b90a3a-3e0c-4dfa-9d62-5c31c78ca6b6",
   "metadata": {},
   "outputs": [],
   "source": []
  }
 ],
 "metadata": {
  "kernelspec": {
   "display_name": "Python 3 (ipykernel)",
   "language": "python",
   "name": "python3"
  },
  "language_info": {
   "codemirror_mode": {
    "name": "ipython",
    "version": 3
   },
   "file_extension": ".py",
   "mimetype": "text/x-python",
   "name": "python",
   "nbconvert_exporter": "python",
   "pygments_lexer": "ipython3",
   "version": "3.12.7"
  }
 },
 "nbformat": 4,
 "nbformat_minor": 5
}
