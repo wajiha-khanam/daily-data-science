{
 "cells": [
  {
   "cell_type": "markdown",
   "id": "e4156a5a-66c0-4ceb-a97c-5ec0331c2e0a",
   "metadata": {},
   "source": [
    "## Q1: What are Python's data structures and how do you decide whether to use a list, tuple, set, or dictionary?"
   ]
  },
  {
   "cell_type": "markdown",
   "id": "b26d8f2a-2e5b-43d8-92e8-f5f46edd52fe",
   "metadata": {},
   "source": [
    "## Ans:\n",
    "Python provides several built-in data structures, each designed for specific use cases. The main ones are:\n",
    "\n",
    "1. List:\n",
    "   * Definition: Ordered, mutable, allows duplicate elements.\n",
    "   * Syntax: my_list = [1, 2, 3]\n",
    "2. Tuple:\n",
    "   * Definition: Ordered, immutable, allows duplicates.\n",
    "   * Syntax: my_tuple = (1, 2, 3)\n",
    "3. Set:\n",
    "   * Definition: Unordered, mutable, no duplicates.\n",
    "   * Syntax: my_set = {1, 2, 3}\n",
    "4. Dictionary:\n",
    "   * Definition: Unordered (ordered since Python 3.7), mutable, key-value pairs.\n",
    "   * Syntax: my_dict = {'name': 'Alice', 'age': 25}\n"
   ]
  },
  {
   "cell_type": "markdown",
   "id": "5d6b57d5-c773-4760-b6c7-9971a8837317",
   "metadata": {},
   "source": [
    "## Q2: Explain the difference between is vs. ==. Give an example where the two behave differently."
   ]
  },
  {
   "cell_type": "markdown",
   "id": "ec71dba4-9f36-4060-82f0-9ffe8a086ebe",
   "metadata": {},
   "source": [
    "## Ans:\n",
    "1. == (Equality Operator):\n",
    "   * Compares the values of two objects.\n",
    "   * Returns True if the contents are equal.\n",
    "2. is (Identity Operator):\n",
    "   * Compares whether two variables point to the exact same object in memory.\n",
    "   * Returns True if both refer to the same memory location.\n",
    "\n"
   ]
  },
  {
   "cell_type": "code",
   "execution_count": 283,
   "id": "62634a8f-5a71-448f-9e32-a42f3a5d7d5f",
   "metadata": {},
   "outputs": [
    {
     "name": "stdout",
     "output_type": "stream",
     "text": [
      "True\n",
      "False\n"
     ]
    }
   ],
   "source": [
    "a = [1, 2, 3]\n",
    "b = [1, 2, 3]\n",
    "\n",
    "print(a == b)  # True → values are equal\n",
    "print(a is b)  # False → different objects in memory\n"
   ]
  },
  {
   "cell_type": "markdown",
   "id": "f2cf9174-6cf6-40a7-86dc-2159b2c6d6fb",
   "metadata": {},
   "source": [
    "## Q3: How do lambda functions, map(), filter(), and reduce() help in functional-style programming in Python?"
   ]
  },
  {
   "cell_type": "markdown",
   "id": "c94d3b79-9ff9-4aae-9d9e-4d345270919c",
   "metadata": {},
   "source": [
    "## Ans:\n",
    "1. Lambda Function: Anonymous function\n",
    "   * small, inline function with no name.\n",
    "   * Syntax: lambda arguments: expression\n",
    "2. map(): Apply function to all items in an iterable.\n",
    "   * Applies function to each element of the sequence\n",
    "   * Syntax: map(function, iterable)\n",
    "  \n",
    "3. filter(): Filter items based on a condition\n",
    "   * Returns a new iterator with only items where the fucntion returns True\n",
    "   * Syntax: filter(function, iterable)\n",
    "\n",
    "\n",
    "Functional style benefits:\n",
    "* avoids mutation or side effects\n",
    "* Emphasizes what to do, not how\n",
    "* leads to shorter and cleaner code\n",
    "  "
   ]
  },
  {
   "cell_type": "code",
   "execution_count": 286,
   "id": "d379ba96-c31c-4c8b-a10d-943ad4d84153",
   "metadata": {},
   "outputs": [
    {
     "name": "stdout",
     "output_type": "stream",
     "text": [
      "25\n"
     ]
    }
   ],
   "source": [
    "square = lambda x: x * x\n",
    "print(square(5))"
   ]
  },
  {
   "cell_type": "code",
   "execution_count": 287,
   "id": "c6e8ee50-c019-4de9-a610-c4b8eb67a416",
   "metadata": {},
   "outputs": [
    {
     "name": "stdout",
     "output_type": "stream",
     "text": [
      "[1, 4, 9, 16, 25]\n"
     ]
    }
   ],
   "source": [
    "nums = [1,2,3,4,5]\n",
    "squared = list(map(lambda x: x**2, nums))\n",
    "\n",
    "print(squared)"
   ]
  },
  {
   "cell_type": "code",
   "execution_count": 288,
   "id": "aed95ef1-4662-49aa-9e0b-75d3c8e6829b",
   "metadata": {},
   "outputs": [
    {
     "name": "stdout",
     "output_type": "stream",
     "text": [
      "[2, 4]\n"
     ]
    }
   ],
   "source": [
    "nums = [1,2,3,4,5]\n",
    "even = list(filter(lambda x: x%2==0, nums))\n",
    "print(even)"
   ]
  },
  {
   "cell_type": "markdown",
   "id": "eaca223c-80e6-4191-b540-7a62e2a980a1",
   "metadata": {},
   "source": [
    "## Q4: What’s the difference between shallow and deep copy in Python? Why does it matter when working with nested lists or dictionaries?\n",
    "\n"
   ]
  },
  {
   "cell_type": "markdown",
   "id": "16beb2ec-327c-4fe0-a38c-81bad6d3c878",
   "metadata": {},
   "source": [
    "## Ans:\n",
    "1. Shallow copy:\n",
    "   * Creates a new outer object, but its inner elements are still referencing to the original ones.\n",
    "   * So, changes to nested objects affect both the original and copied object.\n",
    "2. Deep copy:\n",
    "   * Creates a new object recursively, meaning it copies all nested objects too.\n",
    "   * So, changes to any part of the deep copy do not affect the original.\n"
   ]
  },
  {
   "cell_type": "code",
   "execution_count": 291,
   "id": "ab4898df-92e1-4c2a-a06b-c5325ba95af9",
   "metadata": {},
   "outputs": [
    {
     "name": "stdout",
     "output_type": "stream",
     "text": [
      "[[99, 2], [3, 4]]\n",
      "[[1, 2], [3, 4]]\n"
     ]
    }
   ],
   "source": [
    "import copy\n",
    "\n",
    "original = [[1,2], [3,4]]\n",
    "\n",
    "shallow = copy.copy(original)\n",
    "\n",
    "deep = copy.deepcopy(original)\n",
    "\n",
    "original[0][0] = 99\n",
    "\n",
    "print(shallow)\n",
    "print(deep)"
   ]
  },
  {
   "cell_type": "markdown",
   "id": "e57fa329-fa55-4a74-b636-e25ea9e5ad3c",
   "metadata": {},
   "source": [
    "## Q5: What are broadcasting and vectorization in NumPy, and why are they important for performance in data science tasks?\n"
   ]
  },
  {
   "cell_type": "markdown",
   "id": "de24c2ed-be27-4a6f-8f79-ff7f956a8fba",
   "metadata": {},
   "source": [
    "## Ans:\n",
    "1. Vectorization:\n",
    "   * Refers to performing operations on entire arrays without writing explicit for loops.\n",
    "   * Much faster than Python loops\n",
    "   * Results in cleaner and more readable code\n",
    "2. Broadcasting:\n",
    "   * Numpy's ability to automatically expand arrays of different shapes so that they can be used together in arithmetic operations.\n",
    "\n",
    "\n",
    "| Benefit               | Impact in Data Science Workflows                                                  |\n",
    "| --------------------- | --------------------------------------------------------------------------------- |\n",
    "| **Speed**             | Vectorized code runs much faster than loops                                       |\n",
    "| **Memory Efficiency** | Broadcasting avoids copying data unnecessarily                                    |\n",
    "| **Simplicity**        | Clean, expressive code makes data pipelines easier to build                       |\n",
    "| **Scalability**       | Enables operations on large datasets efficiently                                  |\n",
    "| **Integration**       | Powers fast computation in tools like **Pandas**, **SciPy**, and **Scikit-learn** |\n",
    "\n",
    "\n",
    "\n",
    "\n",
    "\n",
    "| Feature           | Definition                                        | Example Usage                      |\n",
    "| ----------------- | ------------------------------------------------- | ---------------------------------- |\n",
    "| **Vectorization** | Operating on arrays without loops                 | `arr ** 2`, `arr + 5`              |\n",
    "| **Broadcasting**  | Aligning arrays of different shapes automatically | `a + b` where `a.shape != b.shape` |\n"
   ]
  },
  {
   "cell_type": "code",
   "execution_count": 294,
   "id": "5e4a3b67-0986-40db-bb6e-a7c0da40f64e",
   "metadata": {},
   "outputs": [
    {
     "name": "stdout",
     "output_type": "stream",
     "text": [
      "[2 4 6 8]\n",
      "[[11 21 31]\n",
      " [12 22 32]\n",
      " [13 23 33]]\n"
     ]
    }
   ],
   "source": [
    "import numpy as np\n",
    "\n",
    "arr = np.array([1,2,3,4])\n",
    "\n",
    "squared = arr*2\n",
    "print(squared)\n",
    "\n",
    "\n",
    "a = np.array([[1],[2], [3]])\n",
    "b = np.array([10,20,30])\n",
    "res = a+b\n",
    "print(res)"
   ]
  },
  {
   "cell_type": "markdown",
   "id": "fa699f1c-2634-4635-8e19-0d2287643057",
   "metadata": {},
   "source": [
    "### Types of cases in python"
   ]
  },
  {
   "cell_type": "markdown",
   "id": "471c7e7f-6d89-4822-bca1-6bbe5feec7a6",
   "metadata": {},
   "source": [
    "| Case Type   | Example         | Typical Use                  |\n",
    "| ----------- | --------------- | ---------------------------- |\n",
    "| snake\\_case | `get_user_data` | functions, variables         |\n",
    "| PascalCase  | `UserProfile`   | classes                      |\n",
    "| camelCase   | `getUserData`   | (avoid in Python)            |\n",
    "| UPPER\\_CASE | `MAX_RETRIES`   | constants                    |\n",
    "| lowercase   | `math`, `email` | modules, packages            |\n",
    "| kebab-case  | `user-profile`  | not used in Python variables |\n"
   ]
  },
  {
   "cell_type": "markdown",
   "id": "00978bdb-b541-4d38-af61-9269f0f668c4",
   "metadata": {},
   "source": [
    "# Part 2: 5 Problem-Oriented Questions (Applied Python Challenge)"
   ]
  },
  {
   "cell_type": "markdown",
   "id": "3032662d-04cf-41f4-ac36-3dfd0ca716b7",
   "metadata": {},
   "source": [
    "##### 📂 Dataset: \"https://www.kaggle.com/datasets/shivamb/netflix-shows\""
   ]
  },
  {
   "cell_type": "markdown",
   "id": "50b53eaf-3b58-435a-835e-4048f9b908c6",
   "metadata": {},
   "source": [
    "## Q1. Data Cleaning & Transformation\n",
    "## Load the dataset and:\n",
    "\n",
    "* Convert all column names to snake_case.\n",
    "\n",
    "* Drop duplicates.\n",
    "\n",
    "* Convert the date_added column to datetime format."
   ]
  },
  {
   "cell_type": "code",
   "execution_count": 300,
   "id": "a40890c8-d0f0-436b-aa5f-01ca067a5764",
   "metadata": {},
   "outputs": [],
   "source": [
    "import pandas as pd"
   ]
  },
  {
   "cell_type": "code",
   "execution_count": 301,
   "id": "0fbab943-e6f0-480a-9a7d-6ef39c838609",
   "metadata": {},
   "outputs": [
    {
     "data": {
      "text/html": [
       "<div>\n",
       "<style scoped>\n",
       "    .dataframe tbody tr th:only-of-type {\n",
       "        vertical-align: middle;\n",
       "    }\n",
       "\n",
       "    .dataframe tbody tr th {\n",
       "        vertical-align: top;\n",
       "    }\n",
       "\n",
       "    .dataframe thead th {\n",
       "        text-align: right;\n",
       "    }\n",
       "</style>\n",
       "<table border=\"1\" class=\"dataframe\">\n",
       "  <thead>\n",
       "    <tr style=\"text-align: right;\">\n",
       "      <th></th>\n",
       "      <th>show_id</th>\n",
       "      <th>type</th>\n",
       "      <th>title</th>\n",
       "      <th>director</th>\n",
       "      <th>cast</th>\n",
       "      <th>country</th>\n",
       "      <th>date_added</th>\n",
       "      <th>release_year</th>\n",
       "      <th>rating</th>\n",
       "      <th>duration</th>\n",
       "      <th>listed_in</th>\n",
       "      <th>description</th>\n",
       "    </tr>\n",
       "  </thead>\n",
       "  <tbody>\n",
       "    <tr>\n",
       "      <th>0</th>\n",
       "      <td>s1</td>\n",
       "      <td>Movie</td>\n",
       "      <td>Dick Johnson Is Dead</td>\n",
       "      <td>Kirsten Johnson</td>\n",
       "      <td>NaN</td>\n",
       "      <td>United States</td>\n",
       "      <td>September 25, 2021</td>\n",
       "      <td>2020</td>\n",
       "      <td>PG-13</td>\n",
       "      <td>90 min</td>\n",
       "      <td>Documentaries</td>\n",
       "      <td>As her father nears the end of his life, filmm...</td>\n",
       "    </tr>\n",
       "    <tr>\n",
       "      <th>1</th>\n",
       "      <td>s2</td>\n",
       "      <td>TV Show</td>\n",
       "      <td>Blood &amp; Water</td>\n",
       "      <td>NaN</td>\n",
       "      <td>Ama Qamata, Khosi Ngema, Gail Mabalane, Thaban...</td>\n",
       "      <td>South Africa</td>\n",
       "      <td>September 24, 2021</td>\n",
       "      <td>2021</td>\n",
       "      <td>TV-MA</td>\n",
       "      <td>2 Seasons</td>\n",
       "      <td>International TV Shows, TV Dramas, TV Mysteries</td>\n",
       "      <td>After crossing paths at a party, a Cape Town t...</td>\n",
       "    </tr>\n",
       "    <tr>\n",
       "      <th>2</th>\n",
       "      <td>s3</td>\n",
       "      <td>TV Show</td>\n",
       "      <td>Ganglands</td>\n",
       "      <td>Julien Leclercq</td>\n",
       "      <td>Sami Bouajila, Tracy Gotoas, Samuel Jouy, Nabi...</td>\n",
       "      <td>NaN</td>\n",
       "      <td>September 24, 2021</td>\n",
       "      <td>2021</td>\n",
       "      <td>TV-MA</td>\n",
       "      <td>1 Season</td>\n",
       "      <td>Crime TV Shows, International TV Shows, TV Act...</td>\n",
       "      <td>To protect his family from a powerful drug lor...</td>\n",
       "    </tr>\n",
       "    <tr>\n",
       "      <th>3</th>\n",
       "      <td>s4</td>\n",
       "      <td>TV Show</td>\n",
       "      <td>Jailbirds New Orleans</td>\n",
       "      <td>NaN</td>\n",
       "      <td>NaN</td>\n",
       "      <td>NaN</td>\n",
       "      <td>September 24, 2021</td>\n",
       "      <td>2021</td>\n",
       "      <td>TV-MA</td>\n",
       "      <td>1 Season</td>\n",
       "      <td>Docuseries, Reality TV</td>\n",
       "      <td>Feuds, flirtations and toilet talk go down amo...</td>\n",
       "    </tr>\n",
       "    <tr>\n",
       "      <th>4</th>\n",
       "      <td>s5</td>\n",
       "      <td>TV Show</td>\n",
       "      <td>Kota Factory</td>\n",
       "      <td>NaN</td>\n",
       "      <td>Mayur More, Jitendra Kumar, Ranjan Raj, Alam K...</td>\n",
       "      <td>India</td>\n",
       "      <td>September 24, 2021</td>\n",
       "      <td>2021</td>\n",
       "      <td>TV-MA</td>\n",
       "      <td>2 Seasons</td>\n",
       "      <td>International TV Shows, Romantic TV Shows, TV ...</td>\n",
       "      <td>In a city of coaching centers known to train I...</td>\n",
       "    </tr>\n",
       "  </tbody>\n",
       "</table>\n",
       "</div>"
      ],
      "text/plain": [
       "  show_id     type                  title         director  \\\n",
       "0      s1    Movie   Dick Johnson Is Dead  Kirsten Johnson   \n",
       "1      s2  TV Show          Blood & Water              NaN   \n",
       "2      s3  TV Show              Ganglands  Julien Leclercq   \n",
       "3      s4  TV Show  Jailbirds New Orleans              NaN   \n",
       "4      s5  TV Show           Kota Factory              NaN   \n",
       "\n",
       "                                                cast        country  \\\n",
       "0                                                NaN  United States   \n",
       "1  Ama Qamata, Khosi Ngema, Gail Mabalane, Thaban...   South Africa   \n",
       "2  Sami Bouajila, Tracy Gotoas, Samuel Jouy, Nabi...            NaN   \n",
       "3                                                NaN            NaN   \n",
       "4  Mayur More, Jitendra Kumar, Ranjan Raj, Alam K...          India   \n",
       "\n",
       "           date_added  release_year rating   duration  \\\n",
       "0  September 25, 2021          2020  PG-13     90 min   \n",
       "1  September 24, 2021          2021  TV-MA  2 Seasons   \n",
       "2  September 24, 2021          2021  TV-MA   1 Season   \n",
       "3  September 24, 2021          2021  TV-MA   1 Season   \n",
       "4  September 24, 2021          2021  TV-MA  2 Seasons   \n",
       "\n",
       "                                           listed_in  \\\n",
       "0                                      Documentaries   \n",
       "1    International TV Shows, TV Dramas, TV Mysteries   \n",
       "2  Crime TV Shows, International TV Shows, TV Act...   \n",
       "3                             Docuseries, Reality TV   \n",
       "4  International TV Shows, Romantic TV Shows, TV ...   \n",
       "\n",
       "                                         description  \n",
       "0  As her father nears the end of his life, filmm...  \n",
       "1  After crossing paths at a party, a Cape Town t...  \n",
       "2  To protect his family from a powerful drug lor...  \n",
       "3  Feuds, flirtations and toilet talk go down amo...  \n",
       "4  In a city of coaching centers known to train I...  "
      ]
     },
     "execution_count": 301,
     "metadata": {},
     "output_type": "execute_result"
    }
   ],
   "source": [
    "df = pd.read_csv(\"netflix_titles.csv\")\n",
    "df.head()"
   ]
  },
  {
   "cell_type": "code",
   "execution_count": 302,
   "id": "4f22892b-2e29-48b2-9a9d-65d1734d52a4",
   "metadata": {},
   "outputs": [],
   "source": [
    "# Snake_casing"
   ]
  },
  {
   "cell_type": "code",
   "execution_count": 303,
   "id": "42a5fcb9-70df-466a-aa7b-c76264e86c0b",
   "metadata": {},
   "outputs": [],
   "source": [
    "df.columns = df.columns.str.lower().str.strip().str.replace(\" \", '_').str.replace(r'^\\w_', '', regex=True)"
   ]
  },
  {
   "cell_type": "code",
   "execution_count": 304,
   "id": "cb6cb9c9-0b2e-4a8a-8216-882500420d86",
   "metadata": {},
   "outputs": [
    {
     "data": {
      "text/plain": [
       "Index(['show_id', 'type', 'title', 'director', 'cast', 'country', 'date_added',\n",
       "       'release_year', 'rating', 'duration', 'listed_in', 'description'],\n",
       "      dtype='object')"
      ]
     },
     "execution_count": 304,
     "metadata": {},
     "output_type": "execute_result"
    }
   ],
   "source": [
    "df.columns"
   ]
  },
  {
   "cell_type": "code",
   "execution_count": 305,
   "id": "5a617c89-8987-44d0-aad5-b569ddb917b1",
   "metadata": {},
   "outputs": [],
   "source": [
    "# Dropping duplicates"
   ]
  },
  {
   "cell_type": "code",
   "execution_count": 306,
   "id": "fe6581ed-e48a-454d-8505-3de03eecf394",
   "metadata": {},
   "outputs": [
    {
     "data": {
      "text/plain": [
       "0"
      ]
     },
     "execution_count": 306,
     "metadata": {},
     "output_type": "execute_result"
    }
   ],
   "source": [
    "df.duplicated().sum()"
   ]
  },
  {
   "cell_type": "code",
   "execution_count": 307,
   "id": "3648991d-d966-443d-b049-b8edb4023c3e",
   "metadata": {},
   "outputs": [],
   "source": [
    "# date_added datatype conversion"
   ]
  },
  {
   "cell_type": "code",
   "execution_count": 308,
   "id": "56394dc2-a4f6-48c0-8bc3-17f8f8b071a9",
   "metadata": {},
   "outputs": [],
   "source": [
    "df['date_added'] = pd.to_datetime(df['date_added'].str.strip(), format = '%B %d, %Y')"
   ]
  },
  {
   "cell_type": "code",
   "execution_count": 309,
   "id": "4d9c59bb-7983-4138-b923-e9acdb31c562",
   "metadata": {},
   "outputs": [
    {
     "name": "stdout",
     "output_type": "stream",
     "text": [
      "datetime64[ns]\n"
     ]
    }
   ],
   "source": [
    "print(df['date_added'].dtype)"
   ]
  },
  {
   "cell_type": "markdown",
   "id": "216512be-6607-49ff-92f9-c7b7d3de8411",
   "metadata": {},
   "source": [
    "## Q2: Feature Extraction\n",
    "#### Create a new column release_year from date_added and extract the day of the week on which content was added.\n",
    "\n"
   ]
  },
  {
   "cell_type": "code",
   "execution_count": 311,
   "id": "76c395c5-1a1a-4247-b9e5-1daa77378c4f",
   "metadata": {},
   "outputs": [],
   "source": [
    "df['release_year'] = df['date_added'].dt.year.astype('Int64')"
   ]
  },
  {
   "cell_type": "code",
   "execution_count": 312,
   "id": "4fa26e5c-5402-41a5-8426-391937cf7160",
   "metadata": {},
   "outputs": [],
   "source": [
    "df['day_of_the_week'] = df['date_added'].dt.day_name()"
   ]
  },
  {
   "cell_type": "code",
   "execution_count": 313,
   "id": "1c09d7e8-0978-46d7-b264-0cf9761832d6",
   "metadata": {},
   "outputs": [
    {
     "data": {
      "text/html": [
       "<div>\n",
       "<style scoped>\n",
       "    .dataframe tbody tr th:only-of-type {\n",
       "        vertical-align: middle;\n",
       "    }\n",
       "\n",
       "    .dataframe tbody tr th {\n",
       "        vertical-align: top;\n",
       "    }\n",
       "\n",
       "    .dataframe thead th {\n",
       "        text-align: right;\n",
       "    }\n",
       "</style>\n",
       "<table border=\"1\" class=\"dataframe\">\n",
       "  <thead>\n",
       "    <tr style=\"text-align: right;\">\n",
       "      <th></th>\n",
       "      <th>show_id</th>\n",
       "      <th>type</th>\n",
       "      <th>title</th>\n",
       "      <th>director</th>\n",
       "      <th>cast</th>\n",
       "      <th>country</th>\n",
       "      <th>date_added</th>\n",
       "      <th>release_year</th>\n",
       "      <th>rating</th>\n",
       "      <th>duration</th>\n",
       "      <th>listed_in</th>\n",
       "      <th>description</th>\n",
       "      <th>day_of_the_week</th>\n",
       "    </tr>\n",
       "  </thead>\n",
       "  <tbody>\n",
       "    <tr>\n",
       "      <th>0</th>\n",
       "      <td>s1</td>\n",
       "      <td>Movie</td>\n",
       "      <td>Dick Johnson Is Dead</td>\n",
       "      <td>Kirsten Johnson</td>\n",
       "      <td>NaN</td>\n",
       "      <td>United States</td>\n",
       "      <td>2021-09-25</td>\n",
       "      <td>2021</td>\n",
       "      <td>PG-13</td>\n",
       "      <td>90 min</td>\n",
       "      <td>Documentaries</td>\n",
       "      <td>As her father nears the end of his life, filmm...</td>\n",
       "      <td>Saturday</td>\n",
       "    </tr>\n",
       "    <tr>\n",
       "      <th>1</th>\n",
       "      <td>s2</td>\n",
       "      <td>TV Show</td>\n",
       "      <td>Blood &amp; Water</td>\n",
       "      <td>NaN</td>\n",
       "      <td>Ama Qamata, Khosi Ngema, Gail Mabalane, Thaban...</td>\n",
       "      <td>South Africa</td>\n",
       "      <td>2021-09-24</td>\n",
       "      <td>2021</td>\n",
       "      <td>TV-MA</td>\n",
       "      <td>2 Seasons</td>\n",
       "      <td>International TV Shows, TV Dramas, TV Mysteries</td>\n",
       "      <td>After crossing paths at a party, a Cape Town t...</td>\n",
       "      <td>Friday</td>\n",
       "    </tr>\n",
       "    <tr>\n",
       "      <th>2</th>\n",
       "      <td>s3</td>\n",
       "      <td>TV Show</td>\n",
       "      <td>Ganglands</td>\n",
       "      <td>Julien Leclercq</td>\n",
       "      <td>Sami Bouajila, Tracy Gotoas, Samuel Jouy, Nabi...</td>\n",
       "      <td>NaN</td>\n",
       "      <td>2021-09-24</td>\n",
       "      <td>2021</td>\n",
       "      <td>TV-MA</td>\n",
       "      <td>1 Season</td>\n",
       "      <td>Crime TV Shows, International TV Shows, TV Act...</td>\n",
       "      <td>To protect his family from a powerful drug lor...</td>\n",
       "      <td>Friday</td>\n",
       "    </tr>\n",
       "    <tr>\n",
       "      <th>3</th>\n",
       "      <td>s4</td>\n",
       "      <td>TV Show</td>\n",
       "      <td>Jailbirds New Orleans</td>\n",
       "      <td>NaN</td>\n",
       "      <td>NaN</td>\n",
       "      <td>NaN</td>\n",
       "      <td>2021-09-24</td>\n",
       "      <td>2021</td>\n",
       "      <td>TV-MA</td>\n",
       "      <td>1 Season</td>\n",
       "      <td>Docuseries, Reality TV</td>\n",
       "      <td>Feuds, flirtations and toilet talk go down amo...</td>\n",
       "      <td>Friday</td>\n",
       "    </tr>\n",
       "    <tr>\n",
       "      <th>4</th>\n",
       "      <td>s5</td>\n",
       "      <td>TV Show</td>\n",
       "      <td>Kota Factory</td>\n",
       "      <td>NaN</td>\n",
       "      <td>Mayur More, Jitendra Kumar, Ranjan Raj, Alam K...</td>\n",
       "      <td>India</td>\n",
       "      <td>2021-09-24</td>\n",
       "      <td>2021</td>\n",
       "      <td>TV-MA</td>\n",
       "      <td>2 Seasons</td>\n",
       "      <td>International TV Shows, Romantic TV Shows, TV ...</td>\n",
       "      <td>In a city of coaching centers known to train I...</td>\n",
       "      <td>Friday</td>\n",
       "    </tr>\n",
       "  </tbody>\n",
       "</table>\n",
       "</div>"
      ],
      "text/plain": [
       "  show_id     type                  title         director  \\\n",
       "0      s1    Movie   Dick Johnson Is Dead  Kirsten Johnson   \n",
       "1      s2  TV Show          Blood & Water              NaN   \n",
       "2      s3  TV Show              Ganglands  Julien Leclercq   \n",
       "3      s4  TV Show  Jailbirds New Orleans              NaN   \n",
       "4      s5  TV Show           Kota Factory              NaN   \n",
       "\n",
       "                                                cast        country  \\\n",
       "0                                                NaN  United States   \n",
       "1  Ama Qamata, Khosi Ngema, Gail Mabalane, Thaban...   South Africa   \n",
       "2  Sami Bouajila, Tracy Gotoas, Samuel Jouy, Nabi...            NaN   \n",
       "3                                                NaN            NaN   \n",
       "4  Mayur More, Jitendra Kumar, Ranjan Raj, Alam K...          India   \n",
       "\n",
       "  date_added  release_year rating   duration  \\\n",
       "0 2021-09-25          2021  PG-13     90 min   \n",
       "1 2021-09-24          2021  TV-MA  2 Seasons   \n",
       "2 2021-09-24          2021  TV-MA   1 Season   \n",
       "3 2021-09-24          2021  TV-MA   1 Season   \n",
       "4 2021-09-24          2021  TV-MA  2 Seasons   \n",
       "\n",
       "                                           listed_in  \\\n",
       "0                                      Documentaries   \n",
       "1    International TV Shows, TV Dramas, TV Mysteries   \n",
       "2  Crime TV Shows, International TV Shows, TV Act...   \n",
       "3                             Docuseries, Reality TV   \n",
       "4  International TV Shows, Romantic TV Shows, TV ...   \n",
       "\n",
       "                                         description day_of_the_week  \n",
       "0  As her father nears the end of his life, filmm...        Saturday  \n",
       "1  After crossing paths at a party, a Cape Town t...          Friday  \n",
       "2  To protect his family from a powerful drug lor...          Friday  \n",
       "3  Feuds, flirtations and toilet talk go down amo...          Friday  \n",
       "4  In a city of coaching centers known to train I...          Friday  "
      ]
     },
     "execution_count": 313,
     "metadata": {},
     "output_type": "execute_result"
    }
   ],
   "source": [
    "df.head()"
   ]
  },
  {
   "cell_type": "markdown",
   "id": "8c8ce4b3-93e5-46ea-94d3-7c3d78fa1cdb",
   "metadata": {},
   "source": [
    "## Q3: Grouping and Aggregation\n",
    "##### Count how many movies were released per year and plot the top 5 years."
   ]
  },
  {
   "cell_type": "code",
   "execution_count": 315,
   "id": "f9297500-e893-448e-b111-8e52e1c40172",
   "metadata": {},
   "outputs": [
    {
     "data": {
      "text/html": [
       "<div>\n",
       "<style scoped>\n",
       "    .dataframe tbody tr th:only-of-type {\n",
       "        vertical-align: middle;\n",
       "    }\n",
       "\n",
       "    .dataframe tbody tr th {\n",
       "        vertical-align: top;\n",
       "    }\n",
       "\n",
       "    .dataframe thead th {\n",
       "        text-align: right;\n",
       "    }\n",
       "</style>\n",
       "<table border=\"1\" class=\"dataframe\">\n",
       "  <thead>\n",
       "    <tr style=\"text-align: right;\">\n",
       "      <th></th>\n",
       "      <th>release_year</th>\n",
       "      <th>movie_count</th>\n",
       "    </tr>\n",
       "  </thead>\n",
       "  <tbody>\n",
       "    <tr>\n",
       "      <th>11</th>\n",
       "      <td>2019</td>\n",
       "      <td>1424</td>\n",
       "    </tr>\n",
       "    <tr>\n",
       "      <th>12</th>\n",
       "      <td>2020</td>\n",
       "      <td>1284</td>\n",
       "    </tr>\n",
       "    <tr>\n",
       "      <th>10</th>\n",
       "      <td>2018</td>\n",
       "      <td>1237</td>\n",
       "    </tr>\n",
       "    <tr>\n",
       "      <th>13</th>\n",
       "      <td>2021</td>\n",
       "      <td>993</td>\n",
       "    </tr>\n",
       "    <tr>\n",
       "      <th>9</th>\n",
       "      <td>2017</td>\n",
       "      <td>839</td>\n",
       "    </tr>\n",
       "  </tbody>\n",
       "</table>\n",
       "</div>"
      ],
      "text/plain": [
       "    release_year  movie_count\n",
       "11          2019         1424\n",
       "12          2020         1284\n",
       "10          2018         1237\n",
       "13          2021          993\n",
       "9           2017          839"
      ]
     },
     "execution_count": 315,
     "metadata": {},
     "output_type": "execute_result"
    }
   ],
   "source": [
    "df_movie = df[df['type'] == 'Movie']\n",
    "movies_per_year = df_movie.groupby('release_year').size().reset_index(name = 'movie_count').sort_values(by = 'movie_count', ascending = False).head(5)\n",
    "movies_per_year "
   ]
  },
  {
   "cell_type": "code",
   "execution_count": 316,
   "id": "831be402-ba6e-42e0-8064-a7eb713f3a20",
   "metadata": {},
   "outputs": [],
   "source": [
    "import matplotlib.pyplot as plt\n",
    "import seaborn as sns"
   ]
  },
  {
   "cell_type": "code",
   "execution_count": 317,
   "id": "5e8f5ebb-cfd0-44ea-9432-7b19de4b000b",
   "metadata": {},
   "outputs": [
    {
     "data": {
      "image/png": "[encoded data removed]",
      "text/plain": [
       "<Figure size 800x400 with 1 Axes>"
      ]
     },
     "metadata": {},
     "output_type": "display_data"
    }
   ],
   "source": [
    "plt.figure(figsize = (8,4))\n",
    "sns.barplot(data = movies_per_year, x = 'release_year', y = 'movie_count', color = 'brown')\n",
    "plt.title(\"Top 5 years for movie release\", fontsize = 14)\n",
    "plt.xlabel(\"Year\")\n",
    "plt.ylabel(\"Movie Count\")\n",
    "plt.show()"
   ]
  },
  {
   "cell_type": "markdown",
   "id": "04b11a9c-de36-421e-a9e7-1eb8275382d2",
   "metadata": {},
   "source": [
    "## Q4: Conditional Logic & Filtering\n",
    "##### Filter all TV shows that were added in 2019 and have a rating of either \"TV-MA\" or \"TV-14\"."
   ]
  },
  {
   "cell_type": "code",
   "execution_count": 319,
   "id": "eb801e37-f4b1-46d7-b724-5907128da63a",
   "metadata": {},
   "outputs": [
    {
     "data": {
      "text/html": [
       "<div>\n",
       "<style scoped>\n",
       "    .dataframe tbody tr th:only-of-type {\n",
       "        vertical-align: middle;\n",
       "    }\n",
       "\n",
       "    .dataframe tbody tr th {\n",
       "        vertical-align: top;\n",
       "    }\n",
       "\n",
       "    .dataframe thead th {\n",
       "        text-align: right;\n",
       "    }\n",
       "</style>\n",
       "<table border=\"1\" class=\"dataframe\">\n",
       "  <thead>\n",
       "    <tr style=\"text-align: right;\">\n",
       "      <th></th>\n",
       "      <th>show_id</th>\n",
       "      <th>type</th>\n",
       "      <th>title</th>\n",
       "      <th>director</th>\n",
       "      <th>cast</th>\n",
       "      <th>country</th>\n",
       "      <th>date_added</th>\n",
       "      <th>release_year</th>\n",
       "      <th>rating</th>\n",
       "      <th>duration</th>\n",
       "      <th>listed_in</th>\n",
       "      <th>description</th>\n",
       "      <th>day_of_the_week</th>\n",
       "    </tr>\n",
       "  </thead>\n",
       "  <tbody>\n",
       "    <tr>\n",
       "      <th>3082</th>\n",
       "      <td>s3083</td>\n",
       "      <td>TV Show</td>\n",
       "      <td>Occupied</td>\n",
       "      <td>NaN</td>\n",
       "      <td>Henrik Mestad, Ane Dahl Torp, Ingeborga Dapkun...</td>\n",
       "      <td>Norway, Sweden</td>\n",
       "      <td>2019-12-31</td>\n",
       "      <td>2019</td>\n",
       "      <td>TV-MA</td>\n",
       "      <td>3 Seasons</td>\n",
       "      <td>International TV Shows, TV Dramas, TV Thrillers</td>\n",
       "      <td>In the near future, Russia initiates a \"silk g...</td>\n",
       "      <td>Tuesday</td>\n",
       "    </tr>\n",
       "    <tr>\n",
       "      <th>3086</th>\n",
       "      <td>s3087</td>\n",
       "      <td>TV Show</td>\n",
       "      <td>The Degenerates</td>\n",
       "      <td>NaN</td>\n",
       "      <td>Big Jay Oakerson, Brad Williams, Yamaneika Sau...</td>\n",
       "      <td>NaN</td>\n",
       "      <td>2019-12-31</td>\n",
       "      <td>2019</td>\n",
       "      <td>TV-MA</td>\n",
       "      <td>2 Seasons</td>\n",
       "      <td>Stand-Up Comedy &amp; Talk Shows, TV Comedies</td>\n",
       "      <td>Six stand-ups explore the coarse and salacious...</td>\n",
       "      <td>Tuesday</td>\n",
       "    </tr>\n",
       "    <tr>\n",
       "      <th>3087</th>\n",
       "      <td>s3088</td>\n",
       "      <td>TV Show</td>\n",
       "      <td>Yanxi Palace: Princess Adventures</td>\n",
       "      <td>NaN</td>\n",
       "      <td>Wang Herun, Wang Yizhe, Wang Yuwei, Xu Xiaonuo...</td>\n",
       "      <td>China</td>\n",
       "      <td>2019-12-31</td>\n",
       "      <td>2019</td>\n",
       "      <td>TV-14</td>\n",
       "      <td>1 Season</td>\n",
       "      <td>International TV Shows, TV Dramas</td>\n",
       "      <td>A determined Qing dynasty princess contends wi...</td>\n",
       "      <td>Tuesday</td>\n",
       "    </tr>\n",
       "    <tr>\n",
       "      <th>3088</th>\n",
       "      <td>s3089</td>\n",
       "      <td>TV Show</td>\n",
       "      <td>The Disastrous Life of Saiki K.: Reawakened</td>\n",
       "      <td>NaN</td>\n",
       "      <td>Hiroshi Kamiya, Daisuke Ono, Nobunaga Shimazak...</td>\n",
       "      <td>Japan</td>\n",
       "      <td>2019-12-30</td>\n",
       "      <td>2019</td>\n",
       "      <td>TV-14</td>\n",
       "      <td>1 Season</td>\n",
       "      <td>Anime Series, International TV Shows</td>\n",
       "      <td>Kusuo and his gaggle of self-proclaimed friend...</td>\n",
       "      <td>Monday</td>\n",
       "    </tr>\n",
       "    <tr>\n",
       "      <th>3092</th>\n",
       "      <td>s3093</td>\n",
       "      <td>TV Show</td>\n",
       "      <td>Kevin Hart: Don’t F**k This Up</td>\n",
       "      <td>NaN</td>\n",
       "      <td>NaN</td>\n",
       "      <td>United States</td>\n",
       "      <td>2019-12-27</td>\n",
       "      <td>2019</td>\n",
       "      <td>TV-MA</td>\n",
       "      <td>1 Season</td>\n",
       "      <td>Docuseries</td>\n",
       "      <td>Amid turmoil in his career and marriage, comed...</td>\n",
       "      <td>Friday</td>\n",
       "    </tr>\n",
       "    <tr>\n",
       "      <th>...</th>\n",
       "      <td>...</td>\n",
       "      <td>...</td>\n",
       "      <td>...</td>\n",
       "      <td>...</td>\n",
       "      <td>...</td>\n",
       "      <td>...</td>\n",
       "      <td>...</td>\n",
       "      <td>...</td>\n",
       "      <td>...</td>\n",
       "      <td>...</td>\n",
       "      <td>...</td>\n",
       "      <td>...</td>\n",
       "      <td>...</td>\n",
       "    </tr>\n",
       "    <tr>\n",
       "      <th>8519</th>\n",
       "      <td>s8520</td>\n",
       "      <td>TV Show</td>\n",
       "      <td>The Story of Us with Morgan Freeman</td>\n",
       "      <td>NaN</td>\n",
       "      <td>Morgan Freeman</td>\n",
       "      <td>United States</td>\n",
       "      <td>2019-02-01</td>\n",
       "      <td>2019</td>\n",
       "      <td>TV-14</td>\n",
       "      <td>1 Season</td>\n",
       "      <td>Docuseries</td>\n",
       "      <td>Explore the forces of love, belief, power, war...</td>\n",
       "      <td>Friday</td>\n",
       "    </tr>\n",
       "    <tr>\n",
       "      <th>8545</th>\n",
       "      <td>s8546</td>\n",
       "      <td>TV Show</td>\n",
       "      <td>The Universe</td>\n",
       "      <td>NaN</td>\n",
       "      <td>Erik Thompson</td>\n",
       "      <td>United States</td>\n",
       "      <td>2019-09-15</td>\n",
       "      <td>2019</td>\n",
       "      <td>TV-14</td>\n",
       "      <td>1 Season</td>\n",
       "      <td>Docuseries, Science &amp; Nature TV</td>\n",
       "      <td>Discover the secrets of the universe in this s...</td>\n",
       "      <td>Sunday</td>\n",
       "    </tr>\n",
       "    <tr>\n",
       "      <th>8574</th>\n",
       "      <td>s8575</td>\n",
       "      <td>TV Show</td>\n",
       "      <td>ThirTEEN Terrors</td>\n",
       "      <td>NaN</td>\n",
       "      <td>Thanapatpisal Sananthachat, Panisara Montharat...</td>\n",
       "      <td>Thailand</td>\n",
       "      <td>2019-03-01</td>\n",
       "      <td>2019</td>\n",
       "      <td>TV-14</td>\n",
       "      <td>1 Season</td>\n",
       "      <td>International TV Shows, TV Horror, TV Mysteries</td>\n",
       "      <td>A group of teens searches for the dark truth b...</td>\n",
       "      <td>Friday</td>\n",
       "    </tr>\n",
       "    <tr>\n",
       "      <th>8604</th>\n",
       "      <td>s8605</td>\n",
       "      <td>TV Show</td>\n",
       "      <td>Top 10 Secrets and Mysteries</td>\n",
       "      <td>NaN</td>\n",
       "      <td>NaN</td>\n",
       "      <td>United Kingdom, United States, Czech Republic</td>\n",
       "      <td>2019-03-15</td>\n",
       "      <td>2019</td>\n",
       "      <td>TV-14</td>\n",
       "      <td>1 Season</td>\n",
       "      <td>British TV Shows, Docuseries, Science &amp; Nature TV</td>\n",
       "      <td>This series investigates mysteries that persis...</td>\n",
       "      <td>Friday</td>\n",
       "    </tr>\n",
       "    <tr>\n",
       "      <th>8653</th>\n",
       "      <td>s8654</td>\n",
       "      <td>TV Show</td>\n",
       "      <td>Ugly Duckling</td>\n",
       "      <td>NaN</td>\n",
       "      <td>Mook Worranit Thawornwong, Puttichai Kasetsin,...</td>\n",
       "      <td>Thailand</td>\n",
       "      <td>2019-02-15</td>\n",
       "      <td>2019</td>\n",
       "      <td>TV-14</td>\n",
       "      <td>4 Seasons</td>\n",
       "      <td>International TV Shows, Romantic TV Shows, TV ...</td>\n",
       "      <td>Young women face up to their insecurities and ...</td>\n",
       "      <td>Friday</td>\n",
       "    </tr>\n",
       "  </tbody>\n",
       "</table>\n",
       "<p>437 rows × 13 columns</p>\n",
       "</div>"
      ],
      "text/plain": [
       "     show_id     type                                        title director  \\\n",
       "3082   s3083  TV Show                                     Occupied      NaN   \n",
       "3086   s3087  TV Show                              The Degenerates      NaN   \n",
       "3087   s3088  TV Show            Yanxi Palace: Princess Adventures      NaN   \n",
       "3088   s3089  TV Show  The Disastrous Life of Saiki K.: Reawakened      NaN   \n",
       "3092   s3093  TV Show               Kevin Hart: Don’t F**k This Up      NaN   \n",
       "...      ...      ...                                          ...      ...   \n",
       "8519   s8520  TV Show          The Story of Us with Morgan Freeman      NaN   \n",
       "8545   s8546  TV Show                                 The Universe      NaN   \n",
       "8574   s8575  TV Show                             ThirTEEN Terrors      NaN   \n",
       "8604   s8605  TV Show                 Top 10 Secrets and Mysteries      NaN   \n",
       "8653   s8654  TV Show                                Ugly Duckling      NaN   \n",
       "\n",
       "                                                   cast  \\\n",
       "3082  Henrik Mestad, Ane Dahl Torp, Ingeborga Dapkun...   \n",
       "3086  Big Jay Oakerson, Brad Williams, Yamaneika Sau...   \n",
       "3087  Wang Herun, Wang Yizhe, Wang Yuwei, Xu Xiaonuo...   \n",
       "3088  Hiroshi Kamiya, Daisuke Ono, Nobunaga Shimazak...   \n",
       "3092                                                NaN   \n",
       "...                                                 ...   \n",
       "8519                                     Morgan Freeman   \n",
       "8545                                      Erik Thompson   \n",
       "8574  Thanapatpisal Sananthachat, Panisara Montharat...   \n",
       "8604                                                NaN   \n",
       "8653  Mook Worranit Thawornwong, Puttichai Kasetsin,...   \n",
       "\n",
       "                                            country date_added  release_year  \\\n",
       "3082                                 Norway, Sweden 2019-12-31          2019   \n",
       "3086                                            NaN 2019-12-31          2019   \n",
       "3087                                          China 2019-12-31          2019   \n",
       "3088                                          Japan 2019-12-30          2019   \n",
       "3092                                  United States 2019-12-27          2019   \n",
       "...                                             ...        ...           ...   \n",
       "8519                                  United States 2019-02-01          2019   \n",
       "8545                                  United States 2019-09-15          2019   \n",
       "8574                                       Thailand 2019-03-01          2019   \n",
       "8604  United Kingdom, United States, Czech Republic 2019-03-15          2019   \n",
       "8653                                       Thailand 2019-02-15          2019   \n",
       "\n",
       "     rating   duration                                          listed_in  \\\n",
       "3082  TV-MA  3 Seasons    International TV Shows, TV Dramas, TV Thrillers   \n",
       "3086  TV-MA  2 Seasons          Stand-Up Comedy & Talk Shows, TV Comedies   \n",
       "3087  TV-14   1 Season                  International TV Shows, TV Dramas   \n",
       "3088  TV-14   1 Season               Anime Series, International TV Shows   \n",
       "3092  TV-MA   1 Season                                         Docuseries   \n",
       "...     ...        ...                                                ...   \n",
       "8519  TV-14   1 Season                                         Docuseries   \n",
       "8545  TV-14   1 Season                    Docuseries, Science & Nature TV   \n",
       "8574  TV-14   1 Season    International TV Shows, TV Horror, TV Mysteries   \n",
       "8604  TV-14   1 Season  British TV Shows, Docuseries, Science & Nature TV   \n",
       "8653  TV-14  4 Seasons  International TV Shows, Romantic TV Shows, TV ...   \n",
       "\n",
       "                                            description day_of_the_week  \n",
       "3082  In the near future, Russia initiates a \"silk g...         Tuesday  \n",
       "3086  Six stand-ups explore the coarse and salacious...         Tuesday  \n",
       "3087  A determined Qing dynasty princess contends wi...         Tuesday  \n",
       "3088  Kusuo and his gaggle of self-proclaimed friend...          Monday  \n",
       "3092  Amid turmoil in his career and marriage, comed...          Friday  \n",
       "...                                                 ...             ...  \n",
       "8519  Explore the forces of love, belief, power, war...          Friday  \n",
       "8545  Discover the secrets of the universe in this s...          Sunday  \n",
       "8574  A group of teens searches for the dark truth b...          Friday  \n",
       "8604  This series investigates mysteries that persis...          Friday  \n",
       "8653  Young women face up to their insecurities and ...          Friday  \n",
       "\n",
       "[437 rows x 13 columns]"
      ]
     },
     "execution_count": 319,
     "metadata": {},
     "output_type": "execute_result"
    }
   ],
   "source": [
    "result_df = df[\n",
    "(df['type'] == 'TV Show') &\n",
    "(df['release_year'] == 2019) & \n",
    "((df['rating'] == 'TV-MA') | (df['rating'] == 'TV-14'))\n",
    "]\n",
    "\n",
    "\n",
    "result_df"
   ]
  },
  {
   "cell_type": "markdown",
   "id": "62115c0b-9015-4a6a-8e2f-fec2354fa71f",
   "metadata": {},
   "source": [
    "## Q5: Custom Function Application\n",
    "##### Write a custom function to count how many actors are listed in the cast column (for non-null rows) and apply it to create a new column cast_count."
   ]
  },
  {
   "cell_type": "code",
   "execution_count": 321,
   "id": "031add43-dcd1-4fdd-acab-e5838b028a43",
   "metadata": {},
   "outputs": [],
   "source": [
    "def cast_count_func(col):\n",
    "    if pd.isna(col):\n",
    "        return 0\n",
    "    else:\n",
    "        return len([i.strip() for i in col.split(\",\") if i.strip() != ''])"
   ]
  },
  {
   "cell_type": "code",
   "execution_count": 322,
   "id": "44013db7-962e-4370-8ab5-164bdf04bd25",
   "metadata": {},
   "outputs": [],
   "source": [
    "df['cast_count'] = df['cast'].apply(cast_count_func)"
   ]
  },
  {
   "cell_type": "code",
   "execution_count": 323,
   "id": "4b1ed170-2d7c-40d3-ba20-a3c8ad46eecf",
   "metadata": {},
   "outputs": [
    {
     "name": "stdout",
     "output_type": "stream",
     "text": [
      "                                                   cast  cast_count\n",
      "0                                                   NaN           0\n",
      "1     Ama Qamata, Khosi Ngema, Gail Mabalane, Thaban...          19\n",
      "2     Sami Bouajila, Tracy Gotoas, Samuel Jouy, Nabi...           9\n",
      "3                                                   NaN           0\n",
      "4     Mayur More, Jitendra Kumar, Ranjan Raj, Alam K...           8\n",
      "...                                                 ...         ...\n",
      "8802  Mark Ruffalo, Jake Gyllenhaal, Robert Downey J...          10\n",
      "8803                                                NaN           0\n",
      "8804  Jesse Eisenberg, Woody Harrelson, Emma Stone, ...           7\n",
      "8805  Tim Allen, Courteney Cox, Chevy Chase, Kate Ma...           9\n",
      "8806  Vicky Kaushal, Sarah-Jane Dias, Raaghav Chanan...           8\n",
      "\n",
      "[8807 rows x 2 columns]\n"
     ]
    }
   ],
   "source": [
    "print(df[['cast', 'cast_count']])"
   ]
  },
  {
   "cell_type": "code",
   "execution_count": null,
   "id": "cc93b719-e7dc-4cff-a75a-fd57f020998d",
   "metadata": {},
   "outputs": [],
   "source": []
  }
 ],
 "metadata": {
  "kernelspec": {
   "display_name": "Python 3 (ipykernel)",
   "language": "python",
   "name": "python3"
  },
  "language_info": {
   "codemirror_mode": {
    "name": "ipython",
    "version": 3
   },
   "file_extension": ".py",
   "mimetype": "text/x-python",
   "name": "python",
   "nbconvert_exporter": "python",
   "pygments_lexer": "ipython3",
   "version": "3.12.7"
  }
 },
 "nbformat": 4,
 "nbformat_minor": 5
}
