{
 "cells": [
  {
   "cell_type": "code",
   "execution_count": 175,
   "id": "741a70fd-3749-40d2-ab67-7bf0b4f3aa00",
   "metadata": {},
   "outputs": [],
   "source": [
    "import pandas as pd\n",
    "import matplotlib.pyplot as plt\n",
    "import seaborn as sns"
   ]
  },
  {
   "cell_type": "code",
   "execution_count": 176,
   "id": "2dc545cd-b83a-4117-80e0-3a16a5ef0da6",
   "metadata": {},
   "outputs": [
    {
     "data": {
      "text/html": [
       "<div>\n",
       "<style scoped>\n",
       "    .dataframe tbody tr th:only-of-type {\n",
       "        vertical-align: middle;\n",
       "    }\n",
       "\n",
       "    .dataframe tbody tr th {\n",
       "        vertical-align: top;\n",
       "    }\n",
       "\n",
       "    .dataframe thead th {\n",
       "        text-align: right;\n",
       "    }\n",
       "</style>\n",
       "<table border=\"1\" class=\"dataframe\">\n",
       "  <thead>\n",
       "    <tr style=\"text-align: right;\">\n",
       "      <th></th>\n",
       "      <th>Invoice</th>\n",
       "      <th>StockCode</th>\n",
       "      <th>Description</th>\n",
       "      <th>Quantity</th>\n",
       "      <th>InvoiceDate</th>\n",
       "      <th>Price</th>\n",
       "      <th>Customer ID</th>\n",
       "      <th>Country</th>\n",
       "    </tr>\n",
       "  </thead>\n",
       "  <tbody>\n",
       "    <tr>\n",
       "      <th>0</th>\n",
       "      <td>489434</td>\n",
       "      <td>85048</td>\n",
       "      <td>15CM CHRISTMAS GLASS BALL 20 LIGHTS</td>\n",
       "      <td>12</td>\n",
       "      <td>2009-12-01 07:45:00</td>\n",
       "      <td>6.95</td>\n",
       "      <td>13085.0</td>\n",
       "      <td>United Kingdom</td>\n",
       "    </tr>\n",
       "    <tr>\n",
       "      <th>1</th>\n",
       "      <td>489434</td>\n",
       "      <td>79323P</td>\n",
       "      <td>PINK CHERRY LIGHTS</td>\n",
       "      <td>12</td>\n",
       "      <td>2009-12-01 07:45:00</td>\n",
       "      <td>6.75</td>\n",
       "      <td>13085.0</td>\n",
       "      <td>United Kingdom</td>\n",
       "    </tr>\n",
       "    <tr>\n",
       "      <th>2</th>\n",
       "      <td>489434</td>\n",
       "      <td>79323W</td>\n",
       "      <td>WHITE CHERRY LIGHTS</td>\n",
       "      <td>12</td>\n",
       "      <td>2009-12-01 07:45:00</td>\n",
       "      <td>6.75</td>\n",
       "      <td>13085.0</td>\n",
       "      <td>United Kingdom</td>\n",
       "    </tr>\n",
       "    <tr>\n",
       "      <th>3</th>\n",
       "      <td>489434</td>\n",
       "      <td>22041</td>\n",
       "      <td>RECORD FRAME 7\" SINGLE SIZE</td>\n",
       "      <td>48</td>\n",
       "      <td>2009-12-01 07:45:00</td>\n",
       "      <td>2.10</td>\n",
       "      <td>13085.0</td>\n",
       "      <td>United Kingdom</td>\n",
       "    </tr>\n",
       "    <tr>\n",
       "      <th>4</th>\n",
       "      <td>489434</td>\n",
       "      <td>21232</td>\n",
       "      <td>STRAWBERRY CERAMIC TRINKET BOX</td>\n",
       "      <td>24</td>\n",
       "      <td>2009-12-01 07:45:00</td>\n",
       "      <td>1.25</td>\n",
       "      <td>13085.0</td>\n",
       "      <td>United Kingdom</td>\n",
       "    </tr>\n",
       "  </tbody>\n",
       "</table>\n",
       "</div>"
      ],
      "text/plain": [
       "  Invoice StockCode                          Description  Quantity  \\\n",
       "0  489434     85048  15CM CHRISTMAS GLASS BALL 20 LIGHTS        12   \n",
       "1  489434    79323P                   PINK CHERRY LIGHTS        12   \n",
       "2  489434    79323W                  WHITE CHERRY LIGHTS        12   \n",
       "3  489434     22041         RECORD FRAME 7\" SINGLE SIZE         48   \n",
       "4  489434     21232       STRAWBERRY CERAMIC TRINKET BOX        24   \n",
       "\n",
       "          InvoiceDate  Price  Customer ID         Country  \n",
       "0 2009-12-01 07:45:00   6.95      13085.0  United Kingdom  \n",
       "1 2009-12-01 07:45:00   6.75      13085.0  United Kingdom  \n",
       "2 2009-12-01 07:45:00   6.75      13085.0  United Kingdom  \n",
       "3 2009-12-01 07:45:00   2.10      13085.0  United Kingdom  \n",
       "4 2009-12-01 07:45:00   1.25      13085.0  United Kingdom  "
      ]
     },
     "execution_count": 176,
     "metadata": {},
     "output_type": "execute_result"
    }
   ],
   "source": [
    "df = pd.read_excel(\"online_retail_II.xlsx\")\n",
    "df.head()"
   ]
  },
  {
   "cell_type": "code",
   "execution_count": 177,
   "id": "1d136d7f-5dd8-473f-a9cd-7cfef6b9cb45",
   "metadata": {},
   "outputs": [
    {
     "data": {
      "text/plain": [
       "Invoice                object\n",
       "StockCode              object\n",
       "Description            object\n",
       "Quantity                int64\n",
       "InvoiceDate    datetime64[ns]\n",
       "Price                 float64\n",
       "Customer ID           float64\n",
       "Country                object\n",
       "dtype: object"
      ]
     },
     "execution_count": 177,
     "metadata": {},
     "output_type": "execute_result"
    }
   ],
   "source": [
    "df.dtypes"
   ]
  },
  {
   "cell_type": "code",
   "execution_count": 178,
   "id": "0f63bd8c-944b-4ed9-ac04-d5b292557eff",
   "metadata": {},
   "outputs": [],
   "source": [
    "df['Customer ID'] = df['Customer ID'].astype('Int64')"
   ]
  },
  {
   "cell_type": "code",
   "execution_count": 179,
   "id": "908c3503-2f9e-46b7-97fc-0eb6d3e38fe7",
   "metadata": {},
   "outputs": [
    {
     "data": {
      "text/plain": [
       "6865"
      ]
     },
     "execution_count": 179,
     "metadata": {},
     "output_type": "execute_result"
    }
   ],
   "source": [
    "df.duplicated().sum()"
   ]
  },
  {
   "cell_type": "code",
   "execution_count": 180,
   "id": "c69b3e4e-046b-4d6d-bae3-9ca5b7ea8a7b",
   "metadata": {},
   "outputs": [],
   "source": [
    "df = df.drop_duplicates()"
   ]
  },
  {
   "cell_type": "markdown",
   "id": "be54c722-7235-4d31-97b0-ad58f3e1094a",
   "metadata": {},
   "source": [
    "### Q1: What is the average quantity of products sold per transaction?"
   ]
  },
  {
   "cell_type": "code",
   "execution_count": 182,
   "id": "1a9d6302-c011-4116-8ab2-815ff75ee1a8",
   "metadata": {},
   "outputs": [
    {
     "data": {
      "text/html": [
       "<div>\n",
       "<style scoped>\n",
       "    .dataframe tbody tr th:only-of-type {\n",
       "        vertical-align: middle;\n",
       "    }\n",
       "\n",
       "    .dataframe tbody tr th {\n",
       "        vertical-align: top;\n",
       "    }\n",
       "\n",
       "    .dataframe thead th {\n",
       "        text-align: right;\n",
       "    }\n",
       "</style>\n",
       "<table border=\"1\" class=\"dataframe\">\n",
       "  <thead>\n",
       "    <tr style=\"text-align: right;\">\n",
       "      <th></th>\n",
       "      <th>Invoice</th>\n",
       "      <th>Avg_quantity</th>\n",
       "    </tr>\n",
       "  </thead>\n",
       "  <tbody>\n",
       "    <tr>\n",
       "      <th>6395</th>\n",
       "      <td>502269</td>\n",
       "      <td>10000.0</td>\n",
       "    </tr>\n",
       "    <tr>\n",
       "      <th>14338</th>\n",
       "      <td>518241</td>\n",
       "      <td>9600.0</td>\n",
       "    </tr>\n",
       "    <tr>\n",
       "      <th>4342</th>\n",
       "      <td>498152</td>\n",
       "      <td>9456.0</td>\n",
       "    </tr>\n",
       "    <tr>\n",
       "      <th>20565</th>\n",
       "      <td>530715</td>\n",
       "      <td>7848.0</td>\n",
       "    </tr>\n",
       "    <tr>\n",
       "      <th>6021</th>\n",
       "      <td>501534</td>\n",
       "      <td>6397.4</td>\n",
       "    </tr>\n",
       "    <tr>\n",
       "      <th>...</th>\n",
       "      <td>...</td>\n",
       "      <td>...</td>\n",
       "    </tr>\n",
       "    <tr>\n",
       "      <th>9241</th>\n",
       "      <td>507913</td>\n",
       "      <td>-9000.0</td>\n",
       "    </tr>\n",
       "    <tr>\n",
       "      <th>20354</th>\n",
       "      <td>530348</td>\n",
       "      <td>-9000.0</td>\n",
       "    </tr>\n",
       "    <tr>\n",
       "      <th>7401</th>\n",
       "      <td>504311</td>\n",
       "      <td>-9200.0</td>\n",
       "    </tr>\n",
       "    <tr>\n",
       "      <th>28692</th>\n",
       "      <td>C536757</td>\n",
       "      <td>-9360.0</td>\n",
       "    </tr>\n",
       "    <tr>\n",
       "      <th>14734</th>\n",
       "      <td>519017</td>\n",
       "      <td>-9600.0</td>\n",
       "    </tr>\n",
       "  </tbody>\n",
       "</table>\n",
       "<p>28816 rows × 2 columns</p>\n",
       "</div>"
      ],
      "text/plain": [
       "       Invoice  Avg_quantity\n",
       "6395    502269       10000.0\n",
       "14338   518241        9600.0\n",
       "4342    498152        9456.0\n",
       "20565   530715        7848.0\n",
       "6021    501534        6397.4\n",
       "...        ...           ...\n",
       "9241    507913       -9000.0\n",
       "20354   530348       -9000.0\n",
       "7401    504311       -9200.0\n",
       "28692  C536757       -9360.0\n",
       "14734   519017       -9600.0\n",
       "\n",
       "[28816 rows x 2 columns]"
      ]
     },
     "execution_count": 182,
     "metadata": {},
     "output_type": "execute_result"
    }
   ],
   "source": [
    "avg_qty_transac = df.groupby('Invoice')['Quantity'].mean().reset_index(name = 'Avg_quantity').sort_values(by = 'Avg_quantity', ascending = False)\n",
    "avg_qty_transac"
   ]
  },
  {
   "cell_type": "markdown",
   "id": "f0acf03e-015c-477b-9f75-866b3b907271",
   "metadata": {},
   "source": [
    "### Q2: Find the median unit price of all products."
   ]
  },
  {
   "cell_type": "code",
   "execution_count": 184,
   "id": "4373dc74-7644-4497-bc14-c1534893a45b",
   "metadata": {},
   "outputs": [
    {
     "name": "stdout",
     "output_type": "stream",
     "text": [
      "2.1\n"
     ]
    }
   ],
   "source": [
    "median_price = df['Price'].median()\n",
    "print(median_price)"
   ]
  },
  {
   "cell_type": "markdown",
   "id": "669364b3-2623-424a-991e-e40bbaee9237",
   "metadata": {},
   "source": [
    "### Q3: Which country has the highest average invoice amount?"
   ]
  },
  {
   "cell_type": "code",
   "execution_count": 186,
   "id": "65dc6579-3d67-49f1-9369-d7df79736568",
   "metadata": {},
   "outputs": [
    {
     "data": {
      "text/html": [
       "<div>\n",
       "<style scoped>\n",
       "    .dataframe tbody tr th:only-of-type {\n",
       "        vertical-align: middle;\n",
       "    }\n",
       "\n",
       "    .dataframe tbody tr th {\n",
       "        vertical-align: top;\n",
       "    }\n",
       "\n",
       "    .dataframe thead th {\n",
       "        text-align: right;\n",
       "    }\n",
       "</style>\n",
       "<table border=\"1\" class=\"dataframe\">\n",
       "  <thead>\n",
       "    <tr style=\"text-align: right;\">\n",
       "      <th></th>\n",
       "      <th>Invoice</th>\n",
       "      <th>Avg_price</th>\n",
       "    </tr>\n",
       "  </thead>\n",
       "  <tbody>\n",
       "    <tr>\n",
       "      <th>11724</th>\n",
       "      <td>512771</td>\n",
       "      <td>25111.09</td>\n",
       "    </tr>\n",
       "  </tbody>\n",
       "</table>\n",
       "</div>"
      ],
      "text/plain": [
       "      Invoice  Avg_price\n",
       "11724  512771   25111.09"
      ]
     },
     "execution_count": 186,
     "metadata": {},
     "output_type": "execute_result"
    }
   ],
   "source": [
    "highest_avg_invoiceamount = df.groupby('Invoice')['Price'].mean().reset_index(name = 'Avg_price').sort_values(by = 'Avg_price', ascending = False).head(1)\n",
    "highest_avg_invoiceamount"
   ]
  },
  {
   "cell_type": "markdown",
   "id": "eb15fe9b-9c5c-4409-a671-ec07bd767cc5",
   "metadata": {},
   "source": [
    "### Q4: What is the standard deviation of quantity sold across all transactions?"
   ]
  },
  {
   "cell_type": "code",
   "execution_count": 188,
   "id": "40cdb2e5-3e8c-43fe-8d6e-8e67c278fa3e",
   "metadata": {},
   "outputs": [
    {
     "name": "stdout",
     "output_type": "stream",
     "text": [
      "108.12659284941847\n"
     ]
    }
   ],
   "source": [
    "std_quantity = df['Quantity'].std()\n",
    "print(std_quantity)"
   ]
  },
  {
   "cell_type": "markdown",
   "id": "c0ceb49f-22ee-49eb-9604-37781d3d329f",
   "metadata": {},
   "source": [
    "### Q5: How many unique customers are there? What is their average purchase frequency?"
   ]
  },
  {
   "cell_type": "code",
   "execution_count": 190,
   "id": "953788f3-9bd2-4efa-9fed-e8860d5b17ff",
   "metadata": {},
   "outputs": [
    {
     "name": "stdout",
     "output_type": "stream",
     "text": [
      "4383\n"
     ]
    }
   ],
   "source": [
    "unique_cust = df['Customer ID'].nunique()\n",
    "print(unique_cust)"
   ]
  },
  {
   "cell_type": "code",
   "execution_count": 191,
   "id": "f655ac11-f750-4eb0-a959-8624239ea4c9",
   "metadata": {},
   "outputs": [],
   "source": [
    "df = df.dropna(subset = ['Customer ID'])"
   ]
  },
  {
   "cell_type": "code",
   "execution_count": 192,
   "id": "ed703ff6-97c6-4d90-9ed6-8ae4fecbed6b",
   "metadata": {},
   "outputs": [
    {
     "name": "stdout",
     "output_type": "stream",
     "text": [
      "5.38\n"
     ]
    }
   ],
   "source": [
    "invoice_counts  = df.groupby('Customer ID')['Invoice'].nunique()\n",
    "avg_purchase_frequency  = round(invoice_counts.mean(),2)\n",
    "print(avg_purchase_frequency)"
   ]
  },
  {
   "cell_type": "markdown",
   "id": "359e1f3f-349f-459f-b3ba-e155f98dec19",
   "metadata": {},
   "source": [
    "### Q6: Create a frequency distribution of transaction amounts (e.g., <10, 10–50, 50–100, >100)."
   ]
  },
  {
   "cell_type": "code",
   "execution_count": 194,
   "id": "5b22f9f1-d612-40fe-85d5-cd9bbc5f94db",
   "metadata": {},
   "outputs": [],
   "source": [
    "df['Transaction_amount'] = df['Quantity'] * df['Price']"
   ]
  },
  {
   "cell_type": "code",
   "execution_count": 195,
   "id": "da3b0fa7-6db7-4ae2-acd4-a9ece47fe86f",
   "metadata": {},
   "outputs": [],
   "source": [
    "df_clean = df[df['Transaction_amount'] > 0]"
   ]
  },
  {
   "cell_type": "code",
   "execution_count": 196,
   "id": "b2b6a13a-9ae1-4d79-873b-5fc29a36a44f",
   "metadata": {},
   "outputs": [],
   "source": [
    "bins = [0, 10, 50, 100, float('inf')]\n",
    "labels = ['<10', '10-50', '50-100', '>100']"
   ]
  },
  {
   "cell_type": "code",
   "execution_count": 197,
   "id": "a7461d6f-131d-4ad0-bbb8-47824c85212b",
   "metadata": {},
   "outputs": [
    {
     "name": "stderr",
     "output_type": "stream",
     "text": [
      "C:\\Users\\Admin\\AppData\\Local\\Temp\\ipykernel_15004\\3926493021.py:1: SettingWithCopyWarning: \n",
      "A value is trying to be set on a copy of a slice from a DataFrame.\n",
      "Try using .loc[row_indexer,col_indexer] = value instead\n",
      "\n",
      "See the caveats in the documentation: https://pandas.pydata.org/pandas-docs/stable/user_guide/indexing.html#returning-a-view-versus-a-copy\n",
      "  df_clean['Amount_range'] = pd.cut(df_clean['Transaction_amount'], bins = bins, labels = labels)\n"
     ]
    }
   ],
   "source": [
    "df_clean['Amount_range'] = pd.cut(df_clean['Transaction_amount'], bins = bins, labels = labels)"
   ]
  },
  {
   "cell_type": "code",
   "execution_count": 198,
   "id": "308a9928-324b-4932-9c3e-425415aa447a",
   "metadata": {},
   "outputs": [
    {
     "name": "stdout",
     "output_type": "stream",
     "text": [
      "Amount_range\n",
      "<10       170217\n",
      "10-50     201505\n",
      "50-100     17229\n",
      ">100       11965\n",
      "Name: count, dtype: int64\n"
     ]
    }
   ],
   "source": [
    "freq_distribution  = df_clean['Amount_range'].value_counts().sort_index()\n",
    "print(freq_distribution)"
   ]
  },
  {
   "cell_type": "markdown",
   "id": "a9574d5f-c6af-4d2c-a4a9-cefe09d372e9",
   "metadata": {},
   "source": [
    "### Q7: Check if the Price column is right-skewed. Use skewness and histogram."
   ]
  },
  {
   "cell_type": "code",
   "execution_count": 200,
   "id": "11befdaa-67b1-4bb4-b574-713da5162e45",
   "metadata": {},
   "outputs": [
    {
     "name": "stdout",
     "output_type": "stream",
     "text": [
      "182.46581635883905\n"
     ]
    }
   ],
   "source": [
    "price_skew = df['Price'].skew()\n",
    "print(price_skew)"
   ]
  },
  {
   "cell_type": "code",
   "execution_count": 201,
   "id": "87221455-6fa6-4a28-b098-6633d7c98802",
   "metadata": {},
   "outputs": [
    {
     "data": {
      "text/plain": [
       "0"
      ]
     },
     "execution_count": 201,
     "metadata": {},
     "output_type": "execute_result"
    }
   ],
   "source": [
    "df['Price'].isnull().sum()"
   ]
  },
  {
   "cell_type": "code",
   "execution_count": 236,
   "id": "f053e54c-7ae2-48b8-9120-70599797499b",
   "metadata": {},
   "outputs": [
    {
     "data": {
      "image/png": "[encoded data removed]",
      "text/plain": [
       "<Figure size 700x400 with 1 Axes>"
      ]
     },
     "metadata": {},
     "output_type": "display_data"
    }
   ],
   "source": [
    "plt.figure(figsize = (7,4))\n",
    "sns.histplot(df[df['Price'] > 0]['Price'], bins=5, kde=True, color='salmon')\n",
    "plt.title('Distribution of Price')\n",
    "plt.xlabel('Price')\n",
    "plt.ylabel('Frequency')\n",
    "plt.grid(True)\n",
    "plt.show()"
   ]
  },
  {
   "cell_type": "markdown",
   "id": "3ff2a0b6-dfe3-4c03-8965-f0d62730ac9c",
   "metadata": {},
   "source": [
    "### Q8: Is Quantity normally distributed?"
   ]
  },
  {
   "cell_type": "code",
   "execution_count": 240,
   "id": "d2050dce-cfd5-4764-949e-88f808201961",
   "metadata": {},
   "outputs": [
    {
     "data": {
      "image/png": "[encoded data removed]",
      "text/plain": [
       "<Figure size 700x400 with 1 Axes>"
      ]
     },
     "metadata": {},
     "output_type": "display_data"
    }
   ],
   "source": [
    "plt.figure(figsize = (7,4))\n",
    "sns.histplot(df[df['Quantity'] > 0]['Quantity'], bins=10, kde=True, color='skyblue')\n",
    "plt.title('Distribution of Quantity')\n",
    "plt.xlabel('Quantity')\n",
    "plt.ylabel('Frequency')\n",
    "plt.show()"
   ]
  },
  {
   "cell_type": "markdown",
   "id": "3366027d-b91c-40c5-8388-a7b2d8f63f77",
   "metadata": {},
   "source": [
    "### Q9: Identify outliers in Price and Quantity using the IQR method."
   ]
  },
  {
   "cell_type": "code",
   "execution_count": 243,
   "id": "5b6839cb-9ef1-4bd7-80de-d40ed818da43",
   "metadata": {},
   "outputs": [],
   "source": [
    "def detect_outliers_iqr(data, column):\n",
    "    Q1 = data[column].quantile(0.25)\n",
    "    Q3 = data[column].quantile(0.75)\n",
    "    IQR = Q3 - Q1\n",
    "    lower_bound = Q1 - 1.5 * IQR\n",
    "    upper_bound = Q3 + 1.5 * IQR\n",
    "    outliers = data[(data[column] < lower_bound) | (data[column] > upper_bound)]\n",
    "    return outliers\n"
   ]
  },
  {
   "cell_type": "code",
   "execution_count": 245,
   "id": "d46bbe58-5f9a-48e0-80c6-e57a8581301e",
   "metadata": {},
   "outputs": [
    {
     "name": "stdout",
     "output_type": "stream",
     "text": [
      "Price outliers: 34703\n"
     ]
    }
   ],
   "source": [
    "price_outliers = detect_outliers_iqr(df, 'Price')\n",
    "print(f\"Price outliers: {len(price_outliers)}\")\n"
   ]
  },
  {
   "cell_type": "code",
   "execution_count": 247,
   "id": "fedf738e-277d-4877-a56c-e520d3cd472a",
   "metadata": {},
   "outputs": [
    {
     "name": "stdout",
     "output_type": "stream",
     "text": [
      "Quantity outliers: 27342\n"
     ]
    }
   ],
   "source": [
    "quantity_outliers = detect_outliers_iqr(df, 'Quantity')\n",
    "print(f\"Quantity outliers: {len(quantity_outliers)}\")"
   ]
  },
  {
   "cell_type": "markdown",
   "id": "e0d0c989-701d-425c-8af4-56d5e76a0ee4",
   "metadata": {},
   "source": [
    "### Q10: Plot the distribution of invoice total amounts. Comment on shape, central tendency, and spread."
   ]
  },
  {
   "cell_type": "code",
   "execution_count": 250,
   "id": "fdb9357f-dab9-4717-8033-949c98b54127",
   "metadata": {},
   "outputs": [],
   "source": [
    "invoice_totals = df.groupby('Invoice')['Transaction_amount'].sum().reset_index()"
   ]
  },
  {
   "cell_type": "code",
   "execution_count": 252,
   "id": "73528857-d6f1-4d87-9844-4a48b3bc6c8e",
   "metadata": {},
   "outputs": [
    {
     "data": {
      "image/png": "[encoded data removed]",
      "text/plain": [
       "<Figure size 700x400 with 1 Axes>"
      ]
     },
     "metadata": {},
     "output_type": "display_data"
    }
   ],
   "source": [
    "plt.figure(figsize=(7, 4))\n",
    "sns.histplot(invoice_totals['Transaction_amount'], bins=100, kde=True, color='teal')\n",
    "plt.title('Distribution of Invoice Total Amounts')\n",
    "plt.xlabel('Invoice Total Amount')\n",
    "plt.ylabel('Frequency')\n",
    "plt.grid(True)\n",
    "plt.show()"
   ]
  },
  {
   "cell_type": "code",
   "execution_count": 254,
   "id": "97608254-0f69-4e2d-a125-1bc1b28de6cb",
   "metadata": {},
   "outputs": [],
   "source": [
    "mean_val = invoice_totals['Transaction_amount'].mean()\n",
    "median_val = invoice_totals['Transaction_amount'].median()\n",
    "std_dev = invoice_totals['Transaction_amount'].std()"
   ]
  },
  {
   "cell_type": "code",
   "execution_count": 258,
   "id": "64b3827c-4255-427d-99a1-ead5a5d1807b",
   "metadata": {},
   "outputs": [
    {
     "name": "stdout",
     "output_type": "stream",
     "text": [
      "352.5185731123076\n",
      "230.51\n",
      "917.1479778893042\n"
     ]
    }
   ],
   "source": [
    "print(mean_val)\n",
    "print(median_val)\n",
    "print(std_dev)"
   ]
  },
  {
   "cell_type": "code",
   "execution_count": null,
   "id": "4553e109-db1a-4042-95a5-2456a699969c",
   "metadata": {},
   "outputs": [],
   "source": []
  }
 ],
 "metadata": {
  "kernelspec": {
   "display_name": "Python 3 (ipykernel)",
   "language": "python",
   "name": "python3"
  },
  "language_info": {
   "codemirror_mode": {
    "name": "ipython",
    "version": 3
   },
   "file_extension": ".py",
   "mimetype": "text/x-python",
   "name": "python",
   "nbconvert_exporter": "python",
   "pygments_lexer": "ipython3",
   "version": "3.12.7"
  }
 },
 "nbformat": 4,
 "nbformat_minor": 5
}
