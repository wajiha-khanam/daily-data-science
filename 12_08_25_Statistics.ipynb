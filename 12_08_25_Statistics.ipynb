{
 "cells": [
  {
   "cell_type": "code",
   "execution_count": 242,
   "id": "baad7638-0250-4dfe-8242-6ea0213b83dc",
   "metadata": {},
   "outputs": [],
   "source": [
    "import pandas as pd"
   ]
  },
  {
   "cell_type": "code",
   "execution_count": 243,
   "id": "61aa1273-cf96-4d4d-8250-d023a98b7505",
   "metadata": {},
   "outputs": [
    {
     "data": {
      "text/html": [
       "<div>\n",
       "<style scoped>\n",
       "    .dataframe tbody tr th:only-of-type {\n",
       "        vertical-align: middle;\n",
       "    }\n",
       "\n",
       "    .dataframe tbody tr th {\n",
       "        vertical-align: top;\n",
       "    }\n",
       "\n",
       "    .dataframe thead th {\n",
       "        text-align: right;\n",
       "    }\n",
       "</style>\n",
       "<table border=\"1\" class=\"dataframe\">\n",
       "  <thead>\n",
       "    <tr style=\"text-align: right;\">\n",
       "      <th></th>\n",
       "      <th>studyName</th>\n",
       "      <th>Sample Number</th>\n",
       "      <th>Species</th>\n",
       "      <th>Region</th>\n",
       "      <th>Island</th>\n",
       "      <th>Stage</th>\n",
       "      <th>Individual ID</th>\n",
       "      <th>Clutch Completion</th>\n",
       "      <th>Date Egg</th>\n",
       "      <th>Culmen Length (mm)</th>\n",
       "      <th>Culmen Depth (mm)</th>\n",
       "      <th>Flipper Length (mm)</th>\n",
       "      <th>Body Mass (g)</th>\n",
       "      <th>Sex</th>\n",
       "      <th>Delta 15 N (o/oo)</th>\n",
       "      <th>Delta 13 C (o/oo)</th>\n",
       "      <th>Comments</th>\n",
       "    </tr>\n",
       "  </thead>\n",
       "  <tbody>\n",
       "    <tr>\n",
       "      <th>0</th>\n",
       "      <td>PAL0708</td>\n",
       "      <td>1</td>\n",
       "      <td>Adelie Penguin (Pygoscelis adeliae)</td>\n",
       "      <td>Anvers</td>\n",
       "      <td>Torgersen</td>\n",
       "      <td>Adult, 1 Egg Stage</td>\n",
       "      <td>N1A1</td>\n",
       "      <td>Yes</td>\n",
       "      <td>11/11/07</td>\n",
       "      <td>39.1</td>\n",
       "      <td>18.7</td>\n",
       "      <td>181.0</td>\n",
       "      <td>3750.0</td>\n",
       "      <td>MALE</td>\n",
       "      <td>NaN</td>\n",
       "      <td>NaN</td>\n",
       "      <td>Not enough blood for isotopes.</td>\n",
       "    </tr>\n",
       "    <tr>\n",
       "      <th>1</th>\n",
       "      <td>PAL0708</td>\n",
       "      <td>2</td>\n",
       "      <td>Adelie Penguin (Pygoscelis adeliae)</td>\n",
       "      <td>Anvers</td>\n",
       "      <td>Torgersen</td>\n",
       "      <td>Adult, 1 Egg Stage</td>\n",
       "      <td>N1A2</td>\n",
       "      <td>Yes</td>\n",
       "      <td>11/11/07</td>\n",
       "      <td>39.5</td>\n",
       "      <td>17.4</td>\n",
       "      <td>186.0</td>\n",
       "      <td>3800.0</td>\n",
       "      <td>FEMALE</td>\n",
       "      <td>8.94956</td>\n",
       "      <td>-24.69454</td>\n",
       "      <td>NaN</td>\n",
       "    </tr>\n",
       "    <tr>\n",
       "      <th>2</th>\n",
       "      <td>PAL0708</td>\n",
       "      <td>3</td>\n",
       "      <td>Adelie Penguin (Pygoscelis adeliae)</td>\n",
       "      <td>Anvers</td>\n",
       "      <td>Torgersen</td>\n",
       "      <td>Adult, 1 Egg Stage</td>\n",
       "      <td>N2A1</td>\n",
       "      <td>Yes</td>\n",
       "      <td>11/16/07</td>\n",
       "      <td>40.3</td>\n",
       "      <td>18.0</td>\n",
       "      <td>195.0</td>\n",
       "      <td>3250.0</td>\n",
       "      <td>FEMALE</td>\n",
       "      <td>8.36821</td>\n",
       "      <td>-25.33302</td>\n",
       "      <td>NaN</td>\n",
       "    </tr>\n",
       "    <tr>\n",
       "      <th>3</th>\n",
       "      <td>PAL0708</td>\n",
       "      <td>4</td>\n",
       "      <td>Adelie Penguin (Pygoscelis adeliae)</td>\n",
       "      <td>Anvers</td>\n",
       "      <td>Torgersen</td>\n",
       "      <td>Adult, 1 Egg Stage</td>\n",
       "      <td>N2A2</td>\n",
       "      <td>Yes</td>\n",
       "      <td>11/16/07</td>\n",
       "      <td>NaN</td>\n",
       "      <td>NaN</td>\n",
       "      <td>NaN</td>\n",
       "      <td>NaN</td>\n",
       "      <td>NaN</td>\n",
       "      <td>NaN</td>\n",
       "      <td>NaN</td>\n",
       "      <td>Adult not sampled.</td>\n",
       "    </tr>\n",
       "    <tr>\n",
       "      <th>4</th>\n",
       "      <td>PAL0708</td>\n",
       "      <td>5</td>\n",
       "      <td>Adelie Penguin (Pygoscelis adeliae)</td>\n",
       "      <td>Anvers</td>\n",
       "      <td>Torgersen</td>\n",
       "      <td>Adult, 1 Egg Stage</td>\n",
       "      <td>N3A1</td>\n",
       "      <td>Yes</td>\n",
       "      <td>11/16/07</td>\n",
       "      <td>36.7</td>\n",
       "      <td>19.3</td>\n",
       "      <td>193.0</td>\n",
       "      <td>3450.0</td>\n",
       "      <td>FEMALE</td>\n",
       "      <td>8.76651</td>\n",
       "      <td>-25.32426</td>\n",
       "      <td>NaN</td>\n",
       "    </tr>\n",
       "  </tbody>\n",
       "</table>\n",
       "</div>"
      ],
      "text/plain": [
       "  studyName  Sample Number                              Species  Region  \\\n",
       "0   PAL0708              1  Adelie Penguin (Pygoscelis adeliae)  Anvers   \n",
       "1   PAL0708              2  Adelie Penguin (Pygoscelis adeliae)  Anvers   \n",
       "2   PAL0708              3  Adelie Penguin (Pygoscelis adeliae)  Anvers   \n",
       "3   PAL0708              4  Adelie Penguin (Pygoscelis adeliae)  Anvers   \n",
       "4   PAL0708              5  Adelie Penguin (Pygoscelis adeliae)  Anvers   \n",
       "\n",
       "      Island               Stage Individual ID Clutch Completion  Date Egg  \\\n",
       "0  Torgersen  Adult, 1 Egg Stage          N1A1               Yes  11/11/07   \n",
       "1  Torgersen  Adult, 1 Egg Stage          N1A2               Yes  11/11/07   \n",
       "2  Torgersen  Adult, 1 Egg Stage          N2A1               Yes  11/16/07   \n",
       "3  Torgersen  Adult, 1 Egg Stage          N2A2               Yes  11/16/07   \n",
       "4  Torgersen  Adult, 1 Egg Stage          N3A1               Yes  11/16/07   \n",
       "\n",
       "   Culmen Length (mm)  Culmen Depth (mm)  Flipper Length (mm)  Body Mass (g)  \\\n",
       "0                39.1               18.7                181.0         3750.0   \n",
       "1                39.5               17.4                186.0         3800.0   \n",
       "2                40.3               18.0                195.0         3250.0   \n",
       "3                 NaN                NaN                  NaN            NaN   \n",
       "4                36.7               19.3                193.0         3450.0   \n",
       "\n",
       "      Sex  Delta 15 N (o/oo)  Delta 13 C (o/oo)  \\\n",
       "0    MALE                NaN                NaN   \n",
       "1  FEMALE            8.94956          -24.69454   \n",
       "2  FEMALE            8.36821          -25.33302   \n",
       "3     NaN                NaN                NaN   \n",
       "4  FEMALE            8.76651          -25.32426   \n",
       "\n",
       "                         Comments  \n",
       "0  Not enough blood for isotopes.  \n",
       "1                             NaN  \n",
       "2                             NaN  \n",
       "3              Adult not sampled.  \n",
       "4                             NaN  "
      ]
     },
     "execution_count": 243,
     "metadata": {},
     "output_type": "execute_result"
    }
   ],
   "source": [
    "df = pd.read_csv('penguins_lter.csv')\n",
    "df.head()"
   ]
  },
  {
   "cell_type": "markdown",
   "id": "786f4271-6475-4602-aede-1165554e29da",
   "metadata": {},
   "source": [
    "## Q1: Mean, Median, Mode — Find the mean, median, and mode for Body Mass (g) for all penguins."
   ]
  },
  {
   "cell_type": "code",
   "execution_count": 245,
   "id": "f6a4f5d7-9c41-4744-8d6a-a86d33ccb48c",
   "metadata": {},
   "outputs": [
    {
     "name": "stdout",
     "output_type": "stream",
     "text": [
      "4201.75\n",
      "4050.0\n",
      "3800.0\n"
     ]
    }
   ],
   "source": [
    "print(df['Body Mass (g)'].mean().round(2))\n",
    "print(df['Body Mass (g)'].median())\n",
    "print(df['Body Mass (g)'].mode()[0])"
   ]
  },
  {
   "cell_type": "markdown",
   "id": "9509afd9-de9f-42dc-b0b7-a943ff28ac8e",
   "metadata": {},
   "source": [
    "## Q2: Grouped Mean — Calculate the average Body Mass (g) for each species."
   ]
  },
  {
   "cell_type": "code",
   "execution_count": 247,
   "id": "5ea110c8-50f0-4ce9-a240-38200738f667",
   "metadata": {},
   "outputs": [
    {
     "data": {
      "text/html": [
       "<div>\n",
       "<style scoped>\n",
       "    .dataframe tbody tr th:only-of-type {\n",
       "        vertical-align: middle;\n",
       "    }\n",
       "\n",
       "    .dataframe tbody tr th {\n",
       "        vertical-align: top;\n",
       "    }\n",
       "\n",
       "    .dataframe thead th {\n",
       "        text-align: right;\n",
       "    }\n",
       "</style>\n",
       "<table border=\"1\" class=\"dataframe\">\n",
       "  <thead>\n",
       "    <tr style=\"text-align: right;\">\n",
       "      <th></th>\n",
       "      <th>Species</th>\n",
       "      <th>avg_body_mass (g)</th>\n",
       "    </tr>\n",
       "  </thead>\n",
       "  <tbody>\n",
       "    <tr>\n",
       "      <th>0</th>\n",
       "      <td>Adelie Penguin (Pygoscelis adeliae)</td>\n",
       "      <td>3700.662252</td>\n",
       "    </tr>\n",
       "    <tr>\n",
       "      <th>1</th>\n",
       "      <td>Chinstrap penguin (Pygoscelis antarctica)</td>\n",
       "      <td>3733.088235</td>\n",
       "    </tr>\n",
       "    <tr>\n",
       "      <th>2</th>\n",
       "      <td>Gentoo penguin (Pygoscelis papua)</td>\n",
       "      <td>5076.016260</td>\n",
       "    </tr>\n",
       "  </tbody>\n",
       "</table>\n",
       "</div>"
      ],
      "text/plain": [
       "                                     Species  avg_body_mass (g)\n",
       "0        Adelie Penguin (Pygoscelis adeliae)        3700.662252\n",
       "1  Chinstrap penguin (Pygoscelis antarctica)        3733.088235\n",
       "2          Gentoo penguin (Pygoscelis papua)        5076.016260"
      ]
     },
     "execution_count": 247,
     "metadata": {},
     "output_type": "execute_result"
    }
   ],
   "source": [
    "grouped_mean = df.groupby('Species')['Body Mass (g)'].mean().reset_index(name = 'avg_body_mass (g)')\n",
    "grouped_mean"
   ]
  },
  {
   "cell_type": "markdown",
   "id": "fa64573f-8dcb-4a6c-ad66-7109f0a54d72",
   "metadata": {},
   "source": [
    "## Q3: Measures of Dispersion — Calculate the variance and standard deviation of Flipper Length (mm)."
   ]
  },
  {
   "cell_type": "code",
   "execution_count": 249,
   "id": "cbe7e31d-4ad8-4c06-b4a7-ef3264beca0a",
   "metadata": {},
   "outputs": [
    {
     "name": "stdout",
     "output_type": "stream",
     "text": [
      "197.73\n",
      "14.062\n"
     ]
    }
   ],
   "source": [
    "print(round(df['Flipper Length (mm)'].var(),2))\n",
    "print(round(df['Flipper Length (mm)'].std(),3))"
   ]
  },
  {
   "cell_type": "markdown",
   "id": "a6aa5142-4133-4a91-84e3-ad8ef98a422f",
   "metadata": {},
   "source": [
    "## Q4: Summary Table — Create a summary (mean, median, min, max, std) for Body Mass (g) grouped by Island."
   ]
  },
  {
   "cell_type": "code",
   "execution_count": 251,
   "id": "0e3cff03-9933-4376-af26-caa0d233e6bd",
   "metadata": {},
   "outputs": [
    {
     "data": {
      "text/html": [
       "<div>\n",
       "<style scoped>\n",
       "    .dataframe tbody tr th:only-of-type {\n",
       "        vertical-align: middle;\n",
       "    }\n",
       "\n",
       "    .dataframe tbody tr th {\n",
       "        vertical-align: top;\n",
       "    }\n",
       "\n",
       "    .dataframe thead tr th {\n",
       "        text-align: left;\n",
       "    }\n",
       "\n",
       "    .dataframe thead tr:last-of-type th {\n",
       "        text-align: right;\n",
       "    }\n",
       "</style>\n",
       "<table border=\"1\" class=\"dataframe\">\n",
       "  <thead>\n",
       "    <tr>\n",
       "      <th></th>\n",
       "      <th colspan=\"5\" halign=\"left\">Body Mass (g)</th>\n",
       "    </tr>\n",
       "    <tr>\n",
       "      <th></th>\n",
       "      <th>mean</th>\n",
       "      <th>median</th>\n",
       "      <th>min</th>\n",
       "      <th>max</th>\n",
       "      <th>std</th>\n",
       "    </tr>\n",
       "    <tr>\n",
       "      <th>Island</th>\n",
       "      <th></th>\n",
       "      <th></th>\n",
       "      <th></th>\n",
       "      <th></th>\n",
       "      <th></th>\n",
       "    </tr>\n",
       "  </thead>\n",
       "  <tbody>\n",
       "    <tr>\n",
       "      <th>Biscoe</th>\n",
       "      <td>4716.017964</td>\n",
       "      <td>4775.0</td>\n",
       "      <td>2850.0</td>\n",
       "      <td>6300.0</td>\n",
       "      <td>782.855743</td>\n",
       "    </tr>\n",
       "    <tr>\n",
       "      <th>Dream</th>\n",
       "      <td>3712.903226</td>\n",
       "      <td>3687.5</td>\n",
       "      <td>2700.0</td>\n",
       "      <td>4800.0</td>\n",
       "      <td>416.644112</td>\n",
       "    </tr>\n",
       "    <tr>\n",
       "      <th>Torgersen</th>\n",
       "      <td>3706.372549</td>\n",
       "      <td>3700.0</td>\n",
       "      <td>2900.0</td>\n",
       "      <td>4700.0</td>\n",
       "      <td>445.107940</td>\n",
       "    </tr>\n",
       "  </tbody>\n",
       "</table>\n",
       "</div>"
      ],
      "text/plain": [
       "          Body Mass (g)                                    \n",
       "                   mean  median     min     max         std\n",
       "Island                                                     \n",
       "Biscoe      4716.017964  4775.0  2850.0  6300.0  782.855743\n",
       "Dream       3712.903226  3687.5  2700.0  4800.0  416.644112\n",
       "Torgersen   3706.372549  3700.0  2900.0  4700.0  445.107940"
      ]
     },
     "execution_count": 251,
     "metadata": {},
     "output_type": "execute_result"
    }
   ],
   "source": [
    "sum_table = df.groupby('Island').agg({'Body Mass (g)': ['mean', 'median', 'min', 'max', 'std']})\n",
    "sum_table"
   ]
  },
  {
   "cell_type": "markdown",
   "id": "9ca8e85f-8ba9-4bba-bb50-8555bb7f0998",
   "metadata": {},
   "source": [
    "## Q5: Skewness & Kurtosis — Compute skewness and kurtosis for Body Mass (g) and interpret whether the distribution is normal, skewed, or heavy/light-tailed."
   ]
  },
  {
   "cell_type": "code",
   "execution_count": 253,
   "id": "3a3fc634-e692-4ada-bb36-7120a0bce3e8",
   "metadata": {},
   "outputs": [
    {
     "name": "stdout",
     "output_type": "stream",
     "text": [
      "Skewness: 0.47\n",
      "Kurtosis: -0.719\n"
     ]
    }
   ],
   "source": [
    "print(f'Skewness: {round(df['Body Mass (g)'].skew(),3)}')\n",
    "print(f'Kurtosis: {round(df['Body Mass (g)'].kurt(),3)}')"
   ]
  },
  {
   "cell_type": "markdown",
   "id": "28c705ad-53d2-4bb1-abe9-06628acec8a9",
   "metadata": {},
   "source": [
    "* Data is fairly symmetric with just a mild right skew.\n",
    "* Distribution is flatter with fewer extreme outliers than a normal curve.\n",
    "\n",
    "* Summary:\n",
    "    - The dataset is fairly symmetric, has slightly more large values than small values, and is flatter than a normal distribution with fewer extreme outliers."
   ]
  },
  {
   "cell_type": "markdown",
   "id": "0f467ca2-2640-4b7c-81db-8050a48d0ed6",
   "metadata": {},
   "source": [
    "## Q6: One-Sample t-test — Test if the mean Flipper Length (mm) is significantly different from 200 mm."
   ]
  },
  {
   "cell_type": "markdown",
   "id": "956e28f0-ea58-4a8c-b8ed-0b62cc1d12a8",
   "metadata": {},
   "source": [
    "* H0: The population mean flipper length is equal to 200 mm.\n",
    "* H1: The population mean flipper length is not equal to 200 mm."
   ]
  },
  {
   "cell_type": "code",
   "execution_count": 257,
   "id": "8d6fc4da-2aef-46b6-9acb-2ad57cf697b4",
   "metadata": {},
   "outputs": [],
   "source": [
    "from scipy import stats"
   ]
  },
  {
   "cell_type": "code",
   "execution_count": 258,
   "id": "9d9174a8-ebd5-4fda-aea2-e7d1b22e0469",
   "metadata": {},
   "outputs": [],
   "source": [
    "Flipper_length = df['Flipper Length (mm)'].dropna()"
   ]
  },
  {
   "cell_type": "code",
   "execution_count": 259,
   "id": "743c0cbe-0e16-4d82-be77-1fdcd2b55d38",
   "metadata": {},
   "outputs": [
    {
     "name": "stdout",
     "output_type": "stream",
     "text": [
      "T-statistic: 1.2036300831163829\n",
      "P-value: 0.22956747651054768\n",
      "Fail to reject H₀: No significant difference from 200 mm.\n"
     ]
    }
   ],
   "source": [
    "t_stat, p_val = stats.ttest_1samp(Flipper_length, 200)\n",
    "\n",
    "print(f\"T-statistic: {t_stat}\")\n",
    "print(f\"P-value: {p_val}\")\n",
    "\n",
    "alpha = 0.05\n",
    "if p_val < alpha:\n",
    "    print(\"Reject H₀: The mean flipper length is significantly different from 200 mm.\")\n",
    "else:\n",
    "    print(\"Fail to reject H₀: No significant difference from 200 mm.\")"
   ]
  },
  {
   "cell_type": "markdown",
   "id": "7e9b4df3-6243-4ccf-82bc-3bb598c87ad0",
   "metadata": {},
   "source": [
    "## Q7: Two-Sample t-test — Compare Body Mass (g) between Male and Female penguins."
   ]
  },
  {
   "cell_type": "code",
   "execution_count": 261,
   "id": "15c4f44f-8b7b-4406-9a60-240bf63e9274",
   "metadata": {},
   "outputs": [],
   "source": [
    "df1 = df[['Body Mass (g)', 'Sex']].dropna()"
   ]
  },
  {
   "cell_type": "code",
   "execution_count": 262,
   "id": "219d2388-28de-4f4a-98ed-9bb5717695b0",
   "metadata": {},
   "outputs": [
    {
     "data": {
      "text/html": [
       "<div>\n",
       "<style scoped>\n",
       "    .dataframe tbody tr th:only-of-type {\n",
       "        vertical-align: middle;\n",
       "    }\n",
       "\n",
       "    .dataframe tbody tr th {\n",
       "        vertical-align: top;\n",
       "    }\n",
       "\n",
       "    .dataframe thead th {\n",
       "        text-align: right;\n",
       "    }\n",
       "</style>\n",
       "<table border=\"1\" class=\"dataframe\">\n",
       "  <thead>\n",
       "    <tr style=\"text-align: right;\">\n",
       "      <th></th>\n",
       "      <th>Body Mass (g)</th>\n",
       "      <th>Sex</th>\n",
       "    </tr>\n",
       "  </thead>\n",
       "  <tbody>\n",
       "    <tr>\n",
       "      <th>0</th>\n",
       "      <td>3750.0</td>\n",
       "      <td>MALE</td>\n",
       "    </tr>\n",
       "    <tr>\n",
       "      <th>1</th>\n",
       "      <td>3800.0</td>\n",
       "      <td>FEMALE</td>\n",
       "    </tr>\n",
       "    <tr>\n",
       "      <th>2</th>\n",
       "      <td>3250.0</td>\n",
       "      <td>FEMALE</td>\n",
       "    </tr>\n",
       "    <tr>\n",
       "      <th>4</th>\n",
       "      <td>3450.0</td>\n",
       "      <td>FEMALE</td>\n",
       "    </tr>\n",
       "    <tr>\n",
       "      <th>5</th>\n",
       "      <td>3650.0</td>\n",
       "      <td>MALE</td>\n",
       "    </tr>\n",
       "    <tr>\n",
       "      <th>...</th>\n",
       "      <td>...</td>\n",
       "      <td>...</td>\n",
       "    </tr>\n",
       "    <tr>\n",
       "      <th>338</th>\n",
       "      <td>4925.0</td>\n",
       "      <td>FEMALE</td>\n",
       "    </tr>\n",
       "    <tr>\n",
       "      <th>340</th>\n",
       "      <td>4850.0</td>\n",
       "      <td>FEMALE</td>\n",
       "    </tr>\n",
       "    <tr>\n",
       "      <th>341</th>\n",
       "      <td>5750.0</td>\n",
       "      <td>MALE</td>\n",
       "    </tr>\n",
       "    <tr>\n",
       "      <th>342</th>\n",
       "      <td>5200.0</td>\n",
       "      <td>FEMALE</td>\n",
       "    </tr>\n",
       "    <tr>\n",
       "      <th>343</th>\n",
       "      <td>5400.0</td>\n",
       "      <td>MALE</td>\n",
       "    </tr>\n",
       "  </tbody>\n",
       "</table>\n",
       "<p>334 rows × 2 columns</p>\n",
       "</div>"
      ],
      "text/plain": [
       "     Body Mass (g)     Sex\n",
       "0           3750.0    MALE\n",
       "1           3800.0  FEMALE\n",
       "2           3250.0  FEMALE\n",
       "4           3450.0  FEMALE\n",
       "5           3650.0    MALE\n",
       "..             ...     ...\n",
       "338         4925.0  FEMALE\n",
       "340         4850.0  FEMALE\n",
       "341         5750.0    MALE\n",
       "342         5200.0  FEMALE\n",
       "343         5400.0    MALE\n",
       "\n",
       "[334 rows x 2 columns]"
      ]
     },
     "execution_count": 262,
     "metadata": {},
     "output_type": "execute_result"
    }
   ],
   "source": [
    "df1"
   ]
  },
  {
   "cell_type": "code",
   "execution_count": 263,
   "id": "c6416e40-9479-4589-a063-5a2e911aa51b",
   "metadata": {},
   "outputs": [],
   "source": [
    "male_body_mass = df1[df1['Sex'] == 'MALE']['Body Mass (g)']\n",
    "female_body_mass = df1[df1['Sex'] == 'FEMALE']['Body Mass (g)']"
   ]
  },
  {
   "cell_type": "code",
   "execution_count": 264,
   "id": "f7476f10-0596-4450-a1d5-2932052f9e14",
   "metadata": {},
   "outputs": [
    {
     "name": "stdout",
     "output_type": "stream",
     "text": [
      "T-statistic: 8.554537231165762\n",
      "P-value: 4.793891255051457e-16\n",
      "Reject H₀: Significant difference in body mass between male and female penguins.\n"
     ]
    }
   ],
   "source": [
    "t_stat, p_val = stats.ttest_ind(male_body_mass, female_body_mass, equal_var=False)\n",
    "\n",
    "print(f\"T-statistic: {t_stat}\")\n",
    "print(f\"P-value: {p_val}\")\n",
    "\n",
    "alpha = 0.05\n",
    "if p_val < alpha:\n",
    "    print(\"Reject H₀: Significant difference in body mass between male and female penguins.\")\n",
    "else:\n",
    "    print(\"Fail to reject H₀: No significant difference in body mass between male and female penguins.\")"
   ]
  },
  {
   "cell_type": "markdown",
   "id": "fc1fed25-1e4d-4b5e-b815-76998a599c44",
   "metadata": {},
   "source": [
    "## Q8: ANOVA — Check if mean Flipper Length (mm) differs significantly between different species."
   ]
  },
  {
   "cell_type": "markdown",
   "id": "c6652cfb-632b-4a5a-9a42-959aa08a061a",
   "metadata": {},
   "source": [
    "* H₀: All species have the same mean flipper length.\n",
    "\n",
    "* H₁: At least one species has a mean flipper length that differs."
   ]
  },
  {
   "cell_type": "code",
   "execution_count": 267,
   "id": "760b8f26-83f6-4b5d-8ce0-3f1f9baac4f2",
   "metadata": {},
   "outputs": [
    {
     "name": "stdout",
     "output_type": "stream",
     "text": [
      "F-statistic: 594.8016274385172\n",
      "P-value: 1.3517103385730013e-111\n",
      "Reject H₀: Mean flipper length differs significantly between species.\n"
     ]
    }
   ],
   "source": [
    "df2 = df[['Species', 'Flipper Length (mm)']].dropna()\n",
    "\n",
    "adelie  = df2[df2['Species'] == 'Adelie Penguin (Pygoscelis adeliae)']['Flipper Length (mm)']\n",
    "chinstrap = df2[df2['Species'] == 'Chinstrap penguin (Pygoscelis antarctica)']['Flipper Length (mm)']\n",
    "gentoo = df2[df2['Species'] == 'Gentoo penguin (Pygoscelis papua)']['Flipper Length (mm)']\n",
    "\n",
    "f_stat, p_val = stats.f_oneway(adelie, chinstrap, gentoo)\n",
    "\n",
    "print(f\"F-statistic: {f_stat}\")\n",
    "print(f\"P-value: {p_val}\")\n",
    "\n",
    "\n",
    "alpha = 0.05\n",
    "if p_val < alpha:\n",
    "    print(\"Reject H₀: Mean flipper length differs significantly between species.\")\n",
    "else:\n",
    "    print(\"Fail to reject H₀: No significant difference in mean flipper length between species.\")\n"
   ]
  },
  {
   "cell_type": "markdown",
   "id": "5f47f0b4-762a-46bf-b792-1e57f4599a80",
   "metadata": {},
   "source": [
    "## Q9: Chi-Square Test — Test if Sex and Island are independent variables."
   ]
  },
  {
   "cell_type": "markdown",
   "id": "98269f2b-a7fc-4102-a2d5-458c96eb5b52",
   "metadata": {},
   "source": [
    "* H₀: Sex and Island are independent (no association).\n",
    "\n",
    "* H₁: Sex and Island are dependent (there is an association)."
   ]
  },
  {
   "cell_type": "code",
   "execution_count": 270,
   "id": "2686ba2a-e559-4563-b9f1-e57acbdd623c",
   "metadata": {},
   "outputs": [],
   "source": [
    "from scipy.stats import chi2_contingency"
   ]
  },
  {
   "cell_type": "code",
   "execution_count": 271,
   "id": "56abe100-79e7-4200-9cbf-b92f0ea1453d",
   "metadata": {},
   "outputs": [],
   "source": [
    "df3 = df[['Sex', 'Island']].dropna()\n",
    "\n",
    "df3 = df3[df3['Sex'] != '.']"
   ]
  },
  {
   "cell_type": "code",
   "execution_count": 273,
   "id": "e6859521-d02c-4949-abc2-d728b3fb86e4",
   "metadata": {},
   "outputs": [
    {
     "data": {
      "text/html": [
       "<div>\n",
       "<style scoped>\n",
       "    .dataframe tbody tr th:only-of-type {\n",
       "        vertical-align: middle;\n",
       "    }\n",
       "\n",
       "    .dataframe tbody tr th {\n",
       "        vertical-align: top;\n",
       "    }\n",
       "\n",
       "    .dataframe thead th {\n",
       "        text-align: right;\n",
       "    }\n",
       "</style>\n",
       "<table border=\"1\" class=\"dataframe\">\n",
       "  <thead>\n",
       "    <tr style=\"text-align: right;\">\n",
       "      <th>Island</th>\n",
       "      <th>Biscoe</th>\n",
       "      <th>Dream</th>\n",
       "      <th>Torgersen</th>\n",
       "    </tr>\n",
       "    <tr>\n",
       "      <th>Sex</th>\n",
       "      <th></th>\n",
       "      <th></th>\n",
       "      <th></th>\n",
       "    </tr>\n",
       "  </thead>\n",
       "  <tbody>\n",
       "    <tr>\n",
       "      <th>FEMALE</th>\n",
       "      <td>80</td>\n",
       "      <td>61</td>\n",
       "      <td>24</td>\n",
       "    </tr>\n",
       "    <tr>\n",
       "      <th>MALE</th>\n",
       "      <td>83</td>\n",
       "      <td>62</td>\n",
       "      <td>23</td>\n",
       "    </tr>\n",
       "  </tbody>\n",
       "</table>\n",
       "</div>"
      ],
      "text/plain": [
       "Island  Biscoe  Dream  Torgersen\n",
       "Sex                             \n",
       "FEMALE      80     61         24\n",
       "MALE        83     62         23"
      ]
     },
     "execution_count": 273,
     "metadata": {},
     "output_type": "execute_result"
    }
   ],
   "source": [
    "contingency_table = pd.crosstab(df3['Sex'], df3['Island'])\n",
    "contingency_table"
   ]
  },
  {
   "cell_type": "code",
   "execution_count": 275,
   "id": "aa0134c3-3409-4b50-b29c-1eb1e5da4610",
   "metadata": {},
   "outputs": [
    {
     "name": "stdout",
     "output_type": "stream",
     "text": [
      "Chi-square statistic: 0.05759904881286206\n",
      "Degrees of freedom: 2\n",
      "P-value: 0.971611229281065\n",
      "Expected frequencies:\n",
      " [[80.76576577 60.94594595 23.28828829]\n",
      " [82.23423423 62.05405405 23.71171171]]\n",
      "Fail to reject H₀: No significant association between Sex and Island.\n"
     ]
    }
   ],
   "source": [
    "chi2, p_val, dof, expected = chi2_contingency(contingency_table)\n",
    "\n",
    "print(f\"Chi-square statistic: {chi2}\")\n",
    "print(f\"Degrees of freedom: {dof}\")\n",
    "print(f\"P-value: {p_val}\")\n",
    "print(\"Expected frequencies:\\n\", expected)\n",
    "\n",
    "alpha = 0.05\n",
    "if p_val < alpha:\n",
    "    print(\"Reject H₀: Sex and Island are associated.\")\n",
    "else:\n",
    "    print(\"Fail to reject H₀: No significant association between Sex and Island.\")"
   ]
  },
  {
   "cell_type": "markdown",
   "id": "d42deb62-6a63-4903-982d-2e5666476285",
   "metadata": {},
   "source": [
    "## Q10: Correlation — Find the correlation coefficient between Flipper Length (mm) and Body Mass (g)."
   ]
  },
  {
   "cell_type": "code",
   "execution_count": 282,
   "id": "6dd6f2a6-4711-4360-b5b0-0408899461e8",
   "metadata": {},
   "outputs": [
    {
     "name": "stdout",
     "output_type": "stream",
     "text": [
      "Correlation Coefficient: 0.8712017673060116\n",
      "P-value: 4.3706809629980454e-107\n",
      "The correlation is positive and strong.\n"
     ]
    }
   ],
   "source": [
    "df4 = df[['Flipper Length (mm)', 'Body Mass (g)']].dropna()\n",
    "\n",
    "corr_coef, p_value = stats.pearsonr(df4['Flipper Length (mm)'], df4['Body Mass (g)'])\n",
    "\n",
    "print(f\"Correlation Coefficient: {corr_coef}\")\n",
    "print(f\"P-value: {p_value}\")\n",
    "\n",
    "if corr_coef > 0:\n",
    "    direction = \"positive\"\n",
    "elif corr_coef < 0:\n",
    "    direction = \"negative\"\n",
    "else:\n",
    "    direction = \"no\"\n",
    "\n",
    "print(f\"The correlation is {direction} and {'strong' if abs(corr_coef) > 0.7 else 'moderate' if abs(corr_coef) > 0.4 else 'weak'}.\")"
   ]
  },
  {
   "cell_type": "code",
   "execution_count": null,
   "id": "88473ab5-22bd-4e1d-a794-79ee999dfd1a",
   "metadata": {},
   "outputs": [],
   "source": []
  }
 ],
 "metadata": {
  "kernelspec": {
   "display_name": "Python 3 (ipykernel)",
   "language": "python",
   "name": "python3"
  },
  "language_info": {
   "codemirror_mode": {
    "name": "ipython",
    "version": 3
   },
   "file_extension": ".py",
   "mimetype": "text/x-python",
   "name": "python",
   "nbconvert_exporter": "python",
   "pygments_lexer": "ipython3",
   "version": "3.12.7"
  }
 },
 "nbformat": 4,
 "nbformat_minor": 5
}
