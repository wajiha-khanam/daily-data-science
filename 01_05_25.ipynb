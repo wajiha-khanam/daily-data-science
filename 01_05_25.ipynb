{
 "cells": [
  {
   "cell_type": "markdown",
   "id": "80bff3d8-177f-4696-84ed-365c991bebde",
   "metadata": {},
   "source": [
    "# 🔍 Day 4 Challenge"
   ]
  },
  {
   "cell_type": "code",
   "execution_count": 2,
   "id": "343b1003-e92b-45c5-9f97-bea1c223a7cd",
   "metadata": {},
   "outputs": [],
   "source": [
    "import pandas as pd\n",
    "import numpy as np\n",
    "import matplotlib.pyplot as plt\n",
    "import seaborn as sns"
   ]
  },
  {
   "cell_type": "code",
   "execution_count": 4,
   "id": "2fd77c7e-b411-4434-9575-f34598f5dd66",
   "metadata": {},
   "outputs": [
    {
     "data": {
      "text/html": [
       "<div>\n",
       "<style scoped>\n",
       "    .dataframe tbody tr th:only-of-type {\n",
       "        vertical-align: middle;\n",
       "    }\n",
       "\n",
       "    .dataframe tbody tr th {\n",
       "        vertical-align: top;\n",
       "    }\n",
       "\n",
       "    .dataframe thead th {\n",
       "        text-align: right;\n",
       "    }\n",
       "</style>\n",
       "<table border=\"1\" class=\"dataframe\">\n",
       "  <thead>\n",
       "    <tr style=\"text-align: right;\">\n",
       "      <th></th>\n",
       "      <th>show_id</th>\n",
       "      <th>type</th>\n",
       "      <th>title</th>\n",
       "      <th>director</th>\n",
       "      <th>cast</th>\n",
       "      <th>country</th>\n",
       "      <th>date_added</th>\n",
       "      <th>release_year</th>\n",
       "      <th>rating</th>\n",
       "      <th>duration</th>\n",
       "      <th>listed_in</th>\n",
       "      <th>description</th>\n",
       "    </tr>\n",
       "  </thead>\n",
       "  <tbody>\n",
       "    <tr>\n",
       "      <th>0</th>\n",
       "      <td>s1</td>\n",
       "      <td>Movie</td>\n",
       "      <td>Dick Johnson Is Dead</td>\n",
       "      <td>Kirsten Johnson</td>\n",
       "      <td>NaN</td>\n",
       "      <td>United States</td>\n",
       "      <td>September 25, 2021</td>\n",
       "      <td>2020</td>\n",
       "      <td>PG-13</td>\n",
       "      <td>90 min</td>\n",
       "      <td>Documentaries</td>\n",
       "      <td>As her father nears the end of his life, filmm...</td>\n",
       "    </tr>\n",
       "    <tr>\n",
       "      <th>1</th>\n",
       "      <td>s2</td>\n",
       "      <td>TV Show</td>\n",
       "      <td>Blood &amp; Water</td>\n",
       "      <td>NaN</td>\n",
       "      <td>Ama Qamata, Khosi Ngema, Gail Mabalane, Thaban...</td>\n",
       "      <td>South Africa</td>\n",
       "      <td>September 24, 2021</td>\n",
       "      <td>2021</td>\n",
       "      <td>TV-MA</td>\n",
       "      <td>2 Seasons</td>\n",
       "      <td>International TV Shows, TV Dramas, TV Mysteries</td>\n",
       "      <td>After crossing paths at a party, a Cape Town t...</td>\n",
       "    </tr>\n",
       "    <tr>\n",
       "      <th>2</th>\n",
       "      <td>s3</td>\n",
       "      <td>TV Show</td>\n",
       "      <td>Ganglands</td>\n",
       "      <td>Julien Leclercq</td>\n",
       "      <td>Sami Bouajila, Tracy Gotoas, Samuel Jouy, Nabi...</td>\n",
       "      <td>NaN</td>\n",
       "      <td>September 24, 2021</td>\n",
       "      <td>2021</td>\n",
       "      <td>TV-MA</td>\n",
       "      <td>1 Season</td>\n",
       "      <td>Crime TV Shows, International TV Shows, TV Act...</td>\n",
       "      <td>To protect his family from a powerful drug lor...</td>\n",
       "    </tr>\n",
       "    <tr>\n",
       "      <th>3</th>\n",
       "      <td>s4</td>\n",
       "      <td>TV Show</td>\n",
       "      <td>Jailbirds New Orleans</td>\n",
       "      <td>NaN</td>\n",
       "      <td>NaN</td>\n",
       "      <td>NaN</td>\n",
       "      <td>September 24, 2021</td>\n",
       "      <td>2021</td>\n",
       "      <td>TV-MA</td>\n",
       "      <td>1 Season</td>\n",
       "      <td>Docuseries, Reality TV</td>\n",
       "      <td>Feuds, flirtations and toilet talk go down amo...</td>\n",
       "    </tr>\n",
       "    <tr>\n",
       "      <th>4</th>\n",
       "      <td>s5</td>\n",
       "      <td>TV Show</td>\n",
       "      <td>Kota Factory</td>\n",
       "      <td>NaN</td>\n",
       "      <td>Mayur More, Jitendra Kumar, Ranjan Raj, Alam K...</td>\n",
       "      <td>India</td>\n",
       "      <td>September 24, 2021</td>\n",
       "      <td>2021</td>\n",
       "      <td>TV-MA</td>\n",
       "      <td>2 Seasons</td>\n",
       "      <td>International TV Shows, Romantic TV Shows, TV ...</td>\n",
       "      <td>In a city of coaching centers known to train I...</td>\n",
       "    </tr>\n",
       "  </tbody>\n",
       "</table>\n",
       "</div>"
      ],
      "text/plain": [
       "  show_id     type                  title         director  \\\n",
       "0      s1    Movie   Dick Johnson Is Dead  Kirsten Johnson   \n",
       "1      s2  TV Show          Blood & Water              NaN   \n",
       "2      s3  TV Show              Ganglands  Julien Leclercq   \n",
       "3      s4  TV Show  Jailbirds New Orleans              NaN   \n",
       "4      s5  TV Show           Kota Factory              NaN   \n",
       "\n",
       "                                                cast        country  \\\n",
       "0                                                NaN  United States   \n",
       "1  Ama Qamata, Khosi Ngema, Gail Mabalane, Thaban...   South Africa   \n",
       "2  Sami Bouajila, Tracy Gotoas, Samuel Jouy, Nabi...            NaN   \n",
       "3                                                NaN            NaN   \n",
       "4  Mayur More, Jitendra Kumar, Ranjan Raj, Alam K...          India   \n",
       "\n",
       "           date_added  release_year rating   duration  \\\n",
       "0  September 25, 2021          2020  PG-13     90 min   \n",
       "1  September 24, 2021          2021  TV-MA  2 Seasons   \n",
       "2  September 24, 2021          2021  TV-MA   1 Season   \n",
       "3  September 24, 2021          2021  TV-MA   1 Season   \n",
       "4  September 24, 2021          2021  TV-MA  2 Seasons   \n",
       "\n",
       "                                           listed_in  \\\n",
       "0                                      Documentaries   \n",
       "1    International TV Shows, TV Dramas, TV Mysteries   \n",
       "2  Crime TV Shows, International TV Shows, TV Act...   \n",
       "3                             Docuseries, Reality TV   \n",
       "4  International TV Shows, Romantic TV Shows, TV ...   \n",
       "\n",
       "                                         description  \n",
       "0  As her father nears the end of his life, filmm...  \n",
       "1  After crossing paths at a party, a Cape Town t...  \n",
       "2  To protect his family from a powerful drug lor...  \n",
       "3  Feuds, flirtations and toilet talk go down amo...  \n",
       "4  In a city of coaching centers known to train I...  "
      ]
     },
     "execution_count": 4,
     "metadata": {},
     "output_type": "execute_result"
    }
   ],
   "source": [
    "df = pd.read_csv(\"netflix_titles.csv\")\n",
    "df.head()"
   ]
  },
  {
   "cell_type": "code",
   "execution_count": 8,
   "id": "d7570f63-d2e9-4400-90ea-630e74368b4e",
   "metadata": {},
   "outputs": [
    {
     "name": "stdout",
     "output_type": "stream",
     "text": [
      "<class 'pandas.core.frame.DataFrame'>\n",
      "RangeIndex: 8807 entries, 0 to 8806\n",
      "Data columns (total 12 columns):\n",
      " #   Column        Non-Null Count  Dtype \n",
      "---  ------        --------------  ----- \n",
      " 0   show_id       8807 non-null   object\n",
      " 1   type          8807 non-null   object\n",
      " 2   title         8807 non-null   object\n",
      " 3   director      6173 non-null   object\n",
      " 4   cast          7982 non-null   object\n",
      " 5   country       7976 non-null   object\n",
      " 6   date_added    8797 non-null   object\n",
      " 7   release_year  8807 non-null   int64 \n",
      " 8   rating        8803 non-null   object\n",
      " 9   duration      8804 non-null   object\n",
      " 10  listed_in     8807 non-null   object\n",
      " 11  description   8807 non-null   object\n",
      "dtypes: int64(1), object(11)\n",
      "memory usage: 825.8+ KB\n"
     ]
    }
   ],
   "source": [
    "df.info()"
   ]
  },
  {
   "cell_type": "code",
   "execution_count": 12,
   "id": "d26d60a8-e670-4cbe-8d94-889eb5649b0e",
   "metadata": {},
   "outputs": [
    {
     "data": {
      "text/plain": [
       "Index(['show_id', 'type', 'title', 'director', 'cast', 'country', 'date_added',\n",
       "       'release_year', 'rating', 'duration', 'listed_in', 'description'],\n",
       "      dtype='object')"
      ]
     },
     "execution_count": 12,
     "metadata": {},
     "output_type": "execute_result"
    }
   ],
   "source": [
    "df.columns"
   ]
  },
  {
   "cell_type": "markdown",
   "id": "7be7b17a-cd06-4cf1-8b83-6ca8f26f9193",
   "metadata": {},
   "source": [
    "#  Pandas "
   ]
  },
  {
   "cell_type": "markdown",
   "id": "06259013-0730-477f-a199-aa862c9f73d3",
   "metadata": {},
   "source": [
    "## Q1: Find all movies released in the year 2020. Display their title and duration."
   ]
  },
  {
   "cell_type": "code",
   "execution_count": 31,
   "id": "6411ca3e-7ec8-49a8-b7de-c2d53e9664a2",
   "metadata": {},
   "outputs": [
    {
     "data": {
      "text/html": [
       "<div>\n",
       "<style scoped>\n",
       "    .dataframe tbody tr th:only-of-type {\n",
       "        vertical-align: middle;\n",
       "    }\n",
       "\n",
       "    .dataframe tbody tr th {\n",
       "        vertical-align: top;\n",
       "    }\n",
       "\n",
       "    .dataframe thead th {\n",
       "        text-align: right;\n",
       "    }\n",
       "</style>\n",
       "<table border=\"1\" class=\"dataframe\">\n",
       "  <thead>\n",
       "    <tr style=\"text-align: right;\">\n",
       "      <th></th>\n",
       "      <th>title</th>\n",
       "      <th>duration</th>\n",
       "    </tr>\n",
       "  </thead>\n",
       "  <tbody>\n",
       "    <tr>\n",
       "      <th>0</th>\n",
       "      <td>Dick Johnson Is Dead</td>\n",
       "      <td>90 min</td>\n",
       "    </tr>\n",
       "    <tr>\n",
       "      <th>16</th>\n",
       "      <td>Europe's Most Dangerous Man: Otto Skorzeny in ...</td>\n",
       "      <td>67 min</td>\n",
       "    </tr>\n",
       "    <tr>\n",
       "      <th>78</th>\n",
       "      <td>Tughlaq Durbar</td>\n",
       "      <td>145 min</td>\n",
       "    </tr>\n",
       "    <tr>\n",
       "      <th>84</th>\n",
       "      <td>Omo Ghetto: the Saga</td>\n",
       "      <td>147 min</td>\n",
       "    </tr>\n",
       "    <tr>\n",
       "      <th>103</th>\n",
       "      <td>Shadow Parties</td>\n",
       "      <td>117 min</td>\n",
       "    </tr>\n",
       "    <tr>\n",
       "      <th>...</th>\n",
       "      <td>...</td>\n",
       "      <td>...</td>\n",
       "    </tr>\n",
       "    <tr>\n",
       "      <th>3046</th>\n",
       "      <td>All the Freckles in the World</td>\n",
       "      <td>90 min</td>\n",
       "    </tr>\n",
       "    <tr>\n",
       "      <th>3060</th>\n",
       "      <td>Ghost Stories</td>\n",
       "      <td>145 min</td>\n",
       "    </tr>\n",
       "    <tr>\n",
       "      <th>5972</th>\n",
       "      <td>#cats_the_mewvie</td>\n",
       "      <td>90 min</td>\n",
       "    </tr>\n",
       "    <tr>\n",
       "      <th>7594</th>\n",
       "      <td>Norm of the North: Family Vacation</td>\n",
       "      <td>89 min</td>\n",
       "    </tr>\n",
       "    <tr>\n",
       "      <th>8099</th>\n",
       "      <td>Straight Up</td>\n",
       "      <td>96 min</td>\n",
       "    </tr>\n",
       "  </tbody>\n",
       "</table>\n",
       "<p>517 rows × 2 columns</p>\n",
       "</div>"
      ],
      "text/plain": [
       "                                                  title duration\n",
       "0                                  Dick Johnson Is Dead   90 min\n",
       "16    Europe's Most Dangerous Man: Otto Skorzeny in ...   67 min\n",
       "78                                       Tughlaq Durbar  145 min\n",
       "84                                 Omo Ghetto: the Saga  147 min\n",
       "103                                      Shadow Parties  117 min\n",
       "...                                                 ...      ...\n",
       "3046                      All the Freckles in the World   90 min\n",
       "3060                                      Ghost Stories  145 min\n",
       "5972                                   #cats_the_mewvie   90 min\n",
       "7594                 Norm of the North: Family Vacation   89 min\n",
       "8099                                        Straight Up   96 min\n",
       "\n",
       "[517 rows x 2 columns]"
      ]
     },
     "execution_count": 31,
     "metadata": {},
     "output_type": "execute_result"
    }
   ],
   "source": [
    "movie_in_2020_df = df[(df['type'] == 'Movie') & (df['release_year'] == 2020)]\n",
    "title_and_duration = movie_in_2020_df[['title', 'duration']]\n",
    "title_and_duration"
   ]
  },
  {
   "cell_type": "markdown",
   "id": "b57c0c11-29c9-413d-bd94-50f2dc1fa49e",
   "metadata": {},
   "source": [
    "## Q2: Which 3 countries have produced the highest number of TV Shows?"
   ]
  },
  {
   "cell_type": "code",
   "execution_count": 48,
   "id": "877bb789-601b-4c4e-8b8f-cc5b73c5a18a",
   "metadata": {},
   "outputs": [
    {
     "data": {
      "text/html": [
       "<div>\n",
       "<style scoped>\n",
       "    .dataframe tbody tr th:only-of-type {\n",
       "        vertical-align: middle;\n",
       "    }\n",
       "\n",
       "    .dataframe tbody tr th {\n",
       "        vertical-align: top;\n",
       "    }\n",
       "\n",
       "    .dataframe thead th {\n",
       "        text-align: right;\n",
       "    }\n",
       "</style>\n",
       "<table border=\"1\" class=\"dataframe\">\n",
       "  <thead>\n",
       "    <tr style=\"text-align: right;\">\n",
       "      <th></th>\n",
       "      <th>country</th>\n",
       "      <th>Tv_show_count</th>\n",
       "    </tr>\n",
       "  </thead>\n",
       "  <tbody>\n",
       "    <tr>\n",
       "      <th>0</th>\n",
       "      <td>United States</td>\n",
       "      <td>760</td>\n",
       "    </tr>\n",
       "    <tr>\n",
       "      <th>1</th>\n",
       "      <td>United Kingdom</td>\n",
       "      <td>213</td>\n",
       "    </tr>\n",
       "    <tr>\n",
       "      <th>2</th>\n",
       "      <td>Japan</td>\n",
       "      <td>169</td>\n",
       "    </tr>\n",
       "  </tbody>\n",
       "</table>\n",
       "</div>"
      ],
      "text/plain": [
       "          country  Tv_show_count\n",
       "0   United States            760\n",
       "1  United Kingdom            213\n",
       "2           Japan            169"
      ]
     },
     "execution_count": 48,
     "metadata": {},
     "output_type": "execute_result"
    }
   ],
   "source": [
    "TV_show_df = df[df['type'] == 'TV Show']\n",
    "TV_show_top_countries = TV_show_df.groupby('country').size().sort_values(ascending = False).reset_index(name = 'Tv_show_count')\n",
    "TV_show_top_3_countries = TV_show_top_countries.head(3)\n",
    "TV_show_top_3_countries"
   ]
  },
  {
   "cell_type": "markdown",
   "id": "26093c98-f887-41f0-85db-23d7e4469e40",
   "metadata": {},
   "source": [
    "## Q3: Check if there are any missing values in the ‘director’ column. Count them."
   ]
  },
  {
   "cell_type": "code",
   "execution_count": 55,
   "id": "26555815-67c0-4847-b8ac-bcb2d67080c1",
   "metadata": {},
   "outputs": [
    {
     "data": {
      "text/plain": [
       "2634"
      ]
     },
     "execution_count": 55,
     "metadata": {},
     "output_type": "execute_result"
    }
   ],
   "source": [
    "missing_val_director = df['director'].isnull()\n",
    "missing_val_director_count = df['director'].isnull().sum()\n",
    "missing_val_director_count"
   ]
  },
  {
   "cell_type": "markdown",
   "id": "255ff01e-5dee-48af-aac9-6155161a97a4",
   "metadata": {},
   "source": [
    "# 📊 Visualization"
   ]
  },
  {
   "cell_type": "markdown",
   "id": "287fa403-87d5-4329-beab-f1f80f56ba75",
   "metadata": {},
   "source": [
    "## Q1: Create a bar chart showing the top 5 genres (from the 'listed_in' column)."
   ]
  },
  {
   "cell_type": "code",
   "execution_count": 93,
   "id": "4d3d000d-0bc1-4717-b7e3-53e8ca4bcfe9",
   "metadata": {},
   "outputs": [
    {
     "data": {
      "image/png": "[encoded data removed]",
      "text/plain": [
       "<Figure size 1000x500 with 1 Axes>"
      ]
     },
     "metadata": {},
     "output_type": "display_data"
    }
   ],
   "source": [
    "genre_exploded =  df['listed_in'].dropna().str.split(\", \").explode()\n",
    "genre_exploded\n",
    "top_genre = genre_exploded.value_counts().sort_values(ascending = False).reset_index(name = 'count').head(5)\n",
    "top_genre\n",
    "plt.figure(figsize = (10,5))\n",
    "sns.barplot(data = top_genre, x = 'listed_in', y = 'count')\n",
    "plt.title(\"Top 5 genres\")\n",
    "plt.xlabel(\"Genre\")\n",
    "plt.ylabel(\"Count\")\n",
    "plt.tight_layout()\n",
    "plt.xticks(rotation=45)\n",
    "plt.show()"
   ]
  },
  {
   "cell_type": "markdown",
   "id": "af2495ff-6ca6-41af-8105-abe2f6ea3796",
   "metadata": {},
   "source": [
    "## Q2: Plot the number of movies and TV Shows added each year. Use a grouped bar chart."
   ]
  },
  {
   "cell_type": "code",
   "execution_count": 128,
   "id": "b1adc727-084a-4eeb-8300-a7add586990c",
   "metadata": {},
   "outputs": [
    {
     "data": {
      "image/png": "[encoded data removed]",
      "text/plain": [
       "<Figure size 800x500 with 1 Axes>"
      ]
     },
     "metadata": {},
     "output_type": "display_data"
    }
   ],
   "source": [
    "df['date_added'] = pd.to_datetime(df['date_added'], format = 'mixed')\n",
    "df['year_added'] = df['date_added'].dt.year\n",
    "df['year_added'] = df['year_added'].fillna(0).astype(int)\n",
    "\n",
    "type_count = df.groupby(['year_added', 'type'])['type'].size().reset_index(name = 'count')\n",
    "type_count\n",
    "\n",
    "plt.figure(figsize = (8,5))\n",
    "sns.barplot(data = type_count, x = 'year_added', y = 'count', hue = 'type')\n",
    "plt.title('Number of Movies and TV Shows Added per Year')\n",
    "plt.xlabel('Year')\n",
    "plt.ylabel('Count')\n",
    "plt.xticks(rotation=45)\n",
    "plt.tight_layout()\n",
    "plt.show()"
   ]
  },
  {
   "cell_type": "markdown",
   "id": "98f6efdb-183d-4122-9b0c-4789097d6967",
   "metadata": {},
   "source": [
    "## Q3: Make a pie chart showing the distribution of content rating types (e.g., TV-MA, PG, etc.)."
   ]
  },
  {
   "cell_type": "code",
   "execution_count": 153,
   "id": "7fe6d017-8328-46c3-8ff2-ac3179ea2824",
   "metadata": {},
   "outputs": [
    {
     "data": {
      "image/png": "[encoded data removed]",
      "text/plain": [
       "<Figure size 800x500 with 1 Axes>"
      ]
     },
     "metadata": {},
     "output_type": "display_data"
    }
   ],
   "source": [
    "rating_type_df = df.groupby('rating').size().sort_values(ascending = False).reset_index(name = 'count')\n",
    "rating_type_df\n",
    "plt.figure(figsize = (8,5))\n",
    "plt.pie(rating_type_df['count'], labels = rating_type_df['rating'], autopct = '%1.1f%%')\n",
    "plt.title('Distribution of Ratings')\n",
    "plt.tight_layout()\n",
    "plt.show()"
   ]
  },
  {
   "cell_type": "markdown",
   "id": "50ebc876-0509-4c7f-a8e9-c80dd92d7c14",
   "metadata": {},
   "source": [
    "# 📈 EDA "
   ]
  },
  {
   "cell_type": "markdown",
   "id": "6a92d2c0-c3c2-4dd1-b68c-b6aa71639d11",
   "metadata": {},
   "source": [
    "## Q1: What is the average duration of movies (in minutes)? Clean the 'duration' column first."
   ]
  },
  {
   "cell_type": "code",
   "execution_count": 157,
   "id": "3b8e3076-e7b7-4279-956d-61c62edaadc0",
   "metadata": {},
   "outputs": [
    {
     "data": {
      "text/plain": [
       "0          90 min\n",
       "1       2 Seasons\n",
       "2        1 Season\n",
       "3        1 Season\n",
       "4       2 Seasons\n",
       "          ...    \n",
       "8802      158 min\n",
       "8803    2 Seasons\n",
       "8804       88 min\n",
       "8805       88 min\n",
       "8806      111 min\n",
       "Name: duration, Length: 8807, dtype: object"
      ]
     },
     "execution_count": 157,
     "metadata": {},
     "output_type": "execute_result"
    }
   ],
   "source": [
    "df['duration']"
   ]
  },
  {
   "cell_type": "code",
   "execution_count": 185,
   "id": "46f6e81f-4b3c-4fe6-8bc6-b8fbb4e801b6",
   "metadata": {},
   "outputs": [
    {
     "name": "stdout",
     "output_type": "stream",
     "text": [
      "The avg duration of movies (in minutes) is 99.58.\n"
     ]
    }
   ],
   "source": [
    "movies_df = df[df['type'] == 'Movie']\n",
    "clean_duration = movies_df['duration'].dropna().str.replace(' min', '').astype(int)\n",
    "avg_duration = round(clean_duration.mean(),2)\n",
    "print(f\"The avg duration of movies (in minutes) is {avg_duration}.\")\n"
   ]
  },
  {
   "cell_type": "markdown",
   "id": "3e37b7bd-812d-456d-ac8c-3ee9f4af9f39",
   "metadata": {},
   "source": [
    "## Q2: Find the most frequent director on the platform. How many titles have they directed?"
   ]
  },
  {
   "cell_type": "code",
   "execution_count": 212,
   "id": "0380f667-9b2a-4008-94ac-d786522c0953",
   "metadata": {},
   "outputs": [
    {
     "name": "stdout",
     "output_type": "stream",
     "text": [
      "The most frequent director on the platform is Rajiv Chilaka.\n"
     ]
    }
   ],
   "source": [
    "top_director = df['director'].value_counts().sort_values(ascending = False).head(1)\n",
    "top_director\n",
    "print(f\"The most frequent director on the platform is {top_director.index[0]}.\")"
   ]
  },
  {
   "cell_type": "markdown",
   "id": "882cfb28-6cb0-4707-957a-2fec2fc008be",
   "metadata": {},
   "source": [
    "## Q3: Which month sees the most content being added? Does this vary by year?"
   ]
  },
  {
   "cell_type": "code",
   "execution_count": 231,
   "id": "1bacce9d-c76d-446a-94cd-a0b5dfca11f1",
   "metadata": {},
   "outputs": [
    {
     "data": {
      "text/plain": [
       "year_added  month_added\n",
       "2021        July           257\n",
       "2019        November       255\n",
       "            December       215\n",
       "2021        June           207\n",
       "2020        January        205\n",
       "                          ... \n",
       "2013        March            1\n",
       "2015        January          1\n",
       "2014        August           1\n",
       "            July             1\n",
       "2008        February         1\n",
       "Length: 108, dtype: int64"
      ]
     },
     "execution_count": 231,
     "metadata": {},
     "output_type": "execute_result"
    }
   ],
   "source": [
    "df['month_added'] = df['date_added'].dt.month_name()\n",
    "by_month_df = df['month_added'].value_counts().sort_values(ascending = False)\n",
    "by_month_df\n",
    "month_year_added = df.groupby(['year_added', 'month_added']).size().sort_values(ascending = False)\n",
    "month_year_added"
   ]
  },
  {
   "cell_type": "markdown",
   "id": "4d6dba4d-60ef-492e-ab32-e4799374e31b",
   "metadata": {},
   "source": [
    "# 📊 Statistics"
   ]
  },
  {
   "cell_type": "markdown",
   "id": "9c96d273-5e11-471d-aa68-cdfeca6e8089",
   "metadata": {},
   "source": [
    "## Q1: Calculate the mean, median, and mode for movie durations. Interpret them."
   ]
  },
  {
   "cell_type": "code",
   "execution_count": 236,
   "id": "2b0611b9-361f-4099-8107-bcea92a69075",
   "metadata": {},
   "outputs": [
    {
     "data": {
      "text/plain": [
       "0          90 min\n",
       "1       2 Seasons\n",
       "2        1 Season\n",
       "3        1 Season\n",
       "4       2 Seasons\n",
       "          ...    \n",
       "8802      158 min\n",
       "8803    2 Seasons\n",
       "8804       88 min\n",
       "8805       88 min\n",
       "8806      111 min\n",
       "Name: duration, Length: 8807, dtype: object"
      ]
     },
     "execution_count": 236,
     "metadata": {},
     "output_type": "execute_result"
    }
   ],
   "source": [
    "df['duration']"
   ]
  },
  {
   "cell_type": "code",
   "execution_count": 271,
   "id": "3031cda9-abfe-4e1e-af9d-594fb2df7076",
   "metadata": {},
   "outputs": [
    {
     "name": "stdout",
     "output_type": "stream",
     "text": [
      "The mean of movie duration is: 99.58 min.\n",
      "The median of movie duration is: 98.0 min.\n",
      "The mode of movie duration is: 0    90\n",
      "Name: duration, dtype: int32 min.\n"
     ]
    }
   ],
   "source": [
    "movie_df = df[df['type'] == 'Movie'].copy()\n",
    "movie_df = movie_df.dropna(subset=['duration'])\n",
    "movie_df['duration'] = movie_df['duration'].str.replace(\" min\", \"\").astype(int)\n",
    "movie_duration_mean = movie_df['duration'].mean()\n",
    "print(f\"The mean of movie duration is: {round(movie_duration_mean,2)} min.\")\n",
    "print(f\"The median of movie duration is: {round(movie_df['duration'].median(),2)} min.\")\n",
    "print(f\"The mode of movie duration is: {round(movie_df['duration'].mode(),2)} min.\")"
   ]
  },
  {
   "cell_type": "markdown",
   "id": "19eff944-3cba-484c-96ab-b1ec5f9c6f6a",
   "metadata": {},
   "source": [
    "## Q2: What percentage of TV Shows have only 1 season?"
   ]
  },
  {
   "cell_type": "code",
   "execution_count": 286,
   "id": "bb00693b-f72d-4dcd-aa60-67a37259cd01",
   "metadata": {},
   "outputs": [
    {
     "name": "stdout",
     "output_type": "stream",
     "text": [
      "The percentage of TV Shows having only 1 season is: 67.0%.\n"
     ]
    }
   ],
   "source": [
    "TV_Show_df = df[df['type'] == 'TV Show']\n",
    "one_season_df = TV_Show_df[TV_Show_df['duration'] == '1 Season']\n",
    "percent_TV_Show = (len(one_season_df) / len(TV_Show_df)) * 100.0\n",
    "print(f\"The percentage of TV Shows having only 1 season is: {round(percent_TV_Show,2)}%.\")"
   ]
  },
  {
   "cell_type": "code",
   "execution_count": null,
   "id": "1399b784-e1a7-48ce-be3b-018e6135c4ba",
   "metadata": {},
   "outputs": [],
   "source": []
  }
 ],
 "metadata": {
  "kernelspec": {
   "display_name": "Python 3 (ipykernel)",
   "language": "python",
   "name": "python3"
  },
  "language_info": {
   "codemirror_mode": {
    "name": "ipython",
    "version": 3
   },
   "file_extension": ".py",
   "mimetype": "text/x-python",
   "name": "python",
   "nbconvert_exporter": "python",
   "pygments_lexer": "ipython3",
   "version": "3.12.7"
  }
 },
 "nbformat": 4,
 "nbformat_minor": 5
}
