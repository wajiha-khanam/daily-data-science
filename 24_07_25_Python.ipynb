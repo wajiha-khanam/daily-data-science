{
 "cells": [
  {
   "cell_type": "markdown",
   "id": "103a0142-634c-47f2-b387-6f8ae1aa2a02",
   "metadata": {},
   "source": [
    "##### Dataset: \"https://archive.ics.uci.edu/dataset/502/online+retail+ii\""
   ]
  },
  {
   "cell_type": "code",
   "execution_count": 152,
   "id": "274e97f5-357b-4e22-b26d-51add37254ab",
   "metadata": {},
   "outputs": [],
   "source": [
    "import pandas as pd\n",
    "import matplotlib.pyplot as plt\n",
    "import seaborn as sns"
   ]
  },
  {
   "cell_type": "code",
   "execution_count": 10,
   "id": "f3c9526c-ca34-4b81-9b82-acea40661836",
   "metadata": {},
   "outputs": [
    {
     "data": {
      "text/html": [
       "<div>\n",
       "<style scoped>\n",
       "    .dataframe tbody tr th:only-of-type {\n",
       "        vertical-align: middle;\n",
       "    }\n",
       "\n",
       "    .dataframe tbody tr th {\n",
       "        vertical-align: top;\n",
       "    }\n",
       "\n",
       "    .dataframe thead th {\n",
       "        text-align: right;\n",
       "    }\n",
       "</style>\n",
       "<table border=\"1\" class=\"dataframe\">\n",
       "  <thead>\n",
       "    <tr style=\"text-align: right;\">\n",
       "      <th></th>\n",
       "      <th>Invoice</th>\n",
       "      <th>StockCode</th>\n",
       "      <th>Description</th>\n",
       "      <th>Quantity</th>\n",
       "      <th>InvoiceDate</th>\n",
       "      <th>Price</th>\n",
       "      <th>Customer ID</th>\n",
       "      <th>Country</th>\n",
       "    </tr>\n",
       "  </thead>\n",
       "  <tbody>\n",
       "    <tr>\n",
       "      <th>0</th>\n",
       "      <td>489434</td>\n",
       "      <td>85048</td>\n",
       "      <td>15CM CHRISTMAS GLASS BALL 20 LIGHTS</td>\n",
       "      <td>12</td>\n",
       "      <td>2009-12-01 07:45:00</td>\n",
       "      <td>6.95</td>\n",
       "      <td>13085.0</td>\n",
       "      <td>United Kingdom</td>\n",
       "    </tr>\n",
       "    <tr>\n",
       "      <th>1</th>\n",
       "      <td>489434</td>\n",
       "      <td>79323P</td>\n",
       "      <td>PINK CHERRY LIGHTS</td>\n",
       "      <td>12</td>\n",
       "      <td>2009-12-01 07:45:00</td>\n",
       "      <td>6.75</td>\n",
       "      <td>13085.0</td>\n",
       "      <td>United Kingdom</td>\n",
       "    </tr>\n",
       "    <tr>\n",
       "      <th>2</th>\n",
       "      <td>489434</td>\n",
       "      <td>79323W</td>\n",
       "      <td>WHITE CHERRY LIGHTS</td>\n",
       "      <td>12</td>\n",
       "      <td>2009-12-01 07:45:00</td>\n",
       "      <td>6.75</td>\n",
       "      <td>13085.0</td>\n",
       "      <td>United Kingdom</td>\n",
       "    </tr>\n",
       "    <tr>\n",
       "      <th>3</th>\n",
       "      <td>489434</td>\n",
       "      <td>22041</td>\n",
       "      <td>RECORD FRAME 7\" SINGLE SIZE</td>\n",
       "      <td>48</td>\n",
       "      <td>2009-12-01 07:45:00</td>\n",
       "      <td>2.10</td>\n",
       "      <td>13085.0</td>\n",
       "      <td>United Kingdom</td>\n",
       "    </tr>\n",
       "    <tr>\n",
       "      <th>4</th>\n",
       "      <td>489434</td>\n",
       "      <td>21232</td>\n",
       "      <td>STRAWBERRY CERAMIC TRINKET BOX</td>\n",
       "      <td>24</td>\n",
       "      <td>2009-12-01 07:45:00</td>\n",
       "      <td>1.25</td>\n",
       "      <td>13085.0</td>\n",
       "      <td>United Kingdom</td>\n",
       "    </tr>\n",
       "    <tr>\n",
       "      <th>...</th>\n",
       "      <td>...</td>\n",
       "      <td>...</td>\n",
       "      <td>...</td>\n",
       "      <td>...</td>\n",
       "      <td>...</td>\n",
       "      <td>...</td>\n",
       "      <td>...</td>\n",
       "      <td>...</td>\n",
       "    </tr>\n",
       "    <tr>\n",
       "      <th>525456</th>\n",
       "      <td>538171</td>\n",
       "      <td>22271</td>\n",
       "      <td>FELTCRAFT DOLL ROSIE</td>\n",
       "      <td>2</td>\n",
       "      <td>2010-12-09 20:01:00</td>\n",
       "      <td>2.95</td>\n",
       "      <td>17530.0</td>\n",
       "      <td>United Kingdom</td>\n",
       "    </tr>\n",
       "    <tr>\n",
       "      <th>525457</th>\n",
       "      <td>538171</td>\n",
       "      <td>22750</td>\n",
       "      <td>FELTCRAFT PRINCESS LOLA DOLL</td>\n",
       "      <td>1</td>\n",
       "      <td>2010-12-09 20:01:00</td>\n",
       "      <td>3.75</td>\n",
       "      <td>17530.0</td>\n",
       "      <td>United Kingdom</td>\n",
       "    </tr>\n",
       "    <tr>\n",
       "      <th>525458</th>\n",
       "      <td>538171</td>\n",
       "      <td>22751</td>\n",
       "      <td>FELTCRAFT PRINCESS OLIVIA DOLL</td>\n",
       "      <td>1</td>\n",
       "      <td>2010-12-09 20:01:00</td>\n",
       "      <td>3.75</td>\n",
       "      <td>17530.0</td>\n",
       "      <td>United Kingdom</td>\n",
       "    </tr>\n",
       "    <tr>\n",
       "      <th>525459</th>\n",
       "      <td>538171</td>\n",
       "      <td>20970</td>\n",
       "      <td>PINK FLORAL FELTCRAFT SHOULDER BAG</td>\n",
       "      <td>2</td>\n",
       "      <td>2010-12-09 20:01:00</td>\n",
       "      <td>3.75</td>\n",
       "      <td>17530.0</td>\n",
       "      <td>United Kingdom</td>\n",
       "    </tr>\n",
       "    <tr>\n",
       "      <th>525460</th>\n",
       "      <td>538171</td>\n",
       "      <td>21931</td>\n",
       "      <td>JUMBO STORAGE BAG SUKI</td>\n",
       "      <td>2</td>\n",
       "      <td>2010-12-09 20:01:00</td>\n",
       "      <td>1.95</td>\n",
       "      <td>17530.0</td>\n",
       "      <td>United Kingdom</td>\n",
       "    </tr>\n",
       "  </tbody>\n",
       "</table>\n",
       "<p>525461 rows × 8 columns</p>\n",
       "</div>"
      ],
      "text/plain": [
       "       Invoice StockCode                          Description  Quantity  \\\n",
       "0       489434     85048  15CM CHRISTMAS GLASS BALL 20 LIGHTS        12   \n",
       "1       489434    79323P                   PINK CHERRY LIGHTS        12   \n",
       "2       489434    79323W                  WHITE CHERRY LIGHTS        12   \n",
       "3       489434     22041         RECORD FRAME 7\" SINGLE SIZE         48   \n",
       "4       489434     21232       STRAWBERRY CERAMIC TRINKET BOX        24   \n",
       "...        ...       ...                                  ...       ...   \n",
       "525456  538171     22271                 FELTCRAFT DOLL ROSIE         2   \n",
       "525457  538171     22750         FELTCRAFT PRINCESS LOLA DOLL         1   \n",
       "525458  538171     22751       FELTCRAFT PRINCESS OLIVIA DOLL         1   \n",
       "525459  538171     20970   PINK FLORAL FELTCRAFT SHOULDER BAG         2   \n",
       "525460  538171     21931               JUMBO STORAGE BAG SUKI         2   \n",
       "\n",
       "               InvoiceDate  Price  Customer ID         Country  \n",
       "0      2009-12-01 07:45:00   6.95      13085.0  United Kingdom  \n",
       "1      2009-12-01 07:45:00   6.75      13085.0  United Kingdom  \n",
       "2      2009-12-01 07:45:00   6.75      13085.0  United Kingdom  \n",
       "3      2009-12-01 07:45:00   2.10      13085.0  United Kingdom  \n",
       "4      2009-12-01 07:45:00   1.25      13085.0  United Kingdom  \n",
       "...                    ...    ...          ...             ...  \n",
       "525456 2010-12-09 20:01:00   2.95      17530.0  United Kingdom  \n",
       "525457 2010-12-09 20:01:00   3.75      17530.0  United Kingdom  \n",
       "525458 2010-12-09 20:01:00   3.75      17530.0  United Kingdom  \n",
       "525459 2010-12-09 20:01:00   3.75      17530.0  United Kingdom  \n",
       "525460 2010-12-09 20:01:00   1.95      17530.0  United Kingdom  \n",
       "\n",
       "[525461 rows x 8 columns]"
      ]
     },
     "execution_count": 10,
     "metadata": {},
     "output_type": "execute_result"
    }
   ],
   "source": [
    "df = pd.read_excel(\"online_retail_II.xlsx\")\n",
    "df"
   ]
  },
  {
   "cell_type": "markdown",
   "id": "21d28aec-bb50-4be5-bf65-cdea152108f7",
   "metadata": {},
   "source": [
    "### 1. Basic Inspection\n",
    "Load the dataset and show:\n",
    "\n",
    "Shape (rows & columns)\n",
    "\n",
    "Column data types\n",
    "\n",
    "Number of unique invoices and products\n",
    "\n"
   ]
  },
  {
   "cell_type": "code",
   "execution_count": 15,
   "id": "76355065-4f00-49a0-b9a2-696d99e613c1",
   "metadata": {},
   "outputs": [
    {
     "data": {
      "text/plain": [
       "(525461, 8)"
      ]
     },
     "execution_count": 15,
     "metadata": {},
     "output_type": "execute_result"
    }
   ],
   "source": [
    "df.shape"
   ]
  },
  {
   "cell_type": "code",
   "execution_count": 17,
   "id": "46860ec7-29bf-4d63-8d48-c663005f45de",
   "metadata": {},
   "outputs": [
    {
     "data": {
      "text/plain": [
       "Index(['Invoice', 'StockCode', 'Description', 'Quantity', 'InvoiceDate',\n",
       "       'Price', 'Customer ID', 'Country'],\n",
       "      dtype='object')"
      ]
     },
     "execution_count": 17,
     "metadata": {},
     "output_type": "execute_result"
    }
   ],
   "source": [
    "df.columns"
   ]
  },
  {
   "cell_type": "code",
   "execution_count": 19,
   "id": "e5b03be2-f93c-47ad-b478-6210c3cd1052",
   "metadata": {},
   "outputs": [
    {
     "name": "stdout",
     "output_type": "stream",
     "text": [
      "<class 'pandas.core.frame.DataFrame'>\n",
      "RangeIndex: 525461 entries, 0 to 525460\n",
      "Data columns (total 8 columns):\n",
      " #   Column       Non-Null Count   Dtype         \n",
      "---  ------       --------------   -----         \n",
      " 0   Invoice      525461 non-null  object        \n",
      " 1   StockCode    525461 non-null  object        \n",
      " 2   Description  522533 non-null  object        \n",
      " 3   Quantity     525461 non-null  int64         \n",
      " 4   InvoiceDate  525461 non-null  datetime64[ns]\n",
      " 5   Price        525461 non-null  float64       \n",
      " 6   Customer ID  417534 non-null  float64       \n",
      " 7   Country      525461 non-null  object        \n",
      "dtypes: datetime64[ns](1), float64(2), int64(1), object(4)\n",
      "memory usage: 32.1+ MB\n"
     ]
    }
   ],
   "source": [
    "df.info()"
   ]
  },
  {
   "cell_type": "code",
   "execution_count": 29,
   "id": "7bdf2246-8a14-4d68-a94e-76cf3c59d39d",
   "metadata": {},
   "outputs": [
    {
     "data": {
      "text/plain": [
       "28816"
      ]
     },
     "execution_count": 29,
     "metadata": {},
     "output_type": "execute_result"
    }
   ],
   "source": [
    "df['Invoice'].nunique()"
   ]
  },
  {
   "cell_type": "code",
   "execution_count": 31,
   "id": "d19c6f70-3d6e-4790-b126-53ab0b733087",
   "metadata": {},
   "outputs": [
    {
     "data": {
      "text/plain": [
       "4681"
      ]
     },
     "execution_count": 31,
     "metadata": {},
     "output_type": "execute_result"
    }
   ],
   "source": [
    "df['Description'].nunique()"
   ]
  },
  {
   "cell_type": "markdown",
   "id": "b01aae20-e77f-44bb-b5b4-7a6cdeda77b5",
   "metadata": {},
   "source": [
    "### 2. Missing Values\n",
    "Identify columns with missing values.\n",
    "\n",
    "Drop rows where InvoiceNo, StockCode, or Quantity is missing.\n",
    "\n",
    "For Customer ID, how many records are missing? What % of total?"
   ]
  },
  {
   "cell_type": "code",
   "execution_count": 34,
   "id": "38dfec2d-f5ca-4d4a-8a4b-5864c623d1d0",
   "metadata": {},
   "outputs": [
    {
     "data": {
      "text/plain": [
       "Invoice             0\n",
       "StockCode           0\n",
       "Description      2928\n",
       "Quantity            0\n",
       "InvoiceDate         0\n",
       "Price               0\n",
       "Customer ID    107927\n",
       "Country             0\n",
       "dtype: int64"
      ]
     },
     "execution_count": 34,
     "metadata": {},
     "output_type": "execute_result"
    }
   ],
   "source": [
    "df.isnull().sum()"
   ]
  },
  {
   "cell_type": "code",
   "execution_count": 44,
   "id": "0744b1bb-2a08-426f-85bf-1d73d2cfad64",
   "metadata": {},
   "outputs": [
    {
     "data": {
      "text/plain": [
       "20.54"
      ]
     },
     "execution_count": 44,
     "metadata": {},
     "output_type": "execute_result"
    }
   ],
   "source": [
    "Customer_Id_missing_percentage = round((df['Customer ID'].isnull().sum())/len(df) * 100.0,2)\n",
    "Customer_Id_missing_percentage"
   ]
  },
  {
   "cell_type": "markdown",
   "id": "1d429995-e280-43e9-b278-a8fd5c608088",
   "metadata": {},
   "source": [
    "### 3. Data Type Conversion\n",
    "Convert InvoiceDate to datetime format.\n",
    "\n",
    "Extract new columns: InvoiceYear, InvoiceMonth, InvoiceDay, and InvoiceHour."
   ]
  },
  {
   "cell_type": "code",
   "execution_count": 66,
   "id": "528a6af1-d878-470d-bf57-a46a9c75894f",
   "metadata": {},
   "outputs": [
    {
     "data": {
      "text/plain": [
       "dtype('<M8[ns]')"
      ]
     },
     "execution_count": 66,
     "metadata": {},
     "output_type": "execute_result"
    }
   ],
   "source": [
    "df['InvoiceDate'].dtype"
   ]
  },
  {
   "cell_type": "code",
   "execution_count": 68,
   "id": "c66bd81b-1ed8-421f-a475-9a589776c6a5",
   "metadata": {},
   "outputs": [],
   "source": [
    "df['InvoiceYear'] = df['InvoiceDate'].dt.year\n",
    "df['InvoiceMonth'] = df['InvoiceDate'].dt.month\n",
    "df['InvoiceDay'] = df['InvoiceDate'].dt.day\n",
    "df['InvoiceHour'] = df['InvoiceDate'].dt.hour"
   ]
  },
  {
   "cell_type": "markdown",
   "id": "d05f6e40-ea28-4b88-91a8-a5e92c26a011",
   "metadata": {},
   "source": [
    "### 4. Basic EDA\n",
    "Find total number of transactions per year.\n",
    "\n",
    "What are the top 5 selling products by quantity?\n",
    "\n",
    "Which country has the highest total revenue (excluding UK)?"
   ]
  },
  {
   "cell_type": "code",
   "execution_count": 77,
   "id": "ddebd552-f637-41d4-aee4-89697878123b",
   "metadata": {},
   "outputs": [
    {
     "data": {
      "text/html": [
       "<div>\n",
       "<style scoped>\n",
       "    .dataframe tbody tr th:only-of-type {\n",
       "        vertical-align: middle;\n",
       "    }\n",
       "\n",
       "    .dataframe tbody tr th {\n",
       "        vertical-align: top;\n",
       "    }\n",
       "\n",
       "    .dataframe thead th {\n",
       "        text-align: right;\n",
       "    }\n",
       "</style>\n",
       "<table border=\"1\" class=\"dataframe\">\n",
       "  <thead>\n",
       "    <tr style=\"text-align: right;\">\n",
       "      <th></th>\n",
       "      <th>InvoiceYear</th>\n",
       "      <th>transaction_count</th>\n",
       "    </tr>\n",
       "  </thead>\n",
       "  <tbody>\n",
       "    <tr>\n",
       "      <th>0</th>\n",
       "      <td>2009</td>\n",
       "      <td>45228</td>\n",
       "    </tr>\n",
       "    <tr>\n",
       "      <th>1</th>\n",
       "      <td>2010</td>\n",
       "      <td>480233</td>\n",
       "    </tr>\n",
       "  </tbody>\n",
       "</table>\n",
       "</div>"
      ],
      "text/plain": [
       "   InvoiceYear  transaction_count\n",
       "0         2009              45228\n",
       "1         2010             480233"
      ]
     },
     "execution_count": 77,
     "metadata": {},
     "output_type": "execute_result"
    }
   ],
   "source": [
    "transactions_count = df.groupby('InvoiceYear').size().reset_index(name = 'transaction_count')\n",
    "transactions_count"
   ]
  },
  {
   "cell_type": "code",
   "execution_count": 93,
   "id": "5992b4d0-e9e7-4aa4-ab13-5d39f385be28",
   "metadata": {},
   "outputs": [
    {
     "data": {
      "text/html": [
       "<div>\n",
       "<style scoped>\n",
       "    .dataframe tbody tr th:only-of-type {\n",
       "        vertical-align: middle;\n",
       "    }\n",
       "\n",
       "    .dataframe tbody tr th {\n",
       "        vertical-align: top;\n",
       "    }\n",
       "\n",
       "    .dataframe thead th {\n",
       "        text-align: right;\n",
       "    }\n",
       "</style>\n",
       "<table border=\"1\" class=\"dataframe\">\n",
       "  <thead>\n",
       "    <tr style=\"text-align: right;\">\n",
       "      <th></th>\n",
       "      <th>Description</th>\n",
       "      <th>count</th>\n",
       "    </tr>\n",
       "  </thead>\n",
       "  <tbody>\n",
       "    <tr>\n",
       "      <th>4402</th>\n",
       "      <td>WHITE HANGING HEART T-LIGHT HOLDER</td>\n",
       "      <td>3549</td>\n",
       "    </tr>\n",
       "    <tr>\n",
       "      <th>3371</th>\n",
       "      <td>REGENCY CAKESTAND 3 TIER</td>\n",
       "      <td>2212</td>\n",
       "    </tr>\n",
       "    <tr>\n",
       "      <th>4067</th>\n",
       "      <td>STRAWBERRY CERAMIC TRINKET BOX</td>\n",
       "      <td>1843</td>\n",
       "    </tr>\n",
       "    <tr>\n",
       "      <th>2744</th>\n",
       "      <td>PACK OF 72 RETRO SPOT CAKE CASES</td>\n",
       "      <td>1466</td>\n",
       "    </tr>\n",
       "    <tr>\n",
       "      <th>279</th>\n",
       "      <td>ASSORTED COLOUR BIRD ORNAMENT</td>\n",
       "      <td>1457</td>\n",
       "    </tr>\n",
       "  </tbody>\n",
       "</table>\n",
       "</div>"
      ],
      "text/plain": [
       "                             Description  count\n",
       "4402  WHITE HANGING HEART T-LIGHT HOLDER   3549\n",
       "3371            REGENCY CAKESTAND 3 TIER   2212\n",
       "4067      STRAWBERRY CERAMIC TRINKET BOX   1843\n",
       "2744    PACK OF 72 RETRO SPOT CAKE CASES   1466\n",
       "279        ASSORTED COLOUR BIRD ORNAMENT   1457"
      ]
     },
     "execution_count": 93,
     "metadata": {},
     "output_type": "execute_result"
    }
   ],
   "source": [
    "Top_selling_product = df.groupby('Description')['Quantity'].count().reset_index(name = 'count').sort_values(by = 'count', ascending = False).head(5)\n",
    "Top_selling_product"
   ]
  },
  {
   "cell_type": "code",
   "execution_count": 99,
   "id": "cbaf8029-9267-440f-8df8-42ed1584f36e",
   "metadata": {},
   "outputs": [],
   "source": [
    "df['Revenue'] = df['Quantity'] * df['Price']"
   ]
  },
  {
   "cell_type": "code",
   "execution_count": 119,
   "id": "333084af-014a-41e0-8f1b-a9d01d1231c0",
   "metadata": {},
   "outputs": [],
   "source": [
    "df_no_uk = df[df['Country'] != \"United Kingdom\"]"
   ]
  },
  {
   "cell_type": "code",
   "execution_count": 129,
   "id": "b0ec58b8-73bf-4302-b140-d1d1463a9785",
   "metadata": {},
   "outputs": [
    {
     "data": {
      "text/html": [
       "<div>\n",
       "<style scoped>\n",
       "    .dataframe tbody tr th:only-of-type {\n",
       "        vertical-align: middle;\n",
       "    }\n",
       "\n",
       "    .dataframe tbody tr th {\n",
       "        vertical-align: top;\n",
       "    }\n",
       "\n",
       "    .dataframe thead th {\n",
       "        text-align: right;\n",
       "    }\n",
       "</style>\n",
       "<table border=\"1\" class=\"dataframe\">\n",
       "  <thead>\n",
       "    <tr style=\"text-align: right;\">\n",
       "      <th></th>\n",
       "      <th>Country</th>\n",
       "      <th>Total_revenue</th>\n",
       "    </tr>\n",
       "  </thead>\n",
       "  <tbody>\n",
       "    <tr>\n",
       "      <th>10</th>\n",
       "      <td>EIRE</td>\n",
       "      <td>352242.73</td>\n",
       "    </tr>\n",
       "  </tbody>\n",
       "</table>\n",
       "</div>"
      ],
      "text/plain": [
       "   Country  Total_revenue\n",
       "10    EIRE      352242.73"
      ]
     },
     "execution_count": 129,
     "metadata": {},
     "output_type": "execute_result"
    }
   ],
   "source": [
    "df_no_uk.groupby('Country')['Revenue'].sum().reset_index(name = 'Total_revenue').sort_values(by = 'Total_revenue', ascending = False).head(1)"
   ]
  },
  {
   "cell_type": "markdown",
   "id": "3e508a78-158a-48a7-b94b-422f4df34621",
   "metadata": {},
   "source": [
    "### 5. Revenue Feature Engineering\n",
    "Create a new column TotalPrice = Quantity * Price.\n",
    "\n",
    "What is the average order value (AOV) for each country?\n",
    "\n",
    "What is the monthly revenue trend for 2010? Visualize it using a line plot."
   ]
  },
  {
   "cell_type": "code",
   "execution_count": 132,
   "id": "4b23989e-c156-4f91-ad0d-bd3302bcf94a",
   "metadata": {},
   "outputs": [],
   "source": [
    "df['TotalPrice'] = df['Quantity'] * df['Price']"
   ]
  },
  {
   "cell_type": "code",
   "execution_count": 138,
   "id": "58bc7d1a-dc88-41a4-8d0d-aa0c6cfda314",
   "metadata": {},
   "outputs": [
    {
     "data": {
      "text/html": [
       "<div>\n",
       "<style scoped>\n",
       "    .dataframe tbody tr th:only-of-type {\n",
       "        vertical-align: middle;\n",
       "    }\n",
       "\n",
       "    .dataframe tbody tr th {\n",
       "        vertical-align: top;\n",
       "    }\n",
       "\n",
       "    .dataframe thead th {\n",
       "        text-align: right;\n",
       "    }\n",
       "</style>\n",
       "<table border=\"1\" class=\"dataframe\">\n",
       "  <thead>\n",
       "    <tr style=\"text-align: right;\">\n",
       "      <th></th>\n",
       "      <th>Country</th>\n",
       "      <th>AOV</th>\n",
       "    </tr>\n",
       "  </thead>\n",
       "  <tbody>\n",
       "    <tr>\n",
       "      <th>9</th>\n",
       "      <td>Denmark</td>\n",
       "      <td>109.749883</td>\n",
       "    </tr>\n",
       "    <tr>\n",
       "      <th>24</th>\n",
       "      <td>Netherlands</td>\n",
       "      <td>95.291950</td>\n",
       "    </tr>\n",
       "    <tr>\n",
       "      <th>32</th>\n",
       "      <td>Sweden</td>\n",
       "      <td>56.777727</td>\n",
       "    </tr>\n",
       "    <tr>\n",
       "      <th>15</th>\n",
       "      <td>Hong Kong</td>\n",
       "      <td>51.608684</td>\n",
       "    </tr>\n",
       "    <tr>\n",
       "      <th>0</th>\n",
       "      <td>Australia</td>\n",
       "      <td>45.950765</td>\n",
       "    </tr>\n",
       "    <tr>\n",
       "      <th>17</th>\n",
       "      <td>Israel</td>\n",
       "      <td>43.235135</td>\n",
       "    </tr>\n",
       "    <tr>\n",
       "      <th>34</th>\n",
       "      <td>Thailand</td>\n",
       "      <td>40.401842</td>\n",
       "    </tr>\n",
       "    <tr>\n",
       "      <th>19</th>\n",
       "      <td>Japan</td>\n",
       "      <td>37.660536</td>\n",
       "    </tr>\n",
       "    <tr>\n",
       "      <th>4</th>\n",
       "      <td>Bermuda</td>\n",
       "      <td>36.857059</td>\n",
       "    </tr>\n",
       "    <tr>\n",
       "      <th>33</th>\n",
       "      <td>Switzerland</td>\n",
       "      <td>36.515088</td>\n",
       "    </tr>\n",
       "    <tr>\n",
       "      <th>10</th>\n",
       "      <td>EIRE</td>\n",
       "      <td>36.426342</td>\n",
       "    </tr>\n",
       "    <tr>\n",
       "      <th>30</th>\n",
       "      <td>Singapore</td>\n",
       "      <td>34.510855</td>\n",
       "    </tr>\n",
       "    <tr>\n",
       "      <th>22</th>\n",
       "      <td>Lithuania</td>\n",
       "      <td>31.770649</td>\n",
       "    </tr>\n",
       "    <tr>\n",
       "      <th>31</th>\n",
       "      <td>Spain</td>\n",
       "      <td>29.017919</td>\n",
       "    </tr>\n",
       "    <tr>\n",
       "      <th>14</th>\n",
       "      <td>Greece</td>\n",
       "      <td>27.630503</td>\n",
       "    </tr>\n",
       "    <tr>\n",
       "      <th>1</th>\n",
       "      <td>Austria</td>\n",
       "      <td>24.251918</td>\n",
       "    </tr>\n",
       "    <tr>\n",
       "      <th>13</th>\n",
       "      <td>Germany</td>\n",
       "      <td>24.146925</td>\n",
       "    </tr>\n",
       "    <tr>\n",
       "      <th>7</th>\n",
       "      <td>Channel Islands</td>\n",
       "      <td>23.584238</td>\n",
       "    </tr>\n",
       "    <tr>\n",
       "      <th>12</th>\n",
       "      <td>France</td>\n",
       "      <td>22.655908</td>\n",
       "    </tr>\n",
       "    <tr>\n",
       "      <th>2</th>\n",
       "      <td>Bahrain</td>\n",
       "      <td>21.618224</td>\n",
       "    </tr>\n",
       "    <tr>\n",
       "      <th>28</th>\n",
       "      <td>Portugal</td>\n",
       "      <td>21.589264</td>\n",
       "    </tr>\n",
       "    <tr>\n",
       "      <th>3</th>\n",
       "      <td>Belgium</td>\n",
       "      <td>21.502400</td>\n",
       "    </tr>\n",
       "    <tr>\n",
       "      <th>29</th>\n",
       "      <td>RSA</td>\n",
       "      <td>21.321802</td>\n",
       "    </tr>\n",
       "    <tr>\n",
       "      <th>11</th>\n",
       "      <td>Finland</td>\n",
       "      <td>20.304266</td>\n",
       "    </tr>\n",
       "    <tr>\n",
       "      <th>8</th>\n",
       "      <td>Cyprus</td>\n",
       "      <td>20.246300</td>\n",
       "    </tr>\n",
       "    <tr>\n",
       "      <th>18</th>\n",
       "      <td>Italy</td>\n",
       "      <td>18.862982</td>\n",
       "    </tr>\n",
       "    <tr>\n",
       "      <th>35</th>\n",
       "      <td>USA</td>\n",
       "      <td>18.670574</td>\n",
       "    </tr>\n",
       "    <tr>\n",
       "      <th>16</th>\n",
       "      <td>Iceland</td>\n",
       "      <td>18.638310</td>\n",
       "    </tr>\n",
       "    <tr>\n",
       "      <th>36</th>\n",
       "      <td>United Arab Emirates</td>\n",
       "      <td>18.625856</td>\n",
       "    </tr>\n",
       "    <tr>\n",
       "      <th>27</th>\n",
       "      <td>Poland</td>\n",
       "      <td>17.087371</td>\n",
       "    </tr>\n",
       "    <tr>\n",
       "      <th>37</th>\n",
       "      <td>United Kingdom</td>\n",
       "      <td>16.866819</td>\n",
       "    </tr>\n",
       "    <tr>\n",
       "      <th>38</th>\n",
       "      <td>Unspecified</td>\n",
       "      <td>15.927516</td>\n",
       "    </tr>\n",
       "    <tr>\n",
       "      <th>6</th>\n",
       "      <td>Canada</td>\n",
       "      <td>15.800779</td>\n",
       "    </tr>\n",
       "    <tr>\n",
       "      <th>23</th>\n",
       "      <td>Malta</td>\n",
       "      <td>15.620640</td>\n",
       "    </tr>\n",
       "    <tr>\n",
       "      <th>20</th>\n",
       "      <td>Korea</td>\n",
       "      <td>15.076508</td>\n",
       "    </tr>\n",
       "    <tr>\n",
       "      <th>21</th>\n",
       "      <td>Lebanon</td>\n",
       "      <td>13.233077</td>\n",
       "    </tr>\n",
       "    <tr>\n",
       "      <th>26</th>\n",
       "      <td>Norway</td>\n",
       "      <td>11.055745</td>\n",
       "    </tr>\n",
       "    <tr>\n",
       "      <th>39</th>\n",
       "      <td>West Indies</td>\n",
       "      <td>9.933519</td>\n",
       "    </tr>\n",
       "    <tr>\n",
       "      <th>5</th>\n",
       "      <td>Brazil</td>\n",
       "      <td>4.326935</td>\n",
       "    </tr>\n",
       "    <tr>\n",
       "      <th>25</th>\n",
       "      <td>Nigeria</td>\n",
       "      <td>-0.208125</td>\n",
       "    </tr>\n",
       "  </tbody>\n",
       "</table>\n",
       "</div>"
      ],
      "text/plain": [
       "                 Country         AOV\n",
       "9                Denmark  109.749883\n",
       "24           Netherlands   95.291950\n",
       "32                Sweden   56.777727\n",
       "15             Hong Kong   51.608684\n",
       "0              Australia   45.950765\n",
       "17                Israel   43.235135\n",
       "34              Thailand   40.401842\n",
       "19                 Japan   37.660536\n",
       "4                Bermuda   36.857059\n",
       "33           Switzerland   36.515088\n",
       "10                  EIRE   36.426342\n",
       "30             Singapore   34.510855\n",
       "22             Lithuania   31.770649\n",
       "31                 Spain   29.017919\n",
       "14                Greece   27.630503\n",
       "1                Austria   24.251918\n",
       "13               Germany   24.146925\n",
       "7        Channel Islands   23.584238\n",
       "12                France   22.655908\n",
       "2                Bahrain   21.618224\n",
       "28              Portugal   21.589264\n",
       "3                Belgium   21.502400\n",
       "29                   RSA   21.321802\n",
       "11               Finland   20.304266\n",
       "8                 Cyprus   20.246300\n",
       "18                 Italy   18.862982\n",
       "35                   USA   18.670574\n",
       "16               Iceland   18.638310\n",
       "36  United Arab Emirates   18.625856\n",
       "27                Poland   17.087371\n",
       "37        United Kingdom   16.866819\n",
       "38           Unspecified   15.927516\n",
       "6                 Canada   15.800779\n",
       "23                 Malta   15.620640\n",
       "20                 Korea   15.076508\n",
       "21               Lebanon   13.233077\n",
       "26                Norway   11.055745\n",
       "39           West Indies    9.933519\n",
       "5                 Brazil    4.326935\n",
       "25               Nigeria   -0.208125"
      ]
     },
     "execution_count": 138,
     "metadata": {},
     "output_type": "execute_result"
    }
   ],
   "source": [
    "AOV_country = df.groupby('Country')['TotalPrice'].mean().reset_index(name = 'AOV').sort_values(by = 'AOV', ascending = False)\n",
    "AOV_country"
   ]
  },
  {
   "cell_type": "code",
   "execution_count": 160,
   "id": "c1b4f9aa-5e1e-487f-9bd5-1939979fc4ea",
   "metadata": {},
   "outputs": [
    {
     "data": {
      "image/png": "[encoded data removed]",
      "text/plain": [
       "<Figure size 700x400 with 1 Axes>"
      ]
     },
     "metadata": {},
     "output_type": "display_data"
    }
   ],
   "source": [
    "df_2010 = df[df['InvoiceYear'] == 2010]\n",
    "\n",
    "Monthly_trend_2010 = df_2010.groupby('InvoiceMonth')['Revenue'].sum().reset_index(name = 'Revenue')\n",
    "\n",
    "plt.figure(figsize = (7,4))\n",
    "sns.lineplot(data = Monthly_trend_2010, x = 'InvoiceMonth', y = 'Revenue', color = 'brown', marker = 'o')\n",
    "plt.title('Monthly Revenue Trend in 2010')\n",
    "plt.xlabel('Month')\n",
    "plt.ylabel('Revenue')\n",
    "plt.xticks(range(1, 13))\n",
    "plt.show()"
   ]
  },
  {
   "cell_type": "markdown",
   "id": "237d7c2d-07fd-45f2-858a-6caf0b097713",
   "metadata": {},
   "source": [
    "### 6. Order Behavior\n",
    "How many invoices are credit notes (i.e., InvoiceNo starts with 'C')?\n",
    "\n",
    "What is the average basket size (number of items per invoice)?\n",
    "\n",
    "What are the top 3 customers by total spend (ignore null customer IDs)?"
   ]
  },
  {
   "cell_type": "code",
   "execution_count": 173,
   "id": "7086fb70-cac7-49b5-b5b4-0f45ad78cdcd",
   "metadata": {},
   "outputs": [
    {
     "data": {
      "text/plain": [
       "4592"
      ]
     },
     "execution_count": 173,
     "metadata": {},
     "output_type": "execute_result"
    }
   ],
   "source": [
    "df['Invoice'] = df['Invoice'].astype(str)\n",
    "credit_note_count  = df[df['Invoice'].str.startswith('C')]['Invoice'].nunique()\n",
    "credit_note_count "
   ]
  },
  {
   "cell_type": "code",
   "execution_count": 183,
   "id": "d82f4b38-7f27-447e-a708-a546a8bba188",
   "metadata": {},
   "outputs": [
    {
     "data": {
      "text/html": [
       "<div>\n",
       "<style scoped>\n",
       "    .dataframe tbody tr th:only-of-type {\n",
       "        vertical-align: middle;\n",
       "    }\n",
       "\n",
       "    .dataframe tbody tr th {\n",
       "        vertical-align: top;\n",
       "    }\n",
       "\n",
       "    .dataframe thead th {\n",
       "        text-align: right;\n",
       "    }\n",
       "</style>\n",
       "<table border=\"1\" class=\"dataframe\">\n",
       "  <thead>\n",
       "    <tr style=\"text-align: right;\">\n",
       "      <th></th>\n",
       "      <th>Invoice</th>\n",
       "      <th>basket_size</th>\n",
       "    </tr>\n",
       "  </thead>\n",
       "  <tbody>\n",
       "    <tr>\n",
       "      <th>0</th>\n",
       "      <td>489434</td>\n",
       "      <td>166</td>\n",
       "    </tr>\n",
       "    <tr>\n",
       "      <th>1</th>\n",
       "      <td>489435</td>\n",
       "      <td>60</td>\n",
       "    </tr>\n",
       "    <tr>\n",
       "      <th>2</th>\n",
       "      <td>489436</td>\n",
       "      <td>193</td>\n",
       "    </tr>\n",
       "    <tr>\n",
       "      <th>3</th>\n",
       "      <td>489437</td>\n",
       "      <td>145</td>\n",
       "    </tr>\n",
       "    <tr>\n",
       "      <th>4</th>\n",
       "      <td>489438</td>\n",
       "      <td>826</td>\n",
       "    </tr>\n",
       "    <tr>\n",
       "      <th>...</th>\n",
       "      <td>...</td>\n",
       "      <td>...</td>\n",
       "    </tr>\n",
       "    <tr>\n",
       "      <th>28811</th>\n",
       "      <td>C538121</td>\n",
       "      <td>-1</td>\n",
       "    </tr>\n",
       "    <tr>\n",
       "      <th>28812</th>\n",
       "      <td>C538122</td>\n",
       "      <td>-1</td>\n",
       "    </tr>\n",
       "    <tr>\n",
       "      <th>28813</th>\n",
       "      <td>C538123</td>\n",
       "      <td>-4</td>\n",
       "    </tr>\n",
       "    <tr>\n",
       "      <th>28814</th>\n",
       "      <td>C538124</td>\n",
       "      <td>-6</td>\n",
       "    </tr>\n",
       "    <tr>\n",
       "      <th>28815</th>\n",
       "      <td>C538164</td>\n",
       "      <td>-1</td>\n",
       "    </tr>\n",
       "  </tbody>\n",
       "</table>\n",
       "<p>28816 rows × 2 columns</p>\n",
       "</div>"
      ],
      "text/plain": [
       "       Invoice  basket_size\n",
       "0       489434          166\n",
       "1       489435           60\n",
       "2       489436          193\n",
       "3       489437          145\n",
       "4       489438          826\n",
       "...        ...          ...\n",
       "28811  C538121           -1\n",
       "28812  C538122           -1\n",
       "28813  C538123           -4\n",
       "28814  C538124           -6\n",
       "28815  C538164           -1\n",
       "\n",
       "[28816 rows x 2 columns]"
      ]
     },
     "execution_count": 183,
     "metadata": {},
     "output_type": "execute_result"
    }
   ],
   "source": [
    "basket_size = df.groupby('Invoice')['Quantity'].sum().reset_index(name = 'basket_size')\n",
    "basket_size"
   ]
  },
  {
   "cell_type": "code",
   "execution_count": 199,
   "id": "e2a56bd8-8337-4714-a0ca-07ff083068fc",
   "metadata": {},
   "outputs": [
    {
     "data": {
      "text/html": [
       "<div>\n",
       "<style scoped>\n",
       "    .dataframe tbody tr th:only-of-type {\n",
       "        vertical-align: middle;\n",
       "    }\n",
       "\n",
       "    .dataframe tbody tr th {\n",
       "        vertical-align: top;\n",
       "    }\n",
       "\n",
       "    .dataframe thead th {\n",
       "        text-align: right;\n",
       "    }\n",
       "</style>\n",
       "<table border=\"1\" class=\"dataframe\">\n",
       "  <thead>\n",
       "    <tr style=\"text-align: right;\">\n",
       "      <th></th>\n",
       "      <th>Customer ID</th>\n",
       "      <th>Total Spend</th>\n",
       "    </tr>\n",
       "  </thead>\n",
       "  <tbody>\n",
       "    <tr>\n",
       "      <th>4254</th>\n",
       "      <td>18102.0</td>\n",
       "      <td>341776.73</td>\n",
       "    </tr>\n",
       "    <tr>\n",
       "      <th>1662</th>\n",
       "      <td>14646.0</td>\n",
       "      <td>243853.05</td>\n",
       "    </tr>\n",
       "    <tr>\n",
       "      <th>1291</th>\n",
       "      <td>14156.0</td>\n",
       "      <td>183180.55</td>\n",
       "    </tr>\n",
       "  </tbody>\n",
       "</table>\n",
       "</div>"
      ],
      "text/plain": [
       "      Customer ID  Total Spend\n",
       "4254      18102.0    341776.73\n",
       "1662      14646.0    243853.05\n",
       "1291      14156.0    183180.55"
      ]
     },
     "execution_count": 199,
     "metadata": {},
     "output_type": "execute_result"
    }
   ],
   "source": [
    "df_not_null_cust = df[df['Customer ID'].notna()]\n",
    "\n",
    "top_3_cust = df_not_null_cust.groupby('Customer ID')['Revenue'].sum().reset_index(name = 'Total Spend').sort_values(by = 'Total Spend', ascending = False).head(3)\n",
    "top_3_cust"
   ]
  },
  {
   "cell_type": "code",
   "execution_count": null,
   "id": "5afbcb39-dc9e-4fee-ac18-d86ccb72b658",
   "metadata": {},
   "outputs": [],
   "source": []
  }
 ],
 "metadata": {
  "kernelspec": {
   "display_name": "Python 3 (ipykernel)",
   "language": "python",
   "name": "python3"
  },
  "language_info": {
   "codemirror_mode": {
    "name": "ipython",
    "version": 3
   },
   "file_extension": ".py",
   "mimetype": "text/x-python",
   "name": "python",
   "nbconvert_exporter": "python",
   "pygments_lexer": "ipython3",
   "version": "3.12.7"
  }
 },
 "nbformat": 4,
 "nbformat_minor": 5
}
