{
 "cells": [
  {
   "cell_type": "markdown",
   "id": "303b74c6-b713-44ad-9111-386b12cbab62",
   "metadata": {},
   "source": [
    "# 🛍️ Day 3 Challenge"
   ]
  },
  {
   "cell_type": "markdown",
   "id": "35c9840c-d1f1-4c28-9881-d2b32a9967f5",
   "metadata": {},
   "source": [
    "##### Dataset link: \"https://www.kaggle.com/datasets/imakash3011/customer-personality-analysis\""
   ]
  },
  {
   "cell_type": "code",
   "execution_count": 418,
   "id": "22fd817a-9496-45cf-9a0b-959930d5b046",
   "metadata": {},
   "outputs": [],
   "source": [
    "import pandas as pd\n",
    "import numpy as np\n",
    "import matplotlib.pyplot as plt\n",
    "import seaborn as sns\n",
    "from datetime import datetime\n",
    "from scipy import stats"
   ]
  },
  {
   "cell_type": "code",
   "execution_count": 419,
   "id": "3a673df1-e632-4003-8cad-fdca87758a59",
   "metadata": {},
   "outputs": [
    {
     "data": {
      "text/html": [
       "<div>\n",
       "<style scoped>\n",
       "    .dataframe tbody tr th:only-of-type {\n",
       "        vertical-align: middle;\n",
       "    }\n",
       "\n",
       "    .dataframe tbody tr th {\n",
       "        vertical-align: top;\n",
       "    }\n",
       "\n",
       "    .dataframe thead th {\n",
       "        text-align: right;\n",
       "    }\n",
       "</style>\n",
       "<table border=\"1\" class=\"dataframe\">\n",
       "  <thead>\n",
       "    <tr style=\"text-align: right;\">\n",
       "      <th></th>\n",
       "      <th>ID</th>\n",
       "      <th>Year_Birth</th>\n",
       "      <th>Education</th>\n",
       "      <th>Marital_Status</th>\n",
       "      <th>Income</th>\n",
       "      <th>Kidhome</th>\n",
       "      <th>Teenhome</th>\n",
       "      <th>Dt_Customer</th>\n",
       "      <th>Recency</th>\n",
       "      <th>MntWines</th>\n",
       "      <th>...</th>\n",
       "      <th>NumWebVisitsMonth</th>\n",
       "      <th>AcceptedCmp3</th>\n",
       "      <th>AcceptedCmp4</th>\n",
       "      <th>AcceptedCmp5</th>\n",
       "      <th>AcceptedCmp1</th>\n",
       "      <th>AcceptedCmp2</th>\n",
       "      <th>Complain</th>\n",
       "      <th>Z_CostContact</th>\n",
       "      <th>Z_Revenue</th>\n",
       "      <th>Response</th>\n",
       "    </tr>\n",
       "  </thead>\n",
       "  <tbody>\n",
       "    <tr>\n",
       "      <th>0</th>\n",
       "      <td>5524</td>\n",
       "      <td>1957</td>\n",
       "      <td>Graduation</td>\n",
       "      <td>Single</td>\n",
       "      <td>58138.0</td>\n",
       "      <td>0</td>\n",
       "      <td>0</td>\n",
       "      <td>04-09-2012</td>\n",
       "      <td>58</td>\n",
       "      <td>635</td>\n",
       "      <td>...</td>\n",
       "      <td>7</td>\n",
       "      <td>0</td>\n",
       "      <td>0</td>\n",
       "      <td>0</td>\n",
       "      <td>0</td>\n",
       "      <td>0</td>\n",
       "      <td>0</td>\n",
       "      <td>3</td>\n",
       "      <td>11</td>\n",
       "      <td>1</td>\n",
       "    </tr>\n",
       "    <tr>\n",
       "      <th>1</th>\n",
       "      <td>2174</td>\n",
       "      <td>1954</td>\n",
       "      <td>Graduation</td>\n",
       "      <td>Single</td>\n",
       "      <td>46344.0</td>\n",
       "      <td>1</td>\n",
       "      <td>1</td>\n",
       "      <td>08-03-2014</td>\n",
       "      <td>38</td>\n",
       "      <td>11</td>\n",
       "      <td>...</td>\n",
       "      <td>5</td>\n",
       "      <td>0</td>\n",
       "      <td>0</td>\n",
       "      <td>0</td>\n",
       "      <td>0</td>\n",
       "      <td>0</td>\n",
       "      <td>0</td>\n",
       "      <td>3</td>\n",
       "      <td>11</td>\n",
       "      <td>0</td>\n",
       "    </tr>\n",
       "    <tr>\n",
       "      <th>2</th>\n",
       "      <td>4141</td>\n",
       "      <td>1965</td>\n",
       "      <td>Graduation</td>\n",
       "      <td>Together</td>\n",
       "      <td>71613.0</td>\n",
       "      <td>0</td>\n",
       "      <td>0</td>\n",
       "      <td>21-08-2013</td>\n",
       "      <td>26</td>\n",
       "      <td>426</td>\n",
       "      <td>...</td>\n",
       "      <td>4</td>\n",
       "      <td>0</td>\n",
       "      <td>0</td>\n",
       "      <td>0</td>\n",
       "      <td>0</td>\n",
       "      <td>0</td>\n",
       "      <td>0</td>\n",
       "      <td>3</td>\n",
       "      <td>11</td>\n",
       "      <td>0</td>\n",
       "    </tr>\n",
       "    <tr>\n",
       "      <th>3</th>\n",
       "      <td>6182</td>\n",
       "      <td>1984</td>\n",
       "      <td>Graduation</td>\n",
       "      <td>Together</td>\n",
       "      <td>26646.0</td>\n",
       "      <td>1</td>\n",
       "      <td>0</td>\n",
       "      <td>10-02-2014</td>\n",
       "      <td>26</td>\n",
       "      <td>11</td>\n",
       "      <td>...</td>\n",
       "      <td>6</td>\n",
       "      <td>0</td>\n",
       "      <td>0</td>\n",
       "      <td>0</td>\n",
       "      <td>0</td>\n",
       "      <td>0</td>\n",
       "      <td>0</td>\n",
       "      <td>3</td>\n",
       "      <td>11</td>\n",
       "      <td>0</td>\n",
       "    </tr>\n",
       "    <tr>\n",
       "      <th>4</th>\n",
       "      <td>5324</td>\n",
       "      <td>1981</td>\n",
       "      <td>PhD</td>\n",
       "      <td>Married</td>\n",
       "      <td>58293.0</td>\n",
       "      <td>1</td>\n",
       "      <td>0</td>\n",
       "      <td>19-01-2014</td>\n",
       "      <td>94</td>\n",
       "      <td>173</td>\n",
       "      <td>...</td>\n",
       "      <td>5</td>\n",
       "      <td>0</td>\n",
       "      <td>0</td>\n",
       "      <td>0</td>\n",
       "      <td>0</td>\n",
       "      <td>0</td>\n",
       "      <td>0</td>\n",
       "      <td>3</td>\n",
       "      <td>11</td>\n",
       "      <td>0</td>\n",
       "    </tr>\n",
       "  </tbody>\n",
       "</table>\n",
       "<p>5 rows × 29 columns</p>\n",
       "</div>"
      ],
      "text/plain": [
       "     ID  Year_Birth   Education Marital_Status   Income  Kidhome  Teenhome  \\\n",
       "0  5524        1957  Graduation         Single  58138.0        0         0   \n",
       "1  2174        1954  Graduation         Single  46344.0        1         1   \n",
       "2  4141        1965  Graduation       Together  71613.0        0         0   \n",
       "3  6182        1984  Graduation       Together  26646.0        1         0   \n",
       "4  5324        1981         PhD        Married  58293.0        1         0   \n",
       "\n",
       "  Dt_Customer  Recency  MntWines  ...  NumWebVisitsMonth  AcceptedCmp3  \\\n",
       "0  04-09-2012       58       635  ...                  7             0   \n",
       "1  08-03-2014       38        11  ...                  5             0   \n",
       "2  21-08-2013       26       426  ...                  4             0   \n",
       "3  10-02-2014       26        11  ...                  6             0   \n",
       "4  19-01-2014       94       173  ...                  5             0   \n",
       "\n",
       "   AcceptedCmp4  AcceptedCmp5  AcceptedCmp1  AcceptedCmp2  Complain  \\\n",
       "0             0             0             0             0         0   \n",
       "1             0             0             0             0         0   \n",
       "2             0             0             0             0         0   \n",
       "3             0             0             0             0         0   \n",
       "4             0             0             0             0         0   \n",
       "\n",
       "   Z_CostContact  Z_Revenue  Response  \n",
       "0              3         11         1  \n",
       "1              3         11         0  \n",
       "2              3         11         0  \n",
       "3              3         11         0  \n",
       "4              3         11         0  \n",
       "\n",
       "[5 rows x 29 columns]"
      ]
     },
     "execution_count": 419,
     "metadata": {},
     "output_type": "execute_result"
    }
   ],
   "source": [
    "df = pd.read_csv(\"marketing_campaign.csv\", sep = '\\t')\n",
    "df.head()"
   ]
  },
  {
   "cell_type": "code",
   "execution_count": 420,
   "id": "399dd4cc-9698-4842-a3f4-7d90b3728f38",
   "metadata": {},
   "outputs": [
    {
     "data": {
      "text/plain": [
       "Index(['ID', 'Year_Birth', 'Education', 'Marital_Status', 'Income', 'Kidhome',\n",
       "       'Teenhome', 'Dt_Customer', 'Recency', 'MntWines', 'MntFruits',\n",
       "       'MntMeatProducts', 'MntFishProducts', 'MntSweetProducts',\n",
       "       'MntGoldProds', 'NumDealsPurchases', 'NumWebPurchases',\n",
       "       'NumCatalogPurchases', 'NumStorePurchases', 'NumWebVisitsMonth',\n",
       "       'AcceptedCmp3', 'AcceptedCmp4', 'AcceptedCmp5', 'AcceptedCmp1',\n",
       "       'AcceptedCmp2', 'Complain', 'Z_CostContact', 'Z_Revenue', 'Response'],\n",
       "      dtype='object')"
      ]
     },
     "execution_count": 420,
     "metadata": {},
     "output_type": "execute_result"
    }
   ],
   "source": [
    "df.columns"
   ]
  },
  {
   "cell_type": "code",
   "execution_count": 421,
   "id": "3dabf6d7-d1fa-4ffc-a43a-2ffe9e9a9de3",
   "metadata": {},
   "outputs": [
    {
     "data": {
      "text/plain": [
       "ID                       int64\n",
       "Year_Birth               int64\n",
       "Education               object\n",
       "Marital_Status          object\n",
       "Income                 float64\n",
       "Kidhome                  int64\n",
       "Teenhome                 int64\n",
       "Dt_Customer             object\n",
       "Recency                  int64\n",
       "MntWines                 int64\n",
       "MntFruits                int64\n",
       "MntMeatProducts          int64\n",
       "MntFishProducts          int64\n",
       "MntSweetProducts         int64\n",
       "MntGoldProds             int64\n",
       "NumDealsPurchases        int64\n",
       "NumWebPurchases          int64\n",
       "NumCatalogPurchases      int64\n",
       "NumStorePurchases        int64\n",
       "NumWebVisitsMonth        int64\n",
       "AcceptedCmp3             int64\n",
       "AcceptedCmp4             int64\n",
       "AcceptedCmp5             int64\n",
       "AcceptedCmp1             int64\n",
       "AcceptedCmp2             int64\n",
       "Complain                 int64\n",
       "Z_CostContact            int64\n",
       "Z_Revenue                int64\n",
       "Response                 int64\n",
       "dtype: object"
      ]
     },
     "execution_count": 421,
     "metadata": {},
     "output_type": "execute_result"
    }
   ],
   "source": [
    "df.dtypes"
   ]
  },
  {
   "cell_type": "code",
   "execution_count": 422,
   "id": "5f5c29a3-a485-48f7-9121-a0efb3b0630f",
   "metadata": {},
   "outputs": [
    {
     "data": {
      "text/plain": [
       "ID                      0\n",
       "Year_Birth              0\n",
       "Education               0\n",
       "Marital_Status          0\n",
       "Income                 24\n",
       "Kidhome                 0\n",
       "Teenhome                0\n",
       "Dt_Customer             0\n",
       "Recency                 0\n",
       "MntWines                0\n",
       "MntFruits               0\n",
       "MntMeatProducts         0\n",
       "MntFishProducts         0\n",
       "MntSweetProducts        0\n",
       "MntGoldProds            0\n",
       "NumDealsPurchases       0\n",
       "NumWebPurchases         0\n",
       "NumCatalogPurchases     0\n",
       "NumStorePurchases       0\n",
       "NumWebVisitsMonth       0\n",
       "AcceptedCmp3            0\n",
       "AcceptedCmp4            0\n",
       "AcceptedCmp5            0\n",
       "AcceptedCmp1            0\n",
       "AcceptedCmp2            0\n",
       "Complain                0\n",
       "Z_CostContact           0\n",
       "Z_Revenue               0\n",
       "Response                0\n",
       "dtype: int64"
      ]
     },
     "execution_count": 422,
     "metadata": {},
     "output_type": "execute_result"
    }
   ],
   "source": [
    "df.isnull().sum()"
   ]
  },
  {
   "cell_type": "code",
   "execution_count": 423,
   "id": "4e12d548-094b-4f12-a222-b60e8e88240a",
   "metadata": {},
   "outputs": [
    {
     "data": {
      "text/plain": [
       "0"
      ]
     },
     "execution_count": 423,
     "metadata": {},
     "output_type": "execute_result"
    }
   ],
   "source": [
    "df.duplicated().sum()"
   ]
  },
  {
   "cell_type": "markdown",
   "id": "29ccbb28-ee00-4b58-938c-92c181c7c432",
   "metadata": {},
   "source": [
    "# Pandas (Data Manipulation)"
   ]
  },
  {
   "cell_type": "markdown",
   "id": "c5956f3f-330f-4788-88d1-c22538468dc0",
   "metadata": {},
   "source": [
    "# Q1: Group and Aggregation:\n",
    "Group by Education and calculate:\n",
    "* Average Income\n",
    "* Total MntWines\n",
    "* Number of customers per education group"
   ]
  },
  {
   "cell_type": "code",
   "execution_count": 426,
   "id": "01272901-15c7-4596-944a-85586e82be5c",
   "metadata": {},
   "outputs": [
    {
     "data": {
      "text/html": [
       "<div>\n",
       "<style scoped>\n",
       "    .dataframe tbody tr th:only-of-type {\n",
       "        vertical-align: middle;\n",
       "    }\n",
       "\n",
       "    .dataframe tbody tr th {\n",
       "        vertical-align: top;\n",
       "    }\n",
       "\n",
       "    .dataframe thead th {\n",
       "        text-align: right;\n",
       "    }\n",
       "</style>\n",
       "<table border=\"1\" class=\"dataframe\">\n",
       "  <thead>\n",
       "    <tr style=\"text-align: right;\">\n",
       "      <th></th>\n",
       "      <th>Income</th>\n",
       "      <th>MntWines</th>\n",
       "      <th>ID</th>\n",
       "    </tr>\n",
       "    <tr>\n",
       "      <th>Education</th>\n",
       "      <th></th>\n",
       "      <th></th>\n",
       "      <th></th>\n",
       "    </tr>\n",
       "  </thead>\n",
       "  <tbody>\n",
       "    <tr>\n",
       "      <th>2n Cycle</th>\n",
       "      <td>47633.190000</td>\n",
       "      <td>40231</td>\n",
       "      <td>203</td>\n",
       "    </tr>\n",
       "    <tr>\n",
       "      <th>Basic</th>\n",
       "      <td>20306.259259</td>\n",
       "      <td>391</td>\n",
       "      <td>54</td>\n",
       "    </tr>\n",
       "    <tr>\n",
       "      <th>Graduation</th>\n",
       "      <td>52720.373656</td>\n",
       "      <td>320371</td>\n",
       "      <td>1127</td>\n",
       "    </tr>\n",
       "    <tr>\n",
       "      <th>Master</th>\n",
       "      <td>52917.534247</td>\n",
       "      <td>123238</td>\n",
       "      <td>370</td>\n",
       "    </tr>\n",
       "    <tr>\n",
       "      <th>PhD</th>\n",
       "      <td>56145.313929</td>\n",
       "      <td>196585</td>\n",
       "      <td>486</td>\n",
       "    </tr>\n",
       "  </tbody>\n",
       "</table>\n",
       "</div>"
      ],
      "text/plain": [
       "                  Income  MntWines    ID\n",
       "Education                               \n",
       "2n Cycle    47633.190000     40231   203\n",
       "Basic       20306.259259       391    54\n",
       "Graduation  52720.373656    320371  1127\n",
       "Master      52917.534247    123238   370\n",
       "PhD         56145.313929    196585   486"
      ]
     },
     "execution_count": 426,
     "metadata": {},
     "output_type": "execute_result"
    }
   ],
   "source": [
    "grouped_df = df.groupby(\"Education\").agg({'Income': 'mean', 'MntWines': 'sum', 'ID': 'count'})\n",
    "grouped_df"
   ]
  },
  {
   "cell_type": "markdown",
   "id": "759953c9-6fe5-494e-aea8-f16acbbc520b",
   "metadata": {},
   "source": [
    "# Q2: Datetime Operations:\n",
    "Convert Dt_Customer to datetime and extract:\n",
    "* Year and month of joining\n",
    "* Number of years since joining"
   ]
  },
  {
   "cell_type": "code",
   "execution_count": 428,
   "id": "ba63e171-1442-4c80-a0df-55ea48dfc26e",
   "metadata": {},
   "outputs": [
    {
     "data": {
      "text/plain": [
       "0      2012-04-09\n",
       "1      2014-08-03\n",
       "2      2013-08-21\n",
       "3      2014-10-02\n",
       "4      2014-01-19\n",
       "          ...    \n",
       "2235   2013-06-13\n",
       "2236   2014-10-06\n",
       "2237   2014-01-25\n",
       "2238   2014-01-24\n",
       "2239   2012-10-15\n",
       "Name: Dt_Customer, Length: 2240, dtype: datetime64[ns]"
      ]
     },
     "execution_count": 428,
     "metadata": {},
     "output_type": "execute_result"
    }
   ],
   "source": [
    "df['Dt_Customer'] = pd.to_datetime(df['Dt_Customer'], format = 'mixed')\n",
    "df['Dt_Customer']"
   ]
  },
  {
   "cell_type": "code",
   "execution_count": 429,
   "id": "79c13432-13d0-49d1-98a1-41956d8308fb",
   "metadata": {},
   "outputs": [
    {
     "data": {
      "text/plain": [
       "0       2012\n",
       "1       2014\n",
       "2       2013\n",
       "3       2014\n",
       "4       2014\n",
       "        ... \n",
       "2235    2013\n",
       "2236    2014\n",
       "2237    2014\n",
       "2238    2014\n",
       "2239    2012\n",
       "Name: Join_year, Length: 2240, dtype: int32"
      ]
     },
     "execution_count": 429,
     "metadata": {},
     "output_type": "execute_result"
    }
   ],
   "source": [
    "df['Join_year'] = df['Dt_Customer'].dt.year\n",
    "df['Join_year']"
   ]
  },
  {
   "cell_type": "code",
   "execution_count": 430,
   "id": "174d565f-1e0b-4ce0-bcb2-4683ebb6259c",
   "metadata": {},
   "outputs": [
    {
     "data": {
      "text/plain": [
       "0        4\n",
       "1        8\n",
       "2        8\n",
       "3       10\n",
       "4        1\n",
       "        ..\n",
       "2235     6\n",
       "2236    10\n",
       "2237     1\n",
       "2238     1\n",
       "2239    10\n",
       "Name: Join_month, Length: 2240, dtype: int32"
      ]
     },
     "execution_count": 430,
     "metadata": {},
     "output_type": "execute_result"
    }
   ],
   "source": [
    "df['Join_month'] = df['Dt_Customer'].dt.month\n",
    "df['Join_month']"
   ]
  },
  {
   "cell_type": "code",
   "execution_count": 431,
   "id": "569c6534-48d5-4533-afa6-3b9cff3f866f",
   "metadata": {},
   "outputs": [
    {
     "data": {
      "text/plain": [
       "0       13\n",
       "1       10\n",
       "2       11\n",
       "3       10\n",
       "4       11\n",
       "        ..\n",
       "2235    11\n",
       "2236    10\n",
       "2237    11\n",
       "2238    11\n",
       "2239    12\n",
       "Name: years_since_joining, Length: 2240, dtype: int64"
      ]
     },
     "execution_count": 431,
     "metadata": {},
     "output_type": "execute_result"
    }
   ],
   "source": [
    "today = datetime.today()\n",
    "df['years_since_joining'] = (today - df['Dt_Customer']).dt.days //365\n",
    "df['years_since_joining']"
   ]
  },
  {
   "cell_type": "markdown",
   "id": "a6584a64-c0d7-455e-86df-36809ae0afe6",
   "metadata": {},
   "source": [
    "#  Q3: Apply Function:\n",
    "Create a column Income_Level:\n",
    "* \"Low\" for income < 30,000\n",
    "* \"Medium\" for income between 30,000–70,000\n",
    "* \"High\" for income > 70,000"
   ]
  },
  {
   "cell_type": "code",
   "execution_count": 433,
   "id": "b1be94d8-4b1a-445e-bbac-eff58c8bfc52",
   "metadata": {},
   "outputs": [
    {
     "data": {
      "text/plain": [
       "0       Medium\n",
       "1       Medium\n",
       "2         High\n",
       "3          Low\n",
       "4       Medium\n",
       "         ...  \n",
       "2235    Medium\n",
       "2236    Medium\n",
       "2237    Medium\n",
       "2238    Medium\n",
       "2239    Medium\n",
       "Name: Income_Level, Length: 2240, dtype: object"
      ]
     },
     "execution_count": 433,
     "metadata": {},
     "output_type": "execute_result"
    }
   ],
   "source": [
    "def income_level(col):\n",
    "    if pd.isnull(col):\n",
    "        return \"Unknown\"\n",
    "    if col > 70000:\n",
    "        return \"High\"\n",
    "    elif 30000 <= col <= 70000:\n",
    "        return \"Medium\"\n",
    "    else:\n",
    "        return \"Low\"\n",
    "df['Income_Level'] = df['Income'].apply(income_level)\n",
    "df['Income_Level']"
   ]
  },
  {
   "cell_type": "markdown",
   "id": "25222c11-4428-469c-a1d7-749886454a0c",
   "metadata": {},
   "source": [
    "# Visualization"
   ]
  },
  {
   "cell_type": "markdown",
   "id": "41aea567-f4c1-4978-b7c2-6149a1b94812",
   "metadata": {},
   "source": [
    "# 1. Bar Plot:\n",
    "Show average Income by Marital_Status."
   ]
  },
  {
   "cell_type": "code",
   "execution_count": 436,
   "id": "1466c504-66b6-4359-8bc8-a5cbf7e6b882",
   "metadata": {},
   "outputs": [
    {
     "data": {
      "image/png": "[encoded data removed]",
      "text/plain": [
       "<Figure size 800x500 with 1 Axes>"
      ]
     },
     "metadata": {},
     "output_type": "display_data"
    }
   ],
   "source": [
    "plt.figure(figsize = (8,5))\n",
    "sns.barplot(y = 'Income', x = 'Marital_Status', data = df, errorbar = None, color = 'purple')\n",
    "plt.title(\"Avg Income by Marital status\")\n",
    "plt.xlabel(\"Marital status\")\n",
    "plt.ylabel(\"Income\")\n",
    "plt.show()"
   ]
  },
  {
   "cell_type": "markdown",
   "id": "afa58a96-d042-4413-bdef-085173cef2f6",
   "metadata": {},
   "source": [
    "# 2. Histogram & KDE:\n",
    "Plot the distribution of MntWines (wine spending) with both a histogram and KDE."
   ]
  },
  {
   "cell_type": "code",
   "execution_count": 438,
   "id": "3b99419d-f488-442b-8a2b-8b9a6e9f9368",
   "metadata": {},
   "outputs": [
    {
     "data": {
      "image/png": "[encoded data removed]",
      "text/plain": [
       "<Figure size 800x500 with 1 Axes>"
      ]
     },
     "metadata": {},
     "output_type": "display_data"
    }
   ],
   "source": [
    "plt.figure(figsize = (8,5))\n",
    "sns.histplot(data = df, x = 'MntWines', bins = 20, kde = True, color = 'darkgreen')\n",
    "plt.title(\"Distribution of MntWines\")\n",
    "plt.xlabel(\"MntWines (Amount)\")\n",
    "plt.ylabel(\"Frequency\")\n",
    "plt.show()"
   ]
  },
  {
   "cell_type": "markdown",
   "id": "6dd10689-53a2-40cb-90e0-edec496978b8",
   "metadata": {},
   "source": [
    "# 3. Box Plot:\n",
    "Create a boxplot of Income across different Education levels."
   ]
  },
  {
   "cell_type": "code",
   "execution_count": 440,
   "id": "aa5d3b62-57a1-476d-9a3d-27143ade2349",
   "metadata": {},
   "outputs": [
    {
     "data": {
      "image/png": "[encoded data removed]",
      "text/plain": [
       "<Figure size 800x500 with 1 Axes>"
      ]
     },
     "metadata": {},
     "output_type": "display_data"
    }
   ],
   "source": [
    "plt.figure(figsize = (8,5))\n",
    "sns.boxplot(data = df, x = 'Education', y = 'Income', color = 'teal')\n",
    "plt.title(\"Income across education levels\")\n",
    "plt.xlabel(\"Education\")\n",
    "plt.ylabel(\"Income\")\n",
    "plt.show()"
   ]
  },
  {
   "cell_type": "markdown",
   "id": "44155eb6-9714-420c-b1a9-713b92043e9d",
   "metadata": {},
   "source": [
    "# Exploratory Data Analysis (EDA)"
   ]
  },
  {
   "cell_type": "markdown",
   "id": "51201f47-ecfc-4931-a500-c72acda41fc5",
   "metadata": {},
   "source": [
    "# 1: Missing Value Report:\n",
    "* Check for missing values and report counts and percentages.\n",
    "* Suggest methods to impute or handle them."
   ]
  },
  {
   "cell_type": "code",
   "execution_count": 443,
   "id": "5bce4493-5e9c-4d6d-9548-90ee877d5ec4",
   "metadata": {},
   "outputs": [
    {
     "data": {
      "text/plain": [
       "ID                      0\n",
       "Year_Birth              0\n",
       "Education               0\n",
       "Marital_Status          0\n",
       "Income                 24\n",
       "Kidhome                 0\n",
       "Teenhome                0\n",
       "Dt_Customer             0\n",
       "Recency                 0\n",
       "MntWines                0\n",
       "MntFruits               0\n",
       "MntMeatProducts         0\n",
       "MntFishProducts         0\n",
       "MntSweetProducts        0\n",
       "MntGoldProds            0\n",
       "NumDealsPurchases       0\n",
       "NumWebPurchases         0\n",
       "NumCatalogPurchases     0\n",
       "NumStorePurchases       0\n",
       "NumWebVisitsMonth       0\n",
       "AcceptedCmp3            0\n",
       "AcceptedCmp4            0\n",
       "AcceptedCmp5            0\n",
       "AcceptedCmp1            0\n",
       "AcceptedCmp2            0\n",
       "Complain                0\n",
       "Z_CostContact           0\n",
       "Z_Revenue               0\n",
       "Response                0\n",
       "Join_year               0\n",
       "Join_month              0\n",
       "years_since_joining     0\n",
       "Income_Level            0\n",
       "dtype: int64"
      ]
     },
     "execution_count": 443,
     "metadata": {},
     "output_type": "execute_result"
    }
   ],
   "source": [
    "missing_count = df.isnull().sum()\n",
    "missing_count"
   ]
  },
  {
   "cell_type": "code",
   "execution_count": 444,
   "id": "b105221e-7c6a-4e0f-9541-891fa8340c0d",
   "metadata": {},
   "outputs": [
    {
     "data": {
      "text/plain": [
       "ID                     0.000000\n",
       "Year_Birth             0.000000\n",
       "Education              0.000000\n",
       "Marital_Status         0.000000\n",
       "Income                 1.071429\n",
       "Kidhome                0.000000\n",
       "Teenhome               0.000000\n",
       "Dt_Customer            0.000000\n",
       "Recency                0.000000\n",
       "MntWines               0.000000\n",
       "MntFruits              0.000000\n",
       "MntMeatProducts        0.000000\n",
       "MntFishProducts        0.000000\n",
       "MntSweetProducts       0.000000\n",
       "MntGoldProds           0.000000\n",
       "NumDealsPurchases      0.000000\n",
       "NumWebPurchases        0.000000\n",
       "NumCatalogPurchases    0.000000\n",
       "NumStorePurchases      0.000000\n",
       "NumWebVisitsMonth      0.000000\n",
       "AcceptedCmp3           0.000000\n",
       "AcceptedCmp4           0.000000\n",
       "AcceptedCmp5           0.000000\n",
       "AcceptedCmp1           0.000000\n",
       "AcceptedCmp2           0.000000\n",
       "Complain               0.000000\n",
       "Z_CostContact          0.000000\n",
       "Z_Revenue              0.000000\n",
       "Response               0.000000\n",
       "Join_year              0.000000\n",
       "Join_month             0.000000\n",
       "years_since_joining    0.000000\n",
       "Income_Level           0.000000\n",
       "dtype: float64"
      ]
     },
     "execution_count": 444,
     "metadata": {},
     "output_type": "execute_result"
    }
   ],
   "source": [
    "missing_percent = (df.isnull().sum() / len(df)) * 100\n",
    "missing_percent"
   ]
  },
  {
   "cell_type": "code",
   "execution_count": 445,
   "id": "5b5f9073-8506-447a-8034-d049f301d419",
   "metadata": {},
   "outputs": [
    {
     "data": {
      "text/html": [
       "<div>\n",
       "<style scoped>\n",
       "    .dataframe tbody tr th:only-of-type {\n",
       "        vertical-align: middle;\n",
       "    }\n",
       "\n",
       "    .dataframe tbody tr th {\n",
       "        vertical-align: top;\n",
       "    }\n",
       "\n",
       "    .dataframe thead th {\n",
       "        text-align: right;\n",
       "    }\n",
       "</style>\n",
       "<table border=\"1\" class=\"dataframe\">\n",
       "  <thead>\n",
       "    <tr style=\"text-align: right;\">\n",
       "      <th></th>\n",
       "      <th>Missing_count</th>\n",
       "      <th>Missing_percent</th>\n",
       "    </tr>\n",
       "  </thead>\n",
       "  <tbody>\n",
       "    <tr>\n",
       "      <th>Income</th>\n",
       "      <td>24</td>\n",
       "      <td>1.071429</td>\n",
       "    </tr>\n",
       "  </tbody>\n",
       "</table>\n",
       "</div>"
      ],
      "text/plain": [
       "        Missing_count  Missing_percent\n",
       "Income             24         1.071429"
      ]
     },
     "execution_count": 445,
     "metadata": {},
     "output_type": "execute_result"
    }
   ],
   "source": [
    "missing_summary = pd.concat([missing_count, missing_percent], axis = 1)\n",
    "missing_summary.columns = ['Missing_count', 'Missing_percent']\n",
    "missing_summary = missing_summary[missing_summary['Missing_count'] > 0]\n",
    "missing_summary"
   ]
  },
  {
   "cell_type": "code",
   "execution_count": 446,
   "id": "f1eb9fff-7c93-4ebc-9ae7-80e0e013b1d6",
   "metadata": {},
   "outputs": [],
   "source": [
    "df['Income'] = df['Income'].fillna(df['Income'].median()) # For numerical column, updated the null values with median"
   ]
  },
  {
   "cell_type": "markdown",
   "id": "ebab26af-5d96-46f9-89bc-cebd792c9de7",
   "metadata": {},
   "source": [
    "# 2: Outlier Detection:\n",
    "* Use IQR to detect outliers in the Income column.\n",
    "* Report how many outliers were found."
   ]
  },
  {
   "cell_type": "code",
   "execution_count": 448,
   "id": "6ee1495e-c751-40e9-899e-b3dd071d42e1",
   "metadata": {},
   "outputs": [
    {
     "data": {
      "text/html": [
       "<div>\n",
       "<style scoped>\n",
       "    .dataframe tbody tr th:only-of-type {\n",
       "        vertical-align: middle;\n",
       "    }\n",
       "\n",
       "    .dataframe tbody tr th {\n",
       "        vertical-align: top;\n",
       "    }\n",
       "\n",
       "    .dataframe thead th {\n",
       "        text-align: right;\n",
       "    }\n",
       "</style>\n",
       "<table border=\"1\" class=\"dataframe\">\n",
       "  <thead>\n",
       "    <tr style=\"text-align: right;\">\n",
       "      <th></th>\n",
       "      <th>ID</th>\n",
       "      <th>Year_Birth</th>\n",
       "      <th>Education</th>\n",
       "      <th>Marital_Status</th>\n",
       "      <th>Income</th>\n",
       "      <th>Kidhome</th>\n",
       "      <th>Teenhome</th>\n",
       "      <th>Dt_Customer</th>\n",
       "      <th>Recency</th>\n",
       "      <th>MntWines</th>\n",
       "      <th>...</th>\n",
       "      <th>AcceptedCmp1</th>\n",
       "      <th>AcceptedCmp2</th>\n",
       "      <th>Complain</th>\n",
       "      <th>Z_CostContact</th>\n",
       "      <th>Z_Revenue</th>\n",
       "      <th>Response</th>\n",
       "      <th>Join_year</th>\n",
       "      <th>Join_month</th>\n",
       "      <th>years_since_joining</th>\n",
       "      <th>Income_Level</th>\n",
       "    </tr>\n",
       "  </thead>\n",
       "  <tbody>\n",
       "    <tr>\n",
       "      <th>164</th>\n",
       "      <td>8475</td>\n",
       "      <td>1973</td>\n",
       "      <td>PhD</td>\n",
       "      <td>Married</td>\n",
       "      <td>157243.0</td>\n",
       "      <td>0</td>\n",
       "      <td>1</td>\n",
       "      <td>2014-01-03</td>\n",
       "      <td>98</td>\n",
       "      <td>20</td>\n",
       "      <td>...</td>\n",
       "      <td>0</td>\n",
       "      <td>0</td>\n",
       "      <td>0</td>\n",
       "      <td>3</td>\n",
       "      <td>11</td>\n",
       "      <td>0</td>\n",
       "      <td>2014</td>\n",
       "      <td>1</td>\n",
       "      <td>11</td>\n",
       "      <td>High</td>\n",
       "    </tr>\n",
       "    <tr>\n",
       "      <th>617</th>\n",
       "      <td>1503</td>\n",
       "      <td>1976</td>\n",
       "      <td>PhD</td>\n",
       "      <td>Together</td>\n",
       "      <td>162397.0</td>\n",
       "      <td>1</td>\n",
       "      <td>1</td>\n",
       "      <td>2013-03-06</td>\n",
       "      <td>31</td>\n",
       "      <td>85</td>\n",
       "      <td>...</td>\n",
       "      <td>0</td>\n",
       "      <td>0</td>\n",
       "      <td>0</td>\n",
       "      <td>3</td>\n",
       "      <td>11</td>\n",
       "      <td>0</td>\n",
       "      <td>2013</td>\n",
       "      <td>3</td>\n",
       "      <td>12</td>\n",
       "      <td>High</td>\n",
       "    </tr>\n",
       "    <tr>\n",
       "      <th>655</th>\n",
       "      <td>5555</td>\n",
       "      <td>1975</td>\n",
       "      <td>Graduation</td>\n",
       "      <td>Divorced</td>\n",
       "      <td>153924.0</td>\n",
       "      <td>0</td>\n",
       "      <td>0</td>\n",
       "      <td>2014-07-02</td>\n",
       "      <td>81</td>\n",
       "      <td>1</td>\n",
       "      <td>...</td>\n",
       "      <td>0</td>\n",
       "      <td>0</td>\n",
       "      <td>0</td>\n",
       "      <td>3</td>\n",
       "      <td>11</td>\n",
       "      <td>0</td>\n",
       "      <td>2014</td>\n",
       "      <td>7</td>\n",
       "      <td>10</td>\n",
       "      <td>High</td>\n",
       "    </tr>\n",
       "    <tr>\n",
       "      <th>687</th>\n",
       "      <td>1501</td>\n",
       "      <td>1982</td>\n",
       "      <td>PhD</td>\n",
       "      <td>Married</td>\n",
       "      <td>160803.0</td>\n",
       "      <td>0</td>\n",
       "      <td>0</td>\n",
       "      <td>2012-04-08</td>\n",
       "      <td>21</td>\n",
       "      <td>55</td>\n",
       "      <td>...</td>\n",
       "      <td>0</td>\n",
       "      <td>0</td>\n",
       "      <td>0</td>\n",
       "      <td>3</td>\n",
       "      <td>11</td>\n",
       "      <td>0</td>\n",
       "      <td>2012</td>\n",
       "      <td>4</td>\n",
       "      <td>13</td>\n",
       "      <td>High</td>\n",
       "    </tr>\n",
       "    <tr>\n",
       "      <th>1300</th>\n",
       "      <td>5336</td>\n",
       "      <td>1971</td>\n",
       "      <td>Master</td>\n",
       "      <td>Together</td>\n",
       "      <td>157733.0</td>\n",
       "      <td>1</td>\n",
       "      <td>0</td>\n",
       "      <td>2013-04-06</td>\n",
       "      <td>37</td>\n",
       "      <td>39</td>\n",
       "      <td>...</td>\n",
       "      <td>0</td>\n",
       "      <td>0</td>\n",
       "      <td>0</td>\n",
       "      <td>3</td>\n",
       "      <td>11</td>\n",
       "      <td>0</td>\n",
       "      <td>2013</td>\n",
       "      <td>4</td>\n",
       "      <td>12</td>\n",
       "      <td>High</td>\n",
       "    </tr>\n",
       "    <tr>\n",
       "      <th>1653</th>\n",
       "      <td>4931</td>\n",
       "      <td>1977</td>\n",
       "      <td>Graduation</td>\n",
       "      <td>Together</td>\n",
       "      <td>157146.0</td>\n",
       "      <td>0</td>\n",
       "      <td>0</td>\n",
       "      <td>2013-04-29</td>\n",
       "      <td>13</td>\n",
       "      <td>1</td>\n",
       "      <td>...</td>\n",
       "      <td>0</td>\n",
       "      <td>0</td>\n",
       "      <td>0</td>\n",
       "      <td>3</td>\n",
       "      <td>11</td>\n",
       "      <td>0</td>\n",
       "      <td>2013</td>\n",
       "      <td>4</td>\n",
       "      <td>12</td>\n",
       "      <td>High</td>\n",
       "    </tr>\n",
       "    <tr>\n",
       "      <th>2132</th>\n",
       "      <td>11181</td>\n",
       "      <td>1949</td>\n",
       "      <td>PhD</td>\n",
       "      <td>Married</td>\n",
       "      <td>156924.0</td>\n",
       "      <td>0</td>\n",
       "      <td>0</td>\n",
       "      <td>2013-08-29</td>\n",
       "      <td>85</td>\n",
       "      <td>2</td>\n",
       "      <td>...</td>\n",
       "      <td>0</td>\n",
       "      <td>0</td>\n",
       "      <td>0</td>\n",
       "      <td>3</td>\n",
       "      <td>11</td>\n",
       "      <td>0</td>\n",
       "      <td>2013</td>\n",
       "      <td>8</td>\n",
       "      <td>11</td>\n",
       "      <td>High</td>\n",
       "    </tr>\n",
       "    <tr>\n",
       "      <th>2233</th>\n",
       "      <td>9432</td>\n",
       "      <td>1977</td>\n",
       "      <td>Graduation</td>\n",
       "      <td>Together</td>\n",
       "      <td>666666.0</td>\n",
       "      <td>1</td>\n",
       "      <td>0</td>\n",
       "      <td>2013-02-06</td>\n",
       "      <td>23</td>\n",
       "      <td>9</td>\n",
       "      <td>...</td>\n",
       "      <td>0</td>\n",
       "      <td>0</td>\n",
       "      <td>0</td>\n",
       "      <td>3</td>\n",
       "      <td>11</td>\n",
       "      <td>0</td>\n",
       "      <td>2013</td>\n",
       "      <td>2</td>\n",
       "      <td>12</td>\n",
       "      <td>High</td>\n",
       "    </tr>\n",
       "  </tbody>\n",
       "</table>\n",
       "<p>8 rows × 33 columns</p>\n",
       "</div>"
      ],
      "text/plain": [
       "         ID  Year_Birth   Education Marital_Status    Income  Kidhome  \\\n",
       "164    8475        1973         PhD        Married  157243.0        0   \n",
       "617    1503        1976         PhD       Together  162397.0        1   \n",
       "655    5555        1975  Graduation       Divorced  153924.0        0   \n",
       "687    1501        1982         PhD        Married  160803.0        0   \n",
       "1300   5336        1971      Master       Together  157733.0        1   \n",
       "1653   4931        1977  Graduation       Together  157146.0        0   \n",
       "2132  11181        1949         PhD        Married  156924.0        0   \n",
       "2233   9432        1977  Graduation       Together  666666.0        1   \n",
       "\n",
       "      Teenhome Dt_Customer  Recency  MntWines  ...  AcceptedCmp1  \\\n",
       "164          1  2014-01-03       98        20  ...             0   \n",
       "617          1  2013-03-06       31        85  ...             0   \n",
       "655          0  2014-07-02       81         1  ...             0   \n",
       "687          0  2012-04-08       21        55  ...             0   \n",
       "1300         0  2013-04-06       37        39  ...             0   \n",
       "1653         0  2013-04-29       13         1  ...             0   \n",
       "2132         0  2013-08-29       85         2  ...             0   \n",
       "2233         0  2013-02-06       23         9  ...             0   \n",
       "\n",
       "      AcceptedCmp2  Complain  Z_CostContact  Z_Revenue  Response  Join_year  \\\n",
       "164              0         0              3         11         0       2014   \n",
       "617              0         0              3         11         0       2013   \n",
       "655              0         0              3         11         0       2014   \n",
       "687              0         0              3         11         0       2012   \n",
       "1300             0         0              3         11         0       2013   \n",
       "1653             0         0              3         11         0       2013   \n",
       "2132             0         0              3         11         0       2013   \n",
       "2233             0         0              3         11         0       2013   \n",
       "\n",
       "      Join_month  years_since_joining  Income_Level  \n",
       "164            1                   11          High  \n",
       "617            3                   12          High  \n",
       "655            7                   10          High  \n",
       "687            4                   13          High  \n",
       "1300           4                   12          High  \n",
       "1653           4                   12          High  \n",
       "2132           8                   11          High  \n",
       "2233           2                   12          High  \n",
       "\n",
       "[8 rows x 33 columns]"
      ]
     },
     "metadata": {},
     "output_type": "display_data"
    },
    {
     "name": "stdout",
     "output_type": "stream",
     "text": [
      "\n",
      "There are 8 outliers present in Income column.\n"
     ]
    }
   ],
   "source": [
    "Q1 = df['Income'].quantile(0.25)\n",
    "Q3 = df['Income'].quantile(0.75)\n",
    "IQR = Q3 - Q1\n",
    "LW = Q1 - 1.5 * IQR\n",
    "UW = Q3 + 1.5 * IQR\n",
    "outliers = df[(df['Income'] < LW) | (df['Income'] > UW)]\n",
    "display(outliers)\n",
    "print(f\"\\nThere are {len(outliers)} outliers present in Income column.\")"
   ]
  },
  {
   "cell_type": "markdown",
   "id": "59f130e7-83cf-4916-855c-40d1db295bd3",
   "metadata": {},
   "source": [
    "# 3: Basic Correlation Analysis:\n",
    "* Generate a correlation matrix for spending-related columns (MntWines, MntFruits, etc.).\n",
    "* Visualize using a heatmap and summarize key correlations."
   ]
  },
  {
   "cell_type": "code",
   "execution_count": 450,
   "id": "c16074f0-68fb-47dd-8a5a-b0e2a2c09cde",
   "metadata": {},
   "outputs": [
    {
     "data": {
      "text/html": [
       "<div>\n",
       "<style scoped>\n",
       "    .dataframe tbody tr th:only-of-type {\n",
       "        vertical-align: middle;\n",
       "    }\n",
       "\n",
       "    .dataframe tbody tr th {\n",
       "        vertical-align: top;\n",
       "    }\n",
       "\n",
       "    .dataframe thead th {\n",
       "        text-align: right;\n",
       "    }\n",
       "</style>\n",
       "<table border=\"1\" class=\"dataframe\">\n",
       "  <thead>\n",
       "    <tr style=\"text-align: right;\">\n",
       "      <th></th>\n",
       "      <th>MntWines</th>\n",
       "      <th>MntFruits</th>\n",
       "      <th>MntMeatProducts</th>\n",
       "      <th>MntFishProducts</th>\n",
       "      <th>MntSweetProducts</th>\n",
       "      <th>MntGoldProds</th>\n",
       "    </tr>\n",
       "  </thead>\n",
       "  <tbody>\n",
       "    <tr>\n",
       "      <th>MntWines</th>\n",
       "      <td>1.000000</td>\n",
       "      <td>0.389637</td>\n",
       "      <td>0.562667</td>\n",
       "      <td>0.399753</td>\n",
       "      <td>0.386581</td>\n",
       "      <td>0.387516</td>\n",
       "    </tr>\n",
       "    <tr>\n",
       "      <th>MntFruits</th>\n",
       "      <td>0.389637</td>\n",
       "      <td>1.000000</td>\n",
       "      <td>0.543105</td>\n",
       "      <td>0.594804</td>\n",
       "      <td>0.567164</td>\n",
       "      <td>0.392995</td>\n",
       "    </tr>\n",
       "    <tr>\n",
       "      <th>MntMeatProducts</th>\n",
       "      <td>0.562667</td>\n",
       "      <td>0.543105</td>\n",
       "      <td>1.000000</td>\n",
       "      <td>0.568402</td>\n",
       "      <td>0.523846</td>\n",
       "      <td>0.350609</td>\n",
       "    </tr>\n",
       "    <tr>\n",
       "      <th>MntFishProducts</th>\n",
       "      <td>0.399753</td>\n",
       "      <td>0.594804</td>\n",
       "      <td>0.568402</td>\n",
       "      <td>1.000000</td>\n",
       "      <td>0.579870</td>\n",
       "      <td>0.422875</td>\n",
       "    </tr>\n",
       "    <tr>\n",
       "      <th>MntSweetProducts</th>\n",
       "      <td>0.386581</td>\n",
       "      <td>0.567164</td>\n",
       "      <td>0.523846</td>\n",
       "      <td>0.579870</td>\n",
       "      <td>1.000000</td>\n",
       "      <td>0.369724</td>\n",
       "    </tr>\n",
       "    <tr>\n",
       "      <th>MntGoldProds</th>\n",
       "      <td>0.387516</td>\n",
       "      <td>0.392995</td>\n",
       "      <td>0.350609</td>\n",
       "      <td>0.422875</td>\n",
       "      <td>0.369724</td>\n",
       "      <td>1.000000</td>\n",
       "    </tr>\n",
       "  </tbody>\n",
       "</table>\n",
       "</div>"
      ],
      "text/plain": [
       "                  MntWines  MntFruits  MntMeatProducts  MntFishProducts  \\\n",
       "MntWines          1.000000   0.389637         0.562667         0.399753   \n",
       "MntFruits         0.389637   1.000000         0.543105         0.594804   \n",
       "MntMeatProducts   0.562667   0.543105         1.000000         0.568402   \n",
       "MntFishProducts   0.399753   0.594804         0.568402         1.000000   \n",
       "MntSweetProducts  0.386581   0.567164         0.523846         0.579870   \n",
       "MntGoldProds      0.387516   0.392995         0.350609         0.422875   \n",
       "\n",
       "                  MntSweetProducts  MntGoldProds  \n",
       "MntWines                  0.386581      0.387516  \n",
       "MntFruits                 0.567164      0.392995  \n",
       "MntMeatProducts           0.523846      0.350609  \n",
       "MntFishProducts           0.579870      0.422875  \n",
       "MntSweetProducts          1.000000      0.369724  \n",
       "MntGoldProds              0.369724      1.000000  "
      ]
     },
     "execution_count": 450,
     "metadata": {},
     "output_type": "execute_result"
    }
   ],
   "source": [
    "spending_cols = ['MntWines', 'MntFruits', 'MntMeatProducts', 'MntFishProducts', 'MntSweetProducts', 'MntGoldProds']\n",
    "corr_matrix = df[spending_cols].corr()\n",
    "corr_matrix"
   ]
  },
  {
   "cell_type": "code",
   "execution_count": 451,
   "id": "9324f2d0-a950-49af-98eb-a47990856aed",
   "metadata": {},
   "outputs": [
    {
     "data": {
      "image/png": "[encoded data removed]",
      "text/plain": [
       "<Figure size 800x500 with 2 Axes>"
      ]
     },
     "metadata": {},
     "output_type": "display_data"
    }
   ],
   "source": [
    "plt.figure(figsize = (8, 5))\n",
    "sns.heatmap(corr_matrix, annot = True)\n",
    "plt.title(\"Correlation Matrix of Spending Columns\")\n",
    "plt.show()"
   ]
  },
  {
   "cell_type": "markdown",
   "id": "975f13e6-6a69-4306-a393-061a6cd82947",
   "metadata": {},
   "source": [
    "# Statistics "
   ]
  },
  {
   "cell_type": "markdown",
   "id": "d8fba074-1dc2-48a9-bb7d-fd860c581c40",
   "metadata": {},
   "source": [
    "# 1: Z-Test\n",
    "* Test if the average Income is significantly different from $50,000.\n",
    "* Use sample mean, standard deviation, and assume sample size > 30."
   ]
  },
  {
   "cell_type": "markdown",
   "id": "882d0b35-a31a-4bef-a9f0-c0cc5799cbe3",
   "metadata": {},
   "source": [
    "H0: Mu is 50000.\n",
    "H1: Mu is not 50000.\n"
   ]
  },
  {
   "cell_type": "code",
   "execution_count": 455,
   "id": "203c7062-8f0a-4af7-aa1e-997967959f7e",
   "metadata": {},
   "outputs": [
    {
     "name": "stdout",
     "output_type": "stream",
     "text": [
      "Reject the null hypothesis: Average income is significantly different from $50,000.\n"
     ]
    }
   ],
   "source": [
    "mean_ = df['Income'].mean()\n",
    "std_ = df['Income'].std()\n",
    "n = len(df['Income'])\n",
    "\n",
    "z_score = (mean_ - 50000) / (std_ / (n ** 0.5))\n",
    "critical_z = 1.96\n",
    "\n",
    "# Comparing Z-score with ±1.96\n",
    "if abs(z_score) > critical_z:\n",
    "    print(\"Reject the null hypothesis: Average income is significantly different from $50,000.\")\n",
    "else:\n",
    "    print(\"Fail to reject the null hypothesis: No significant difference from $50,000.\")"
   ]
  },
  {
   "cell_type": "markdown",
   "id": "5530f1a7-cfb3-4ad2-b6f8-14f68a13c317",
   "metadata": {},
   "source": [
    "# 2: T-Test (Independent Samples)\n",
    "* Test whether there is a significant difference in Income between married and single customers.\n",
    "* (Hint: Use Marital_Status to form two groups.)"
   ]
  },
  {
   "cell_type": "markdown",
   "id": "eef23261-7116-474d-8778-003faf1eee65",
   "metadata": {},
   "source": [
    "* Null hypothesis (H0): There is no significant difference in income between married and single customers.\n",
    "* Alternative hypothesis (H1): There is a significant difference in income between married and single customers."
   ]
  },
  {
   "cell_type": "code",
   "execution_count": 458,
   "id": "3297c148-4897-45de-a866-e845caa9c11b",
   "metadata": {},
   "outputs": [
    {
     "name": "stdout",
     "output_type": "stream",
     "text": [
      "T-Statistic: 1.2479\n",
      "P-value: 0.2123\n",
      "Fail to reject the null hypothesis: There is no significant difference in income between married and single customers.\n"
     ]
    }
   ],
   "source": [
    "married_income = df[df['Marital_Status'] == 'Together']['Income']\n",
    "single_income = df[df['Marital_Status'] == 'Single']['Income']\n",
    "\n",
    "t_stat, p_val = stats.ttest_ind(married_income, single_income)\n",
    "\n",
    "print(f\"T-Statistic: {t_stat:.4f}\")\n",
    "print(f\"P-value: {p_val:.4f}\")\n",
    "\n",
    "alpha = 0.05\n",
    "if p_val < alpha:\n",
    "    print(\"Reject the null hypothesis: There is a significant difference in income between married and single customers.\")\n",
    "else:\n",
    "    print(\"Fail to reject the null hypothesis: There is no significant difference in income between married and single customers.\")"
   ]
  },
  {
   "cell_type": "code",
   "execution_count": null,
   "id": "6f2ca385-5559-490e-b98b-d8d02677ddb4",
   "metadata": {},
   "outputs": [],
   "source": []
  }
 ],
 "metadata": {
  "kernelspec": {
   "display_name": "Python 3 (ipykernel)",
   "language": "python",
   "name": "python3"
  },
  "language_info": {
   "codemirror_mode": {
    "name": "ipython",
    "version": 3
   },
   "file_extension": ".py",
   "mimetype": "text/x-python",
   "name": "python",
   "nbconvert_exporter": "python",
   "pygments_lexer": "ipython3",
   "version": "3.12.7"
  }
 },
 "nbformat": 4,
 "nbformat_minor": 5
}
