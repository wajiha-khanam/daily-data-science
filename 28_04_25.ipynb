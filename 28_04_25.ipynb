{
 "cells": [
  {
   "cell_type": "markdown",
   "id": "85a48a3b-aff0-4bfc-8d9e-c14b0c36b133",
   "metadata": {},
   "source": [
    "# 📅 Day 1 Challenge\n",
    "* **Theme:**  Sales/Superstore Dataset\n",
    "* **Tools:**  Pandas, Matplotlib/Seaborn\n",
    "\n"
   ]
  },
  {
   "cell_type": "markdown",
   "id": "af0e47ee-6678-4677-a03b-90f80d1bfe07",
   "metadata": {},
   "source": [
    "##### Dataset Link: https://www.kaggle.com/datasets/vivek468/superstore-dataset-final"
   ]
  },
  {
   "cell_type": "code",
   "execution_count": 102,
   "id": "a103e3ea-fc2d-495c-9489-f432017f0c3a",
   "metadata": {},
   "outputs": [],
   "source": [
    "import pandas as pd\n",
    "import numpy as np\n",
    "import matplotlib.pyplot as plt\n",
    "import seaborn as sns"
   ]
  },
  {
   "cell_type": "code",
   "execution_count": 19,
   "id": "965813c5-4de0-468e-8378-dcd25f57ff18",
   "metadata": {},
   "outputs": [
    {
     "data": {
      "text/html": [
       "<div>\n",
       "<style scoped>\n",
       "    .dataframe tbody tr th:only-of-type {\n",
       "        vertical-align: middle;\n",
       "    }\n",
       "\n",
       "    .dataframe tbody tr th {\n",
       "        vertical-align: top;\n",
       "    }\n",
       "\n",
       "    .dataframe thead th {\n",
       "        text-align: right;\n",
       "    }\n",
       "</style>\n",
       "<table border=\"1\" class=\"dataframe\">\n",
       "  <thead>\n",
       "    <tr style=\"text-align: right;\">\n",
       "      <th></th>\n",
       "      <th>Row ID</th>\n",
       "      <th>Order ID</th>\n",
       "      <th>Order Date</th>\n",
       "      <th>Ship Date</th>\n",
       "      <th>Ship Mode</th>\n",
       "      <th>Customer ID</th>\n",
       "      <th>Customer Name</th>\n",
       "      <th>Segment</th>\n",
       "      <th>Country</th>\n",
       "      <th>City</th>\n",
       "      <th>...</th>\n",
       "      <th>Postal Code</th>\n",
       "      <th>Region</th>\n",
       "      <th>Product ID</th>\n",
       "      <th>Category</th>\n",
       "      <th>Sub-Category</th>\n",
       "      <th>Product Name</th>\n",
       "      <th>Sales</th>\n",
       "      <th>Quantity</th>\n",
       "      <th>Discount</th>\n",
       "      <th>Profit</th>\n",
       "    </tr>\n",
       "  </thead>\n",
       "  <tbody>\n",
       "    <tr>\n",
       "      <th>0</th>\n",
       "      <td>1</td>\n",
       "      <td>CA-2016-152156</td>\n",
       "      <td>11/8/2016</td>\n",
       "      <td>11/11/2016</td>\n",
       "      <td>Second Class</td>\n",
       "      <td>CG-12520</td>\n",
       "      <td>Claire Gute</td>\n",
       "      <td>Consumer</td>\n",
       "      <td>United States</td>\n",
       "      <td>Henderson</td>\n",
       "      <td>...</td>\n",
       "      <td>42420</td>\n",
       "      <td>South</td>\n",
       "      <td>FUR-BO-10001798</td>\n",
       "      <td>Furniture</td>\n",
       "      <td>Bookcases</td>\n",
       "      <td>Bush Somerset Collection Bookcase</td>\n",
       "      <td>261.9600</td>\n",
       "      <td>2</td>\n",
       "      <td>0.00</td>\n",
       "      <td>41.9136</td>\n",
       "    </tr>\n",
       "    <tr>\n",
       "      <th>1</th>\n",
       "      <td>2</td>\n",
       "      <td>CA-2016-152156</td>\n",
       "      <td>11/8/2016</td>\n",
       "      <td>11/11/2016</td>\n",
       "      <td>Second Class</td>\n",
       "      <td>CG-12520</td>\n",
       "      <td>Claire Gute</td>\n",
       "      <td>Consumer</td>\n",
       "      <td>United States</td>\n",
       "      <td>Henderson</td>\n",
       "      <td>...</td>\n",
       "      <td>42420</td>\n",
       "      <td>South</td>\n",
       "      <td>FUR-CH-10000454</td>\n",
       "      <td>Furniture</td>\n",
       "      <td>Chairs</td>\n",
       "      <td>Hon Deluxe Fabric Upholstered Stacking Chairs,...</td>\n",
       "      <td>731.9400</td>\n",
       "      <td>3</td>\n",
       "      <td>0.00</td>\n",
       "      <td>219.5820</td>\n",
       "    </tr>\n",
       "    <tr>\n",
       "      <th>2</th>\n",
       "      <td>3</td>\n",
       "      <td>CA-2016-138688</td>\n",
       "      <td>6/12/2016</td>\n",
       "      <td>6/16/2016</td>\n",
       "      <td>Second Class</td>\n",
       "      <td>DV-13045</td>\n",
       "      <td>Darrin Van Huff</td>\n",
       "      <td>Corporate</td>\n",
       "      <td>United States</td>\n",
       "      <td>Los Angeles</td>\n",
       "      <td>...</td>\n",
       "      <td>90036</td>\n",
       "      <td>West</td>\n",
       "      <td>OFF-LA-10000240</td>\n",
       "      <td>Office Supplies</td>\n",
       "      <td>Labels</td>\n",
       "      <td>Self-Adhesive Address Labels for Typewriters b...</td>\n",
       "      <td>14.6200</td>\n",
       "      <td>2</td>\n",
       "      <td>0.00</td>\n",
       "      <td>6.8714</td>\n",
       "    </tr>\n",
       "    <tr>\n",
       "      <th>3</th>\n",
       "      <td>4</td>\n",
       "      <td>US-2015-108966</td>\n",
       "      <td>10/11/2015</td>\n",
       "      <td>10/18/2015</td>\n",
       "      <td>Standard Class</td>\n",
       "      <td>SO-20335</td>\n",
       "      <td>Sean O'Donnell</td>\n",
       "      <td>Consumer</td>\n",
       "      <td>United States</td>\n",
       "      <td>Fort Lauderdale</td>\n",
       "      <td>...</td>\n",
       "      <td>33311</td>\n",
       "      <td>South</td>\n",
       "      <td>FUR-TA-10000577</td>\n",
       "      <td>Furniture</td>\n",
       "      <td>Tables</td>\n",
       "      <td>Bretford CR4500 Series Slim Rectangular Table</td>\n",
       "      <td>957.5775</td>\n",
       "      <td>5</td>\n",
       "      <td>0.45</td>\n",
       "      <td>-383.0310</td>\n",
       "    </tr>\n",
       "    <tr>\n",
       "      <th>4</th>\n",
       "      <td>5</td>\n",
       "      <td>US-2015-108966</td>\n",
       "      <td>10/11/2015</td>\n",
       "      <td>10/18/2015</td>\n",
       "      <td>Standard Class</td>\n",
       "      <td>SO-20335</td>\n",
       "      <td>Sean O'Donnell</td>\n",
       "      <td>Consumer</td>\n",
       "      <td>United States</td>\n",
       "      <td>Fort Lauderdale</td>\n",
       "      <td>...</td>\n",
       "      <td>33311</td>\n",
       "      <td>South</td>\n",
       "      <td>OFF-ST-10000760</td>\n",
       "      <td>Office Supplies</td>\n",
       "      <td>Storage</td>\n",
       "      <td>Eldon Fold 'N Roll Cart System</td>\n",
       "      <td>22.3680</td>\n",
       "      <td>2</td>\n",
       "      <td>0.20</td>\n",
       "      <td>2.5164</td>\n",
       "    </tr>\n",
       "  </tbody>\n",
       "</table>\n",
       "<p>5 rows × 21 columns</p>\n",
       "</div>"
      ],
      "text/plain": [
       "   Row ID        Order ID  Order Date   Ship Date       Ship Mode Customer ID  \\\n",
       "0       1  CA-2016-152156   11/8/2016  11/11/2016    Second Class    CG-12520   \n",
       "1       2  CA-2016-152156   11/8/2016  11/11/2016    Second Class    CG-12520   \n",
       "2       3  CA-2016-138688   6/12/2016   6/16/2016    Second Class    DV-13045   \n",
       "3       4  US-2015-108966  10/11/2015  10/18/2015  Standard Class    SO-20335   \n",
       "4       5  US-2015-108966  10/11/2015  10/18/2015  Standard Class    SO-20335   \n",
       "\n",
       "     Customer Name    Segment        Country             City  ...  \\\n",
       "0      Claire Gute   Consumer  United States        Henderson  ...   \n",
       "1      Claire Gute   Consumer  United States        Henderson  ...   \n",
       "2  Darrin Van Huff  Corporate  United States      Los Angeles  ...   \n",
       "3   Sean O'Donnell   Consumer  United States  Fort Lauderdale  ...   \n",
       "4   Sean O'Donnell   Consumer  United States  Fort Lauderdale  ...   \n",
       "\n",
       "  Postal Code  Region       Product ID         Category Sub-Category  \\\n",
       "0       42420   South  FUR-BO-10001798        Furniture    Bookcases   \n",
       "1       42420   South  FUR-CH-10000454        Furniture       Chairs   \n",
       "2       90036    West  OFF-LA-10000240  Office Supplies       Labels   \n",
       "3       33311   South  FUR-TA-10000577        Furniture       Tables   \n",
       "4       33311   South  OFF-ST-10000760  Office Supplies      Storage   \n",
       "\n",
       "                                        Product Name     Sales  Quantity  \\\n",
       "0                  Bush Somerset Collection Bookcase  261.9600         2   \n",
       "1  Hon Deluxe Fabric Upholstered Stacking Chairs,...  731.9400         3   \n",
       "2  Self-Adhesive Address Labels for Typewriters b...   14.6200         2   \n",
       "3      Bretford CR4500 Series Slim Rectangular Table  957.5775         5   \n",
       "4                     Eldon Fold 'N Roll Cart System   22.3680         2   \n",
       "\n",
       "   Discount    Profit  \n",
       "0      0.00   41.9136  \n",
       "1      0.00  219.5820  \n",
       "2      0.00    6.8714  \n",
       "3      0.45 -383.0310  \n",
       "4      0.20    2.5164  \n",
       "\n",
       "[5 rows x 21 columns]"
      ]
     },
     "execution_count": 19,
     "metadata": {},
     "output_type": "execute_result"
    }
   ],
   "source": [
    "df = pd.read_csv(\"Sample - Superstore.csv\", encoding_errors = 'ignore')\n",
    "df.head()"
   ]
  },
  {
   "cell_type": "markdown",
   "id": "8a397c84-b33a-4dc5-b262-96d657342f18",
   "metadata": {},
   "source": [
    "## Find the top 5 customers by total sales amount."
   ]
  },
  {
   "cell_type": "code",
   "execution_count": 50,
   "id": "ed86a4e1-8145-4b5f-8ecb-803cabffbc5b",
   "metadata": {},
   "outputs": [
    {
     "data": {
      "text/plain": [
       "0      Sean Miller\n",
       "1     Tamara Chand\n",
       "2     Raymond Buch\n",
       "3     Tom Ashbrook\n",
       "4    Adrian Barton\n",
       "Name: Customer Name, dtype: object"
      ]
     },
     "execution_count": 50,
     "metadata": {},
     "output_type": "execute_result"
    }
   ],
   "source": [
    "top_cust = df.groupby(\"Customer Name\")['Sales'].sum().sort_values(ascending = False).reset_index()\n",
    "top_cust = top_cust.head(5)\n",
    "top_cust\n",
    "top_cust_names = top_cust['Customer Name']\n",
    "top_cust_names"
   ]
  },
  {
   "cell_type": "markdown",
   "id": "528ff554-de5f-4a77-a5eb-a25b9aa25fcf",
   "metadata": {},
   "source": [
    "## Create a bar plot showing the top 5 product categories by total profit."
   ]
  },
  {
   "cell_type": "code",
   "execution_count": 71,
   "id": "77e726e0-a815-47e6-9208-c531948f58d0",
   "metadata": {},
   "outputs": [
    {
     "data": {
      "text/plain": [
       "Category\n",
       "Furniture           18451.2728\n",
       "Office Supplies    122490.8008\n",
       "Technology         145454.9481\n",
       "Name: Profit, dtype: float64"
      ]
     },
     "execution_count": 71,
     "metadata": {},
     "output_type": "execute_result"
    }
   ],
   "source": [
    "profit_by_category = df.groupby('Category')['Profit'].sum()\n",
    "profit_by_category"
   ]
  },
  {
   "cell_type": "code",
   "execution_count": 79,
   "id": "ce4769d6-6bcf-4a71-9683-cf2ddf92a404",
   "metadata": {},
   "outputs": [
    {
     "data": {
      "image/png": "[encoded data removed]",
      "text/plain": [
       "<Figure size 800x500 with 1 Axes>"
      ]
     },
     "metadata": {},
     "output_type": "display_data"
    }
   ],
   "source": [
    "plt.figure(figsize = (8,5))\n",
    "sns.barplot(x = profit_by_category.index, y = profit_by_category.values)\n",
    "# plt.bar(profit_by_category.index, profit_by_category.values)\n",
    "plt.ylabel(\"Total Profit\")\n",
    "plt.show()"
   ]
  },
  {
   "cell_type": "markdown",
   "id": "77aeccbf-b83e-4bc9-b8e0-9e5fdefe7958",
   "metadata": {},
   "source": [
    "## Task:\n",
    "\n",
    "### Clean and analyze:\n",
    "\n",
    "* Check for any missing values.\n",
    "\n",
    "* Create a new column: High Profit (where Profit > 500 is Yes, else No).\n",
    "\n",
    "* Find the percentage of high-profit orders."
   ]
  },
  {
   "cell_type": "code",
   "execution_count": 94,
   "id": "9747d388-f231-4ee8-a8cf-cd1b7e703a61",
   "metadata": {},
   "outputs": [
    {
     "data": {
      "text/plain": [
       "Row ID           0\n",
       "Order ID         0\n",
       "Order Date       0\n",
       "Ship Date        0\n",
       "Ship Mode        0\n",
       "Customer ID      0\n",
       "Customer Name    0\n",
       "Segment          0\n",
       "Country          0\n",
       "City             0\n",
       "State            0\n",
       "Postal Code      0\n",
       "Region           0\n",
       "Product ID       0\n",
       "Category         0\n",
       "Sub-Category     0\n",
       "Product Name     0\n",
       "Sales            0\n",
       "Quantity         0\n",
       "Discount         0\n",
       "Profit           0\n",
       "dtype: int64"
      ]
     },
     "execution_count": 94,
     "metadata": {},
     "output_type": "execute_result"
    }
   ],
   "source": [
    "missing_val = df.isna().sum()\n",
    "missing_val"
   ]
  },
  {
   "cell_type": "code",
   "execution_count": 100,
   "id": "3067ea29-c202-4e30-a0e7-d1fcb12dc726",
   "metadata": {},
   "outputs": [
    {
     "data": {
      "text/html": [
       "<div>\n",
       "<style scoped>\n",
       "    .dataframe tbody tr th:only-of-type {\n",
       "        vertical-align: middle;\n",
       "    }\n",
       "\n",
       "    .dataframe tbody tr th {\n",
       "        vertical-align: top;\n",
       "    }\n",
       "\n",
       "    .dataframe thead th {\n",
       "        text-align: right;\n",
       "    }\n",
       "</style>\n",
       "<table border=\"1\" class=\"dataframe\">\n",
       "  <thead>\n",
       "    <tr style=\"text-align: right;\">\n",
       "      <th></th>\n",
       "      <th>Profit</th>\n",
       "      <th>High Profit</th>\n",
       "    </tr>\n",
       "  </thead>\n",
       "  <tbody>\n",
       "    <tr>\n",
       "      <th>0</th>\n",
       "      <td>41.9136</td>\n",
       "      <td>No</td>\n",
       "    </tr>\n",
       "    <tr>\n",
       "      <th>1</th>\n",
       "      <td>219.5820</td>\n",
       "      <td>No</td>\n",
       "    </tr>\n",
       "    <tr>\n",
       "      <th>2</th>\n",
       "      <td>6.8714</td>\n",
       "      <td>No</td>\n",
       "    </tr>\n",
       "    <tr>\n",
       "      <th>3</th>\n",
       "      <td>-383.0310</td>\n",
       "      <td>No</td>\n",
       "    </tr>\n",
       "    <tr>\n",
       "      <th>4</th>\n",
       "      <td>2.5164</td>\n",
       "      <td>No</td>\n",
       "    </tr>\n",
       "    <tr>\n",
       "      <th>...</th>\n",
       "      <td>...</td>\n",
       "      <td>...</td>\n",
       "    </tr>\n",
       "    <tr>\n",
       "      <th>9989</th>\n",
       "      <td>4.1028</td>\n",
       "      <td>No</td>\n",
       "    </tr>\n",
       "    <tr>\n",
       "      <th>9990</th>\n",
       "      <td>15.6332</td>\n",
       "      <td>No</td>\n",
       "    </tr>\n",
       "    <tr>\n",
       "      <th>9991</th>\n",
       "      <td>19.3932</td>\n",
       "      <td>No</td>\n",
       "    </tr>\n",
       "    <tr>\n",
       "      <th>9992</th>\n",
       "      <td>13.3200</td>\n",
       "      <td>No</td>\n",
       "    </tr>\n",
       "    <tr>\n",
       "      <th>9993</th>\n",
       "      <td>72.9480</td>\n",
       "      <td>No</td>\n",
       "    </tr>\n",
       "  </tbody>\n",
       "</table>\n",
       "<p>9994 rows × 2 columns</p>\n",
       "</div>"
      ],
      "text/plain": [
       "        Profit High Profit\n",
       "0      41.9136          No\n",
       "1     219.5820          No\n",
       "2       6.8714          No\n",
       "3    -383.0310          No\n",
       "4       2.5164          No\n",
       "...        ...         ...\n",
       "9989    4.1028          No\n",
       "9990   15.6332          No\n",
       "9991   19.3932          No\n",
       "9992   13.3200          No\n",
       "9993   72.9480          No\n",
       "\n",
       "[9994 rows x 2 columns]"
      ]
     },
     "execution_count": 100,
     "metadata": {},
     "output_type": "execute_result"
    }
   ],
   "source": [
    "df['High Profit'] = df['Profit'].apply(lambda x: 'Yes' if x > 500 else 'No')\n",
    "df[['Profit','High Profit']]"
   ]
  },
  {
   "cell_type": "code",
   "execution_count": 106,
   "id": "95fcd5bb-6bef-4037-b812-71eff55b77d7",
   "metadata": {},
   "outputs": [
    {
     "data": {
      "text/html": [
       "<div>\n",
       "<style scoped>\n",
       "    .dataframe tbody tr th:only-of-type {\n",
       "        vertical-align: middle;\n",
       "    }\n",
       "\n",
       "    .dataframe tbody tr th {\n",
       "        vertical-align: top;\n",
       "    }\n",
       "\n",
       "    .dataframe thead th {\n",
       "        text-align: right;\n",
       "    }\n",
       "</style>\n",
       "<table border=\"1\" class=\"dataframe\">\n",
       "  <thead>\n",
       "    <tr style=\"text-align: right;\">\n",
       "      <th></th>\n",
       "      <th>Profit</th>\n",
       "      <th>Highh Profit</th>\n",
       "    </tr>\n",
       "  </thead>\n",
       "  <tbody>\n",
       "    <tr>\n",
       "      <th>0</th>\n",
       "      <td>41.9136</td>\n",
       "      <td>No</td>\n",
       "    </tr>\n",
       "    <tr>\n",
       "      <th>1</th>\n",
       "      <td>219.5820</td>\n",
       "      <td>No</td>\n",
       "    </tr>\n",
       "    <tr>\n",
       "      <th>2</th>\n",
       "      <td>6.8714</td>\n",
       "      <td>No</td>\n",
       "    </tr>\n",
       "    <tr>\n",
       "      <th>3</th>\n",
       "      <td>-383.0310</td>\n",
       "      <td>No</td>\n",
       "    </tr>\n",
       "    <tr>\n",
       "      <th>4</th>\n",
       "      <td>2.5164</td>\n",
       "      <td>No</td>\n",
       "    </tr>\n",
       "    <tr>\n",
       "      <th>...</th>\n",
       "      <td>...</td>\n",
       "      <td>...</td>\n",
       "    </tr>\n",
       "    <tr>\n",
       "      <th>9989</th>\n",
       "      <td>4.1028</td>\n",
       "      <td>No</td>\n",
       "    </tr>\n",
       "    <tr>\n",
       "      <th>9990</th>\n",
       "      <td>15.6332</td>\n",
       "      <td>No</td>\n",
       "    </tr>\n",
       "    <tr>\n",
       "      <th>9991</th>\n",
       "      <td>19.3932</td>\n",
       "      <td>No</td>\n",
       "    </tr>\n",
       "    <tr>\n",
       "      <th>9992</th>\n",
       "      <td>13.3200</td>\n",
       "      <td>No</td>\n",
       "    </tr>\n",
       "    <tr>\n",
       "      <th>9993</th>\n",
       "      <td>72.9480</td>\n",
       "      <td>No</td>\n",
       "    </tr>\n",
       "  </tbody>\n",
       "</table>\n",
       "<p>9994 rows × 2 columns</p>\n",
       "</div>"
      ],
      "text/plain": [
       "        Profit Highh Profit\n",
       "0      41.9136           No\n",
       "1     219.5820           No\n",
       "2       6.8714           No\n",
       "3    -383.0310           No\n",
       "4       2.5164           No\n",
       "...        ...          ...\n",
       "9989    4.1028           No\n",
       "9990   15.6332           No\n",
       "9991   19.3932           No\n",
       "9992   13.3200           No\n",
       "9993   72.9480           No\n",
       "\n",
       "[9994 rows x 2 columns]"
      ]
     },
     "execution_count": 106,
     "metadata": {},
     "output_type": "execute_result"
    }
   ],
   "source": [
    "# Using numpy:\n",
    "df['Highh Profit'] = np.where(df['Profit'] > 500, 'Yes', 'No')\n",
    "df[['Profit', 'Highh Profit']]"
   ]
  },
  {
   "cell_type": "code",
   "execution_count": 132,
   "id": "b5c7b4e9-5f85-4331-93b7-d7ebf374c2cb",
   "metadata": {},
   "outputs": [
    {
     "name": "stdout",
     "output_type": "stream",
     "text": [
      "High Profit\n",
      "No     0.9883\n",
      "Yes    0.0117\n",
      "Name: proportion, dtype: float64\n"
     ]
    }
   ],
   "source": [
    "high_profit_perct = df['High Profit'].value_counts(normalize = True)\n",
    "high_profit_perct\n",
    "print(round(high_profit_perct,4))"
   ]
  },
  {
   "cell_type": "markdown",
   "id": "2d2c24dc-33e0-4d34-8f43-d62f13ce2441",
   "metadata": {},
   "source": [
    "## Plot a histogram of the Sales values."
   ]
  },
  {
   "cell_type": "code",
   "execution_count": 156,
   "id": "bca4c266-2ddf-45de-86ef-70d291a9abb4",
   "metadata": {},
   "outputs": [
    {
     "data": {
      "text/plain": [
       "Sales\n",
       "12.960    56\n",
       "19.440    39\n",
       "15.552    39\n",
       "25.920    36\n",
       "10.368    36\n",
       "32.400    28\n",
       "17.940    21\n",
       "6.480     21\n",
       "20.736    19\n",
       "14.940    17\n",
       "Name: count, dtype: int64"
      ]
     },
     "execution_count": 156,
     "metadata": {},
     "output_type": "execute_result"
    }
   ],
   "source": [
    "sale_counts = df['Sales'].value_counts()\n",
    "sale_counts.head(10)"
   ]
  },
  {
   "cell_type": "code",
   "execution_count": 173,
   "id": "4c0a31af-29b0-4656-be05-634ee4dc39f1",
   "metadata": {},
   "outputs": [
    {
     "data": {
      "image/png": "[encoded data removed]",
      "text/plain": [
       "<Figure size 800x500 with 1 Axes>"
      ]
     },
     "metadata": {},
     "output_type": "display_data"
    }
   ],
   "source": [
    "plt.figure(figsize = (8,5))\n",
    "plt.hist(df['Sales'], bins = 50, color = 'skyblue', edgecolor = 'black')\n",
    "plt.xlim(0,3000)\n",
    "plt.title(\"Histogram of Sales values\")\n",
    "plt.xlabel(\"Sales values\")\n",
    "plt.ylabel(\"Frequency\")\n",
    "plt.show()"
   ]
  },
  {
   "cell_type": "markdown",
   "id": "7e1a488b-63f8-4f90-9521-ea1214211b7c",
   "metadata": {},
   "source": [
    "## What is the most common range of sales amounts?"
   ]
  },
  {
   "cell_type": "code",
   "execution_count": 175,
   "id": "fc3b1b77-94d4-4bee-ba9b-76d296b65fe4",
   "metadata": {},
   "outputs": [
    {
     "name": "stdout",
     "output_type": "stream",
     "text": [
      "Counts: [8690  774  245  121   46   37   26   10    6   12    8    3    1    0\n",
      "    1    1    0    1    3    1    2    1    0    1    1    0    0    0\n",
      "    0    0    1    0    0    0    0    0    0    0    1    0    0    0\n",
      "    0    0    0    0    0    0    0    1]\n",
      "bin_edges: [4.44000000e-01 4.53204720e+02 9.05965440e+02 1.35872616e+03\n",
      " 1.81148688e+03 2.26424760e+03 2.71700832e+03 3.16976904e+03\n",
      " 3.62252976e+03 4.07529048e+03 4.52805120e+03 4.98081192e+03\n",
      " 5.43357264e+03 5.88633336e+03 6.33909408e+03 6.79185480e+03\n",
      " 7.24461552e+03 7.69737624e+03 8.15013696e+03 8.60289768e+03\n",
      " 9.05565840e+03 9.50841912e+03 9.96117984e+03 1.04139406e+04\n",
      " 1.08667013e+04 1.13194620e+04 1.17722227e+04 1.22249834e+04\n",
      " 1.26777442e+04 1.31305049e+04 1.35832656e+04 1.40360263e+04\n",
      " 1.44887870e+04 1.49415478e+04 1.53943085e+04 1.58470692e+04\n",
      " 1.62998299e+04 1.67525906e+04 1.72053514e+04 1.76581121e+04\n",
      " 1.81108728e+04 1.85636335e+04 1.90163942e+04 1.94691550e+04\n",
      " 1.99219157e+04 2.03746764e+04 2.08274371e+04 2.12801978e+04\n",
      " 2.17329586e+04 2.21857193e+04 2.26384800e+04]\n"
     ]
    }
   ],
   "source": [
    "counts, bin_edges = np.histogram(df['Sales'], bins = 50)\n",
    "print('Counts:', counts)\n",
    "print('bin_edges:', bin_edges)"
   ]
  },
  {
   "cell_type": "code",
   "execution_count": 179,
   "id": "4ed2df7d-c665-4666-8098-810176ec3865",
   "metadata": {},
   "outputs": [
    {
     "data": {
      "text/plain": [
       "0"
      ]
     },
     "execution_count": 179,
     "metadata": {},
     "output_type": "execute_result"
    }
   ],
   "source": [
    "max_bin_index = np.argmax(counts)\n",
    "max_bin_index"
   ]
  },
  {
   "cell_type": "code",
   "execution_count": 183,
   "id": "51e3177e-75fa-40ed-aa9d-1eea4652584d",
   "metadata": {},
   "outputs": [
    {
     "data": {
      "text/plain": [
       "(0.444, 453.20472)"
      ]
     },
     "execution_count": 183,
     "metadata": {},
     "output_type": "execute_result"
    }
   ],
   "source": [
    "most_common_range = (bin_edges[max_bin_index], bin_edges[max_bin_index+1])\n",
    "most_common_range"
   ]
  },
  {
   "cell_type": "code",
   "execution_count": null,
   "id": "4c03fc1e-c622-4386-a2f1-18163c7f65bb",
   "metadata": {},
   "outputs": [],
   "source": []
  }
 ],
 "metadata": {
  "kernelspec": {
   "display_name": "Python 3 (ipykernel)",
   "language": "python",
   "name": "python3"
  },
  "language_info": {
   "codemirror_mode": {
    "name": "ipython",
    "version": 3
   },
   "file_extension": ".py",
   "mimetype": "text/x-python",
   "name": "python",
   "nbconvert_exporter": "python",
   "pygments_lexer": "ipython3",
   "version": "3.12.7"
  }
 },
 "nbformat": 4,
 "nbformat_minor": 5
}
