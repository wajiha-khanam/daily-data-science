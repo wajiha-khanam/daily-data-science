{
 "cells": [
  {
   "cell_type": "markdown",
   "id": "be63eb25-5bc6-4a92-8d69-3be6f30c7028",
   "metadata": {},
   "source": [
    "# Step 1: Data Preprocessing"
   ]
  },
  {
   "cell_type": "code",
   "execution_count": 464,
   "id": "909c07ae-5570-41eb-93d1-a7e1b3adb0d1",
   "metadata": {},
   "outputs": [],
   "source": [
    "import pandas as pd\n",
    "import numpy as np\n",
    "import matplotlib.pyplot as plt\n",
    "import seaborn as sns"
   ]
  },
  {
   "cell_type": "code",
   "execution_count": 465,
   "id": "a8ddf4e1-6cd2-4087-a691-6890810f1414",
   "metadata": {},
   "outputs": [
    {
     "data": {
      "text/html": [
       "<div>\n",
       "<style scoped>\n",
       "    .dataframe tbody tr th:only-of-type {\n",
       "        vertical-align: middle;\n",
       "    }\n",
       "\n",
       "    .dataframe tbody tr th {\n",
       "        vertical-align: top;\n",
       "    }\n",
       "\n",
       "    .dataframe thead th {\n",
       "        text-align: right;\n",
       "    }\n",
       "</style>\n",
       "<table border=\"1\" class=\"dataframe\">\n",
       "  <thead>\n",
       "    <tr style=\"text-align: right;\">\n",
       "      <th></th>\n",
       "      <th>Invoice</th>\n",
       "      <th>StockCode</th>\n",
       "      <th>Description</th>\n",
       "      <th>Quantity</th>\n",
       "      <th>InvoiceDate</th>\n",
       "      <th>Price</th>\n",
       "      <th>Customer ID</th>\n",
       "      <th>Country</th>\n",
       "    </tr>\n",
       "  </thead>\n",
       "  <tbody>\n",
       "    <tr>\n",
       "      <th>0</th>\n",
       "      <td>489434</td>\n",
       "      <td>85048</td>\n",
       "      <td>15CM CHRISTMAS GLASS BALL 20 LIGHTS</td>\n",
       "      <td>12</td>\n",
       "      <td>2009-12-01 07:45:00</td>\n",
       "      <td>6.95</td>\n",
       "      <td>13085.0</td>\n",
       "      <td>United Kingdom</td>\n",
       "    </tr>\n",
       "    <tr>\n",
       "      <th>1</th>\n",
       "      <td>489434</td>\n",
       "      <td>79323P</td>\n",
       "      <td>PINK CHERRY LIGHTS</td>\n",
       "      <td>12</td>\n",
       "      <td>2009-12-01 07:45:00</td>\n",
       "      <td>6.75</td>\n",
       "      <td>13085.0</td>\n",
       "      <td>United Kingdom</td>\n",
       "    </tr>\n",
       "    <tr>\n",
       "      <th>2</th>\n",
       "      <td>489434</td>\n",
       "      <td>79323W</td>\n",
       "      <td>WHITE CHERRY LIGHTS</td>\n",
       "      <td>12</td>\n",
       "      <td>2009-12-01 07:45:00</td>\n",
       "      <td>6.75</td>\n",
       "      <td>13085.0</td>\n",
       "      <td>United Kingdom</td>\n",
       "    </tr>\n",
       "    <tr>\n",
       "      <th>3</th>\n",
       "      <td>489434</td>\n",
       "      <td>22041</td>\n",
       "      <td>RECORD FRAME 7\" SINGLE SIZE</td>\n",
       "      <td>48</td>\n",
       "      <td>2009-12-01 07:45:00</td>\n",
       "      <td>2.10</td>\n",
       "      <td>13085.0</td>\n",
       "      <td>United Kingdom</td>\n",
       "    </tr>\n",
       "    <tr>\n",
       "      <th>4</th>\n",
       "      <td>489434</td>\n",
       "      <td>21232</td>\n",
       "      <td>STRAWBERRY CERAMIC TRINKET BOX</td>\n",
       "      <td>24</td>\n",
       "      <td>2009-12-01 07:45:00</td>\n",
       "      <td>1.25</td>\n",
       "      <td>13085.0</td>\n",
       "      <td>United Kingdom</td>\n",
       "    </tr>\n",
       "  </tbody>\n",
       "</table>\n",
       "</div>"
      ],
      "text/plain": [
       "  Invoice StockCode                          Description  Quantity  \\\n",
       "0  489434     85048  15CM CHRISTMAS GLASS BALL 20 LIGHTS        12   \n",
       "1  489434    79323P                   PINK CHERRY LIGHTS        12   \n",
       "2  489434    79323W                  WHITE CHERRY LIGHTS        12   \n",
       "3  489434     22041         RECORD FRAME 7\" SINGLE SIZE         48   \n",
       "4  489434     21232       STRAWBERRY CERAMIC TRINKET BOX        24   \n",
       "\n",
       "           InvoiceDate  Price  Customer ID         Country  \n",
       "0  2009-12-01 07:45:00   6.95      13085.0  United Kingdom  \n",
       "1  2009-12-01 07:45:00   6.75      13085.0  United Kingdom  \n",
       "2  2009-12-01 07:45:00   6.75      13085.0  United Kingdom  \n",
       "3  2009-12-01 07:45:00   2.10      13085.0  United Kingdom  \n",
       "4  2009-12-01 07:45:00   1.25      13085.0  United Kingdom  "
      ]
     },
     "execution_count": 465,
     "metadata": {},
     "output_type": "execute_result"
    }
   ],
   "source": [
    "df = pd.read_csv(\"online_retail_10k.csv\")\n",
    "df.head()"
   ]
  },
  {
   "cell_type": "code",
   "execution_count": 466,
   "id": "53ee06f8-b0d9-477e-9242-fb3ef94ca31a",
   "metadata": {},
   "outputs": [],
   "source": [
    "df['TotalAmount'] = df['Quantity'] * df['Price']"
   ]
  },
  {
   "cell_type": "code",
   "execution_count": 467,
   "id": "b58d3414-a684-48a7-843b-845e4ec4bb64",
   "metadata": {},
   "outputs": [
    {
     "data": {
      "text/plain": [
       "2895"
      ]
     },
     "execution_count": 467,
     "metadata": {},
     "output_type": "execute_result"
    }
   ],
   "source": [
    "df['Customer ID'].isnull().sum()"
   ]
  },
  {
   "cell_type": "code",
   "execution_count": 468,
   "id": "b39410b4-a182-4a9d-a12d-202ff767fa4d",
   "metadata": {},
   "outputs": [],
   "source": [
    "df = df.dropna(subset = ['Customer ID'])"
   ]
  },
  {
   "cell_type": "code",
   "execution_count": 469,
   "id": "6f3b3d27-0eee-4c33-93d7-5560851c90c6",
   "metadata": {},
   "outputs": [
    {
     "data": {
      "text/plain": [
       "Invoice         object\n",
       "StockCode       object\n",
       "Description     object\n",
       "Quantity         int64\n",
       "InvoiceDate     object\n",
       "Price          float64\n",
       "Customer ID    float64\n",
       "Country         object\n",
       "TotalAmount    float64\n",
       "dtype: object"
      ]
     },
     "execution_count": 469,
     "metadata": {},
     "output_type": "execute_result"
    }
   ],
   "source": [
    "df.dtypes"
   ]
  },
  {
   "cell_type": "code",
   "execution_count": 470,
   "id": "1f9158d7-2a19-4cf7-8dba-af90963bb849",
   "metadata": {},
   "outputs": [],
   "source": [
    "df = df[~df['Invoice'].str.startswith('C')]"
   ]
  },
  {
   "cell_type": "code",
   "execution_count": 471,
   "id": "e0d92e71-86c7-41e0-8ad2-99299c2a36cb",
   "metadata": {},
   "outputs": [],
   "source": [
    "df = df[(df['Quantity'] > 0) & (df['Price'] > 0)]"
   ]
  },
  {
   "cell_type": "code",
   "execution_count": 472,
   "id": "d6399f2e-7158-4d7d-8de7-01823559b79f",
   "metadata": {},
   "outputs": [],
   "source": [
    "df['InvoiceDate'] = pd.to_datetime(df['InvoiceDate'])"
   ]
  },
  {
   "cell_type": "markdown",
   "id": "aba20f89-ecbd-492f-84d4-8692991c0140",
   "metadata": {},
   "source": [
    " # Step 2: RFM Feature Engineering"
   ]
  },
  {
   "cell_type": "markdown",
   "id": "316d9c8b-df32-4467-b902-c4966cc09446",
   "metadata": {},
   "source": [
    "* Recency – Days since the last purchase\n",
    "\n",
    "* Frequency – Number of unique invoices per customer\n",
    "\n",
    "* Monetary – Total spend per customer"
   ]
  },
  {
   "cell_type": "code",
   "execution_count": 475,
   "id": "e42abe10-e6dd-4892-bad0-bdb22e226238",
   "metadata": {},
   "outputs": [
    {
     "data": {
      "text/plain": [
       "Timestamp('2009-12-05 09:31:00')"
      ]
     },
     "execution_count": 475,
     "metadata": {},
     "output_type": "execute_result"
    }
   ],
   "source": [
    "# Reference date = max InvoiceDate + 1 day\n",
    "ref_date = df['InvoiceDate'].max() + pd.Timedelta(days = 1)\n",
    "ref_date"
   ]
  },
  {
   "cell_type": "code",
   "execution_count": 476,
   "id": "bd6e18a5-444f-4873-b214-9cf46125de1a",
   "metadata": {},
   "outputs": [
    {
     "data": {
      "text/html": [
       "<div>\n",
       "<style scoped>\n",
       "    .dataframe tbody tr th:only-of-type {\n",
       "        vertical-align: middle;\n",
       "    }\n",
       "\n",
       "    .dataframe tbody tr th {\n",
       "        vertical-align: top;\n",
       "    }\n",
       "\n",
       "    .dataframe thead th {\n",
       "        text-align: right;\n",
       "    }\n",
       "</style>\n",
       "<table border=\"1\" class=\"dataframe\">\n",
       "  <thead>\n",
       "    <tr style=\"text-align: right;\">\n",
       "      <th></th>\n",
       "      <th>Customer ID</th>\n",
       "      <th>Recency</th>\n",
       "      <th>Frequency</th>\n",
       "      <th>Monetary</th>\n",
       "    </tr>\n",
       "  </thead>\n",
       "  <tbody>\n",
       "    <tr>\n",
       "      <th>0</th>\n",
       "      <td>12362.0</td>\n",
       "      <td>3</td>\n",
       "      <td>1</td>\n",
       "      <td>130.00</td>\n",
       "    </tr>\n",
       "    <tr>\n",
       "      <th>1</th>\n",
       "      <td>12435.0</td>\n",
       "      <td>2</td>\n",
       "      <td>1</td>\n",
       "      <td>1008.00</td>\n",
       "    </tr>\n",
       "    <tr>\n",
       "      <th>2</th>\n",
       "      <td>12437.0</td>\n",
       "      <td>2</td>\n",
       "      <td>1</td>\n",
       "      <td>578.28</td>\n",
       "    </tr>\n",
       "    <tr>\n",
       "      <th>3</th>\n",
       "      <td>12490.0</td>\n",
       "      <td>3</td>\n",
       "      <td>1</td>\n",
       "      <td>603.94</td>\n",
       "    </tr>\n",
       "    <tr>\n",
       "      <th>4</th>\n",
       "      <td>12533.0</td>\n",
       "      <td>3</td>\n",
       "      <td>1</td>\n",
       "      <td>929.92</td>\n",
       "    </tr>\n",
       "  </tbody>\n",
       "</table>\n",
       "</div>"
      ],
      "text/plain": [
       "   Customer ID  Recency  Frequency  Monetary\n",
       "0      12362.0        3          1    130.00\n",
       "1      12435.0        2          1   1008.00\n",
       "2      12437.0        2          1    578.28\n",
       "3      12490.0        3          1    603.94\n",
       "4      12533.0        3          1    929.92"
      ]
     },
     "execution_count": 476,
     "metadata": {},
     "output_type": "execute_result"
    }
   ],
   "source": [
    "# RFM Calculation\n",
    "rfm = df.groupby('Customer ID').agg({'InvoiceDate': lambda x:(ref_date - x.max()).days, 'Invoice': 'nunique', 'TotalAmount': 'sum'}).reset_index()\n",
    "rfm.columns = ['Customer ID', 'Recency', 'Frequency', 'Monetary']\n",
    "rfm.head()"
   ]
  },
  {
   "cell_type": "code",
   "execution_count": 477,
   "id": "f0c5e97c-c27f-45a6-818d-ab4ed49e8a49",
   "metadata": {},
   "outputs": [
    {
     "data": {
      "text/html": [
       "<div>\n",
       "<style scoped>\n",
       "    .dataframe tbody tr th:only-of-type {\n",
       "        vertical-align: middle;\n",
       "    }\n",
       "\n",
       "    .dataframe tbody tr th {\n",
       "        vertical-align: top;\n",
       "    }\n",
       "\n",
       "    .dataframe thead th {\n",
       "        text-align: right;\n",
       "    }\n",
       "</style>\n",
       "<table border=\"1\" class=\"dataframe\">\n",
       "  <thead>\n",
       "    <tr style=\"text-align: right;\">\n",
       "      <th></th>\n",
       "      <th>Customer ID</th>\n",
       "      <th>Recency</th>\n",
       "      <th>Frequency</th>\n",
       "      <th>Monetary</th>\n",
       "    </tr>\n",
       "  </thead>\n",
       "  <tbody>\n",
       "    <tr>\n",
       "      <th>count</th>\n",
       "      <td>283.000000</td>\n",
       "      <td>283.000000</td>\n",
       "      <td>283.000000</td>\n",
       "      <td>283.000000</td>\n",
       "    </tr>\n",
       "    <tr>\n",
       "      <th>mean</th>\n",
       "      <td>15418.660777</td>\n",
       "      <td>1.929329</td>\n",
       "      <td>1.187279</td>\n",
       "      <td>597.483180</td>\n",
       "    </tr>\n",
       "    <tr>\n",
       "      <th>std</th>\n",
       "      <td>1623.202259</td>\n",
       "      <td>0.847580</td>\n",
       "      <td>0.633224</td>\n",
       "      <td>1432.794509</td>\n",
       "    </tr>\n",
       "    <tr>\n",
       "      <th>min</th>\n",
       "      <td>12362.000000</td>\n",
       "      <td>1.000000</td>\n",
       "      <td>1.000000</td>\n",
       "      <td>2.100000</td>\n",
       "    </tr>\n",
       "    <tr>\n",
       "      <th>25%</th>\n",
       "      <td>14070.500000</td>\n",
       "      <td>1.000000</td>\n",
       "      <td>1.000000</td>\n",
       "      <td>197.650000</td>\n",
       "    </tr>\n",
       "    <tr>\n",
       "      <th>50%</th>\n",
       "      <td>15413.000000</td>\n",
       "      <td>2.000000</td>\n",
       "      <td>1.000000</td>\n",
       "      <td>314.220000</td>\n",
       "    </tr>\n",
       "    <tr>\n",
       "      <th>75%</th>\n",
       "      <td>16855.000000</td>\n",
       "      <td>3.000000</td>\n",
       "      <td>1.000000</td>\n",
       "      <td>574.260000</td>\n",
       "    </tr>\n",
       "    <tr>\n",
       "      <th>max</th>\n",
       "      <td>18229.000000</td>\n",
       "      <td>4.000000</td>\n",
       "      <td>7.000000</td>\n",
       "      <td>20761.240000</td>\n",
       "    </tr>\n",
       "  </tbody>\n",
       "</table>\n",
       "</div>"
      ],
      "text/plain": [
       "        Customer ID     Recency   Frequency      Monetary\n",
       "count    283.000000  283.000000  283.000000    283.000000\n",
       "mean   15418.660777    1.929329    1.187279    597.483180\n",
       "std     1623.202259    0.847580    0.633224   1432.794509\n",
       "min    12362.000000    1.000000    1.000000      2.100000\n",
       "25%    14070.500000    1.000000    1.000000    197.650000\n",
       "50%    15413.000000    2.000000    1.000000    314.220000\n",
       "75%    16855.000000    3.000000    1.000000    574.260000\n",
       "max    18229.000000    4.000000    7.000000  20761.240000"
      ]
     },
     "execution_count": 477,
     "metadata": {},
     "output_type": "execute_result"
    }
   ],
   "source": [
    "rfm.describe()"
   ]
  },
  {
   "cell_type": "code",
   "execution_count": 478,
   "id": "61d3e8b7-5668-4382-9d97-575ef1e6e4a8",
   "metadata": {},
   "outputs": [],
   "source": [
    "# removing customers with Monetary <= 0 (due to possible refunds or data entry issues)\n",
    "rfm = rfm[rfm['Monetary'] > 0]"
   ]
  },
  {
   "cell_type": "markdown",
   "id": "7e9eef1a-c81e-4d84-bb27-3df0ba06af9b",
   "metadata": {},
   "source": [
    "# Step 3: Normalize RFM Features"
   ]
  },
  {
   "cell_type": "code",
   "execution_count": 480,
   "id": "42951889-0247-4336-b5b1-3c9399ea25d6",
   "metadata": {},
   "outputs": [],
   "source": [
    "from sklearn.preprocessing import StandardScaler"
   ]
  },
  {
   "cell_type": "code",
   "execution_count": 481,
   "id": "1cea12c2-dd12-40a5-b3ae-cf65ccce0fa8",
   "metadata": {},
   "outputs": [],
   "source": [
    "rfm_features = rfm[['Recency', 'Frequency', 'Monetary']]\n",
    "\n",
    "scaler = StandardScaler()\n",
    "\n",
    "rfm_scaled = scaler.fit_transform(rfm_features)"
   ]
  },
  {
   "cell_type": "code",
   "execution_count": 482,
   "id": "42e0a8cc-c7e2-4a54-8cb9-892741c80971",
   "metadata": {},
   "outputs": [
    {
     "data": {
      "text/html": [
       "<div>\n",
       "<style scoped>\n",
       "    .dataframe tbody tr th:only-of-type {\n",
       "        vertical-align: middle;\n",
       "    }\n",
       "\n",
       "    .dataframe tbody tr th {\n",
       "        vertical-align: top;\n",
       "    }\n",
       "\n",
       "    .dataframe thead th {\n",
       "        text-align: right;\n",
       "    }\n",
       "</style>\n",
       "<table border=\"1\" class=\"dataframe\">\n",
       "  <thead>\n",
       "    <tr style=\"text-align: right;\">\n",
       "      <th></th>\n",
       "      <th>Recency</th>\n",
       "      <th>Frequency</th>\n",
       "      <th>Monetary</th>\n",
       "    </tr>\n",
       "  </thead>\n",
       "  <tbody>\n",
       "    <tr>\n",
       "      <th>0</th>\n",
       "      <td>1.265447</td>\n",
       "      <td>-0.296279</td>\n",
       "      <td>-0.326852</td>\n",
       "    </tr>\n",
       "    <tr>\n",
       "      <th>1</th>\n",
       "      <td>0.083528</td>\n",
       "      <td>-0.296279</td>\n",
       "      <td>0.287022</td>\n",
       "    </tr>\n",
       "    <tr>\n",
       "      <th>2</th>\n",
       "      <td>0.083528</td>\n",
       "      <td>-0.296279</td>\n",
       "      <td>-0.013426</td>\n",
       "    </tr>\n",
       "    <tr>\n",
       "      <th>3</th>\n",
       "      <td>1.265447</td>\n",
       "      <td>-0.296279</td>\n",
       "      <td>0.004514</td>\n",
       "    </tr>\n",
       "    <tr>\n",
       "      <th>4</th>\n",
       "      <td>1.265447</td>\n",
       "      <td>-0.296279</td>\n",
       "      <td>0.232431</td>\n",
       "    </tr>\n",
       "  </tbody>\n",
       "</table>\n",
       "</div>"
      ],
      "text/plain": [
       "    Recency  Frequency  Monetary\n",
       "0  1.265447  -0.296279 -0.326852\n",
       "1  0.083528  -0.296279  0.287022\n",
       "2  0.083528  -0.296279 -0.013426\n",
       "3  1.265447  -0.296279  0.004514\n",
       "4  1.265447  -0.296279  0.232431"
      ]
     },
     "execution_count": 482,
     "metadata": {},
     "output_type": "execute_result"
    }
   ],
   "source": [
    "rfm_scaled_df = pd.DataFrame(rfm_scaled, columns = ['Recency', 'Frequency', 'Monetary'])\n",
    "rfm_scaled_df.head()"
   ]
  },
  {
   "cell_type": "markdown",
   "id": "12d88935-08ff-4b93-8639-d454c84bf4fc",
   "metadata": {},
   "source": [
    "# Step 4: Clustering (with Elbow Method)"
   ]
  },
  {
   "cell_type": "code",
   "execution_count": 484,
   "id": "7360a353-d2ea-4bfd-afc0-cccacffcf34e",
   "metadata": {},
   "outputs": [],
   "source": [
    "from sklearn.cluster import KMeans"
   ]
  },
  {
   "cell_type": "code",
   "execution_count": 485,
   "id": "6c2fc19c-55bd-4233-8f56-b8438d1478e0",
   "metadata": {},
   "outputs": [],
   "source": [
    "inertia = []\n",
    "\n",
    "for k in range(1, 11):\n",
    "    kmeans = KMeans(n_clusters = k, random_state = 42)\n",
    "    kmeans.fit(rfm_scaled_df)\n",
    "    inertia.append(kmeans.inertia_)"
   ]
  },
  {
   "cell_type": "code",
   "execution_count": 486,
   "id": "bca8fa04-f776-45c9-bf3f-1af3effd17a1",
   "metadata": {},
   "outputs": [
    {
     "data": {
      "image/png": "[encoded data removed]",
      "text/plain": [
       "<Figure size 800x500 with 1 Axes>"
      ]
     },
     "metadata": {},
     "output_type": "display_data"
    }
   ],
   "source": [
    "plt.figure(figsize=(8, 5))\n",
    "plt.plot(range(1, 11), inertia, marker='o')\n",
    "plt.title('Elbow Method for Optimal k')\n",
    "plt.xlabel('Number of clusters (k)')\n",
    "plt.ylabel('Inertia')\n",
    "plt.grid(True)\n",
    "plt.show()"
   ]
  },
  {
   "cell_type": "markdown",
   "id": "b8c8f934-d468-413b-b751-36b033163736",
   "metadata": {},
   "source": [
    "# Step 5: Segment Analysis & Cluster Profiling"
   ]
  },
  {
   "cell_type": "code",
   "execution_count": 488,
   "id": "256f5a0a-21eb-40ac-9819-678865a2ee76",
   "metadata": {},
   "outputs": [
    {
     "data": {
      "text/html": [
       "<div>\n",
       "<style scoped>\n",
       "    .dataframe tbody tr th:only-of-type {\n",
       "        vertical-align: middle;\n",
       "    }\n",
       "\n",
       "    .dataframe tbody tr th {\n",
       "        vertical-align: top;\n",
       "    }\n",
       "\n",
       "    .dataframe thead th {\n",
       "        text-align: right;\n",
       "    }\n",
       "</style>\n",
       "<table border=\"1\" class=\"dataframe\">\n",
       "  <thead>\n",
       "    <tr style=\"text-align: right;\">\n",
       "      <th></th>\n",
       "      <th>Customer ID</th>\n",
       "      <th>Recency</th>\n",
       "      <th>Frequency</th>\n",
       "      <th>Monetary</th>\n",
       "      <th>Cluster</th>\n",
       "    </tr>\n",
       "  </thead>\n",
       "  <tbody>\n",
       "    <tr>\n",
       "      <th>0</th>\n",
       "      <td>12362.0</td>\n",
       "      <td>3</td>\n",
       "      <td>1</td>\n",
       "      <td>130.00</td>\n",
       "      <td>1</td>\n",
       "    </tr>\n",
       "    <tr>\n",
       "      <th>1</th>\n",
       "      <td>12435.0</td>\n",
       "      <td>2</td>\n",
       "      <td>1</td>\n",
       "      <td>1008.00</td>\n",
       "      <td>1</td>\n",
       "    </tr>\n",
       "    <tr>\n",
       "      <th>2</th>\n",
       "      <td>12437.0</td>\n",
       "      <td>2</td>\n",
       "      <td>1</td>\n",
       "      <td>578.28</td>\n",
       "      <td>1</td>\n",
       "    </tr>\n",
       "    <tr>\n",
       "      <th>3</th>\n",
       "      <td>12490.0</td>\n",
       "      <td>3</td>\n",
       "      <td>1</td>\n",
       "      <td>603.94</td>\n",
       "      <td>1</td>\n",
       "    </tr>\n",
       "    <tr>\n",
       "      <th>4</th>\n",
       "      <td>12533.0</td>\n",
       "      <td>3</td>\n",
       "      <td>1</td>\n",
       "      <td>929.92</td>\n",
       "      <td>1</td>\n",
       "    </tr>\n",
       "  </tbody>\n",
       "</table>\n",
       "</div>"
      ],
      "text/plain": [
       "   Customer ID  Recency  Frequency  Monetary  Cluster\n",
       "0      12362.0        3          1    130.00        1\n",
       "1      12435.0        2          1   1008.00        1\n",
       "2      12437.0        2          1    578.28        1\n",
       "3      12490.0        3          1    603.94        1\n",
       "4      12533.0        3          1    929.92        1"
      ]
     },
     "execution_count": 488,
     "metadata": {},
     "output_type": "execute_result"
    }
   ],
   "source": [
    "kmeans = KMeans(n_clusters = 4, random_state = 42)\n",
    "kmeans.fit(rfm_scaled_df)\n",
    "\n",
    "rfm['Cluster'] = kmeans.labels_\n",
    "rfm.head()"
   ]
  },
  {
   "cell_type": "code",
   "execution_count": 489,
   "id": "aebcf6bf-3c2a-4010-8aa3-429384f569ca",
   "metadata": {},
   "outputs": [
    {
     "data": {
      "text/html": [
       "<div>\n",
       "<style scoped>\n",
       "    .dataframe tbody tr th:only-of-type {\n",
       "        vertical-align: middle;\n",
       "    }\n",
       "\n",
       "    .dataframe tbody tr th {\n",
       "        vertical-align: top;\n",
       "    }\n",
       "\n",
       "    .dataframe thead th {\n",
       "        text-align: right;\n",
       "    }\n",
       "</style>\n",
       "<table border=\"1\" class=\"dataframe\">\n",
       "  <thead>\n",
       "    <tr style=\"text-align: right;\">\n",
       "      <th></th>\n",
       "      <th>Recency</th>\n",
       "      <th>Frequency</th>\n",
       "      <th>Monetary</th>\n",
       "      <th>CustomerCount</th>\n",
       "    </tr>\n",
       "    <tr>\n",
       "      <th>Cluster</th>\n",
       "      <th></th>\n",
       "      <th></th>\n",
       "      <th></th>\n",
       "      <th></th>\n",
       "    </tr>\n",
       "  </thead>\n",
       "  <tbody>\n",
       "    <tr>\n",
       "      <th>0</th>\n",
       "      <td>1.000000</td>\n",
       "      <td>1.126214</td>\n",
       "      <td>489.370971</td>\n",
       "      <td>103</td>\n",
       "    </tr>\n",
       "    <tr>\n",
       "      <th>1</th>\n",
       "      <td>2.517442</td>\n",
       "      <td>1.093023</td>\n",
       "      <td>424.858256</td>\n",
       "      <td>172</td>\n",
       "    </tr>\n",
       "    <tr>\n",
       "      <th>2</th>\n",
       "      <td>1.250000</td>\n",
       "      <td>4.000000</td>\n",
       "      <td>5700.863750</td>\n",
       "      <td>8</td>\n",
       "    </tr>\n",
       "  </tbody>\n",
       "</table>\n",
       "</div>"
      ],
      "text/plain": [
       "          Recency  Frequency     Monetary  CustomerCount\n",
       "Cluster                                                 \n",
       "0        1.000000   1.126214   489.370971            103\n",
       "1        2.517442   1.093023   424.858256            172\n",
       "2        1.250000   4.000000  5700.863750              8"
      ]
     },
     "execution_count": 489,
     "metadata": {},
     "output_type": "execute_result"
    }
   ],
   "source": [
    "cluster_profile  = rfm.groupby('Cluster').agg({\n",
    "    'Recency': 'mean',\n",
    "    'Frequency': 'mean',\n",
    "    'Monetary': 'mean',\n",
    "    'Customer ID': 'count'}).rename(columns={'Customer ID': 'CustomerCount'})\n",
    "cluster_profile "
   ]
  },
  {
   "cell_type": "code",
   "execution_count": 490,
   "id": "ff6436bb-ebf6-4473-ba9b-df4dad96c847",
   "metadata": {},
   "outputs": [],
   "source": [
    "cluster_profile = cluster_profile.sort_values(by='Monetary', ascending=False)"
   ]
  },
  {
   "cell_type": "code",
   "execution_count": 491,
   "id": "0103aee6-00fd-482c-a878-61102e098cbe",
   "metadata": {},
   "outputs": [
    {
     "data": {
      "text/html": [
       "<div>\n",
       "<style scoped>\n",
       "    .dataframe tbody tr th:only-of-type {\n",
       "        vertical-align: middle;\n",
       "    }\n",
       "\n",
       "    .dataframe tbody tr th {\n",
       "        vertical-align: top;\n",
       "    }\n",
       "\n",
       "    .dataframe thead th {\n",
       "        text-align: right;\n",
       "    }\n",
       "</style>\n",
       "<table border=\"1\" class=\"dataframe\">\n",
       "  <thead>\n",
       "    <tr style=\"text-align: right;\">\n",
       "      <th></th>\n",
       "      <th>Recency</th>\n",
       "      <th>Frequency</th>\n",
       "      <th>Monetary</th>\n",
       "      <th>CustomerCount</th>\n",
       "    </tr>\n",
       "    <tr>\n",
       "      <th>Cluster</th>\n",
       "      <th></th>\n",
       "      <th></th>\n",
       "      <th></th>\n",
       "      <th></th>\n",
       "    </tr>\n",
       "  </thead>\n",
       "  <tbody>\n",
       "    <tr>\n",
       "      <th>2</th>\n",
       "      <td>1.25</td>\n",
       "      <td>4.00</td>\n",
       "      <td>5700.86</td>\n",
       "      <td>8</td>\n",
       "    </tr>\n",
       "    <tr>\n",
       "      <th>0</th>\n",
       "      <td>1.00</td>\n",
       "      <td>1.13</td>\n",
       "      <td>489.37</td>\n",
       "      <td>103</td>\n",
       "    </tr>\n",
       "    <tr>\n",
       "      <th>1</th>\n",
       "      <td>2.52</td>\n",
       "      <td>1.09</td>\n",
       "      <td>424.86</td>\n",
       "      <td>172</td>\n",
       "    </tr>\n",
       "  </tbody>\n",
       "</table>\n",
       "</div>"
      ],
      "text/plain": [
       "         Recency  Frequency  Monetary  CustomerCount\n",
       "Cluster                                             \n",
       "2           1.25       4.00   5700.86              8\n",
       "0           1.00       1.13    489.37            103\n",
       "1           2.52       1.09    424.86            172"
      ]
     },
     "execution_count": 491,
     "metadata": {},
     "output_type": "execute_result"
    }
   ],
   "source": [
    "cluster_profile = cluster_profile.round(2)\n",
    "\n",
    "cluster_profile"
   ]
  },
  {
   "cell_type": "markdown",
   "id": "32e00a4c-f3b1-48e7-b165-97ff1b22a702",
   "metadata": {},
   "source": [
    "##### Insights per Cluster\n",
    "* Cluster 3 – VIP Customer\n",
    "    - top customer — they spend the most and buy regularly.\n",
    "* Cluster 2 – Loyal High Spenders\n",
    "    - These are very active and valuable customers. \n",
    "* Cluster 1 – At-Risk Customers\n",
    "    - They’re at risk of churn or already inactive.\n",
    "* Cluster 0 – Recent New Customers\n",
    "    - These are new or trial customers. "
   ]
  },
  {
   "cell_type": "code",
   "execution_count": 493,
   "id": "afb35df2-82e1-4517-8bf6-26ec8bb07e8b",
   "metadata": {},
   "outputs": [
    {
     "data": {
      "image/png": "[encoded data removed]",
      "text/plain": [
       "<Figure size 600x400 with 1 Axes>"
      ]
     },
     "metadata": {},
     "output_type": "display_data"
    },
    {
     "data": {
      "image/png": "[encoded data removed]",
      "text/plain": [
       "<Figure size 600x400 with 1 Axes>"
      ]
     },
     "metadata": {},
     "output_type": "display_data"
    },
    {
     "data": {
      "image/png": "[encoded data removed]",
      "text/plain": [
       "<Figure size 600x400 with 1 Axes>"
      ]
     },
     "metadata": {},
     "output_type": "display_data"
    }
   ],
   "source": [
    "for metric in ['Recency', 'Frequency', 'Monetary']:\n",
    "    plt.figure(figsize=(6, 4))\n",
    "    sns.barplot(x='Cluster', y=metric, data=cluster_profile.reset_index())\n",
    "    plt.title(f'{metric} by Cluster')\n",
    "    plt.ylabel(f'Average {metric}')\n",
    "    plt.show()\n"
   ]
  },
  {
   "cell_type": "code",
   "execution_count": 494,
   "id": "3e281063-07f9-4097-9511-c53bc6b60f87",
   "metadata": {},
   "outputs": [],
   "source": [
    "from sklearn.decomposition import PCA\n",
    "\n",
    "pca = PCA(n_components=2)\n",
    "pca_components = pca.fit_transform(rfm_scaled_df)\n",
    "\n",
    "\n",
    "pca_df = pd.DataFrame(data=pca_components, columns=['PCA1', 'PCA2'])\n",
    "pca_df['Cluster'] = rfm['Cluster']\n"
   ]
  },
  {
   "cell_type": "code",
   "execution_count": 495,
   "id": "2abb2966-3074-465a-8fc0-ae67de161828",
   "metadata": {},
   "outputs": [
    {
     "data": {
      "image/png": "[encoded data removed]",
      "text/plain": [
       "<Figure size 800x600 with 1 Axes>"
      ]
     },
     "metadata": {},
     "output_type": "display_data"
    }
   ],
   "source": [
    "\n",
    "\n",
    "plt.figure(figsize=(8, 6))\n",
    "sns.scatterplot(\n",
    "    data=pca_df,\n",
    "    x='PCA1', y='PCA2',\n",
    "    hue='Cluster',\n",
    "    palette='Set2',\n",
    "    s=60\n",
    ")\n",
    "plt.title('Customer Segments Visualized Using PCA')\n",
    "plt.xlabel('PCA Component 1')\n",
    "plt.ylabel('PCA Component 2')\n",
    "plt.legend(title='Cluster')\n",
    "plt.grid(True)\n",
    "plt.show()\n"
   ]
  },
  {
   "cell_type": "code",
   "execution_count": 496,
   "id": "ed0424c2-8dba-4f13-aaa1-7b85f4c21124",
   "metadata": {},
   "outputs": [],
   "source": [
    "rfm.to_csv('rfm_clusters.csv', index=False)\n"
   ]
  },
  {
   "cell_type": "code",
   "execution_count": null,
   "id": "ad63917b-e192-4bed-a5fd-501d9fedb736",
   "metadata": {},
   "outputs": [],
   "source": []
  }
 ],
 "metadata": {
  "kernelspec": {
   "display_name": "Python 3 (ipykernel)",
   "language": "python",
   "name": "python3"
  },
  "language_info": {
   "codemirror_mode": {
    "name": "ipython",
    "version": 3
   },
   "file_extension": ".py",
   "mimetype": "text/x-python",
   "name": "python",
   "nbconvert_exporter": "python",
   "pygments_lexer": "ipython3",
   "version": "3.12.7"
  }
 },
 "nbformat": 4,
 "nbformat_minor": 5
}
