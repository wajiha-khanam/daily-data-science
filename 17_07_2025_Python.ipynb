{
 "cells": [
  {
   "cell_type": "markdown",
   "id": "f2730199-42d8-4e33-beba-855064158fde",
   "metadata": {},
   "source": [
    "# Hotel booking demand"
   ]
  },
  {
   "cell_type": "markdown",
   "id": "7a6a64e8-cc75-465b-b532-e1a413b62b46",
   "metadata": {},
   "source": [
    "##### Dataset: \"https://www.kaggle.com/datasets/jessemostipak/hotel-booking-demand\""
   ]
  },
  {
   "cell_type": "markdown",
   "id": "3e293b09-2438-465e-b047-6ccd662b593f",
   "metadata": {},
   "source": [
    "# Load and Explore"
   ]
  },
  {
   "cell_type": "markdown",
   "id": "42125beb-a01b-49ed-b31e-58f4f13cdc08",
   "metadata": {},
   "source": [
    "### 1. Basic Info\n",
    "Load the dataset into a DataFrame and display:\n",
    "* number of rows & columns\n",
    "* data types of each column\n",
    "* how many unique hotels exist"
   ]
  },
  {
   "cell_type": "code",
   "execution_count": 215,
   "id": "7b3aebe4-6109-4096-aab4-dd2c7fbd3333",
   "metadata": {},
   "outputs": [],
   "source": [
    "import pandas as pd\n",
    "import matplotlib.pyplot as plt\n",
    "import seaborn as sns"
   ]
  },
  {
   "cell_type": "code",
   "execution_count": 216,
   "id": "b82b0c7c-b587-46d2-90f5-4052e5e61e9e",
   "metadata": {},
   "outputs": [
    {
     "data": {
      "text/html": [
       "<div>\n",
       "<style scoped>\n",
       "    .dataframe tbody tr th:only-of-type {\n",
       "        vertical-align: middle;\n",
       "    }\n",
       "\n",
       "    .dataframe tbody tr th {\n",
       "        vertical-align: top;\n",
       "    }\n",
       "\n",
       "    .dataframe thead th {\n",
       "        text-align: right;\n",
       "    }\n",
       "</style>\n",
       "<table border=\"1\" class=\"dataframe\">\n",
       "  <thead>\n",
       "    <tr style=\"text-align: right;\">\n",
       "      <th></th>\n",
       "      <th>hotel</th>\n",
       "      <th>is_canceled</th>\n",
       "      <th>lead_time</th>\n",
       "      <th>arrival_date_year</th>\n",
       "      <th>arrival_date_month</th>\n",
       "      <th>arrival_date_week_number</th>\n",
       "      <th>arrival_date_day_of_month</th>\n",
       "      <th>stays_in_weekend_nights</th>\n",
       "      <th>stays_in_week_nights</th>\n",
       "      <th>adults</th>\n",
       "      <th>...</th>\n",
       "      <th>deposit_type</th>\n",
       "      <th>agent</th>\n",
       "      <th>company</th>\n",
       "      <th>days_in_waiting_list</th>\n",
       "      <th>customer_type</th>\n",
       "      <th>adr</th>\n",
       "      <th>required_car_parking_spaces</th>\n",
       "      <th>total_of_special_requests</th>\n",
       "      <th>reservation_status</th>\n",
       "      <th>reservation_status_date</th>\n",
       "    </tr>\n",
       "  </thead>\n",
       "  <tbody>\n",
       "    <tr>\n",
       "      <th>0</th>\n",
       "      <td>Resort Hotel</td>\n",
       "      <td>0</td>\n",
       "      <td>342</td>\n",
       "      <td>2015</td>\n",
       "      <td>July</td>\n",
       "      <td>27</td>\n",
       "      <td>1</td>\n",
       "      <td>0</td>\n",
       "      <td>0</td>\n",
       "      <td>2</td>\n",
       "      <td>...</td>\n",
       "      <td>No Deposit</td>\n",
       "      <td>NaN</td>\n",
       "      <td>NaN</td>\n",
       "      <td>0</td>\n",
       "      <td>Transient</td>\n",
       "      <td>0.0</td>\n",
       "      <td>0</td>\n",
       "      <td>0</td>\n",
       "      <td>Check-Out</td>\n",
       "      <td>2015-07-01</td>\n",
       "    </tr>\n",
       "    <tr>\n",
       "      <th>1</th>\n",
       "      <td>Resort Hotel</td>\n",
       "      <td>0</td>\n",
       "      <td>737</td>\n",
       "      <td>2015</td>\n",
       "      <td>July</td>\n",
       "      <td>27</td>\n",
       "      <td>1</td>\n",
       "      <td>0</td>\n",
       "      <td>0</td>\n",
       "      <td>2</td>\n",
       "      <td>...</td>\n",
       "      <td>No Deposit</td>\n",
       "      <td>NaN</td>\n",
       "      <td>NaN</td>\n",
       "      <td>0</td>\n",
       "      <td>Transient</td>\n",
       "      <td>0.0</td>\n",
       "      <td>0</td>\n",
       "      <td>0</td>\n",
       "      <td>Check-Out</td>\n",
       "      <td>2015-07-01</td>\n",
       "    </tr>\n",
       "    <tr>\n",
       "      <th>2</th>\n",
       "      <td>Resort Hotel</td>\n",
       "      <td>0</td>\n",
       "      <td>7</td>\n",
       "      <td>2015</td>\n",
       "      <td>July</td>\n",
       "      <td>27</td>\n",
       "      <td>1</td>\n",
       "      <td>0</td>\n",
       "      <td>1</td>\n",
       "      <td>1</td>\n",
       "      <td>...</td>\n",
       "      <td>No Deposit</td>\n",
       "      <td>NaN</td>\n",
       "      <td>NaN</td>\n",
       "      <td>0</td>\n",
       "      <td>Transient</td>\n",
       "      <td>75.0</td>\n",
       "      <td>0</td>\n",
       "      <td>0</td>\n",
       "      <td>Check-Out</td>\n",
       "      <td>2015-07-02</td>\n",
       "    </tr>\n",
       "    <tr>\n",
       "      <th>3</th>\n",
       "      <td>Resort Hotel</td>\n",
       "      <td>0</td>\n",
       "      <td>13</td>\n",
       "      <td>2015</td>\n",
       "      <td>July</td>\n",
       "      <td>27</td>\n",
       "      <td>1</td>\n",
       "      <td>0</td>\n",
       "      <td>1</td>\n",
       "      <td>1</td>\n",
       "      <td>...</td>\n",
       "      <td>No Deposit</td>\n",
       "      <td>304.0</td>\n",
       "      <td>NaN</td>\n",
       "      <td>0</td>\n",
       "      <td>Transient</td>\n",
       "      <td>75.0</td>\n",
       "      <td>0</td>\n",
       "      <td>0</td>\n",
       "      <td>Check-Out</td>\n",
       "      <td>2015-07-02</td>\n",
       "    </tr>\n",
       "    <tr>\n",
       "      <th>4</th>\n",
       "      <td>Resort Hotel</td>\n",
       "      <td>0</td>\n",
       "      <td>14</td>\n",
       "      <td>2015</td>\n",
       "      <td>July</td>\n",
       "      <td>27</td>\n",
       "      <td>1</td>\n",
       "      <td>0</td>\n",
       "      <td>2</td>\n",
       "      <td>2</td>\n",
       "      <td>...</td>\n",
       "      <td>No Deposit</td>\n",
       "      <td>240.0</td>\n",
       "      <td>NaN</td>\n",
       "      <td>0</td>\n",
       "      <td>Transient</td>\n",
       "      <td>98.0</td>\n",
       "      <td>0</td>\n",
       "      <td>1</td>\n",
       "      <td>Check-Out</td>\n",
       "      <td>2015-07-03</td>\n",
       "    </tr>\n",
       "  </tbody>\n",
       "</table>\n",
       "<p>5 rows × 32 columns</p>\n",
       "</div>"
      ],
      "text/plain": [
       "          hotel  is_canceled  lead_time  arrival_date_year arrival_date_month  \\\n",
       "0  Resort Hotel            0        342               2015               July   \n",
       "1  Resort Hotel            0        737               2015               July   \n",
       "2  Resort Hotel            0          7               2015               July   \n",
       "3  Resort Hotel            0         13               2015               July   \n",
       "4  Resort Hotel            0         14               2015               July   \n",
       "\n",
       "   arrival_date_week_number  arrival_date_day_of_month  \\\n",
       "0                        27                          1   \n",
       "1                        27                          1   \n",
       "2                        27                          1   \n",
       "3                        27                          1   \n",
       "4                        27                          1   \n",
       "\n",
       "   stays_in_weekend_nights  stays_in_week_nights  adults  ...  deposit_type  \\\n",
       "0                        0                     0       2  ...    No Deposit   \n",
       "1                        0                     0       2  ...    No Deposit   \n",
       "2                        0                     1       1  ...    No Deposit   \n",
       "3                        0                     1       1  ...    No Deposit   \n",
       "4                        0                     2       2  ...    No Deposit   \n",
       "\n",
       "   agent company days_in_waiting_list customer_type   adr  \\\n",
       "0    NaN     NaN                    0     Transient   0.0   \n",
       "1    NaN     NaN                    0     Transient   0.0   \n",
       "2    NaN     NaN                    0     Transient  75.0   \n",
       "3  304.0     NaN                    0     Transient  75.0   \n",
       "4  240.0     NaN                    0     Transient  98.0   \n",
       "\n",
       "   required_car_parking_spaces  total_of_special_requests  reservation_status  \\\n",
       "0                            0                          0           Check-Out   \n",
       "1                            0                          0           Check-Out   \n",
       "2                            0                          0           Check-Out   \n",
       "3                            0                          0           Check-Out   \n",
       "4                            0                          1           Check-Out   \n",
       "\n",
       "  reservation_status_date  \n",
       "0              2015-07-01  \n",
       "1              2015-07-01  \n",
       "2              2015-07-02  \n",
       "3              2015-07-02  \n",
       "4              2015-07-03  \n",
       "\n",
       "[5 rows x 32 columns]"
      ]
     },
     "execution_count": 216,
     "metadata": {},
     "output_type": "execute_result"
    }
   ],
   "source": [
    "df = pd.read_csv(\"hotel_bookings.csv\")\n",
    "df.head()"
   ]
  },
  {
   "cell_type": "code",
   "execution_count": 217,
   "id": "f8a73097-c2cf-42df-98aa-071026e7c30a",
   "metadata": {},
   "outputs": [
    {
     "data": {
      "text/plain": [
       "(119390, 32)"
      ]
     },
     "execution_count": 217,
     "metadata": {},
     "output_type": "execute_result"
    }
   ],
   "source": [
    "df.shape"
   ]
  },
  {
   "cell_type": "code",
   "execution_count": 218,
   "id": "8ecc1ebb-124b-427c-b361-63c84760bfe2",
   "metadata": {},
   "outputs": [
    {
     "data": {
      "text/plain": [
       "hotel                              object\n",
       "is_canceled                         int64\n",
       "lead_time                           int64\n",
       "arrival_date_year                   int64\n",
       "arrival_date_month                 object\n",
       "arrival_date_week_number            int64\n",
       "arrival_date_day_of_month           int64\n",
       "stays_in_weekend_nights             int64\n",
       "stays_in_week_nights                int64\n",
       "adults                              int64\n",
       "children                          float64\n",
       "babies                              int64\n",
       "meal                               object\n",
       "country                            object\n",
       "market_segment                     object\n",
       "distribution_channel               object\n",
       "is_repeated_guest                   int64\n",
       "previous_cancellations              int64\n",
       "previous_bookings_not_canceled      int64\n",
       "reserved_room_type                 object\n",
       "assigned_room_type                 object\n",
       "booking_changes                     int64\n",
       "deposit_type                       object\n",
       "agent                             float64\n",
       "company                           float64\n",
       "days_in_waiting_list                int64\n",
       "customer_type                      object\n",
       "adr                               float64\n",
       "required_car_parking_spaces         int64\n",
       "total_of_special_requests           int64\n",
       "reservation_status                 object\n",
       "reservation_status_date            object\n",
       "dtype: object"
      ]
     },
     "execution_count": 218,
     "metadata": {},
     "output_type": "execute_result"
    }
   ],
   "source": [
    "df.dtypes"
   ]
  },
  {
   "cell_type": "code",
   "execution_count": 219,
   "id": "00a27212-240f-455e-809e-677142a315e9",
   "metadata": {},
   "outputs": [
    {
     "name": "stdout",
     "output_type": "stream",
     "text": [
      "Number of unique hotels: 2\n",
      "['Resort Hotel' 'City Hotel']\n"
     ]
    }
   ],
   "source": [
    "print(f\"Number of unique hotels: {df['hotel'].nunique()}\")\n",
    "print(df['hotel'].unique())"
   ]
  },
  {
   "cell_type": "markdown",
   "id": "e3bd2ad2-b026-4dc2-94e6-617cad6cdc85",
   "metadata": {},
   "source": [
    "### 2. Missing Values\n",
    "Find columns with missing values. For each, print:\n",
    "* column name\n",
    "* total missing values\n",
    "* percentage missing"
   ]
  },
  {
   "cell_type": "code",
   "execution_count": 221,
   "id": "bf89dec7-61bf-42d5-ab77-da4c4cfc0583",
   "metadata": {},
   "outputs": [
    {
     "data": {
      "text/plain": [
       "Index(['children', 'country', 'agent', 'company'], dtype='object')"
      ]
     },
     "execution_count": 221,
     "metadata": {},
     "output_type": "execute_result"
    }
   ],
   "source": [
    "df.columns[df.isnull().sum() > 0]"
   ]
  },
  {
   "cell_type": "code",
   "execution_count": 222,
   "id": "5484f37b-b61d-4082-abcd-f3486b8c24b8",
   "metadata": {},
   "outputs": [
    {
     "name": "stdout",
     "output_type": "stream",
     "text": [
      "children : 0.00\n",
      "country : 0.41\n",
      "agent : 13.69\n",
      "company : 94.31\n"
     ]
    }
   ],
   "source": [
    "missing_val_cols = ['children', 'country', 'agent', 'company']\n",
    "for col in missing_val_cols:\n",
    "    print(f\"{col} : {df[col].isnull().sum()*100.0/len(df):.2f}\")"
   ]
  },
  {
   "cell_type": "markdown",
   "id": "7e05cade-9a43-44b9-b4fe-38c2e2cce68c",
   "metadata": {},
   "source": [
    "### 3. Cleaning children Column\n",
    "* Convert null values in children column to 0\n",
    "* Convert the column to integer type\n",
    "* Print unique values of children"
   ]
  },
  {
   "cell_type": "code",
   "execution_count": 224,
   "id": "8b1a6357-d6c1-44fa-9d74-0f84ea7332be",
   "metadata": {},
   "outputs": [],
   "source": [
    "df['children'] = df['children'].fillna(0)"
   ]
  },
  {
   "cell_type": "code",
   "execution_count": 225,
   "id": "56e18f21-7cb3-4074-8b4c-11e072b8bead",
   "metadata": {},
   "outputs": [],
   "source": [
    "df['children'] = df['children'].astype('Int64')"
   ]
  },
  {
   "cell_type": "code",
   "execution_count": 226,
   "id": "76adefbb-89b3-434e-bbb6-7df59721dd6f",
   "metadata": {},
   "outputs": [
    {
     "data": {
      "text/plain": [
       "<IntegerArray>\n",
       "[0, 1, 2, 10, 3]\n",
       "Length: 5, dtype: Int64"
      ]
     },
     "execution_count": 226,
     "metadata": {},
     "output_type": "execute_result"
    }
   ],
   "source": [
    "df['children'].unique()"
   ]
  },
  {
   "cell_type": "markdown",
   "id": "76b01d86-04bf-4ab6-af52-8e74e9a35009",
   "metadata": {},
   "source": [
    "# Data Transformation"
   ]
  },
  {
   "cell_type": "markdown",
   "id": "0468d7c9-1454-4454-bd47-464c3c61d338",
   "metadata": {},
   "source": [
    "4. Create arrival_date Column\n",
    "* Combine:\n",
    "    - arrival_date_year\n",
    "    - arrival_date_month\n",
    "    - arrival_date_day_of_month\n",
    "\n",
    "  \n",
    "into a single column: arrival_date with format YYYY-MM-DD"
   ]
  },
  {
   "cell_type": "code",
   "execution_count": 229,
   "id": "7516cce6-2d8f-4a4a-9c7e-e7f316bedfee",
   "metadata": {},
   "outputs": [],
   "source": [
    "df['arrival_date_day_of_month'] = pd.to_datetime(df['arrival_date_year'].astype(str) + '-' + \n",
    "                                                df['arrival_date_month'] + '-' + \n",
    "                                                df['arrival_date_day_of_month'].astype(str), \n",
    "                                                format = '%Y-%B-%d')\n",
    "\n"
   ]
  },
  {
   "cell_type": "code",
   "execution_count": 230,
   "id": "ccf74eed-9b53-4f31-998c-95b753e1954b",
   "metadata": {},
   "outputs": [
    {
     "data": {
      "text/plain": [
       "0   2015-07-01\n",
       "1   2015-07-01\n",
       "2   2015-07-01\n",
       "3   2015-07-01\n",
       "4   2015-07-01\n",
       "Name: arrival_date_day_of_month, dtype: datetime64[ns]"
      ]
     },
     "execution_count": 230,
     "metadata": {},
     "output_type": "execute_result"
    }
   ],
   "source": [
    "df['arrival_date_day_of_month'].head()"
   ]
  },
  {
   "cell_type": "markdown",
   "id": "bbfc3c38-1872-421c-9d21-7409410a5024",
   "metadata": {},
   "source": [
    "### 5. Monthly Bookings Trend\n",
    "* Group by month and hotel\n",
    "* Count number of bookings\n",
    "* Plot a line chart showing booking trends over months for both hotels"
   ]
  },
  {
   "cell_type": "code",
   "execution_count": 232,
   "id": "ec1968c1-5b0e-4b11-a638-73a944622a9c",
   "metadata": {},
   "outputs": [
    {
     "data": {
      "image/png": "[encoded data removed]",
      "text/plain": [
       "<Figure size 800x400 with 1 Axes>"
      ]
     },
     "metadata": {},
     "output_type": "display_data"
    }
   ],
   "source": [
    "monthly_bookings = df.groupby(['arrival_date_month', 'hotel']).size().reset_index(name = 'counts')\n",
    "monthly_bookings\n",
    "\n",
    "plt.figure(figsize = (8,4))\n",
    "sns.lineplot(data = monthly_bookings, x = 'arrival_date_month', y = 'counts', hue = 'hotel')\n",
    "plt.xticks(rotation=45)  \n",
    "plt.title(\"Monthly Bookings per Hotel\")\n",
    "plt.show()"
   ]
  },
  {
   "cell_type": "markdown",
   "id": "9a1603da-ff36-4668-848b-8d18ea010711",
   "metadata": {},
   "source": [
    "# Exploratory Analysis"
   ]
  },
  {
   "cell_type": "markdown",
   "id": "de3c7ce3-73b7-4761-a86f-5b35dbb8aa14",
   "metadata": {},
   "source": [
    "### 6. Lead Time vs. Cancellation\n",
    "\n",
    "* Calculate average lead_time for bookings that were cancelled vs. not cancelled\n",
    "\n",
    "* Use a bar chart to compare"
   ]
  },
  {
   "cell_type": "code",
   "execution_count": 235,
   "id": "c9d87f64-375b-499b-9089-cd9c843964b6",
   "metadata": {},
   "outputs": [
    {
     "name": "stderr",
     "output_type": "stream",
     "text": [
      "C:\\Users\\Admin\\AppData\\Local\\Temp\\ipykernel_15116\\2722454566.py:5: FutureWarning: \n",
      "\n",
      "Passing `palette` without assigning `hue` is deprecated and will be removed in v0.14.0. Assign the `x` variable to `hue` and set `legend=False` for the same effect.\n",
      "\n",
      "  sns.barplot(data=avg_lead_time, x='is_canceled', y='lead_time', palette='Set2')\n"
     ]
    },
    {
     "data": {
      "image/png": "[encoded data removed]",
      "text/plain": [
       "<Figure size 600x400 with 1 Axes>"
      ]
     },
     "metadata": {},
     "output_type": "display_data"
    }
   ],
   "source": [
    "avg_lead_time = df.groupby('is_canceled')['lead_time'].mean().reset_index()\n",
    "avg_lead_time['is_canceled'] = avg_lead_time['is_canceled'].map({0:'Cancelled', 1:'Not Cancelled'})\n",
    "\n",
    "plt.figure(figsize=(6, 4))\n",
    "sns.barplot(data=avg_lead_time, x='is_canceled', y='lead_time', palette='Set2')\n",
    "plt.title('Average Lead Time vs. Cancellation Status')\n",
    "plt.xlabel('Booking Status')\n",
    "plt.ylabel('Average Lead Time (days)')\n",
    "plt.tight_layout()\n",
    "plt.show()"
   ]
  },
  {
   "cell_type": "markdown",
   "id": "1b742f3a-a647-45b9-b51f-2181d17c4711",
   "metadata": {},
   "source": [
    "### 7. Guests Count Feature\n",
    "\n",
    "* Create new column total_guests = adults + children + babies\n",
    "\n",
    "* How many bookings had more than 4 guests?"
   ]
  },
  {
   "cell_type": "code",
   "execution_count": 237,
   "id": "d9d86717-7c19-412a-826e-459b9bd5c048",
   "metadata": {},
   "outputs": [
    {
     "data": {
      "text/plain": [
       "154"
      ]
     },
     "execution_count": 237,
     "metadata": {},
     "output_type": "execute_result"
    }
   ],
   "source": [
    "df['total_guests'] = df['adults'] + df['children'] + df['babies']\n",
    "\n",
    "booking_morethan_4 = len(df[df['total_guests'] > 4])\n",
    "booking_morethan_4"
   ]
  },
  {
   "cell_type": "markdown",
   "id": "7ba169b2-c6cf-48cf-bf27-a3a1c7e539ee",
   "metadata": {},
   "source": [
    "### 8. Room Assignment Gap\n",
    "\n",
    "* Count how many bookings had different reserved and assigned room types\n",
    "\n",
    "* Print the % of such cases"
   ]
  },
  {
   "cell_type": "code",
   "execution_count": 239,
   "id": "763aa216-7275-4a10-b889-68c837616e56",
   "metadata": {},
   "outputs": [
    {
     "data": {
      "text/plain": [
       "12.49"
      ]
     },
     "execution_count": 239,
     "metadata": {},
     "output_type": "execute_result"
    }
   ],
   "source": [
    "diff_room_type = len(df[df['reserved_room_type'] != df['assigned_room_type']])\n",
    "percent_room_type =round(diff_room_type*100.0/len(df),2)\n",
    "percent_room_type"
   ]
  },
  {
   "cell_type": "markdown",
   "id": "95854c6a-15e5-4726-9cbd-566f14d537aa",
   "metadata": {},
   "source": [
    "### 9. Average Stay Duration\n",
    "\n",
    "* Compute stay_length = stays_in_weekend_nights + stays_in_week_nights\n",
    "\n",
    "* Group by hotel and calculate average stay duration"
   ]
  },
  {
   "cell_type": "code",
   "execution_count": 241,
   "id": "917d77c9-50a6-4e60-ad61-96839abd7649",
   "metadata": {},
   "outputs": [
    {
     "data": {
      "text/plain": [
       "hotel\n",
       "City Hotel      2.98\n",
       "Resort Hotel    4.32\n",
       "Name: stay_length, dtype: float64"
      ]
     },
     "execution_count": 241,
     "metadata": {},
     "output_type": "execute_result"
    }
   ],
   "source": [
    "df['stay_length'] = df['stays_in_weekend_nights'] + df['stays_in_week_nights']\n",
    "avg_stay_by_hotel = round(df.groupby('hotel')['stay_length'].mean(),2)\n",
    "avg_stay_by_hotel"
   ]
  },
  {
   "cell_type": "markdown",
   "id": "4e82a7b9-59de-4b06-88c0-17804e69fcf2",
   "metadata": {},
   "source": [
    "### 10. Top Booking Countries\n",
    "\n",
    "* List the top 5 countries by total number of bookings\n",
    "\n",
    "* Plot a horizontal bar chart"
   ]
  },
  {
   "cell_type": "code",
   "execution_count": 243,
   "id": "43b15c61-ca24-41c7-9433-631251fd2b27",
   "metadata": {},
   "outputs": [
    {
     "data": {
      "image/png": "[encoded data removed]",
      "text/plain": [
       "<Figure size 800x400 with 1 Axes>"
      ]
     },
     "metadata": {},
     "output_type": "display_data"
    }
   ],
   "source": [
    "top_countries = df.groupby('country').size().sort_values(ascending = False).reset_index(name = 'count').head(5)\n",
    "top_countries\n",
    "\n",
    "plt.figure(figsize = (8,4))\n",
    "sns.barplot(data = top_countries, x = 'count', y = 'country')\n",
    "plt.title('Top 5 Booking Countries')\n",
    "plt.xlabel('Number of Bookings')\n",
    "plt.ylabel('Country')\n",
    "plt.tight_layout()\n",
    "plt.show()"
   ]
  },
  {
   "cell_type": "code",
   "execution_count": null,
   "id": "930f67e2-97ed-4cde-93fd-556a245e86d3",
   "metadata": {},
   "outputs": [],
   "source": []
  }
 ],
 "metadata": {
  "kernelspec": {
   "display_name": "Python 3 (ipykernel)",
   "language": "python",
   "name": "python3"
  },
  "language_info": {
   "codemirror_mode": {
    "name": "ipython",
    "version": 3
   },
   "file_extension": ".py",
   "mimetype": "text/x-python",
   "name": "python",
   "nbconvert_exporter": "python",
   "pygments_lexer": "ipython3",
   "version": "3.12.7"
  }
 },
 "nbformat": 4,
 "nbformat_minor": 5
}
