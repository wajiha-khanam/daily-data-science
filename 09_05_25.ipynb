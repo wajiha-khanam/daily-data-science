{
 "cells": [
  {
   "cell_type": "markdown",
   "id": "09be196d-af51-4395-902e-8619a99afc45",
   "metadata": {},
   "source": [
    "# 🚀 Day 9 Challenge"
   ]
  },
  {
   "cell_type": "markdown",
   "id": "7e67b71b-fa9a-43e0-b62a-d919f5d70fe3",
   "metadata": {},
   "source": [
    "##### 📂 Dataset: \"https://www.kaggle.com/datasets/harshitshankhdhar/imdb-dataset-of-top-1000-movies-and-tv-shows\""
   ]
  },
  {
   "cell_type": "code",
   "execution_count": 587,
   "id": "db0862cf-f9c8-478c-9fed-6e0ffa885acd",
   "metadata": {},
   "outputs": [],
   "source": [
    "import pandas as pd\n",
    "import numpy as np\n",
    "import matplotlib.pyplot as plt\n",
    "import seaborn as sns\n",
    "from scipy import stats"
   ]
  },
  {
   "cell_type": "markdown",
   "id": "0c4aa850-0f9e-40cd-90b6-c721719e5e28",
   "metadata": {},
   "source": [
    "# Pandas"
   ]
  },
  {
   "cell_type": "markdown",
   "id": "b4aeb60c-229b-480e-b52d-5ce18a017801",
   "metadata": {},
   "source": [
    "# Q1: Load the dataset and perform the following operations:\n",
    "\n",
    "Drop any rows with missing values.\n",
    "\n",
    "Extract the year from the released column and add it as a new column.\n",
    "\n",
    "Group by year and find the average IMDb rating for each year."
   ]
  },
  {
   "cell_type": "code",
   "execution_count": 590,
   "id": "d1a7aac0-6a9d-430a-b382-a5fc8ada22f5",
   "metadata": {},
   "outputs": [
    {
     "data": {
      "text/html": [
       "<div>\n",
       "<style scoped>\n",
       "    .dataframe tbody tr th:only-of-type {\n",
       "        vertical-align: middle;\n",
       "    }\n",
       "\n",
       "    .dataframe tbody tr th {\n",
       "        vertical-align: top;\n",
       "    }\n",
       "\n",
       "    .dataframe thead th {\n",
       "        text-align: right;\n",
       "    }\n",
       "</style>\n",
       "<table border=\"1\" class=\"dataframe\">\n",
       "  <thead>\n",
       "    <tr style=\"text-align: right;\">\n",
       "      <th></th>\n",
       "      <th>Poster_Link</th>\n",
       "      <th>Series_Title</th>\n",
       "      <th>Released_Year</th>\n",
       "      <th>Certificate</th>\n",
       "      <th>Runtime</th>\n",
       "      <th>Genre</th>\n",
       "      <th>IMDB_Rating</th>\n",
       "      <th>Overview</th>\n",
       "      <th>Meta_score</th>\n",
       "      <th>Director</th>\n",
       "      <th>Star1</th>\n",
       "      <th>Star2</th>\n",
       "      <th>Star3</th>\n",
       "      <th>Star4</th>\n",
       "      <th>No_of_Votes</th>\n",
       "      <th>Gross</th>\n",
       "    </tr>\n",
       "  </thead>\n",
       "  <tbody>\n",
       "    <tr>\n",
       "      <th>0</th>\n",
       "      <td>https://m.media-amazon.com/images/M/MV5BMDFkYT...</td>\n",
       "      <td>The Shawshank Redemption</td>\n",
       "      <td>1994</td>\n",
       "      <td>A</td>\n",
       "      <td>142 min</td>\n",
       "      <td>Drama</td>\n",
       "      <td>9.3</td>\n",
       "      <td>Two imprisoned men bond over a number of years...</td>\n",
       "      <td>80.0</td>\n",
       "      <td>Frank Darabont</td>\n",
       "      <td>Tim Robbins</td>\n",
       "      <td>Morgan Freeman</td>\n",
       "      <td>Bob Gunton</td>\n",
       "      <td>William Sadler</td>\n",
       "      <td>2343110</td>\n",
       "      <td>28,341,469</td>\n",
       "    </tr>\n",
       "    <tr>\n",
       "      <th>1</th>\n",
       "      <td>https://m.media-amazon.com/images/M/MV5BM2MyNj...</td>\n",
       "      <td>The Godfather</td>\n",
       "      <td>1972</td>\n",
       "      <td>A</td>\n",
       "      <td>175 min</td>\n",
       "      <td>Crime, Drama</td>\n",
       "      <td>9.2</td>\n",
       "      <td>An organized crime dynasty's aging patriarch t...</td>\n",
       "      <td>100.0</td>\n",
       "      <td>Francis Ford Coppola</td>\n",
       "      <td>Marlon Brando</td>\n",
       "      <td>Al Pacino</td>\n",
       "      <td>James Caan</td>\n",
       "      <td>Diane Keaton</td>\n",
       "      <td>1620367</td>\n",
       "      <td>134,966,411</td>\n",
       "    </tr>\n",
       "    <tr>\n",
       "      <th>2</th>\n",
       "      <td>https://m.media-amazon.com/images/M/MV5BMTMxNT...</td>\n",
       "      <td>The Dark Knight</td>\n",
       "      <td>2008</td>\n",
       "      <td>UA</td>\n",
       "      <td>152 min</td>\n",
       "      <td>Action, Crime, Drama</td>\n",
       "      <td>9.0</td>\n",
       "      <td>When the menace known as the Joker wreaks havo...</td>\n",
       "      <td>84.0</td>\n",
       "      <td>Christopher Nolan</td>\n",
       "      <td>Christian Bale</td>\n",
       "      <td>Heath Ledger</td>\n",
       "      <td>Aaron Eckhart</td>\n",
       "      <td>Michael Caine</td>\n",
       "      <td>2303232</td>\n",
       "      <td>534,858,444</td>\n",
       "    </tr>\n",
       "    <tr>\n",
       "      <th>3</th>\n",
       "      <td>https://m.media-amazon.com/images/M/MV5BMWMwMG...</td>\n",
       "      <td>The Godfather: Part II</td>\n",
       "      <td>1974</td>\n",
       "      <td>A</td>\n",
       "      <td>202 min</td>\n",
       "      <td>Crime, Drama</td>\n",
       "      <td>9.0</td>\n",
       "      <td>The early life and career of Vito Corleone in ...</td>\n",
       "      <td>90.0</td>\n",
       "      <td>Francis Ford Coppola</td>\n",
       "      <td>Al Pacino</td>\n",
       "      <td>Robert De Niro</td>\n",
       "      <td>Robert Duvall</td>\n",
       "      <td>Diane Keaton</td>\n",
       "      <td>1129952</td>\n",
       "      <td>57,300,000</td>\n",
       "    </tr>\n",
       "    <tr>\n",
       "      <th>4</th>\n",
       "      <td>https://m.media-amazon.com/images/M/MV5BMWU4N2...</td>\n",
       "      <td>12 Angry Men</td>\n",
       "      <td>1957</td>\n",
       "      <td>U</td>\n",
       "      <td>96 min</td>\n",
       "      <td>Crime, Drama</td>\n",
       "      <td>9.0</td>\n",
       "      <td>A jury holdout attempts to prevent a miscarria...</td>\n",
       "      <td>96.0</td>\n",
       "      <td>Sidney Lumet</td>\n",
       "      <td>Henry Fonda</td>\n",
       "      <td>Lee J. Cobb</td>\n",
       "      <td>Martin Balsam</td>\n",
       "      <td>John Fiedler</td>\n",
       "      <td>689845</td>\n",
       "      <td>4,360,000</td>\n",
       "    </tr>\n",
       "    <tr>\n",
       "      <th>...</th>\n",
       "      <td>...</td>\n",
       "      <td>...</td>\n",
       "      <td>...</td>\n",
       "      <td>...</td>\n",
       "      <td>...</td>\n",
       "      <td>...</td>\n",
       "      <td>...</td>\n",
       "      <td>...</td>\n",
       "      <td>...</td>\n",
       "      <td>...</td>\n",
       "      <td>...</td>\n",
       "      <td>...</td>\n",
       "      <td>...</td>\n",
       "      <td>...</td>\n",
       "      <td>...</td>\n",
       "      <td>...</td>\n",
       "    </tr>\n",
       "    <tr>\n",
       "      <th>995</th>\n",
       "      <td>https://m.media-amazon.com/images/M/MV5BNGEwMT...</td>\n",
       "      <td>Breakfast at Tiffany's</td>\n",
       "      <td>1961</td>\n",
       "      <td>A</td>\n",
       "      <td>115 min</td>\n",
       "      <td>Comedy, Drama, Romance</td>\n",
       "      <td>7.6</td>\n",
       "      <td>A young New York socialite becomes interested ...</td>\n",
       "      <td>76.0</td>\n",
       "      <td>Blake Edwards</td>\n",
       "      <td>Audrey Hepburn</td>\n",
       "      <td>George Peppard</td>\n",
       "      <td>Patricia Neal</td>\n",
       "      <td>Buddy Ebsen</td>\n",
       "      <td>166544</td>\n",
       "      <td>NaN</td>\n",
       "    </tr>\n",
       "    <tr>\n",
       "      <th>996</th>\n",
       "      <td>https://m.media-amazon.com/images/M/MV5BODk3Yj...</td>\n",
       "      <td>Giant</td>\n",
       "      <td>1956</td>\n",
       "      <td>G</td>\n",
       "      <td>201 min</td>\n",
       "      <td>Drama, Western</td>\n",
       "      <td>7.6</td>\n",
       "      <td>Sprawling epic covering the life of a Texas ca...</td>\n",
       "      <td>84.0</td>\n",
       "      <td>George Stevens</td>\n",
       "      <td>Elizabeth Taylor</td>\n",
       "      <td>Rock Hudson</td>\n",
       "      <td>James Dean</td>\n",
       "      <td>Carroll Baker</td>\n",
       "      <td>34075</td>\n",
       "      <td>NaN</td>\n",
       "    </tr>\n",
       "    <tr>\n",
       "      <th>997</th>\n",
       "      <td>https://m.media-amazon.com/images/M/MV5BM2U3Yz...</td>\n",
       "      <td>From Here to Eternity</td>\n",
       "      <td>1953</td>\n",
       "      <td>Passed</td>\n",
       "      <td>118 min</td>\n",
       "      <td>Drama, Romance, War</td>\n",
       "      <td>7.6</td>\n",
       "      <td>In Hawaii in 1941, a private is cruelly punish...</td>\n",
       "      <td>85.0</td>\n",
       "      <td>Fred Zinnemann</td>\n",
       "      <td>Burt Lancaster</td>\n",
       "      <td>Montgomery Clift</td>\n",
       "      <td>Deborah Kerr</td>\n",
       "      <td>Donna Reed</td>\n",
       "      <td>43374</td>\n",
       "      <td>30,500,000</td>\n",
       "    </tr>\n",
       "    <tr>\n",
       "      <th>998</th>\n",
       "      <td>https://m.media-amazon.com/images/M/MV5BZTBmMj...</td>\n",
       "      <td>Lifeboat</td>\n",
       "      <td>1944</td>\n",
       "      <td>NaN</td>\n",
       "      <td>97 min</td>\n",
       "      <td>Drama, War</td>\n",
       "      <td>7.6</td>\n",
       "      <td>Several survivors of a torpedoed merchant ship...</td>\n",
       "      <td>78.0</td>\n",
       "      <td>Alfred Hitchcock</td>\n",
       "      <td>Tallulah Bankhead</td>\n",
       "      <td>John Hodiak</td>\n",
       "      <td>Walter Slezak</td>\n",
       "      <td>William Bendix</td>\n",
       "      <td>26471</td>\n",
       "      <td>NaN</td>\n",
       "    </tr>\n",
       "    <tr>\n",
       "      <th>999</th>\n",
       "      <td>https://m.media-amazon.com/images/M/MV5BMTY5OD...</td>\n",
       "      <td>The 39 Steps</td>\n",
       "      <td>1935</td>\n",
       "      <td>NaN</td>\n",
       "      <td>86 min</td>\n",
       "      <td>Crime, Mystery, Thriller</td>\n",
       "      <td>7.6</td>\n",
       "      <td>A man in London tries to help a counter-espion...</td>\n",
       "      <td>93.0</td>\n",
       "      <td>Alfred Hitchcock</td>\n",
       "      <td>Robert Donat</td>\n",
       "      <td>Madeleine Carroll</td>\n",
       "      <td>Lucie Mannheim</td>\n",
       "      <td>Godfrey Tearle</td>\n",
       "      <td>51853</td>\n",
       "      <td>NaN</td>\n",
       "    </tr>\n",
       "  </tbody>\n",
       "</table>\n",
       "<p>1000 rows × 16 columns</p>\n",
       "</div>"
      ],
      "text/plain": [
       "                                           Poster_Link  \\\n",
       "0    https://m.media-amazon.com/images/M/MV5BMDFkYT...   \n",
       "1    https://m.media-amazon.com/images/M/MV5BM2MyNj...   \n",
       "2    https://m.media-amazon.com/images/M/MV5BMTMxNT...   \n",
       "3    https://m.media-amazon.com/images/M/MV5BMWMwMG...   \n",
       "4    https://m.media-amazon.com/images/M/MV5BMWU4N2...   \n",
       "..                                                 ...   \n",
       "995  https://m.media-amazon.com/images/M/MV5BNGEwMT...   \n",
       "996  https://m.media-amazon.com/images/M/MV5BODk3Yj...   \n",
       "997  https://m.media-amazon.com/images/M/MV5BM2U3Yz...   \n",
       "998  https://m.media-amazon.com/images/M/MV5BZTBmMj...   \n",
       "999  https://m.media-amazon.com/images/M/MV5BMTY5OD...   \n",
       "\n",
       "                 Series_Title Released_Year Certificate  Runtime  \\\n",
       "0    The Shawshank Redemption          1994           A  142 min   \n",
       "1               The Godfather          1972           A  175 min   \n",
       "2             The Dark Knight          2008          UA  152 min   \n",
       "3      The Godfather: Part II          1974           A  202 min   \n",
       "4                12 Angry Men          1957           U   96 min   \n",
       "..                        ...           ...         ...      ...   \n",
       "995    Breakfast at Tiffany's          1961           A  115 min   \n",
       "996                     Giant          1956           G  201 min   \n",
       "997     From Here to Eternity          1953      Passed  118 min   \n",
       "998                  Lifeboat          1944         NaN   97 min   \n",
       "999              The 39 Steps          1935         NaN   86 min   \n",
       "\n",
       "                        Genre  IMDB_Rating  \\\n",
       "0                       Drama          9.3   \n",
       "1                Crime, Drama          9.2   \n",
       "2        Action, Crime, Drama          9.0   \n",
       "3                Crime, Drama          9.0   \n",
       "4                Crime, Drama          9.0   \n",
       "..                        ...          ...   \n",
       "995    Comedy, Drama, Romance          7.6   \n",
       "996            Drama, Western          7.6   \n",
       "997       Drama, Romance, War          7.6   \n",
       "998                Drama, War          7.6   \n",
       "999  Crime, Mystery, Thriller          7.6   \n",
       "\n",
       "                                              Overview  Meta_score  \\\n",
       "0    Two imprisoned men bond over a number of years...        80.0   \n",
       "1    An organized crime dynasty's aging patriarch t...       100.0   \n",
       "2    When the menace known as the Joker wreaks havo...        84.0   \n",
       "3    The early life and career of Vito Corleone in ...        90.0   \n",
       "4    A jury holdout attempts to prevent a miscarria...        96.0   \n",
       "..                                                 ...         ...   \n",
       "995  A young New York socialite becomes interested ...        76.0   \n",
       "996  Sprawling epic covering the life of a Texas ca...        84.0   \n",
       "997  In Hawaii in 1941, a private is cruelly punish...        85.0   \n",
       "998  Several survivors of a torpedoed merchant ship...        78.0   \n",
       "999  A man in London tries to help a counter-espion...        93.0   \n",
       "\n",
       "                 Director              Star1              Star2  \\\n",
       "0          Frank Darabont        Tim Robbins     Morgan Freeman   \n",
       "1    Francis Ford Coppola      Marlon Brando          Al Pacino   \n",
       "2       Christopher Nolan     Christian Bale       Heath Ledger   \n",
       "3    Francis Ford Coppola          Al Pacino     Robert De Niro   \n",
       "4            Sidney Lumet        Henry Fonda        Lee J. Cobb   \n",
       "..                    ...                ...                ...   \n",
       "995         Blake Edwards     Audrey Hepburn     George Peppard   \n",
       "996        George Stevens   Elizabeth Taylor        Rock Hudson   \n",
       "997        Fred Zinnemann     Burt Lancaster   Montgomery Clift   \n",
       "998      Alfred Hitchcock  Tallulah Bankhead        John Hodiak   \n",
       "999      Alfred Hitchcock       Robert Donat  Madeleine Carroll   \n",
       "\n",
       "              Star3           Star4  No_of_Votes        Gross  \n",
       "0        Bob Gunton  William Sadler      2343110   28,341,469  \n",
       "1        James Caan    Diane Keaton      1620367  134,966,411  \n",
       "2     Aaron Eckhart   Michael Caine      2303232  534,858,444  \n",
       "3     Robert Duvall    Diane Keaton      1129952   57,300,000  \n",
       "4     Martin Balsam    John Fiedler       689845    4,360,000  \n",
       "..              ...             ...          ...          ...  \n",
       "995   Patricia Neal     Buddy Ebsen       166544          NaN  \n",
       "996      James Dean   Carroll Baker        34075          NaN  \n",
       "997    Deborah Kerr      Donna Reed        43374   30,500,000  \n",
       "998   Walter Slezak  William Bendix        26471          NaN  \n",
       "999  Lucie Mannheim  Godfrey Tearle        51853          NaN  \n",
       "\n",
       "[1000 rows x 16 columns]"
      ]
     },
     "execution_count": 590,
     "metadata": {},
     "output_type": "execute_result"
    }
   ],
   "source": [
    "df = pd.read_csv(\"imdb_top_1000.csv\")\n",
    "df"
   ]
  },
  {
   "cell_type": "code",
   "execution_count": 591,
   "id": "6fcc2772-474c-4240-83b6-d9c70930de30",
   "metadata": {},
   "outputs": [
    {
     "data": {
      "text/plain": [
       "Poster_Link       0.0\n",
       "Series_Title      0.0\n",
       "Released_Year     0.0\n",
       "Certificate      10.1\n",
       "Runtime           0.0\n",
       "Genre             0.0\n",
       "IMDB_Rating       0.0\n",
       "Overview          0.0\n",
       "Meta_score       15.7\n",
       "Director          0.0\n",
       "Star1             0.0\n",
       "Star2             0.0\n",
       "Star3             0.0\n",
       "Star4             0.0\n",
       "No_of_Votes       0.0\n",
       "Gross            16.9\n",
       "dtype: float64"
      ]
     },
     "execution_count": 591,
     "metadata": {},
     "output_type": "execute_result"
    }
   ],
   "source": [
    "missing_percent = df.isnull().sum()/len(df) * 100\n",
    "missing_percent"
   ]
  },
  {
   "cell_type": "code",
   "execution_count": 592,
   "id": "d3679131-b219-4856-8cc9-4f237bc8e158",
   "metadata": {},
   "outputs": [
    {
     "name": "stdout",
     "output_type": "stream",
     "text": [
      "<class 'pandas.core.frame.DataFrame'>\n",
      "RangeIndex: 1000 entries, 0 to 999\n",
      "Data columns (total 16 columns):\n",
      " #   Column         Non-Null Count  Dtype  \n",
      "---  ------         --------------  -----  \n",
      " 0   Poster_Link    1000 non-null   object \n",
      " 1   Series_Title   1000 non-null   object \n",
      " 2   Released_Year  1000 non-null   object \n",
      " 3   Certificate    899 non-null    object \n",
      " 4   Runtime        1000 non-null   object \n",
      " 5   Genre          1000 non-null   object \n",
      " 6   IMDB_Rating    1000 non-null   float64\n",
      " 7   Overview       1000 non-null   object \n",
      " 8   Meta_score     843 non-null    float64\n",
      " 9   Director       1000 non-null   object \n",
      " 10  Star1          1000 non-null   object \n",
      " 11  Star2          1000 non-null   object \n",
      " 12  Star3          1000 non-null   object \n",
      " 13  Star4          1000 non-null   object \n",
      " 14  No_of_Votes    1000 non-null   int64  \n",
      " 15  Gross          831 non-null    object \n",
      "dtypes: float64(2), int64(1), object(13)\n",
      "memory usage: 125.1+ KB\n"
     ]
    }
   ],
   "source": [
    "df.info()"
   ]
  },
  {
   "cell_type": "code",
   "execution_count": 593,
   "id": "6749de22-631a-45fe-8bfc-6d2cac56275b",
   "metadata": {},
   "outputs": [],
   "source": [
    "df['Certificate'] = df['Certificate'].fillna(df['Certificate'].mode()[0])"
   ]
  },
  {
   "cell_type": "code",
   "execution_count": 594,
   "id": "99f60b96-2346-40b4-bd57-48acd9e5fa7b",
   "metadata": {},
   "outputs": [
    {
     "data": {
      "text/plain": [
       "-0.6052248305009935"
      ]
     },
     "execution_count": 594,
     "metadata": {},
     "output_type": "execute_result"
    }
   ],
   "source": [
    "df['Meta_score'].skew()"
   ]
  },
  {
   "cell_type": "code",
   "execution_count": 595,
   "id": "c039a73a-0966-4ecb-82d7-0ccc22560079",
   "metadata": {},
   "outputs": [],
   "source": [
    "df['Meta_score'] = df['Meta_score'].fillna(df['Meta_score'].mean())"
   ]
  },
  {
   "cell_type": "code",
   "execution_count": 596,
   "id": "8ca74901-18dc-4b0c-85ad-33d1dc1e120e",
   "metadata": {},
   "outputs": [],
   "source": [
    "df['Gross'] = pd.to_numeric(df['Gross'].str.replace(',', ''))"
   ]
  },
  {
   "cell_type": "code",
   "execution_count": 597,
   "id": "dcee7ac2-731c-4e05-aa73-a635e2880920",
   "metadata": {},
   "outputs": [
    {
     "data": {
      "text/plain": [
       "3.1301343288134538"
      ]
     },
     "execution_count": 597,
     "metadata": {},
     "output_type": "execute_result"
    }
   ],
   "source": [
    "df['Gross'].skew()"
   ]
  },
  {
   "cell_type": "code",
   "execution_count": 598,
   "id": "af3d5f3c-9997-4b9a-aadd-75bafb1864d8",
   "metadata": {},
   "outputs": [],
   "source": [
    "df['Gross'] = df['Gross'].fillna(df['Gross'].median())"
   ]
  },
  {
   "cell_type": "code",
   "execution_count": 599,
   "id": "b270505d-41fb-496c-acbb-672bb601c58e",
   "metadata": {},
   "outputs": [],
   "source": [
    "# df['Released_Year'] = pd.to_numeric(df['Released_Year'])"
   ]
  },
  {
   "cell_type": "code",
   "execution_count": 600,
   "id": "8283e893-8a0d-480a-8208-1dcf3ebc4e0d",
   "metadata": {},
   "outputs": [
    {
     "data": {
      "text/plain": [
       "'PG'"
      ]
     },
     "execution_count": 600,
     "metadata": {},
     "output_type": "execute_result"
    }
   ],
   "source": [
    "df.loc[966, 'Released_Year']"
   ]
  },
  {
   "cell_type": "code",
   "execution_count": 601,
   "id": "46957003-c131-4737-bbd7-ecd212dcc912",
   "metadata": {},
   "outputs": [],
   "source": [
    "df = df[df['Released_Year'] != 'PG'].reset_index(drop=True)"
   ]
  },
  {
   "cell_type": "code",
   "execution_count": 602,
   "id": "e0a10260-ad7a-4585-85c9-2ee6f33c6bc6",
   "metadata": {},
   "outputs": [],
   "source": [
    "df['Released_Year'] = pd.to_numeric(df['Released_Year'])"
   ]
  },
  {
   "cell_type": "code",
   "execution_count": 603,
   "id": "dc5ced55-a00b-4e43-a679-21367c4f1f5c",
   "metadata": {},
   "outputs": [
    {
     "data": {
      "text/html": [
       "<div>\n",
       "<style scoped>\n",
       "    .dataframe tbody tr th:only-of-type {\n",
       "        vertical-align: middle;\n",
       "    }\n",
       "\n",
       "    .dataframe tbody tr th {\n",
       "        vertical-align: top;\n",
       "    }\n",
       "\n",
       "    .dataframe thead th {\n",
       "        text-align: right;\n",
       "    }\n",
       "</style>\n",
       "<table border=\"1\" class=\"dataframe\">\n",
       "  <thead>\n",
       "    <tr style=\"text-align: right;\">\n",
       "      <th></th>\n",
       "      <th>Released_Year</th>\n",
       "      <th>avg_rating</th>\n",
       "    </tr>\n",
       "  </thead>\n",
       "  <tbody>\n",
       "    <tr>\n",
       "      <th>0</th>\n",
       "      <td>1936</td>\n",
       "      <td>8.500</td>\n",
       "    </tr>\n",
       "    <tr>\n",
       "      <th>1</th>\n",
       "      <td>1921</td>\n",
       "      <td>8.300</td>\n",
       "    </tr>\n",
       "    <tr>\n",
       "      <th>2</th>\n",
       "      <td>1957</td>\n",
       "      <td>8.278</td>\n",
       "    </tr>\n",
       "    <tr>\n",
       "      <th>3</th>\n",
       "      <td>1994</td>\n",
       "      <td>8.238</td>\n",
       "    </tr>\n",
       "    <tr>\n",
       "      <th>4</th>\n",
       "      <td>1942</td>\n",
       "      <td>8.233</td>\n",
       "    </tr>\n",
       "    <tr>\n",
       "      <th>...</th>\n",
       "      <td>...</td>\n",
       "      <td>...</td>\n",
       "    </tr>\n",
       "    <tr>\n",
       "      <th>94</th>\n",
       "      <td>1938</td>\n",
       "      <td>7.833</td>\n",
       "    </tr>\n",
       "    <tr>\n",
       "      <th>95</th>\n",
       "      <td>1956</td>\n",
       "      <td>7.820</td>\n",
       "    </tr>\n",
       "    <tr>\n",
       "      <th>96</th>\n",
       "      <td>1943</td>\n",
       "      <td>7.800</td>\n",
       "    </tr>\n",
       "    <tr>\n",
       "      <th>97</th>\n",
       "      <td>1933</td>\n",
       "      <td>7.800</td>\n",
       "    </tr>\n",
       "    <tr>\n",
       "      <th>98</th>\n",
       "      <td>1935</td>\n",
       "      <td>7.767</td>\n",
       "    </tr>\n",
       "  </tbody>\n",
       "</table>\n",
       "<p>99 rows × 2 columns</p>\n",
       "</div>"
      ],
      "text/plain": [
       "    Released_Year  avg_rating\n",
       "0            1936       8.500\n",
       "1            1921       8.300\n",
       "2            1957       8.278\n",
       "3            1994       8.238\n",
       "4            1942       8.233\n",
       "..            ...         ...\n",
       "94           1938       7.833\n",
       "95           1956       7.820\n",
       "96           1943       7.800\n",
       "97           1933       7.800\n",
       "98           1935       7.767\n",
       "\n",
       "[99 rows x 2 columns]"
      ]
     },
     "execution_count": 603,
     "metadata": {},
     "output_type": "execute_result"
    }
   ],
   "source": [
    "avg_rating_by_year = df.groupby('Released_Year')['IMDB_Rating'].mean().round(3).sort_values(ascending = False).reset_index(name = 'avg_rating')\n",
    "avg_rating_by_year"
   ]
  },
  {
   "cell_type": "markdown",
   "id": "85f409fd-1e7f-4855-96df-616dc271b63d",
   "metadata": {},
   "source": [
    "# Q2: Identify and replace all occurrences of a specific word (e.g., \"Drama\") in the genre column with another word (e.g., \"Thriller\")."
   ]
  },
  {
   "cell_type": "code",
   "execution_count": 605,
   "id": "1b205c53-a900-4d53-826f-31831557f0ff",
   "metadata": {},
   "outputs": [
    {
     "data": {
      "text/plain": [
       "0                       Thriller\n",
       "1                Crime, Thriller\n",
       "2        Action, Crime, Thriller\n",
       "3                Crime, Thriller\n",
       "4                Crime, Thriller\n",
       "                 ...            \n",
       "994    Comedy, Thriller, Romance\n",
       "995            Thriller, Western\n",
       "996       Thriller, Romance, War\n",
       "997                Thriller, War\n",
       "998     Crime, Mystery, Thriller\n",
       "Name: Genre, Length: 999, dtype: object"
      ]
     },
     "execution_count": 605,
     "metadata": {},
     "output_type": "execute_result"
    }
   ],
   "source": [
    "df['Genre'] = df['Genre'].str.replace('Drama', 'Thriller', regex = False)\n",
    "df['Genre']"
   ]
  },
  {
   "cell_type": "markdown",
   "id": "62bf90aa-1e22-43b5-b158-0e1ef6390821",
   "metadata": {},
   "source": [
    "# Q3: Sort the dataset based on the IMDb rating and votes in descending order and find the top 5 movies/TV shows."
   ]
  },
  {
   "cell_type": "code",
   "execution_count": 607,
   "id": "4b86c379-f55c-488a-9e55-8e816b51ff8d",
   "metadata": {},
   "outputs": [
    {
     "data": {
      "text/plain": [
       "0    The Shawshank Redemption\n",
       "1               The Godfather\n",
       "2             The Dark Knight\n",
       "3      The Godfather: Part II\n",
       "4                12 Angry Men\n",
       "Name: Series_Title, dtype: object"
      ]
     },
     "execution_count": 607,
     "metadata": {},
     "output_type": "execute_result"
    }
   ],
   "source": [
    "rating_votes_sorted = df.sort_values(by = ['IMDB_Rating', 'No_of_Votes'], ascending = [False, False]).head(5)\n",
    "rating_votes_sorted['Series_Title']"
   ]
  },
  {
   "cell_type": "markdown",
   "id": "772f5c41-81dd-44e6-a1e6-947dd466f629",
   "metadata": {},
   "source": [
    "# Visualization"
   ]
  },
  {
   "cell_type": "markdown",
   "id": "dbe81998-23f2-4eb7-82de-94e4ee75c643",
   "metadata": {},
   "source": [
    "## Q1: Plot a scatter plot of IMDb rating vs votes to identify any relationship between the two variables.\n"
   ]
  },
  {
   "cell_type": "code",
   "execution_count": 610,
   "id": "7bf33ceb-1107-4351-beaa-a01471121d46",
   "metadata": {},
   "outputs": [
    {
     "data": {
      "image/png": "[encoded data removed]",
      "text/plain": [
       "<Figure size 800x500 with 1 Axes>"
      ]
     },
     "metadata": {},
     "output_type": "display_data"
    }
   ],
   "source": [
    "plt.figure(figsize = (8,5))\n",
    "sns.regplot(data = df, x = 'IMDB_Rating', y = 'No_of_Votes', scatter_kws = {'alpha' : 0.6}, line_kws = {'color':'red'}, ci=None)\n",
    "plt.title('Scatter Plot of IMDb Rating vs. Number of Votes')\n",
    "plt.xlabel('IMDb Rating')\n",
    "plt.ylabel('Number of Votes')\n",
    "plt.show()"
   ]
  },
  {
   "cell_type": "markdown",
   "id": "566ddd5f-f26c-4664-b964-9afe1b421eb4",
   "metadata": {},
   "source": [
    "# Q2: Create a box plot of runtime across different genres."
   ]
  },
  {
   "cell_type": "code",
   "execution_count": 612,
   "id": "bef7ceb8-b9fb-4b56-8dce-50f0975f1b3a",
   "metadata": {},
   "outputs": [],
   "source": [
    "df['Runtime'] = df['Runtime'].str.replace(' min', '', regex = False).astype(float)"
   ]
  },
  {
   "cell_type": "code",
   "execution_count": 613,
   "id": "98bb640a-c84d-4da1-9c90-5d3ac793ce85",
   "metadata": {},
   "outputs": [
    {
     "data": {
      "image/png": "[encoded data removed]",
      "text/plain": [
       "<Figure size 1000x600 with 1 Axes>"
      ]
     },
     "metadata": {},
     "output_type": "display_data"
    }
   ],
   "source": [
    "df['Genre'] = df['Genre'].fillna('') \n",
    "df['Genre'] = df['Genre'].astype(str)\n",
    "\n",
    "df['Genre'] = df['Genre'].str.replace(r'[\\[\\]\"]', '', regex=True)\n",
    "df['Genre'] = df['Genre'].str.strip()\n",
    "df['Genre'] = df['Genre'].str.split(', ')\n",
    "df_exploded = df.explode(\"Genre\")\n",
    "\n",
    "plt.figure(figsize=(10, 6))\n",
    "sns.boxplot(data=df_exploded, x='Genre', y='Runtime', color = 'teal')\n",
    "plt.title('Box Plot of Runtime Across Different Genres')\n",
    "plt.xlabel('Genre')\n",
    "plt.ylabel('Runtime (minutes)')\n",
    "plt.xticks(rotation=45)\n",
    "plt.show()\n"
   ]
  },
  {
   "cell_type": "markdown",
   "id": "c91a7b57-a792-4075-b80d-34eaf81cad98",
   "metadata": {},
   "source": [
    "## Q3: Generate a heatmap to visualize the correlation between IMDb rating, runtime, and votes.\n",
    "\n"
   ]
  },
  {
   "cell_type": "code",
   "execution_count": 615,
   "id": "7160681e-c522-4cc6-abf4-02d4fa9128c0",
   "metadata": {},
   "outputs": [
    {
     "data": {
      "image/png": "[encoded data removed]",
      "text/plain": [
       "<Figure size 800x600 with 2 Axes>"
      ]
     },
     "metadata": {},
     "output_type": "display_data"
    }
   ],
   "source": [
    "corr_matrix = df[['IMDB_Rating', 'Runtime', 'No_of_Votes']].corr()\n",
    "\n",
    "plt.figure(figsize=(8, 6))\n",
    "sns.heatmap(corr_matrix, annot=True, cmap='coolwarm', fmt='.2f', linewidths=0.5)\n",
    "plt.title('Heatmap for rating, runtime and votes correlation')\n",
    "plt.show()\n"
   ]
  },
  {
   "cell_type": "markdown",
   "id": "36eaa016-6d53-4a16-af00-26d260493e65",
   "metadata": {},
   "source": [
    "# EDA"
   ]
  },
  {
   "cell_type": "markdown",
   "id": "6a99482c-ada6-49e7-ad69-018e7ecadfe3",
   "metadata": {},
   "source": [
    "## Q1: Conduct an outlier analysis on the IMDb rating column. Use both the IQR method and Z-score method."
   ]
  },
  {
   "cell_type": "code",
   "execution_count": 618,
   "id": "c9682810-f444-4834-90d3-f6db2f4f825c",
   "metadata": {},
   "outputs": [
    {
     "name": "stdout",
     "output_type": "stream",
     "text": [
      "Number of outliers: 13\n"
     ]
    }
   ],
   "source": [
    "Q1 = df['IMDB_Rating'].quantile(0.25)\n",
    "Q3 = df['IMDB_Rating'].quantile(0.75)\n",
    "IQR = Q3 - Q1\n",
    "LW = Q1 - 1.5*IQR\n",
    "UW = Q3 + 1.5*IQR\n",
    "outliers = (df['IMDB_Rating'] < LW) | (df['IMDB_Rating'] > UW)\n",
    "print(\"Number of outliers:\", outliers.sum())"
   ]
  },
  {
   "cell_type": "code",
   "execution_count": 619,
   "id": "3b5a7c2a-aa76-44d3-9bca-b741b0b1e1b1",
   "metadata": {},
   "outputs": [
    {
     "name": "stdout",
     "output_type": "stream",
     "text": [
      "Number of outliers: 13\n",
      "    IMDB_Rating   z_score\n",
      "0           9.3  4.905562\n",
      "1           9.2  4.542282\n",
      "2           9.0  3.815720\n",
      "3           9.0  3.815720\n",
      "4           9.0  3.815720\n",
      "5           8.9  3.452439\n",
      "6           8.9  3.452439\n",
      "7           8.9  3.452439\n",
      "8           8.8  3.089159\n",
      "9           8.8  3.089159\n",
      "10          8.8  3.089159\n",
      "11          8.8  3.089159\n",
      "12          8.8  3.089159\n"
     ]
    }
   ],
   "source": [
    "from scipy.stats import zscore\n",
    "\n",
    "df['z_score'] = zscore(df['IMDB_Rating'])\n",
    "\n",
    "outliers_rating = df[df['z_score'].abs()>3]\n",
    "\n",
    "print(\"Number of outliers:\", len(outliers_rating))\n",
    "print(outliers_rating[['IMDB_Rating', 'z_score']])"
   ]
  },
  {
   "cell_type": "markdown",
   "id": "cd4683d3-197b-460e-b0da-6ccfee58f4ff",
   "metadata": {},
   "source": [
    "## Q2: Find the top 3 genres with the highest average IMDb rating."
   ]
  },
  {
   "cell_type": "code",
   "execution_count": 621,
   "id": "fad18b9a-5a88-496a-aca8-7dd7a6a1d0b2",
   "metadata": {},
   "outputs": [
    {
     "data": {
      "text/html": [
       "<div>\n",
       "<style scoped>\n",
       "    .dataframe tbody tr th:only-of-type {\n",
       "        vertical-align: middle;\n",
       "    }\n",
       "\n",
       "    .dataframe tbody tr th {\n",
       "        vertical-align: top;\n",
       "    }\n",
       "\n",
       "    .dataframe thead th {\n",
       "        text-align: right;\n",
       "    }\n",
       "</style>\n",
       "<table border=\"1\" class=\"dataframe\">\n",
       "  <thead>\n",
       "    <tr style=\"text-align: right;\">\n",
       "      <th></th>\n",
       "      <th>Genre</th>\n",
       "      <th>avg_rating</th>\n",
       "    </tr>\n",
       "  </thead>\n",
       "  <tbody>\n",
       "    <tr>\n",
       "      <th>0</th>\n",
       "      <td>War</td>\n",
       "      <td>8.013725</td>\n",
       "    </tr>\n",
       "    <tr>\n",
       "      <th>1</th>\n",
       "      <td>Western</td>\n",
       "      <td>8.000000</td>\n",
       "    </tr>\n",
       "    <tr>\n",
       "      <th>2</th>\n",
       "      <td>Film-Noir</td>\n",
       "      <td>7.989474</td>\n",
       "    </tr>\n",
       "  </tbody>\n",
       "</table>\n",
       "</div>"
      ],
      "text/plain": [
       "       Genre  avg_rating\n",
       "0        War    8.013725\n",
       "1    Western    8.000000\n",
       "2  Film-Noir    7.989474"
      ]
     },
     "execution_count": 621,
     "metadata": {},
     "output_type": "execute_result"
    }
   ],
   "source": [
    "top_genres = df_exploded.groupby('Genre')['IMDB_Rating'].mean().sort_values(ascending = False).reset_index(name = 'avg_rating').head(3)\n",
    "top_genres"
   ]
  },
  {
   "cell_type": "markdown",
   "id": "2ae8c7cd-89ce-4260-8bfe-0b877a8da85c",
   "metadata": {},
   "source": [
    "# Statistics"
   ]
  },
  {
   "cell_type": "markdown",
   "id": "727e1231-08b9-491b-9e38-47a1669047c4",
   "metadata": {},
   "source": [
    "## Q1: Perform a two-sample t-test comparing the average runtime of Action and Comedy movies/TV shows."
   ]
  },
  {
   "cell_type": "code",
   "execution_count": 624,
   "id": "bae32684-3ab7-4632-95b8-9f4c6555be0e",
   "metadata": {},
   "outputs": [
    {
     "name": "stdout",
     "output_type": "stream",
     "text": [
      "T_statistic: 5.5959\n",
      "P_value: 0.0000\n",
      "There is a significant difference in average runtime, with Action movies having a higher average runtime than Comedy movies/TV shows.\n"
     ]
    }
   ],
   "source": [
    "action_df = df_exploded[df_exploded['Genre'] == 'Action']['Runtime']\n",
    "comedy_df = df_exploded[df_exploded['Genre'] == 'Comedy']['Runtime']\n",
    "\n",
    "t_stat, p_val = stats.ttest_ind(action_df, comedy_df)\n",
    "\n",
    "print(f\"T_statistic: {t_stat:.4f}\")\n",
    "print(f\"P_value: {p_val:.4f}\")\n",
    "\n",
    "if p_val < 0.05:\n",
    "    if t_stat > 0:\n",
    "        print(\"There is a significant difference in average runtime, with Action movies having a higher average runtime than Comedy movies/TV shows.\")\n",
    "    else:\n",
    "        print(\"There is a significant difference in average runtime, with Action movies having a lower average runtime than Comedy movies/TV shows.\")\n",
    "else:\n",
    "    print(\"There is no significant difference between the average runtimes of Action and Comedy movies/TV shows.\")"
   ]
  },
  {
   "cell_type": "markdown",
   "id": "8d593af0-5b41-4ee0-8dbf-2002c8998d08",
   "metadata": {},
   "source": [
    "## Q2: Conduct a chi-square test of independence to determine if the genre and rating category (high: >7, low: ≤7) are related."
   ]
  },
  {
   "cell_type": "code",
   "execution_count": 626,
   "id": "1e402212-6595-4d0b-a598-3b656a2e9343",
   "metadata": {},
   "outputs": [],
   "source": [
    "df_exploded['Rating_category'] = df_exploded['IMDB_Rating'].apply(lambda x: \"High\" if x > 7 else \"Low\")"
   ]
  },
  {
   "cell_type": "code",
   "execution_count": 627,
   "id": "b236a94a-cc6f-4f8c-b3ae-80448dfa2783",
   "metadata": {},
   "outputs": [],
   "source": [
    "df_exploded['Genre'] = df_exploded['Genre'].astype(str)  \n",
    "df_exploded['Rating_category'] = df_exploded['Rating_category'].astype(str) "
   ]
  },
  {
   "cell_type": "code",
   "execution_count": 628,
   "id": "ce27c4e7-17e2-4790-a983-ec3ab7c9a2af",
   "metadata": {},
   "outputs": [
    {
     "name": "stdout",
     "output_type": "stream",
     "text": [
      "Contingency Table:\n",
      "Rating_category  High\n",
      "Genre                \n",
      "Action            189\n",
      "Adventure         195\n",
      "Animation          82\n",
      "Biography         109\n",
      "Comedy            233\n",
      "Crime             209\n",
      "Family             56\n",
      "Fantasy            66\n",
      "Film-Noir          19\n",
      "History            55\n",
      "Horror             32\n",
      "Music              35\n",
      "Musical            17\n",
      "Mystery            99\n",
      "Romance           125\n",
      "Sci-Fi             67\n",
      "Sport              19\n",
      "Thriller          860\n",
      "War                51\n",
      "Western            20\n",
      "\n",
      "Chi2 Stat: 0.0\n",
      "P-Value: 1.0\n",
      "Degrees of Freedom: 0\n",
      "Expected Frequency Table:\n",
      "[[189.]\n",
      " [195.]\n",
      " [ 82.]\n",
      " [109.]\n",
      " [233.]\n",
      " [209.]\n",
      " [ 56.]\n",
      " [ 66.]\n",
      " [ 19.]\n",
      " [ 55.]\n",
      " [ 32.]\n",
      " [ 35.]\n",
      " [ 17.]\n",
      " [ 99.]\n",
      " [125.]\n",
      " [ 67.]\n",
      " [ 19.]\n",
      " [860.]\n",
      " [ 51.]\n",
      " [ 20.]]\n",
      "\n",
      "There is no significant relationship between genre and rating category.\n"
     ]
    }
   ],
   "source": [
    "from scipy.stats import chi2_contingency\n",
    "\n",
    "contingency_data = pd.crosstab(df_exploded['Genre'], df_exploded['Rating_category'])\n",
    "print(\"Contingency Table:\")\n",
    "print(contingency_data)\n",
    "\n",
    "chi2_stat, p_val, dof, expected = chi2_contingency(contingency_data)\n",
    "\n",
    "print(f\"\\nChi2 Stat: {chi2_stat}\")\n",
    "print(f\"P-Value: {p_val}\")\n",
    "print(f\"Degrees of Freedom: {dof}\")\n",
    "print(f\"Expected Frequency Table:\\n{expected}\")\n",
    "\n",
    "if p_val < 0.05:\n",
    "    print(\"\\nThere is a significant relationship between genre and rating category (high/low).\")\n",
    "else:\n",
    "    print(\"\\nThere is no significant relationship between genre and rating category.\")"
   ]
  },
  {
   "cell_type": "code",
   "execution_count": null,
   "id": "a556c041-7b0d-49cb-af33-9d5a21cbbe88",
   "metadata": {},
   "outputs": [],
   "source": []
  }
 ],
 "metadata": {
  "kernelspec": {
   "display_name": "Python 3 (ipykernel)",
   "language": "python",
   "name": "python3"
  },
  "language_info": {
   "codemirror_mode": {
    "name": "ipython",
    "version": 3
   },
   "file_extension": ".py",
   "mimetype": "text/x-python",
   "name": "python",
   "nbconvert_exporter": "python",
   "pygments_lexer": "ipython3",
   "version": "3.12.7"
  }
 },
 "nbformat": 4,
 "nbformat_minor": 5
}
