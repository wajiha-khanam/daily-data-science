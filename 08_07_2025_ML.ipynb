{
 "cells": [
  {
   "cell_type": "markdown",
   "id": "b74d50d0-bd73-45aa-b40f-bc07243d30d9",
   "metadata": {},
   "source": [
    "##### Dataset: \"https://www.kaggle.com/competitions/house-prices-advanced-regression-techniques/data?select=train.csv\""
   ]
  },
  {
   "cell_type": "markdown",
   "id": "c7946caa-f0f2-46e6-8825-16183ba72c86",
   "metadata": {},
   "source": [
    "## Q1: Load the dataset and perform basic preprocessing.\n",
    "\n",
    "* Handle missing values\n",
    "\n",
    "* Encode categorical features\n",
    "\n",
    "* Split the data into training and testing sets"
   ]
  },
  {
   "cell_type": "code",
   "execution_count": 276,
   "id": "075bd517-73da-4ea9-9c97-f3398587587d",
   "metadata": {},
   "outputs": [],
   "source": [
    "import pandas as pd\n",
    "import matplotlib.pyplot as plt\n",
    "import seaborn as sns"
   ]
  },
  {
   "cell_type": "code",
   "execution_count": 277,
   "id": "29f99a09-c409-41fa-bde8-4dbcd5d747ec",
   "metadata": {},
   "outputs": [
    {
     "data": {
      "text/html": [
       "<div>\n",
       "<style scoped>\n",
       "    .dataframe tbody tr th:only-of-type {\n",
       "        vertical-align: middle;\n",
       "    }\n",
       "\n",
       "    .dataframe tbody tr th {\n",
       "        vertical-align: top;\n",
       "    }\n",
       "\n",
       "    .dataframe thead th {\n",
       "        text-align: right;\n",
       "    }\n",
       "</style>\n",
       "<table border=\"1\" class=\"dataframe\">\n",
       "  <thead>\n",
       "    <tr style=\"text-align: right;\">\n",
       "      <th></th>\n",
       "      <th>Id</th>\n",
       "      <th>MSSubClass</th>\n",
       "      <th>MSZoning</th>\n",
       "      <th>LotFrontage</th>\n",
       "      <th>LotArea</th>\n",
       "      <th>Street</th>\n",
       "      <th>Alley</th>\n",
       "      <th>LotShape</th>\n",
       "      <th>LandContour</th>\n",
       "      <th>Utilities</th>\n",
       "      <th>...</th>\n",
       "      <th>PoolArea</th>\n",
       "      <th>PoolQC</th>\n",
       "      <th>Fence</th>\n",
       "      <th>MiscFeature</th>\n",
       "      <th>MiscVal</th>\n",
       "      <th>MoSold</th>\n",
       "      <th>YrSold</th>\n",
       "      <th>SaleType</th>\n",
       "      <th>SaleCondition</th>\n",
       "      <th>SalePrice</th>\n",
       "    </tr>\n",
       "  </thead>\n",
       "  <tbody>\n",
       "    <tr>\n",
       "      <th>0</th>\n",
       "      <td>1</td>\n",
       "      <td>60</td>\n",
       "      <td>RL</td>\n",
       "      <td>65.0</td>\n",
       "      <td>8450</td>\n",
       "      <td>Pave</td>\n",
       "      <td>NaN</td>\n",
       "      <td>Reg</td>\n",
       "      <td>Lvl</td>\n",
       "      <td>AllPub</td>\n",
       "      <td>...</td>\n",
       "      <td>0</td>\n",
       "      <td>NaN</td>\n",
       "      <td>NaN</td>\n",
       "      <td>NaN</td>\n",
       "      <td>0</td>\n",
       "      <td>2</td>\n",
       "      <td>2008</td>\n",
       "      <td>WD</td>\n",
       "      <td>Normal</td>\n",
       "      <td>208500</td>\n",
       "    </tr>\n",
       "    <tr>\n",
       "      <th>1</th>\n",
       "      <td>2</td>\n",
       "      <td>20</td>\n",
       "      <td>RL</td>\n",
       "      <td>80.0</td>\n",
       "      <td>9600</td>\n",
       "      <td>Pave</td>\n",
       "      <td>NaN</td>\n",
       "      <td>Reg</td>\n",
       "      <td>Lvl</td>\n",
       "      <td>AllPub</td>\n",
       "      <td>...</td>\n",
       "      <td>0</td>\n",
       "      <td>NaN</td>\n",
       "      <td>NaN</td>\n",
       "      <td>NaN</td>\n",
       "      <td>0</td>\n",
       "      <td>5</td>\n",
       "      <td>2007</td>\n",
       "      <td>WD</td>\n",
       "      <td>Normal</td>\n",
       "      <td>181500</td>\n",
       "    </tr>\n",
       "    <tr>\n",
       "      <th>2</th>\n",
       "      <td>3</td>\n",
       "      <td>60</td>\n",
       "      <td>RL</td>\n",
       "      <td>68.0</td>\n",
       "      <td>11250</td>\n",
       "      <td>Pave</td>\n",
       "      <td>NaN</td>\n",
       "      <td>IR1</td>\n",
       "      <td>Lvl</td>\n",
       "      <td>AllPub</td>\n",
       "      <td>...</td>\n",
       "      <td>0</td>\n",
       "      <td>NaN</td>\n",
       "      <td>NaN</td>\n",
       "      <td>NaN</td>\n",
       "      <td>0</td>\n",
       "      <td>9</td>\n",
       "      <td>2008</td>\n",
       "      <td>WD</td>\n",
       "      <td>Normal</td>\n",
       "      <td>223500</td>\n",
       "    </tr>\n",
       "    <tr>\n",
       "      <th>3</th>\n",
       "      <td>4</td>\n",
       "      <td>70</td>\n",
       "      <td>RL</td>\n",
       "      <td>60.0</td>\n",
       "      <td>9550</td>\n",
       "      <td>Pave</td>\n",
       "      <td>NaN</td>\n",
       "      <td>IR1</td>\n",
       "      <td>Lvl</td>\n",
       "      <td>AllPub</td>\n",
       "      <td>...</td>\n",
       "      <td>0</td>\n",
       "      <td>NaN</td>\n",
       "      <td>NaN</td>\n",
       "      <td>NaN</td>\n",
       "      <td>0</td>\n",
       "      <td>2</td>\n",
       "      <td>2006</td>\n",
       "      <td>WD</td>\n",
       "      <td>Abnorml</td>\n",
       "      <td>140000</td>\n",
       "    </tr>\n",
       "    <tr>\n",
       "      <th>4</th>\n",
       "      <td>5</td>\n",
       "      <td>60</td>\n",
       "      <td>RL</td>\n",
       "      <td>84.0</td>\n",
       "      <td>14260</td>\n",
       "      <td>Pave</td>\n",
       "      <td>NaN</td>\n",
       "      <td>IR1</td>\n",
       "      <td>Lvl</td>\n",
       "      <td>AllPub</td>\n",
       "      <td>...</td>\n",
       "      <td>0</td>\n",
       "      <td>NaN</td>\n",
       "      <td>NaN</td>\n",
       "      <td>NaN</td>\n",
       "      <td>0</td>\n",
       "      <td>12</td>\n",
       "      <td>2008</td>\n",
       "      <td>WD</td>\n",
       "      <td>Normal</td>\n",
       "      <td>250000</td>\n",
       "    </tr>\n",
       "  </tbody>\n",
       "</table>\n",
       "<p>5 rows × 81 columns</p>\n",
       "</div>"
      ],
      "text/plain": [
       "   Id  MSSubClass MSZoning  LotFrontage  LotArea Street Alley LotShape  \\\n",
       "0   1          60       RL         65.0     8450   Pave   NaN      Reg   \n",
       "1   2          20       RL         80.0     9600   Pave   NaN      Reg   \n",
       "2   3          60       RL         68.0    11250   Pave   NaN      IR1   \n",
       "3   4          70       RL         60.0     9550   Pave   NaN      IR1   \n",
       "4   5          60       RL         84.0    14260   Pave   NaN      IR1   \n",
       "\n",
       "  LandContour Utilities  ... PoolArea PoolQC Fence MiscFeature MiscVal MoSold  \\\n",
       "0         Lvl    AllPub  ...        0    NaN   NaN         NaN       0      2   \n",
       "1         Lvl    AllPub  ...        0    NaN   NaN         NaN       0      5   \n",
       "2         Lvl    AllPub  ...        0    NaN   NaN         NaN       0      9   \n",
       "3         Lvl    AllPub  ...        0    NaN   NaN         NaN       0      2   \n",
       "4         Lvl    AllPub  ...        0    NaN   NaN         NaN       0     12   \n",
       "\n",
       "  YrSold  SaleType  SaleCondition  SalePrice  \n",
       "0   2008        WD         Normal     208500  \n",
       "1   2007        WD         Normal     181500  \n",
       "2   2008        WD         Normal     223500  \n",
       "3   2006        WD        Abnorml     140000  \n",
       "4   2008        WD         Normal     250000  \n",
       "\n",
       "[5 rows x 81 columns]"
      ]
     },
     "execution_count": 277,
     "metadata": {},
     "output_type": "execute_result"
    }
   ],
   "source": [
    "df = pd.read_csv(\"train.csv\")\n",
    "df.head()"
   ]
  },
  {
   "cell_type": "code",
   "execution_count": 278,
   "id": "c64dfd13-ca69-401b-9d8e-c2664a73c94a",
   "metadata": {},
   "outputs": [
    {
     "data": {
      "text/plain": [
       "PoolQC          1453\n",
       "MiscFeature     1406\n",
       "Alley           1369\n",
       "Fence           1179\n",
       "MasVnrType       872\n",
       "FireplaceQu      690\n",
       "LotFrontage      259\n",
       "GarageType        81\n",
       "GarageYrBlt       81\n",
       "GarageFinish      81\n",
       "GarageQual        81\n",
       "GarageCond        81\n",
       "BsmtFinType2      38\n",
       "BsmtExposure      38\n",
       "BsmtFinType1      37\n",
       "BsmtCond          37\n",
       "BsmtQual          37\n",
       "MasVnrArea         8\n",
       "Electrical         1\n",
       "dtype: int64"
      ]
     },
     "execution_count": 278,
     "metadata": {},
     "output_type": "execute_result"
    }
   ],
   "source": [
    "df.isnull().sum()[df.isnull().sum() > 0].sort_values(ascending = False)"
   ]
  },
  {
   "cell_type": "code",
   "execution_count": 279,
   "id": "df454c39-8b4d-426e-aa2e-ee286435f0ae",
   "metadata": {},
   "outputs": [
    {
     "name": "stdout",
     "output_type": "stream",
     "text": [
      "<class 'pandas.core.frame.DataFrame'>\n",
      "RangeIndex: 1460 entries, 0 to 1459\n",
      "Data columns (total 81 columns):\n",
      " #   Column         Non-Null Count  Dtype  \n",
      "---  ------         --------------  -----  \n",
      " 0   Id             1460 non-null   int64  \n",
      " 1   MSSubClass     1460 non-null   int64  \n",
      " 2   MSZoning       1460 non-null   object \n",
      " 3   LotFrontage    1201 non-null   float64\n",
      " 4   LotArea        1460 non-null   int64  \n",
      " 5   Street         1460 non-null   object \n",
      " 6   Alley          91 non-null     object \n",
      " 7   LotShape       1460 non-null   object \n",
      " 8   LandContour    1460 non-null   object \n",
      " 9   Utilities      1460 non-null   object \n",
      " 10  LotConfig      1460 non-null   object \n",
      " 11  LandSlope      1460 non-null   object \n",
      " 12  Neighborhood   1460 non-null   object \n",
      " 13  Condition1     1460 non-null   object \n",
      " 14  Condition2     1460 non-null   object \n",
      " 15  BldgType       1460 non-null   object \n",
      " 16  HouseStyle     1460 non-null   object \n",
      " 17  OverallQual    1460 non-null   int64  \n",
      " 18  OverallCond    1460 non-null   int64  \n",
      " 19  YearBuilt      1460 non-null   int64  \n",
      " 20  YearRemodAdd   1460 non-null   int64  \n",
      " 21  RoofStyle      1460 non-null   object \n",
      " 22  RoofMatl       1460 non-null   object \n",
      " 23  Exterior1st    1460 non-null   object \n",
      " 24  Exterior2nd    1460 non-null   object \n",
      " 25  MasVnrType     588 non-null    object \n",
      " 26  MasVnrArea     1452 non-null   float64\n",
      " 27  ExterQual      1460 non-null   object \n",
      " 28  ExterCond      1460 non-null   object \n",
      " 29  Foundation     1460 non-null   object \n",
      " 30  BsmtQual       1423 non-null   object \n",
      " 31  BsmtCond       1423 non-null   object \n",
      " 32  BsmtExposure   1422 non-null   object \n",
      " 33  BsmtFinType1   1423 non-null   object \n",
      " 34  BsmtFinSF1     1460 non-null   int64  \n",
      " 35  BsmtFinType2   1422 non-null   object \n",
      " 36  BsmtFinSF2     1460 non-null   int64  \n",
      " 37  BsmtUnfSF      1460 non-null   int64  \n",
      " 38  TotalBsmtSF    1460 non-null   int64  \n",
      " 39  Heating        1460 non-null   object \n",
      " 40  HeatingQC      1460 non-null   object \n",
      " 41  CentralAir     1460 non-null   object \n",
      " 42  Electrical     1459 non-null   object \n",
      " 43  1stFlrSF       1460 non-null   int64  \n",
      " 44  2ndFlrSF       1460 non-null   int64  \n",
      " 45  LowQualFinSF   1460 non-null   int64  \n",
      " 46  GrLivArea      1460 non-null   int64  \n",
      " 47  BsmtFullBath   1460 non-null   int64  \n",
      " 48  BsmtHalfBath   1460 non-null   int64  \n",
      " 49  FullBath       1460 non-null   int64  \n",
      " 50  HalfBath       1460 non-null   int64  \n",
      " 51  BedroomAbvGr   1460 non-null   int64  \n",
      " 52  KitchenAbvGr   1460 non-null   int64  \n",
      " 53  KitchenQual    1460 non-null   object \n",
      " 54  TotRmsAbvGrd   1460 non-null   int64  \n",
      " 55  Functional     1460 non-null   object \n",
      " 56  Fireplaces     1460 non-null   int64  \n",
      " 57  FireplaceQu    770 non-null    object \n",
      " 58  GarageType     1379 non-null   object \n",
      " 59  GarageYrBlt    1379 non-null   float64\n",
      " 60  GarageFinish   1379 non-null   object \n",
      " 61  GarageCars     1460 non-null   int64  \n",
      " 62  GarageArea     1460 non-null   int64  \n",
      " 63  GarageQual     1379 non-null   object \n",
      " 64  GarageCond     1379 non-null   object \n",
      " 65  PavedDrive     1460 non-null   object \n",
      " 66  WoodDeckSF     1460 non-null   int64  \n",
      " 67  OpenPorchSF    1460 non-null   int64  \n",
      " 68  EnclosedPorch  1460 non-null   int64  \n",
      " 69  3SsnPorch      1460 non-null   int64  \n",
      " 70  ScreenPorch    1460 non-null   int64  \n",
      " 71  PoolArea       1460 non-null   int64  \n",
      " 72  PoolQC         7 non-null      object \n",
      " 73  Fence          281 non-null    object \n",
      " 74  MiscFeature    54 non-null     object \n",
      " 75  MiscVal        1460 non-null   int64  \n",
      " 76  MoSold         1460 non-null   int64  \n",
      " 77  YrSold         1460 non-null   int64  \n",
      " 78  SaleType       1460 non-null   object \n",
      " 79  SaleCondition  1460 non-null   object \n",
      " 80  SalePrice      1460 non-null   int64  \n",
      "dtypes: float64(3), int64(35), object(43)\n",
      "memory usage: 924.0+ KB\n"
     ]
    }
   ],
   "source": [
    "df.info()"
   ]
  },
  {
   "cell_type": "code",
   "execution_count": 280,
   "id": "f2848544-17b7-4634-9145-0bd4f3f18379",
   "metadata": {},
   "outputs": [],
   "source": [
    "# Dropping columns with too many null values\n",
    "\n",
    "df = df.drop(['PoolQC', 'MiscFeature', 'Alley', 'Fence'], axis = 1)"
   ]
  },
  {
   "cell_type": "code",
   "execution_count": 281,
   "id": "af349f90-a965-42ed-b38b-51bedd6378bd",
   "metadata": {},
   "outputs": [],
   "source": [
    "# Fill with 'None' in Categorical columns"
   ]
  },
  {
   "cell_type": "code",
   "execution_count": 282,
   "id": "0bfc2590-0801-47bc-b644-0f0700dfbf09",
   "metadata": {},
   "outputs": [],
   "source": [
    "cat_cols = ['FireplaceQu', 'GarageType', 'GarageFinish', 'GarageQual', 'GarageCond',\n",
    "    'BsmtFinType2', 'BsmtExposure', 'BsmtFinType1', 'BsmtCond', 'BsmtQual',\n",
    "    'MasVnrType']\n",
    "\n",
    "df[cat_cols] = df[cat_cols].fillna('None')"
   ]
  },
  {
   "cell_type": "code",
   "execution_count": 283,
   "id": "0ed40d11-f920-47ba-bee3-23fd0cdeea75",
   "metadata": {},
   "outputs": [],
   "source": [
    "# Numerical columns: Fill with 0"
   ]
  },
  {
   "cell_type": "code",
   "execution_count": 284,
   "id": "cfa68983-8a8f-4c94-b7a0-4b1111cfff37",
   "metadata": {},
   "outputs": [],
   "source": [
    "df['GarageYrBlt'] = df['GarageYrBlt'].fillna(0)\n",
    "df['MasVnrArea'] = df['MasVnrArea'].fillna(0)\n"
   ]
  },
  {
   "cell_type": "code",
   "execution_count": 285,
   "id": "d0f44dad-da4c-4bbb-b01f-e79b9fbcdeb9",
   "metadata": {},
   "outputs": [],
   "source": [
    "# LotFrontage: Fill using median per neighborhood"
   ]
  },
  {
   "cell_type": "code",
   "execution_count": 286,
   "id": "6548f374-5095-45be-a0f7-8283ffe3640c",
   "metadata": {},
   "outputs": [],
   "source": [
    "df['LotFrontage'] = df.groupby('Neighborhood')['LotFrontage'].transform(lambda x: x.fillna(x.median()))"
   ]
  },
  {
   "cell_type": "code",
   "execution_count": 287,
   "id": "485a7669-71a1-427e-9a29-8535823fa115",
   "metadata": {},
   "outputs": [],
   "source": [
    "# Only 1 Missing Value — Fill with Mode"
   ]
  },
  {
   "cell_type": "code",
   "execution_count": 288,
   "id": "c9ac53e7-8dc2-4ff6-855a-6ec01dd63b30",
   "metadata": {},
   "outputs": [],
   "source": [
    "df['Electrical'] = df['Electrical'].fillna(df['Electrical'].mode()[0])"
   ]
  },
  {
   "cell_type": "code",
   "execution_count": 289,
   "id": "f2857577-9f47-47e8-a36d-90a9750b4f55",
   "metadata": {},
   "outputs": [],
   "source": [
    "# Identifying categorical columns"
   ]
  },
  {
   "cell_type": "code",
   "execution_count": 290,
   "id": "000a9e90-96fd-4f47-8795-1c670450aff1",
   "metadata": {},
   "outputs": [
    {
     "data": {
      "text/plain": [
       "Index(['MSZoning', 'Street', 'LotShape', 'LandContour', 'Utilities',\n",
       "       'LotConfig', 'LandSlope', 'Neighborhood', 'Condition1', 'Condition2',\n",
       "       'BldgType', 'HouseStyle', 'RoofStyle', 'RoofMatl', 'Exterior1st',\n",
       "       'Exterior2nd', 'MasVnrType', 'ExterQual', 'ExterCond', 'Foundation',\n",
       "       'BsmtQual', 'BsmtCond', 'BsmtExposure', 'BsmtFinType1', 'BsmtFinType2',\n",
       "       'Heating', 'HeatingQC', 'CentralAir', 'Electrical', 'KitchenQual',\n",
       "       'Functional', 'FireplaceQu', 'GarageType', 'GarageFinish', 'GarageQual',\n",
       "       'GarageCond', 'PavedDrive', 'SaleType', 'SaleCondition'],\n",
       "      dtype='object')"
      ]
     },
     "execution_count": 290,
     "metadata": {},
     "output_type": "execute_result"
    }
   ],
   "source": [
    "categorical_cols = df.select_dtypes(include = 'object').columns\n",
    "categorical_cols"
   ]
  },
  {
   "cell_type": "code",
   "execution_count": 291,
   "id": "cbeef241-aa3c-403a-833f-b22512fa7999",
   "metadata": {},
   "outputs": [],
   "source": [
    "# One hot encoding"
   ]
  },
  {
   "cell_type": "code",
   "execution_count": 292,
   "id": "46a91d81-9b8c-4b3b-8bce-cc0979c688f2",
   "metadata": {},
   "outputs": [],
   "source": [
    "df = pd.get_dummies(df, columns = categorical_cols)"
   ]
  },
  {
   "cell_type": "code",
   "execution_count": 293,
   "id": "a26988cf-e78b-44c1-a577-00c7ccea47b2",
   "metadata": {},
   "outputs": [],
   "source": [
    "# train-test split"
   ]
  },
  {
   "cell_type": "code",
   "execution_count": 294,
   "id": "81ec1bd7-e0d7-4ec2-9fcb-c0606b85566d",
   "metadata": {},
   "outputs": [],
   "source": [
    "from sklearn.model_selection import train_test_split"
   ]
  },
  {
   "cell_type": "code",
   "execution_count": 295,
   "id": "1cb2f522-14de-44c1-a2cd-5be388abc820",
   "metadata": {},
   "outputs": [],
   "source": [
    "X = df.drop('SalePrice', axis = 1)\n",
    "y = df['SalePrice']"
   ]
  },
  {
   "cell_type": "code",
   "execution_count": 296,
   "id": "ca1dc31f-d506-438b-895c-5a6dedcb1381",
   "metadata": {},
   "outputs": [],
   "source": [
    "X_train, X_test, y_train, y_test = train_test_split(X, y, test_size = 0.2, random_state = 42)"
   ]
  },
  {
   "cell_type": "markdown",
   "id": "d96e51a2-e97c-4244-98b3-17c9b910ad29",
   "metadata": {},
   "source": [
    "## Q2: Train a Linear Regression model using scikit-learn. Report:\n",
    "\n",
    "* Coefficients\n",
    "\n",
    "* Intercept\n",
    "\n",
    "* R² on test set"
   ]
  },
  {
   "cell_type": "code",
   "execution_count": 298,
   "id": "ff68a5ca-4dee-42b8-9543-f4a8ceaf1bc1",
   "metadata": {},
   "outputs": [],
   "source": [
    "from sklearn.linear_model import LinearRegression"
   ]
  },
  {
   "cell_type": "code",
   "execution_count": 299,
   "id": "24e3955d-c421-4a0d-8270-91ec30db40e6",
   "metadata": {},
   "outputs": [],
   "source": [
    "lr = LinearRegression()"
   ]
  },
  {
   "cell_type": "code",
   "execution_count": 300,
   "id": "a49a9514-936f-426a-aa51-13fd837dc01e",
   "metadata": {},
   "outputs": [
    {
     "data": {
      "text/html": [
       "<style>#sk-container-id-3 {\n",
       "  /* Definition of color scheme common for light and dark mode */\n",
       "  --sklearn-color-text: black;\n",
       "  --sklearn-color-line: gray;\n",
       "  /* Definition of color scheme for unfitted estimators */\n",
       "  --sklearn-color-unfitted-level-0: #fff5e6;\n",
       "  --sklearn-color-unfitted-level-1: #f6e4d2;\n",
       "  --sklearn-color-unfitted-level-2: #ffe0b3;\n",
       "  --sklearn-color-unfitted-level-3: chocolate;\n",
       "  /* Definition of color scheme for fitted estimators */\n",
       "  --sklearn-color-fitted-level-0: #f0f8ff;\n",
       "  --sklearn-color-fitted-level-1: #d4ebff;\n",
       "  --sklearn-color-fitted-level-2: #b3dbfd;\n",
       "  --sklearn-color-fitted-level-3: cornflowerblue;\n",
       "\n",
       "  /* Specific color for light theme */\n",
       "  --sklearn-color-text-on-default-background: var(--sg-text-color, var(--theme-code-foreground, var(--jp-content-font-color1, black)));\n",
       "  --sklearn-color-background: var(--sg-background-color, var(--theme-background, var(--jp-layout-color0, white)));\n",
       "  --sklearn-color-border-box: var(--sg-text-color, var(--theme-code-foreground, var(--jp-content-font-color1, black)));\n",
       "  --sklearn-color-icon: #696969;\n",
       "\n",
       "  @media (prefers-color-scheme: dark) {\n",
       "    /* Redefinition of color scheme for dark theme */\n",
       "    --sklearn-color-text-on-default-background: var(--sg-text-color, var(--theme-code-foreground, var(--jp-content-font-color1, white)));\n",
       "    --sklearn-color-background: var(--sg-background-color, var(--theme-background, var(--jp-layout-color0, #111)));\n",
       "    --sklearn-color-border-box: var(--sg-text-color, var(--theme-code-foreground, var(--jp-content-font-color1, white)));\n",
       "    --sklearn-color-icon: #878787;\n",
       "  }\n",
       "}\n",
       "\n",
       "#sk-container-id-3 {\n",
       "  color: var(--sklearn-color-text);\n",
       "}\n",
       "\n",
       "#sk-container-id-3 pre {\n",
       "  padding: 0;\n",
       "}\n",
       "\n",
       "#sk-container-id-3 input.sk-hidden--visually {\n",
       "  border: 0;\n",
       "  clip: rect(1px 1px 1px 1px);\n",
       "  clip: rect(1px, 1px, 1px, 1px);\n",
       "  height: 1px;\n",
       "  margin: -1px;\n",
       "  overflow: hidden;\n",
       "  padding: 0;\n",
       "  position: absolute;\n",
       "  width: 1px;\n",
       "}\n",
       "\n",
       "#sk-container-id-3 div.sk-dashed-wrapped {\n",
       "  border: 1px dashed var(--sklearn-color-line);\n",
       "  margin: 0 0.4em 0.5em 0.4em;\n",
       "  box-sizing: border-box;\n",
       "  padding-bottom: 0.4em;\n",
       "  background-color: var(--sklearn-color-background);\n",
       "}\n",
       "\n",
       "#sk-container-id-3 div.sk-container {\n",
       "  /* jupyter's `normalize.less` sets `[hidden] { display: none; }`\n",
       "     but bootstrap.min.css set `[hidden] { display: none !important; }`\n",
       "     so we also need the `!important` here to be able to override the\n",
       "     default hidden behavior on the sphinx rendered scikit-learn.org.\n",
       "     See: https://github.com/scikit-learn/scikit-learn/issues/21755 */\n",
       "  display: inline-block !important;\n",
       "  position: relative;\n",
       "}\n",
       "\n",
       "#sk-container-id-3 div.sk-text-repr-fallback {\n",
       "  display: none;\n",
       "}\n",
       "\n",
       "div.sk-parallel-item,\n",
       "div.sk-serial,\n",
       "div.sk-item {\n",
       "  /* draw centered vertical line to link estimators */\n",
       "  background-image: linear-gradient(var(--sklearn-color-text-on-default-background), var(--sklearn-color-text-on-default-background));\n",
       "  background-size: 2px 100%;\n",
       "  background-repeat: no-repeat;\n",
       "  background-position: center center;\n",
       "}\n",
       "\n",
       "/* Parallel-specific style estimator block */\n",
       "\n",
       "#sk-container-id-3 div.sk-parallel-item::after {\n",
       "  content: \"\";\n",
       "  width: 100%;\n",
       "  border-bottom: 2px solid var(--sklearn-color-text-on-default-background);\n",
       "  flex-grow: 1;\n",
       "}\n",
       "\n",
       "#sk-container-id-3 div.sk-parallel {\n",
       "  display: flex;\n",
       "  align-items: stretch;\n",
       "  justify-content: center;\n",
       "  background-color: var(--sklearn-color-background);\n",
       "  position: relative;\n",
       "}\n",
       "\n",
       "#sk-container-id-3 div.sk-parallel-item {\n",
       "  display: flex;\n",
       "  flex-direction: column;\n",
       "}\n",
       "\n",
       "#sk-container-id-3 div.sk-parallel-item:first-child::after {\n",
       "  align-self: flex-end;\n",
       "  width: 50%;\n",
       "}\n",
       "\n",
       "#sk-container-id-3 div.sk-parallel-item:last-child::after {\n",
       "  align-self: flex-start;\n",
       "  width: 50%;\n",
       "}\n",
       "\n",
       "#sk-container-id-3 div.sk-parallel-item:only-child::after {\n",
       "  width: 0;\n",
       "}\n",
       "\n",
       "/* Serial-specific style estimator block */\n",
       "\n",
       "#sk-container-id-3 div.sk-serial {\n",
       "  display: flex;\n",
       "  flex-direction: column;\n",
       "  align-items: center;\n",
       "  background-color: var(--sklearn-color-background);\n",
       "  padding-right: 1em;\n",
       "  padding-left: 1em;\n",
       "}\n",
       "\n",
       "\n",
       "/* Toggleable style: style used for estimator/Pipeline/ColumnTransformer box that is\n",
       "clickable and can be expanded/collapsed.\n",
       "- Pipeline and ColumnTransformer use this feature and define the default style\n",
       "- Estimators will overwrite some part of the style using the `sk-estimator` class\n",
       "*/\n",
       "\n",
       "/* Pipeline and ColumnTransformer style (default) */\n",
       "\n",
       "#sk-container-id-3 div.sk-toggleable {\n",
       "  /* Default theme specific background. It is overwritten whether we have a\n",
       "  specific estimator or a Pipeline/ColumnTransformer */\n",
       "  background-color: var(--sklearn-color-background);\n",
       "}\n",
       "\n",
       "/* Toggleable label */\n",
       "#sk-container-id-3 label.sk-toggleable__label {\n",
       "  cursor: pointer;\n",
       "  display: block;\n",
       "  width: 100%;\n",
       "  margin-bottom: 0;\n",
       "  padding: 0.5em;\n",
       "  box-sizing: border-box;\n",
       "  text-align: center;\n",
       "}\n",
       "\n",
       "#sk-container-id-3 label.sk-toggleable__label-arrow:before {\n",
       "  /* Arrow on the left of the label */\n",
       "  content: \"▸\";\n",
       "  float: left;\n",
       "  margin-right: 0.25em;\n",
       "  color: var(--sklearn-color-icon);\n",
       "}\n",
       "\n",
       "#sk-container-id-3 label.sk-toggleable__label-arrow:hover:before {\n",
       "  color: var(--sklearn-color-text);\n",
       "}\n",
       "\n",
       "/* Toggleable content - dropdown */\n",
       "\n",
       "#sk-container-id-3 div.sk-toggleable__content {\n",
       "  max-height: 0;\n",
       "  max-width: 0;\n",
       "  overflow: hidden;\n",
       "  text-align: left;\n",
       "  /* unfitted */\n",
       "  background-color: var(--sklearn-color-unfitted-level-0);\n",
       "}\n",
       "\n",
       "#sk-container-id-3 div.sk-toggleable__content.fitted {\n",
       "  /* fitted */\n",
       "  background-color: var(--sklearn-color-fitted-level-0);\n",
       "}\n",
       "\n",
       "#sk-container-id-3 div.sk-toggleable__content pre {\n",
       "  margin: 0.2em;\n",
       "  border-radius: 0.25em;\n",
       "  color: var(--sklearn-color-text);\n",
       "  /* unfitted */\n",
       "  background-color: var(--sklearn-color-unfitted-level-0);\n",
       "}\n",
       "\n",
       "#sk-container-id-3 div.sk-toggleable__content.fitted pre {\n",
       "  /* unfitted */\n",
       "  background-color: var(--sklearn-color-fitted-level-0);\n",
       "}\n",
       "\n",
       "#sk-container-id-3 input.sk-toggleable__control:checked~div.sk-toggleable__content {\n",
       "  /* Expand drop-down */\n",
       "  max-height: 200px;\n",
       "  max-width: 100%;\n",
       "  overflow: auto;\n",
       "}\n",
       "\n",
       "#sk-container-id-3 input.sk-toggleable__control:checked~label.sk-toggleable__label-arrow:before {\n",
       "  content: \"▾\";\n",
       "}\n",
       "\n",
       "/* Pipeline/ColumnTransformer-specific style */\n",
       "\n",
       "#sk-container-id-3 div.sk-label input.sk-toggleable__control:checked~label.sk-toggleable__label {\n",
       "  color: var(--sklearn-color-text);\n",
       "  background-color: var(--sklearn-color-unfitted-level-2);\n",
       "}\n",
       "\n",
       "#sk-container-id-3 div.sk-label.fitted input.sk-toggleable__control:checked~label.sk-toggleable__label {\n",
       "  background-color: var(--sklearn-color-fitted-level-2);\n",
       "}\n",
       "\n",
       "/* Estimator-specific style */\n",
       "\n",
       "/* Colorize estimator box */\n",
       "#sk-container-id-3 div.sk-estimator input.sk-toggleable__control:checked~label.sk-toggleable__label {\n",
       "  /* unfitted */\n",
       "  background-color: var(--sklearn-color-unfitted-level-2);\n",
       "}\n",
       "\n",
       "#sk-container-id-3 div.sk-estimator.fitted input.sk-toggleable__control:checked~label.sk-toggleable__label {\n",
       "  /* fitted */\n",
       "  background-color: var(--sklearn-color-fitted-level-2);\n",
       "}\n",
       "\n",
       "#sk-container-id-3 div.sk-label label.sk-toggleable__label,\n",
       "#sk-container-id-3 div.sk-label label {\n",
       "  /* The background is the default theme color */\n",
       "  color: var(--sklearn-color-text-on-default-background);\n",
       "}\n",
       "\n",
       "/* On hover, darken the color of the background */\n",
       "#sk-container-id-3 div.sk-label:hover label.sk-toggleable__label {\n",
       "  color: var(--sklearn-color-text);\n",
       "  background-color: var(--sklearn-color-unfitted-level-2);\n",
       "}\n",
       "\n",
       "/* Label box, darken color on hover, fitted */\n",
       "#sk-container-id-3 div.sk-label.fitted:hover label.sk-toggleable__label.fitted {\n",
       "  color: var(--sklearn-color-text);\n",
       "  background-color: var(--sklearn-color-fitted-level-2);\n",
       "}\n",
       "\n",
       "/* Estimator label */\n",
       "\n",
       "#sk-container-id-3 div.sk-label label {\n",
       "  font-family: monospace;\n",
       "  font-weight: bold;\n",
       "  display: inline-block;\n",
       "  line-height: 1.2em;\n",
       "}\n",
       "\n",
       "#sk-container-id-3 div.sk-label-container {\n",
       "  text-align: center;\n",
       "}\n",
       "\n",
       "/* Estimator-specific */\n",
       "#sk-container-id-3 div.sk-estimator {\n",
       "  font-family: monospace;\n",
       "  border: 1px dotted var(--sklearn-color-border-box);\n",
       "  border-radius: 0.25em;\n",
       "  box-sizing: border-box;\n",
       "  margin-bottom: 0.5em;\n",
       "  /* unfitted */\n",
       "  background-color: var(--sklearn-color-unfitted-level-0);\n",
       "}\n",
       "\n",
       "#sk-container-id-3 div.sk-estimator.fitted {\n",
       "  /* fitted */\n",
       "  background-color: var(--sklearn-color-fitted-level-0);\n",
       "}\n",
       "\n",
       "/* on hover */\n",
       "#sk-container-id-3 div.sk-estimator:hover {\n",
       "  /* unfitted */\n",
       "  background-color: var(--sklearn-color-unfitted-level-2);\n",
       "}\n",
       "\n",
       "#sk-container-id-3 div.sk-estimator.fitted:hover {\n",
       "  /* fitted */\n",
       "  background-color: var(--sklearn-color-fitted-level-2);\n",
       "}\n",
       "\n",
       "/* Specification for estimator info (e.g. \"i\" and \"?\") */\n",
       "\n",
       "/* Common style for \"i\" and \"?\" */\n",
       "\n",
       ".sk-estimator-doc-link,\n",
       "a:link.sk-estimator-doc-link,\n",
       "a:visited.sk-estimator-doc-link {\n",
       "  float: right;\n",
       "  font-size: smaller;\n",
       "  line-height: 1em;\n",
       "  font-family: monospace;\n",
       "  background-color: var(--sklearn-color-background);\n",
       "  border-radius: 1em;\n",
       "  height: 1em;\n",
       "  width: 1em;\n",
       "  text-decoration: none !important;\n",
       "  margin-left: 1ex;\n",
       "  /* unfitted */\n",
       "  border: var(--sklearn-color-unfitted-level-1) 1pt solid;\n",
       "  color: var(--sklearn-color-unfitted-level-1);\n",
       "}\n",
       "\n",
       ".sk-estimator-doc-link.fitted,\n",
       "a:link.sk-estimator-doc-link.fitted,\n",
       "a:visited.sk-estimator-doc-link.fitted {\n",
       "  /* fitted */\n",
       "  border: var(--sklearn-color-fitted-level-1) 1pt solid;\n",
       "  color: var(--sklearn-color-fitted-level-1);\n",
       "}\n",
       "\n",
       "/* On hover */\n",
       "div.sk-estimator:hover .sk-estimator-doc-link:hover,\n",
       ".sk-estimator-doc-link:hover,\n",
       "div.sk-label-container:hover .sk-estimator-doc-link:hover,\n",
       ".sk-estimator-doc-link:hover {\n",
       "  /* unfitted */\n",
       "  background-color: var(--sklearn-color-unfitted-level-3);\n",
       "  color: var(--sklearn-color-background);\n",
       "  text-decoration: none;\n",
       "}\n",
       "\n",
       "div.sk-estimator.fitted:hover .sk-estimator-doc-link.fitted:hover,\n",
       ".sk-estimator-doc-link.fitted:hover,\n",
       "div.sk-label-container:hover .sk-estimator-doc-link.fitted:hover,\n",
       ".sk-estimator-doc-link.fitted:hover {\n",
       "  /* fitted */\n",
       "  background-color: var(--sklearn-color-fitted-level-3);\n",
       "  color: var(--sklearn-color-background);\n",
       "  text-decoration: none;\n",
       "}\n",
       "\n",
       "/* Span, style for the box shown on hovering the info icon */\n",
       ".sk-estimator-doc-link span {\n",
       "  display: none;\n",
       "  z-index: 9999;\n",
       "  position: relative;\n",
       "  font-weight: normal;\n",
       "  right: .2ex;\n",
       "  padding: .5ex;\n",
       "  margin: .5ex;\n",
       "  width: min-content;\n",
       "  min-width: 20ex;\n",
       "  max-width: 50ex;\n",
       "  color: var(--sklearn-color-text);\n",
       "  box-shadow: 2pt 2pt 4pt #999;\n",
       "  /* unfitted */\n",
       "  background: var(--sklearn-color-unfitted-level-0);\n",
       "  border: .5pt solid var(--sklearn-color-unfitted-level-3);\n",
       "}\n",
       "\n",
       ".sk-estimator-doc-link.fitted span {\n",
       "  /* fitted */\n",
       "  background: var(--sklearn-color-fitted-level-0);\n",
       "  border: var(--sklearn-color-fitted-level-3);\n",
       "}\n",
       "\n",
       ".sk-estimator-doc-link:hover span {\n",
       "  display: block;\n",
       "}\n",
       "\n",
       "/* \"?\"-specific style due to the `<a>` HTML tag */\n",
       "\n",
       "#sk-container-id-3 a.estimator_doc_link {\n",
       "  float: right;\n",
       "  font-size: 1rem;\n",
       "  line-height: 1em;\n",
       "  font-family: monospace;\n",
       "  background-color: var(--sklearn-color-background);\n",
       "  border-radius: 1rem;\n",
       "  height: 1rem;\n",
       "  width: 1rem;\n",
       "  text-decoration: none;\n",
       "  /* unfitted */\n",
       "  color: var(--sklearn-color-unfitted-level-1);\n",
       "  border: var(--sklearn-color-unfitted-level-1) 1pt solid;\n",
       "}\n",
       "\n",
       "#sk-container-id-3 a.estimator_doc_link.fitted {\n",
       "  /* fitted */\n",
       "  border: var(--sklearn-color-fitted-level-1) 1pt solid;\n",
       "  color: var(--sklearn-color-fitted-level-1);\n",
       "}\n",
       "\n",
       "/* On hover */\n",
       "#sk-container-id-3 a.estimator_doc_link:hover {\n",
       "  /* unfitted */\n",
       "  background-color: var(--sklearn-color-unfitted-level-3);\n",
       "  color: var(--sklearn-color-background);\n",
       "  text-decoration: none;\n",
       "}\n",
       "\n",
       "#sk-container-id-3 a.estimator_doc_link.fitted:hover {\n",
       "  /* fitted */\n",
       "  background-color: var(--sklearn-color-fitted-level-3);\n",
       "}\n",
       "</style><div id=\"sk-container-id-3\" class=\"sk-top-container\"><div class=\"sk-text-repr-fallback\"><pre>LinearRegression()</pre><b>In a Jupyter environment, please rerun this cell to show the HTML representation or trust the notebook. <br />On GitHub, the HTML representation is unable to render, please try loading this page with nbviewer.org.</b></div><div class=\"sk-container\" hidden><div class=\"sk-item\"><div class=\"sk-estimator fitted sk-toggleable\"><input class=\"sk-toggleable__control sk-hidden--visually\" id=\"sk-estimator-id-3\" type=\"checkbox\" checked><label for=\"sk-estimator-id-3\" class=\"sk-toggleable__label fitted sk-toggleable__label-arrow fitted\">&nbsp;&nbsp;LinearRegression<a class=\"sk-estimator-doc-link fitted\" rel=\"noreferrer\" target=\"_blank\" href=\"https://scikit-learn.org/1.5/modules/generated/sklearn.linear_model.LinearRegression.html\">?<span>Documentation for LinearRegression</span></a><span class=\"sk-estimator-doc-link fitted\">i<span>Fitted</span></span></label><div class=\"sk-toggleable__content fitted\"><pre>LinearRegression()</pre></div> </div></div></div></div>"
      ],
      "text/plain": [
       "LinearRegression()"
      ]
     },
     "execution_count": 300,
     "metadata": {},
     "output_type": "execute_result"
    }
   ],
   "source": [
    "lr.fit(X_train, y_train)"
   ]
  },
  {
   "cell_type": "code",
   "execution_count": 301,
   "id": "482fda7a-f2b5-4258-8c89-ad1706e50f51",
   "metadata": {},
   "outputs": [
    {
     "name": "stdout",
     "output_type": "stream",
     "text": [
      "Intercept: -606272.1295093133\n"
     ]
    }
   ],
   "source": [
    "print(f\"Intercept: {lr.intercept_}\")"
   ]
  },
  {
   "cell_type": "code",
   "execution_count": 302,
   "id": "bebb8db3-f913-4254-b7d0-93646501a7ef",
   "metadata": {},
   "outputs": [
    {
     "name": "stdout",
     "output_type": "stream",
     "text": [
      "Coefficients: RoofMatl_Metal      131557.224936\n",
      "GarageQual_Ex       127155.065982\n",
      "RoofMatl_WdShngl     99938.858385\n",
      "RoofMatl_Tar&Grv     90929.449902\n",
      "RoofMatl_Roll        90136.674594\n",
      "                        ...      \n",
      "Functional_Sev      -57337.929079\n",
      "Condition2_RRAe     -65399.216700\n",
      "GarageCond_Ex      -112904.971052\n",
      "Condition2_PosN    -197502.721521\n",
      "RoofMatl_ClyTile   -591936.571044\n",
      "Length: 286, dtype: float64\n"
     ]
    }
   ],
   "source": [
    "print(f\"Coefficients: {pd.Series(lr.coef_, index = X_train.columns).sort_values(ascending = False)}\")"
   ]
  },
  {
   "cell_type": "code",
   "execution_count": 303,
   "id": "6b447b9d-dddb-4be0-9b7a-3921e7fa6081",
   "metadata": {},
   "outputs": [],
   "source": [
    "from sklearn.metrics import r2_score"
   ]
  },
  {
   "cell_type": "code",
   "execution_count": 304,
   "id": "1d44da09-a072-47f5-a0f5-993abf9717cc",
   "metadata": {},
   "outputs": [],
   "source": [
    "y_pred = lr.predict(X_test)"
   ]
  },
  {
   "cell_type": "code",
   "execution_count": 305,
   "id": "ff3e9aaa-5da0-4055-b2c5-fbccad9f9442",
   "metadata": {},
   "outputs": [
    {
     "name": "stdout",
     "output_type": "stream",
     "text": [
      "R2-score : 0.8856\n"
     ]
    }
   ],
   "source": [
    "r2 = r2_score(y_test, y_pred)\n",
    "print(f\"R2-score : {r2:.4f}\")"
   ]
  },
  {
   "cell_type": "markdown",
   "id": "5cf5fd48-7613-41dd-bf7d-ccedb9e608d8",
   "metadata": {},
   "source": [
    "## Q3: Plot the residuals to check the assumption of homoscedasticity. What do you observe?"
   ]
  },
  {
   "cell_type": "markdown",
   "id": "e281f349-2195-410a-b167-b281b1116055",
   "metadata": {},
   "source": [
    "#### Homoscedasticity ensures uniform variability of residuals across the entire spectrum of predicted values."
   ]
  },
  {
   "cell_type": "code",
   "execution_count": 308,
   "id": "20f5e210-6b24-4a30-a563-214563e59c5e",
   "metadata": {},
   "outputs": [],
   "source": [
    "residual = y_test - y_pred"
   ]
  },
  {
   "cell_type": "code",
   "execution_count": 309,
   "id": "ba089c33-a8d8-43d7-99f0-1515c97d0efa",
   "metadata": {},
   "outputs": [
    {
     "data": {
      "image/png": "[encoded data removed]",
      "text/plain": [
       "<Figure size 800x500 with 1 Axes>"
      ]
     },
     "metadata": {},
     "output_type": "display_data"
    }
   ],
   "source": [
    "plt.figure(figsize = (8, 5))\n",
    "sns.scatterplot(x = y_pred, y = residual)\n",
    "plt.axhline(y=0, color='red', linestyle='--')\n",
    "plt.xlabel(\"Predicted Values\")\n",
    "plt.ylabel(\"Residuals\")\n",
    "plt.title(\"Residuals vs. Predicted Values\")\n",
    "plt.show()"
   ]
  },
  {
   "cell_type": "markdown",
   "id": "6ee88c32-350a-43d3-b6ae-59a1d733c8cd",
   "metadata": {},
   "source": [
    "* The residuals are scattered around zero, which is good.\n",
    "* However, there is a slight funnel shape — i.e., the spread of residuals increases with higher predicted values.\n",
    "\n",
    "* This pattern suggests mild heteroscedasticity — the variance of errors increases for more expensive houses.\n",
    "\n",
    "* This violates the homoscedasticity assumption of linear regression, which expects residuals to have constant variance."
   ]
  },
  {
   "cell_type": "markdown",
   "id": "0efc5621-9e55-4ab0-b815-6bc0193bcece",
   "metadata": {},
   "source": [
    "## Q4: Use cross-validation (cross_val_score) to evaluate your model’s performance. Report mean and standard deviation of R² scores."
   ]
  },
  {
   "cell_type": "code",
   "execution_count": 312,
   "id": "5a1c6242-7ff0-41e9-8c4d-884e4c91a7ef",
   "metadata": {},
   "outputs": [],
   "source": [
    "from sklearn.model_selection import cross_val_score"
   ]
  },
  {
   "cell_type": "code",
   "execution_count": 313,
   "id": "13829777-390c-4825-b06e-e626a8e369ff",
   "metadata": {},
   "outputs": [],
   "source": [
    "r2_scores = cross_val_score(lr, X, y, cv = 5, scoring = 'r2')"
   ]
  },
  {
   "cell_type": "code",
   "execution_count": 314,
   "id": "789a352a-7999-4c69-9224-a1443a44a8b3",
   "metadata": {},
   "outputs": [],
   "source": [
    "r2_mean = r2_scores.mean()\n",
    "r2_std = r2_scores.std()"
   ]
  },
  {
   "cell_type": "code",
   "execution_count": 315,
   "id": "8eb72a80-c25f-4898-8b61-b2ccfad1bd4f",
   "metadata": {},
   "outputs": [
    {
     "name": "stdout",
     "output_type": "stream",
     "text": [
      "[   0.84756504    0.81926038    0.81169216    0.8887859  -441.87386898] \n",
      " -87.70131309821566 \n",
      " 177.0862800056052 \n",
      "\n"
     ]
    }
   ],
   "source": [
    "print(r2_scores ,\"\\n\", r2_mean, '\\n', r2_std, '\\n')"
   ]
  },
  {
   "cell_type": "markdown",
   "id": "c2919a24-994e-45b3-a8f4-16225402b029",
   "metadata": {},
   "source": [
    "#### The model fit was terrible for the last fold.\n",
    "Possibly due to:\n",
    "\n",
    "* Outliers\n",
    "\n",
    "* Unusual split during cross-validation (small fold size, not representative)"
   ]
  },
  {
   "cell_type": "markdown",
   "id": "ff1b4751-ba3d-47b6-8e77-d8b5935bcf57",
   "metadata": {},
   "source": [
    "# Conceptual Questions"
   ]
  },
  {
   "cell_type": "markdown",
   "id": "0557002b-bf1d-4f0d-b778-daf9a68ce262",
   "metadata": {},
   "source": [
    "## Q5: What is the difference between supervised, unsupervised, and reinforcement learning? Provide one real-world example for each.\n",
    "\n"
   ]
  },
  {
   "cell_type": "markdown",
   "id": "040b70af-1ed8-4578-bfce-2a33f3307061",
   "metadata": {},
   "source": [
    "| Type                       | Definition                                                                              | Output Type                           | Requires Labels?             | Real-World Example                                                  |\n",
    "| -------------------------- | --------------------------------------------------------------------------------------- | ------------------------------------- | ---------------------------- | ------------------------------------------------------------------- |\n",
    "| **Supervised Learning**    | The model learns from a labeled dataset — each input has a known output.                | Classification / Regression           | ✅ Yes                        | Predicting house prices based on size, location, etc.               |\n",
    "| **Unsupervised Learning**  | The model learns patterns or groupings from data without known output labels.           | Clustering / Dimensionality Reduction | ❌ No                         | Customer segmentation for targeted marketing                        |\n",
    "| **Reinforcement Learning** | The model learns by interacting with an environment and receiving rewards or penalties. | Policy or Action Sequence             | ❌ No (but rewards are given) | A robot learning to walk or a self-driving car learning to navigate |\n"
   ]
  },
  {
   "cell_type": "markdown",
   "id": "e8109697-8c6e-41d2-855d-400f12ba6f5f",
   "metadata": {},
   "source": [
    "Supervised: “Learn from this labeled data and make predictions.”\n",
    " e.g., Spam vs. Non-Spam Email Detection\n",
    "\n",
    "Unsupervised: “Find patterns or group similar things on your own.”\n",
    " e.g., Grouping customers by purchasing behavior\n",
    "\n",
    "Reinforcement: “Learn by trial and error from the environment.”\n",
    " e.g., A game-playing AI like AlphaGo"
   ]
  },
  {
   "cell_type": "markdown",
   "id": "97f15fb4-0b44-4f03-9230-3c466fd75cde",
   "metadata": {},
   "source": [
    "## Q6: Explain the assumptions of Linear Regression. Why is it important to check them before interpreting the model’s results?"
   ]
  },
  {
   "cell_type": "markdown",
   "id": "f6538032-cb8e-4e77-a079-ba812dc18bc1",
   "metadata": {},
   "source": [
    "## Ans:\n",
    "Assumptions of Linear Regression:\n",
    "1. Linearity\n",
    "* Assumption:\n",
    "    - There is a linear relationship between the independent variables and the target variable.\n",
    "* Why it matters:\n",
    "    - If the relationship is nonlinear, linear regression won't capture it, leading to poor predictions.\n",
    "* How to check:\n",
    "    - Plot actual vs predicted values or use residual plots.\n",
    " \n",
    "2. Independence of Errors\n",
    "* Assumption:\n",
    "    - The residuals (errors) should be independent of each other.\n",
    "* Why it matters:\n",
    "    - If residuals are correlated (e.g., in time-series data), standard errors will be underestimated.\n",
    "* How to check:\n",
    "    - Use Durbin-Watson test or residual autocorrelation plots.\n",
    " \n",
    "3. Homoscedasticity (Constant Variance of Errors)\n",
    "* Assumption:\n",
    "    - The residuals should have constant variance across all levels of predicted values.\n",
    "* Why it matters:\n",
    "    - If violated (called heteroscedasticity), it affects the reliability of coefficient estimates and p-values.\n",
    "* How to check:\n",
    "    - Plot residuals vs. predicted values. Look for a random scatter (not a funnel shape).\n",
    " \n",
    "4. Normality of Residuals\n",
    "* Assumption:\n",
    "    - Residuals should be normally distributed.\n",
    "* Why it matters:\n",
    "    - Important when constructing confidence intervals and hypothesis tests for coefficients.\n",
    "* How to check:\n",
    "    - Use a histogram, Q-Q plot, or Shapiro-Wilk test on residuals.\n",
    "\n",
    "5. No Multicollinearity\n",
    "* Assumption:\n",
    "    - Independent variables should not be highly correlated with each other.\n",
    "* Why it matters:\n",
    "    - Multicollinearity inflates standard errors, making it hard to interpret coefficients.\n",
    "* How to check:\n",
    "    - Use correlation matrix or Variance Inflation Factor (VIF)."
   ]
  },
  {
   "cell_type": "markdown",
   "id": "828f8167-64ac-4df4-9e7c-da1fddb5018e",
   "metadata": {},
   "source": [
    "## Q7: What does it mean when your linear regression model has a high R² but low adjusted R²?"
   ]
  },
  {
   "cell_type": "markdown",
   "id": "01568b48-4758-41aa-b7d4-751ccc3ed081",
   "metadata": {},
   "source": [
    "## Ans:\n",
    "R² (Coefficient of Determination):\n",
    "* Measures how much variance in the target variable is explained by the model.\n",
    "* Always increases (or stays the same) when you add more features — even if they’re irrelevant.\n",
    "\n",
    "Adjusted R²:\n",
    "* Adjusts R² by penalizing the number of features.\n",
    "* Formula includes the number of predictors and observations.\n",
    "* Only increases if the new feature improves the model more than by chance.\n",
    "\n",
    "\n",
    "So, High R² but Low Adjusted R² means:\n",
    "* We added too many irrelevant or weak features."
   ]
  },
  {
   "cell_type": "markdown",
   "id": "3ef766a4-1582-4f97-b5fa-279be7f58955",
   "metadata": {},
   "source": [
    "## Q8: What are the differences between Lasso and Ridge regression? In which scenarios would you prefer one over the other?"
   ]
  },
  {
   "cell_type": "markdown",
   "id": "83f21bea-a9e4-49b3-9680-7f9ddbc1c512",
   "metadata": {},
   "source": [
    "| Aspect                 | **Ridge Regression**                                     | **Lasso Regression**                                      |\n",
    "| ---------------------- | -------------------------------------------------------- | --------------------------------------------------------- |\n",
    "| Regularization term    | **L2 penalty**: adds `α × (sum of squared coefficients)` | **L1 penalty**: adds `α × (sum of absolute coefficients)` |\n",
    "| Effect on coefficients | Shrinks them toward zero but **never exactly zero**      | Can **shrink some coefficients exactly to zero**          |\n",
    "| Feature selection      | ❌ No (keeps all features)                                | ✅ Yes (performs feature selection)                        |\n",
    "| When to use            | Features are **all somewhat useful** and correlated      | Many **irrelevant features**; sparse signal               |\n",
    "| Output                 | Compact model, but includes all variables                | Sparse model (some variables excluded)                    |\n"
   ]
  },
  {
   "cell_type": "markdown",
   "id": "0097bfc5-21ed-48a4-987e-44c7167b6584",
   "metadata": {},
   "source": [
    "Example Use-Cases:\n",
    "*  Use Ridge When:\n",
    "- Your dataset has many correlated features\n",
    "- You want to keep all features but reduce their impact\n",
    "- Example: Predicting stock prices where most features have some influence\n",
    "\n",
    "* Use Lasso When:\n",
    "- You suspect that only a few features matter\n",
    "- You want to automatically drop unimportant variables\n",
    "- Example: Genetic data, where thousands of variables are irrelevant"
   ]
  },
  {
   "cell_type": "markdown",
   "id": "9626188f-8bbf-46cc-8056-3f60f407b64f",
   "metadata": {},
   "source": [
    "## Q9: What are the steps of a typical machine learning workflow from data to deployment?\n",
    "\n"
   ]
  },
  {
   "cell_type": "markdown",
   "id": "fee331f8-9510-41a6-b28e-6179e9d42952",
   "metadata": {},
   "source": [
    "## Ans:\n",
    "Problem → Data → EDA → Features → Train → Evaluate → Tune → Deploy → Monitor\n"
   ]
  },
  {
   "cell_type": "markdown",
   "id": "11767cf7-ba5e-42c4-aacb-d5b7d1f18cb4",
   "metadata": {},
   "source": [
    "#### Typical Machine Learning Workflow:\n",
    "1. Problem Understanding\n",
    "2. Data Collection\n",
    "3. Data Cleaning & Preprocessing\n",
    "4. Exploratory Data Analysis (EDA)\n",
    "5. Feature Engineering\n",
    "6. Model Selection\n",
    "7. Model Training\n",
    "8. Model Evaluation\n",
    "9. Model Tuning\n",
    "10. Model Deployment"
   ]
  },
  {
   "cell_type": "code",
   "execution_count": null,
   "id": "f173eabe-b1b4-47cc-9a0c-e30694d99666",
   "metadata": {},
   "outputs": [],
   "source": []
  }
 ],
 "metadata": {
  "kernelspec": {
   "display_name": "Python 3 (ipykernel)",
   "language": "python",
   "name": "python3"
  },
  "language_info": {
   "codemirror_mode": {
    "name": "ipython",
    "version": 3
   },
   "file_extension": ".py",
   "mimetype": "text/x-python",
   "name": "python",
   "nbconvert_exporter": "python",
   "pygments_lexer": "ipython3",
   "version": "3.12.7"
  }
 },
 "nbformat": 4,
 "nbformat_minor": 5
}
